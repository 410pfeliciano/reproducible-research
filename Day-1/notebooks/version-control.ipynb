{
 "cells": [
  {
   "cell_type": "markdown",
   "metadata": {},
   "source": [
    "# Introduction to version control"
   ]
  },
  {
   "cell_type": "markdown",
   "metadata": {},
   "source": [
    "Keeping track of changes in code, data analyses, presentations, and mansucripts is crucial to research, but can be difficult, especially when collaborating. Version control systems (e.g. subversion, git) allow you to track changes, merge work with collaborators, and share your work via [github](www.github.org). Even if neither of the first two interest you, using github allows you to code in public: you'll be able to showcase projects, get feedback from a broader range of people, and contribute to projects that you might never have even heard of. \n",
    "\n",
    "The goal here is to give a brief overview of git and github, including the basic commands for creating your own repository, uploading it to github, accessing code from other users on github, and modifying it. The best way to figure out which features will be the most useful to you is to dive in and try it.\n",
    "\n",
    "* Signup for GitHub account\n",
    "* Install Git\n",
    "* Basic commands"
   ]
  },
  {
   "cell_type": "markdown",
   "metadata": {},
   "source": [
    "- create GitHub account\n",
    "- basic commands\n",
    "- version control in RStudio\n",
    "- nbviewer"
   ]
  },
  {
   "cell_type": "markdown",
   "metadata": {},
   "source": [
    "Depending on interest, we may include a brief semi-tutorial during one of the lunch breaks on using static website generators to create a personal website using GitHub pages."
   ]
  }
 ],
 "metadata": {
  "kernelspec": {
   "display_name": "Python 2",
   "language": "python",
   "name": "python2"
  },
  "language_info": {
   "codemirror_mode": {
    "name": "ipython",
    "version": 2
   },
   "file_extension": ".py",
   "mimetype": "text/x-python",
   "name": "python",
   "nbconvert_exporter": "python",
   "pygments_lexer": "ipython2",
   "version": "2.7.9"
  }
 },
 "nbformat": 4,
 "nbformat_minor": 0
}
