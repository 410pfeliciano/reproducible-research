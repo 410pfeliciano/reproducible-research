{
 "cells": [
  {
   "cell_type": "markdown",
   "metadata": {},
   "source": [
    "# Version Control"
   ]
  },
  {
   "cell_type": "markdown",
   "metadata": {},
   "source": [
    "# Introduction"
   ]
  },
  {
   "cell_type": "markdown",
   "metadata": {},
   "source": [
    "Keeping track of changes in code, data analyses, presentations, and mansucripts is crucial to research. This can be difficult, even more so when collaborating with several people. Version control systems like [git](https://git-scm.com/) allow you to track changes and integrate your work with your collaborators'. [github](www.github.org) allows you to share your work, get feedback from a broader range of people, and collaborate on large projects.\n",
    "\n",
    "The goal here is to give a brief overview of git and github. We'll cover the following:\n",
    "\n",
    "* Installing, configuring, and using git\n",
    "* Signing up for github and integrating with git\n",
    "\n",
    "There are a lot of resources for learning more about version control, git, and github. Check out [this tutorial](http://rogerdudler.github.io/git-guide/) for a concise guide to git, and [this tutorial](https://www.atlassian.com/git/tutorials/) for more in depth coverage."
   ]
  },
  {
   "cell_type": "markdown",
   "metadata": {},
   "source": [
    "# Installing git"
   ]
  },
  {
   "cell_type": "markdown",
   "metadata": {},
   "source": [
    "## Linux "
   ]
  },
  {
   "cell_type": "markdown",
   "metadata": {},
   "source": [
    "`sudo apt-get install git`"
   ]
  },
  {
   "cell_type": "markdown",
   "metadata": {},
   "source": [
    "## Mac "
   ]
  },
  {
   "cell_type": "markdown",
   "metadata": {},
   "source": [
    "* Install [XCode](https://developer.apple.com/xcode/downloads/) and [XCode command line tools](http://osxdaily.com/2014/02/12/install-command-line-tools-mac-os-x/)\n",
    "* Install [git](https://git-scm.com/)"
   ]
  },
  {
   "cell_type": "markdown",
   "metadata": {},
   "source": [
    "## Windows"
   ]
  },
  {
   "cell_type": "markdown",
   "metadata": {},
   "source": [
    "* Install [git](https://git-scm.com/)"
   ]
  },
  {
   "cell_type": "markdown",
   "metadata": {},
   "source": [
    "# Configuring git"
   ]
  },
  {
   "cell_type": "markdown",
   "metadata": {},
   "source": [
    "Let's configure a few things:"
   ]
  },
  {
   "cell_type": "markdown",
   "metadata": {},
   "source": [
    "`git config --global user.name \"Your user name here\"`\n",
    "\n",
    "`git config --global user.email \"the_email_you_useb@something.com\"`"
   ]
  },
  {
   "cell_type": "markdown",
   "metadata": {},
   "source": [
    "Check the status of how things are configured with the following:"
   ]
  },
  {
   "cell_type": "code",
   "execution_count": 2,
   "metadata": {
    "collapsed": false
   },
   "outputs": [
    {
     "name": "stdout",
     "output_type": "stream",
     "text": [
      "user.name=christopherahern\n",
      "user.email=christopher.ahern@gmail.com\n",
      "core.repositoryformatversion=0\n",
      "core.filemode=true\n",
      "core.bare=false\n",
      "core.logallrefupdates=true\n",
      "remote.origin.url=git@github.com:IRCS-analysis-mini-courses/reproducible-research.git\n",
      "remote.origin.fetch=+refs/heads/*:refs/remotes/origin/*\n",
      "branch.master.remote=origin\n",
      "branch.master.merge=refs/heads/master\n"
     ]
    }
   ],
   "source": [
    "%%bash\n",
    "git config --list"
   ]
  },
  {
   "cell_type": "markdown",
   "metadata": {},
   "source": [
    "Some of these configuration options are stored in a configuration in your home directory. Note that this file contains configuration options for a user on your machine. You can broaden these settings to all users on a machine by creating and editing `/etc/gitconfig` or `/private/etc/gitconfig`. You can also provide more detailed settings for a particular project by editing `<repo>/.git/config`.\n",
    "\n"
   ]
  },
  {
   "cell_type": "code",
   "execution_count": 3,
   "metadata": {
    "collapsed": false
   },
   "outputs": [
    {
     "name": "stdout",
     "output_type": "stream",
     "text": [
      "[user]\n",
      "\tname = christopherahern\n",
      "\temail = christopher.ahern@gmail.com\n"
     ]
    }
   ],
   "source": [
    "%%bash\n",
    "cat ~/.gitconfig"
   ]
  },
  {
   "cell_type": "markdown",
   "metadata": {},
   "source": [
    "You can [add aliases](http://top-frog.com/2013/05/16/a-few-handy-git-aliases/) to this file directly to customize git to your needs. For example, you can shorten the commmands you use the most, or set a default behavior for certain commands that will streamline your gitting."
   ]
  },
  {
   "cell_type": "markdown",
   "metadata": {},
   "source": [
    "# Local commands"
   ]
  },
  {
   "cell_type": "markdown",
   "metadata": {},
   "source": [
    "We'll start by keeping things local. In fact, git can be used totally independently of github. The real payoff is that you have a detailed record of the changes you made [two months ago](https://twitter.com/kcranstn/status/370914072511791104). \n",
    "\n",
    "A basic usage flow will look something like this:\n",
    "\n",
    "* Create or edit files\n",
    "* `git add`\n",
    "* `git commit`\n",
    "\n"
   ]
  },
  {
   "cell_type": "markdown",
   "metadata": {},
   "source": [
    "To see this in action, first, create a directory with a `README` file."
   ]
  },
  {
   "cell_type": "code",
   "execution_count": 4,
   "metadata": {
    "collapsed": true
   },
   "outputs": [],
   "source": [
    "%%bash\n",
    "cd ~/Desktop/\n",
    "mkdir test\n",
    "cd test\n",
    "touch README.md\n",
    "echo \"# test\" >> README.md\n",
    "echo \"We've added a header.\" >> README.md\n",
    "echo \"Let's add some more text to the README file\" >> README.md"
   ]
  },
  {
   "cell_type": "markdown",
   "metadata": {},
   "source": [
    "Take a look at the contents of the file:"
   ]
  },
  {
   "cell_type": "code",
   "execution_count": 5,
   "metadata": {
    "collapsed": false
   },
   "outputs": [
    {
     "name": "stdout",
     "output_type": "stream",
     "text": [
      "# test\n",
      "We've added a header.\n",
      "Let's add some more text to the README file\n"
     ]
    }
   ],
   "source": [
    "%%bash\n",
    "cat ~/Desktop/test/README.md"
   ]
  },
  {
   "cell_type": "markdown",
   "metadata": {},
   "source": [
    "Start using git to track changes:"
   ]
  },
  {
   "cell_type": "code",
   "execution_count": 6,
   "metadata": {
    "collapsed": false
   },
   "outputs": [
    {
     "name": "stdout",
     "output_type": "stream",
     "text": [
      "Initialized empty Git repository in /home/chris/Desktop/test/.git/\n",
      "On branch master\n",
      "\n",
      "Initial commit\n",
      "\n",
      "Untracked files:\n",
      "  (use \"git add <file>...\" to include in what will be committed)\n",
      "\n",
      "\tREADME.md\n",
      "\n",
      "nothing added to commit but untracked files present (use \"git add\" to track)\n"
     ]
    }
   ],
   "source": [
    "%%bash\n",
    "cd ~/Desktop/test/\n",
    "git init\n",
    "git status"
   ]
  },
  {
   "cell_type": "markdown",
   "metadata": {},
   "source": [
    "Add the `README` to staging area:"
   ]
  },
  {
   "cell_type": "code",
   "execution_count": 7,
   "metadata": {
    "collapsed": false
   },
   "outputs": [
    {
     "name": "stdout",
     "output_type": "stream",
     "text": [
      "On branch master\n",
      "\n",
      "Initial commit\n",
      "\n",
      "Changes to be committed:\n",
      "  (use \"git rm --cached <file>...\" to unstage)\n",
      "\n",
      "\tnew file:   README.md\n",
      "\n"
     ]
    }
   ],
   "source": [
    "%%bash\n",
    "cd ~/Desktop/test\n",
    "git add README.md\n",
    "git status"
   ]
  },
  {
   "cell_type": "markdown",
   "metadata": {},
   "source": [
    "Note that if we want to unstage the file, we just have to follow the instructions in the status message: `git rm --cached README.md`."
   ]
  },
  {
   "cell_type": "markdown",
   "metadata": {},
   "source": [
    "Let's say we want to commit the `README`:"
   ]
  },
  {
   "cell_type": "code",
   "execution_count": 8,
   "metadata": {
    "collapsed": false
   },
   "outputs": [
    {
     "name": "stdout",
     "output_type": "stream",
     "text": [
      "[master (root-commit) 967ff1a] first commit\n",
      " 1 file changed, 3 insertions(+)\n",
      " create mode 100644 README.md\n",
      "On branch master\n",
      "nothing to commit, working directory clean\n"
     ]
    }
   ],
   "source": [
    "%%bash\n",
    "cd ~/Desktop/test\n",
    "git commit -m \"first commit\"\n",
    "\n",
    "git status"
   ]
  },
  {
   "cell_type": "markdown",
   "metadata": {},
   "source": [
    "Great, now that we've got one file committed, let's add another."
   ]
  },
  {
   "cell_type": "code",
   "execution_count": 13,
   "metadata": {
    "collapsed": false
   },
   "outputs": [
    {
     "name": "stdout",
     "output_type": "stream",
     "text": [
      "On branch master\n",
      "Untracked files:\n",
      "  (use \"git add <file>...\" to include in what will be committed)\n",
      "\n",
      "\tanother-file.md\n",
      "\n",
      "nothing added to commit but untracked files present (use \"git add\" to track)\n"
     ]
    }
   ],
   "source": [
    "%%bash\n",
    "cd ~/Desktop/test\n",
    "touch another-file.md\n",
    "echo \"# Introduction\" >> another-file.md\n",
    "echo \"Start with the following...\" >> another-file.md\n",
    "git status"
   ]
  },
  {
   "cell_type": "markdown",
   "metadata": {},
   "source": [
    "Let's walk through the process again, checking the status as we go:"
   ]
  },
  {
   "cell_type": "code",
   "execution_count": 14,
   "metadata": {
    "collapsed": false
   },
   "outputs": [
    {
     "name": "stdout",
     "output_type": "stream",
     "text": [
      "On branch master\n",
      "Changes to be committed:\n",
      "  (use \"git reset HEAD <file>...\" to unstage)\n",
      "\n",
      "\tnew file:   another-file.md\n",
      "\n",
      "[master 053cb71] second commit\n",
      " 1 file changed, 2 insertions(+)\n",
      " create mode 100644 another-file.md\n",
      "On branch master\n",
      "nothing to commit, working directory clean\n"
     ]
    }
   ],
   "source": [
    "%%bash\n",
    "cd ~/Desktop/test/\n",
    "git add .\n",
    "git status\n",
    "git commit -m \"second commit\"\n",
    "git status"
   ]
  },
  {
   "cell_type": "markdown",
   "metadata": {},
   "source": [
    "Again, we can remove the staged files by following the commands listed in the status output. We can also revert to previous states of the project. To pick a state, let's look at the log:"
   ]
  },
  {
   "cell_type": "code",
   "execution_count": 11,
   "metadata": {
    "collapsed": false
   },
   "outputs": [
    {
     "name": "stdout",
     "output_type": "stream",
     "text": [
      "ec62de2 second commit\n",
      "967ff1a first commit\n"
     ]
    }
   ],
   "source": [
    "%%bash\n",
    "cd ~/Desktop/test/\n",
    "git log --oneline"
   ]
  },
  {
   "cell_type": "markdown",
   "metadata": {},
   "source": [
    "We can undo the results of one of these commits using `git revert <commit>`. For example, if we wanted to get rid of `another-file.md` we would revert the change that added it. Note that this will remove `another-file.md` from the directory and add an entry to the log. If you want to undo the commit, but keep the files use `git reset HEAD^`."
   ]
  },
  {
   "cell_type": "markdown",
   "metadata": {},
   "source": [
    "## Public commands"
   ]
  },
  {
   "cell_type": "markdown",
   "metadata": {},
   "source": [
    "We'll extend our local commands slightly to allow us to put our code out in public via github. If you haven't already, go to [github](https://github.com/) and follow the [instructions](https://help.github.com/articles/signing-up-for-a-new-github-account/) for creating a new account. You might also want to install a [git gui client](https://git-scm.com/download/gui/linux) unless you prefer doing things via the command line."
   ]
  },
  {
   "cell_type": "markdown",
   "metadata": {},
   "source": [
    "Another useful thing to do is to set up an [ssh key](https://help.github.com/articles/generating-ssh-keys/#platform-all) for GitHub. Check out these two videos for an [overview](https://www.youtube.com/watch?v=GSIDS_lvRv4) and a [bit of historical background](https://www.youtube.com/watch?v=YEBfamv-_do) of public key encryption along with some intuitive but detailed explanations. On a more practical level, this will mean you don't have to type in your user name and password everytime you want to update a repository that's stored on GitHub. Take a few minutes to set up an ssh key for your GitHub account. Note that it's possible to create and manage [ssh keys for multiple accounts](http://code.tutsplus.com/tutorials/quick-tip-how-to-work-with-github-and-multiple-accounts--net-22574). Also note that you can always go back and delete any ssh keys from both your computer and your GitHub account."
   ]
  },
  {
   "cell_type": "markdown",
   "metadata": {},
   "source": [
    "Now go to GitHub and create a new repository by clicking on the plus sign in the upper right and selecting the option to create a new repository. "
   ]
  },
  {
   "cell_type": "code",
   "execution_count": 18,
   "metadata": {
    "collapsed": false
   },
   "outputs": [
    {
     "data": {
      "text/html": [
       "<img src=\"https://help.github.com/assets/images/help/repository/repo-create.png\"/>"
      ],
      "text/plain": [
       "<IPython.core.display.Image object>"
      ]
     },
     "execution_count": 18,
     "metadata": {},
     "output_type": "execute_result"
    }
   ],
   "source": [
    "from IPython.display import Image, display\n",
    "Image(url='https://help.github.com/assets/images/help/repository/repo-create.png')"
   ]
  },
  {
   "cell_type": "markdown",
   "metadata": {},
   "source": [
    "Name the repository \"test\" and then click \"Create repository\"."
   ]
  },
  {
   "cell_type": "code",
   "execution_count": 29,
   "metadata": {
    "collapsed": false
   },
   "outputs": [
    {
     "data": {
      "text/html": [
       "<img src=\"https://help.github.com/assets/images/help/repository/create-repository-name.png\"/>"
      ],
      "text/plain": [
       "<IPython.core.display.Image object>"
      ]
     },
     "execution_count": 29,
     "metadata": {},
     "output_type": "execute_result"
    }
   ],
   "source": [
    "Image(url='https://help.github.com/assets/images/help/repository/create-repository-name.png')"
   ]
  },
  {
   "cell_type": "markdown",
   "metadata": {},
   "source": [
    "Now we'll tell git where we want to locate the repository on github. If you haven't set up an ssh key as suggested above the second to last line will be slightly different: `https://github.com/<username>/test.git`"
   ]
  },
  {
   "cell_type": "code",
   "execution_count": 15,
   "metadata": {
    "collapsed": false
   },
   "outputs": [],
   "source": [
    "%%bash\n",
    "cd ~/Desktop/test/\n",
    "git remote add origin git@github.com:christopherahern/test.git"
   ]
  },
  {
   "cell_type": "markdown",
   "metadata": {},
   "source": [
    "We can push all of the changes made in our local repository to the remote repository:"
   ]
  },
  {
   "cell_type": "code",
   "execution_count": null,
   "metadata": {
    "collapsed": true
   },
   "outputs": [],
   "source": [
    "%%bash\n",
    "cd ~/Desktop/test/\n",
    "git push -u origin master"
   ]
  },
  {
   "cell_type": "markdown",
   "metadata": {},
   "source": [
    "Now we can check in on things:"
   ]
  },
  {
   "cell_type": "code",
   "execution_count": 9,
   "metadata": {
    "collapsed": false
   },
   "outputs": [
    {
     "name": "stdout",
     "output_type": "stream",
     "text": [
      "On branch master\n",
      "Your branch is up-to-date with 'origin/master'.\n",
      "\n",
      "Untracked files:\n",
      "  (use \"git add <file>...\" to include in what will be committed)\n",
      "\n",
      "\tanother-file.md\n",
      "\n",
      "nothing added to commit but untracked files present (use \"git add\" to track)\n"
     ]
    }
   ],
   "source": [
    "%%bash\n",
    "cd ~/Desktop/test\n",
    "git status"
   ]
  },
  {
   "cell_type": "markdown",
   "metadata": {},
   "source": [
    "# Social commands"
   ]
  },
  {
   "cell_type": "markdown",
   "metadata": {},
   "source": [
    "The commands above will work if you are just using git to keep track of your own work, or are the sole contributor to a project that other people might download or view. If you want to collaborate with colleagues, you can add them as contributors to a repository via the settings on github."
   ]
  },
  {
   "cell_type": "markdown",
   "metadata": {},
   "source": [
    "To get changes that your collaborators have made to the repository, you can use the following commands:"
   ]
  },
  {
   "cell_type": "markdown",
   "metadata": {},
   "source": [
    "`git pull`"
   ]
  },
  {
   "cell_type": "markdown",
   "metadata": {},
   "source": [
    "which is a combination of `git fetch` which gets a copy of the remote repository and `git merge` which merges the fetched copy with your local repository."
   ]
  },
  {
   "cell_type": "markdown",
   "metadata": {},
   "source": [
    "You can get a static copy of someone elses repository by [forking it on github](https://help.github.com/articles/fork-a-repo/). In fact, try `forking` the [course materials](https://github.com/IRCS-analysis-mini-courses/reproducible-research) to your own profile. Navigate to the forked repositroy in your profile. On the right hand side you'll see a url to `clone` the repository. You can download a copy to your computer using the following:"
   ]
  },
  {
   "cell_type": "markdown",
   "metadata": {},
   "source": [
    "`git clone <url>`"
   ]
  },
  {
   "cell_type": "markdown",
   "metadata": {},
   "source": [
    "The copy of the repository that you forked and then cloned is static. If we make changes to the course materials, they won't automatically show up in the forked version. To keep track of changes made to the original repository, do the following:"
   ]
  },
  {
   "cell_type": "markdown",
   "metadata": {},
   "source": [
    "`git remote add upstream <url of original repository>`"
   ]
  },
  {
   "cell_type": "markdown",
   "metadata": {},
   "source": [
    "To [sync changes](https://help.github.com/articles/syncing-a-fork/) made to the original repository with your local fork, do the following:"
   ]
  },
  {
   "cell_type": "markdown",
   "metadata": {},
   "source": [
    "`git fetch upstream`\n",
    "\n",
    "`git checkout master`\n",
    "\n",
    "`git merge upstream/master`"
   ]
  },
  {
   "cell_type": "markdown",
   "metadata": {},
   "source": [
    "If you have a change you'd like to propose to a repository, you can do so by [creating a pull request](https://help.github.com/articles/using-pull-requests/). In fact, if you've forked the course materials and downloaded them locally, add a dataset to the `user-datasets` directory, push the result to your forked repository and create a pull request for it to be merged with the original repository."
   ]
  },
  {
   "cell_type": "markdown",
   "metadata": {},
   "source": [
    "# Version control with RStudio"
   ]
  },
  {
   "cell_type": "markdown",
   "metadata": {},
   "source": [
    "`RStudio` has built-in git and github functionality. For an overview, see Hadley Wickham's [tutorial](http://r-pkgs.had.co.nz/git.html)."
   ]
  }
 ],
 "metadata": {
  "kernelspec": {
   "display_name": "Python 2",
   "language": "python",
   "name": "python2"
  },
  "language_info": {
   "codemirror_mode": {
    "name": "ipython",
    "version": 2
   },
   "file_extension": ".py",
   "mimetype": "text/x-python",
   "name": "python",
   "nbconvert_exporter": "python",
   "pygments_lexer": "ipython2",
   "version": "2.7.10"
  }
 },
 "nbformat": 4,
 "nbformat_minor": 0
}
