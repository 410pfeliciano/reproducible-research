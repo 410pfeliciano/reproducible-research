{
 "cells": [
  {
   "cell_type": "markdown",
   "metadata": {},
   "source": [
    "# Version Control"
   ]
  },
  {
   "cell_type": "markdown",
   "metadata": {},
   "source": [
    "# Introduction"
   ]
  },
  {
   "cell_type": "markdown",
   "metadata": {},
   "source": [
    "Keeping track of changes in code, data analyses, presentations, and mansucripts is crucial to research. This can be difficult, even more so when collaborating with several people. Version control systems like [git](https://git-scm.com/) allow you to track changes and integrate your work with your collaborators'. [GitHub](www.github.org) allows you to share your work, get feedback from a broader range of people, and collaborate on large projects.\n",
    "\n",
    "The goal here is to give a brief overview of git and GitHub. We'll cover the following:\n",
    "\n",
    "* **Signing** up for GitHub and **installing** git\n",
    "* **Configuring** git and GitHub\n",
    "* Basic commands to **create** and update repositories\n",
    "* Basic commands to **collaborate** on repositories\n",
    "* Using Git and GitHub with **RStudio**\n",
    "\n",
    "There are a lot of resources for learning more about version control, git, and GitHub. Check out [this tutorial](http://rogerdudler.github.io/git-guide/) for a concise guide to git, and [this tutorial](https://www.atlassian.com/git/tutorials/) for more in depth coverage."
   ]
  },
  {
   "cell_type": "markdown",
   "metadata": {},
   "source": [
    "# Signing up for GitHub"
   ]
  },
  {
   "cell_type": "markdown",
   "metadata": {},
   "source": [
    "Go to [GitHub [REGISTER]](https://github.com/) and follow the [instructions](https://help.github.com/articles/signing-up-for-a-new-github-account/) for creating a new account."
   ]
  },
  {
   "cell_type": "markdown",
   "metadata": {},
   "source": [
    "# Installing and configuring git"
   ]
  },
  {
   "cell_type": "markdown",
   "metadata": {},
   "source": [
    "Next we'll go ahead and install [git [INSTALL]](https://git-scm.com/). "
   ]
  },
  {
   "cell_type": "code",
   "execution_count": 22,
   "metadata": {
    "collapsed": true
   },
   "outputs": [],
   "source": [
    "%man git"
   ]
  },
  {
   "cell_type": "markdown",
   "metadata": {},
   "source": []
  },
  {
   "cell_type": "code",
   "execution_count": 2,
   "metadata": {
    "collapsed": false
   },
   "outputs": [
    {
     "name": "stdout",
     "output_type": "stream",
     "text": [
      "\n",
      "The most commonly used git commands are:\n",
      "   add        Add file contents to the index\n",
      "   bisect     Find by binary search the change that introduced a bug\n",
      "   branch     List, create, or delete branches\n",
      "   checkout   Checkout a branch or paths to the working tree\n",
      "   clone      Clone a repository into a new directory\n",
      "   commit     Record changes to the repository\n",
      "   diff       Show changes between commits, commit and working tree, etc\n",
      "   fetch      Download objects and refs from another repository\n",
      "   grep       Print lines matching a pattern\n",
      "   init       Create an empty Git repository or reinitialize an existing one\n",
      "   log        Show commit logs\n",
      "   merge      Join two or more development histories together\n",
      "   mv         Move or rename a file, a directory, or a symlink\n",
      "   pull       Fetch from and integrate with another repository or a local branch\n",
      "   push       Update remote refs along with associated objects\n",
      "   rebase     Forward-port local commits to the updated upstream head\n",
      "   reset      Reset current HEAD to the specified state\n",
      "   rm         Remove files from the working tree and from the index\n",
      "   show       Show various types of objects\n",
      "   status     Show the working tree status\n",
      "   tag        Create, list, delete or verify a tag object signed with GPG\n",
      "\n",
      "'git help -a' and 'git help -g' lists available subcommands and some\n",
      "concept guides. See 'git help <command>' or 'git help <concept>'\n",
      "to read about a specific subcommand or concept.\n"
     ]
    }
   ],
   "source": [
    "%%bash\n",
    "git help | tail -n 27"
   ]
  },
  {
   "cell_type": "markdown",
   "metadata": {},
   "source": [
    "https://training.github.com/kit/downloads/github-git-cheat-sheet.pdf"
   ]
  },
  {
   "cell_type": "markdown",
   "metadata": {},
   "source": [
    "Before getting into any of these, let's configure a few things:"
   ]
  },
  {
   "cell_type": "markdown",
   "metadata": {},
   "source": [
    "`git config --global user.name \"Your name here\"`\n",
    "\n",
    "`git config --global user.email \"the_email_you_used_for_github@something.com\"`"
   ]
  },
  {
   "cell_type": "markdown",
   "metadata": {},
   "source": [
    "Check the status of how things are configured with the following:"
   ]
  },
  {
   "cell_type": "code",
   "execution_count": 19,
   "metadata": {
    "collapsed": false
   },
   "outputs": [
    {
     "name": "stdout",
     "output_type": "stream",
     "text": [
      "user.name=christopherahern\n",
      "user.email=christopher.ahern@gmail.com\n",
      "color.ui=true\n",
      "core.editor=vim\n",
      "core.repositoryformatversion=0\n",
      "core.filemode=true\n",
      "core.bare=false\n",
      "core.logallrefupdates=true\n",
      "remote.origin.url=https://github.com/IRCS-analysis-mini-courses/reproducible-research.git\n",
      "remote.origin.fetch=+refs/heads/*:refs/remotes/origin/*\n",
      "branch.master.remote=origin\n",
      "branch.master.merge=refs/heads/master\n"
     ]
    }
   ],
   "source": [
    "%%bash\n",
    "git config --list"
   ]
  },
  {
   "cell_type": "markdown",
   "metadata": {},
   "source": [
    "Some of these configuration options are stored in a configuration in your home directory. Note that this file contains configuration options for a user on your machine. You can broaden these settings to all users on a machine by creating and editing `/etc/gitconfig` or `/private/etc/gitconfig`. You can also provide more detailed settings for a particular project by editing `<repo>/.git/config`.\n",
    "\n"
   ]
  },
  {
   "cell_type": "code",
   "execution_count": 20,
   "metadata": {
    "collapsed": false
   },
   "outputs": [
    {
     "name": "stdout",
     "output_type": "stream",
     "text": [
      "[user]\n",
      "\tname = christopherahern\n",
      "\temail = christopher.ahern@gmail.com\n",
      "[color]\n",
      "\tui = true\n",
      "[core]\n",
      "\teditor = vim\n"
     ]
    }
   ],
   "source": [
    "%%bash\n",
    "cat ~/.gitconfig"
   ]
  },
  {
   "cell_type": "markdown",
   "metadata": {},
   "source": [
    "You can [add aliases](http://top-frog.com/2013/05/16/a-few-handy-git-aliases/) to this file directly to customize git to your needs. For example, you can shorten the commmands you use the most, or set a default behavior for certain commands that will streamline your gitting."
   ]
  },
  {
   "cell_type": "markdown",
   "metadata": {},
   "source": [
    "Another useful thing to do is to set up an [ssh key](https://help.github.com/articles/generating-ssh-keys/#platform-all) for GitHub. Check out these two videos for an [overview](https://www.youtube.com/watch?v=GSIDS_lvRv4) and a [bit of historical background](https://www.youtube.com/watch?v=YEBfamv-_do) along with some intuitive and detailed explanations. On a more practical level, this will mean you don't have to type in your user name and password everytime you want to update a repository that's stored on GitHub. Take a few minutes to set up an ssh key for your GitHub account. Note that it's possible to create and manage [ssh keys for multiple accounts](http://code.tutsplus.com/tutorials/quick-tip-how-to-work-with-github-and-multiple-accounts--net-22574). Also note that you can always go back and delete any ssh keys from both your computer and your GitHub account."
   ]
  },
  {
   "cell_type": "markdown",
   "metadata": {},
   "source": [
    "# Basic commands"
   ]
  },
  {
   "cell_type": "markdown",
   "metadata": {},
   "source": [
    "We'll start by keeping things local. Create a directory with a readme file."
   ]
  },
  {
   "cell_type": "code",
   "execution_count": 7,
   "metadata": {
    "collapsed": true
   },
   "outputs": [],
   "source": [
    "%%bash\n",
    "cd ~/Desktop/\n",
    "mkdir test\n",
    "cd test\n",
    "touch README.md\n",
    "echo \"# test\" >> README.md\n",
    "echo \"We've added a header. Let's add some more text to the README file\" >> README.md"
   ]
  },
  {
   "cell_type": "code",
   "execution_count": 8,
   "metadata": {
    "collapsed": false
   },
   "outputs": [
    {
     "name": "stdout",
     "output_type": "stream",
     "text": [
      "# test\n",
      "We've added a header. Let's add some more text to the README file\n"
     ]
    }
   ],
   "source": [
    "%%bash\n",
    "cat ~/Desktop/test/README.md"
   ]
  },
  {
   "cell_type": "markdown",
   "metadata": {},
   "source": [
    "Now go to GitHub and create a new repository by clicking on the plus sign in the upper right and selecting the option to create a new repository. "
   ]
  },
  {
   "cell_type": "code",
   "execution_count": 28,
   "metadata": {
    "collapsed": false
   },
   "outputs": [
    {
     "data": {
      "text/html": [
       "<img src=\"https://help.github.com/assets/images/help/repository/repo-create.png\"/>"
      ],
      "text/plain": [
       "<IPython.core.display.Image object>"
      ]
     },
     "execution_count": 28,
     "metadata": {},
     "output_type": "execute_result"
    }
   ],
   "source": [
    "from IPython.display import Image, display\n",
    "Image(url='https://help.github.com/assets/images/help/repository/repo-create.png')"
   ]
  },
  {
   "cell_type": "markdown",
   "metadata": {},
   "source": [
    "Name the repository \"test\" and then click \"Create repository\"."
   ]
  },
  {
   "cell_type": "code",
   "execution_count": 29,
   "metadata": {
    "collapsed": false
   },
   "outputs": [
    {
     "data": {
      "text/html": [
       "<img src=\"https://help.github.com/assets/images/help/repository/create-repository-name.png\"/>"
      ],
      "text/plain": [
       "<IPython.core.display.Image object>"
      ]
     },
     "execution_count": 29,
     "metadata": {},
     "output_type": "execute_result"
    }
   ],
   "source": [
    "Image(url='https://help.github.com/assets/images/help/repository/create-repository-name.png')"
   ]
  },
  {
   "cell_type": "markdown",
   "metadata": {},
   "source": [
    "Call the new repository \"test\". Doing the following from the command line will copy the changes you've made in the local directory to GitHub. If you haven't set up an ssh key as suggested above the second to last line will be slightly different: `https://github.com/<username>/test.git`"
   ]
  },
  {
   "cell_type": "code",
   "execution_count": 3,
   "metadata": {
    "collapsed": false
   },
   "outputs": [
    {
     "name": "stdout",
     "output_type": "stream",
     "text": [
      "Initialized empty Git repository in /home/cahern/Desktop/test/.git/\n",
      "On branch master\n",
      "\n",
      "Initial commit\n",
      "\n",
      "Untracked files:\n",
      "\tREADME.md\n",
      "\n",
      "nothing added to commit but untracked files present\n"
     ]
    },
    {
     "name": "stderr",
     "output_type": "stream",
     "text": [
      "Warning: Permanently added the RSA host key for IP address '192.30.252.129' to the list of known hosts.\r\n",
      "error: src refspec master does not match any.\n",
      "error: failed to push some refs to 'git@github.com:christopherahern/test.git'\n"
     ]
    }
   ],
   "source": [
    "%%bash\n",
    "cd ~/Desktop/test/\n",
    "git init\n",
    "git add README.md\n",
    "git commit -m \"first commit\"\n",
    "git remote add origin git@github.com:christopherahern/test.git\n",
    "git push -u origin master"
   ]
  },
  {
   "cell_type": "markdown",
   "metadata": {},
   "source": [
    "Let's break those commands down a bit. \n",
    "\n",
    "* `git init` : treat this directory as a git repository\n",
    "* `git add` : tells git you want README.md to be included in next commit\n",
    "* `git commit` : creates a \"snapshot\" of the project\n",
    "* `git push` : transfer updatese from local to remote repository\n",
    "\n",
    "If you're using git on a single computer to keep track of changes in your own work, then this might be all you'll ever need. As a quick demonstration of what else you can do, we'll add another file and check on things as we go using `git status`."
   ]
  },
  {
   "cell_type": "code",
   "execution_count": 4,
   "metadata": {
    "collapsed": true
   },
   "outputs": [],
   "source": [
    "%%bash\n",
    "cd ~/Desktop/test\n",
    "touch another-file.md\n",
    "echo \"# Introduction\" >> another-file.md\n",
    "echo \"Start with the following...\" >> another-file.md"
   ]
  },
  {
   "cell_type": "markdown",
   "metadata": {},
   "source": [
    "Now we can check in on things:"
   ]
  },
  {
   "cell_type": "code",
   "execution_count": 6,
   "metadata": {
    "collapsed": false
   },
   "outputs": [
    {
     "name": "stdout",
     "output_type": "stream",
     "text": [
      "On branch master\n",
      "Your branch is up-to-date with 'origin/master'.\n",
      "\n",
      "Untracked files:\n",
      "  (use \"git add <file>...\" to include in what will be committed)\n",
      "\n",
      "\tanother-file.md\n",
      "\n",
      "nothing added to commit but untracked files present (use \"git add\" to track)\n"
     ]
    }
   ],
   "source": [
    "%%bash\n",
    "cd ~/Desktop/test\n",
    "git status"
   ]
  },
  {
   "cell_type": "markdown",
   "metadata": {},
   "source": [
    "Let's add the file and check again:"
   ]
  },
  {
   "cell_type": "code",
   "execution_count": 7,
   "metadata": {
    "collapsed": false
   },
   "outputs": [
    {
     "name": "stdout",
     "output_type": "stream",
     "text": [
      "On branch master\n",
      "Your branch is up-to-date with 'origin/master'.\n",
      "\n",
      "Changes to be committed:\n",
      "  (use \"git reset HEAD <file>...\" to unstage)\n",
      "\n",
      "\tnew file:   another-file.md\n",
      "\n"
     ]
    }
   ],
   "source": [
    "%%bash\n",
    "cd ~/Desktop/test\n",
    "git add another-file.md\n",
    "git status"
   ]
  },
  {
   "cell_type": "markdown",
   "metadata": {},
   "source": [
    "The new file is ready to be committed, so let's do that and add a message:"
   ]
  },
  {
   "cell_type": "code",
   "execution_count": 9,
   "metadata": {
    "collapsed": false
   },
   "outputs": [
    {
     "name": "stdout",
     "output_type": "stream",
     "text": [
      "On branch master\n",
      "Your branch is ahead of 'origin/master' by 1 commit.\n",
      "  (use \"git push\" to publish your local commits)\n",
      "\n",
      "nothing to commit, working directory clean\n",
      "On branch master\n",
      "Your branch is ahead of 'origin/master' by 1 commit.\n",
      "  (use \"git push\" to publish your local commits)\n",
      "\n",
      "nothing to commit, working directory clean\n"
     ]
    }
   ],
   "source": [
    "%%bash\n",
    "cd ~/Desktop/test\n",
    "git commit -m \"Added another file\"\n",
    "git status"
   ]
  },
  {
   "cell_type": "code",
   "execution_count": 14,
   "metadata": {
    "collapsed": false
   },
   "outputs": [
    {
     "name": "stdout",
     "output_type": "stream",
     "text": [
      "On branch master\n",
      "Your branch is up-to-date with 'origin/master'.\n",
      "\n",
      "nothing to commit, working directory clean\n"
     ]
    },
    {
     "name": "stderr",
     "output_type": "stream",
     "text": [
      "Warning: Permanently added the RSA host key for IP address '192.30.252.131' to the list of known hosts.\r\n",
      "Agent admitted failure to sign using the key.\r\n",
      "Permission denied (publickey).\r\n",
      "fatal: Could not read from remote repository.\n",
      "\n",
      "Please make sure you have the correct access rights\n",
      "and the repository exists.\n"
     ]
    }
   ],
   "source": [
    "%%bash\n",
    "cd ~/Desktop/test/\n",
    "git push -u origin master\n",
    "git status"
   ]
  },
  {
   "cell_type": "markdown",
   "metadata": {},
   "source": [
    "We can inspect the history of commited changes:"
   ]
  },
  {
   "cell_type": "code",
   "execution_count": 17,
   "metadata": {
    "collapsed": false
   },
   "outputs": [
    {
     "name": "stdout",
     "output_type": "stream",
     "text": [
      "commit d574d3355239ec939013a66a69322866da2a8d27\n",
      "Author: christopherahern <christopher.ahern@gmail.com>\n",
      "Date:   Tue Jul 21 15:31:53 2015 -0400\n",
      "\n",
      "    Added another file\n",
      "\n",
      "commit 9ff9bcb992e9c39d3968b197f424b68c0bf68889\n",
      "Author: christopherahern <christopher.ahern@gmail.com>\n",
      "Date:   Tue Jul 21 11:54:30 2015 -0400\n",
      "\n",
      "    first commit\n"
     ]
    }
   ],
   "source": [
    "%%bash\n",
    "cd ~/Desktop/test/\n",
    "git log"
   ]
  },
  {
   "cell_type": "markdown",
   "metadata": {},
   "source": [
    "* git checkout\n",
    "* git revert\n",
    "* git reset"
   ]
  },
  {
   "cell_type": "markdown",
   "metadata": {},
   "source": [
    "# Collaborating"
   ]
  },
  {
   "cell_type": "markdown",
   "metadata": {},
   "source": [
    "# Version control with RStudio"
   ]
  },
  {
   "cell_type": "markdown",
   "metadata": {},
   "source": [
    "http://kbroman.org/github_tutorial/\n",
    "\n",
    "- create GitHub account\n",
    "- basic commands\n",
    "- version control in RStudio\n",
    "- nbviewer"
   ]
  },
  {
   "cell_type": "markdown",
   "metadata": {},
   "source": [
    "Depending on interest, we may include a brief semi-tutorial during one of the lunch breaks on using static website generators to create a personal website using GitHub pages."
   ]
  }
 ],
 "metadata": {
  "kernelspec": {
   "display_name": "Python 2",
   "language": "python",
   "name": "python2"
  },
  "language_info": {
   "codemirror_mode": {
    "name": "ipython",
    "version": 2
   },
   "file_extension": ".py",
   "mimetype": "text/x-python",
   "name": "python",
   "nbconvert_exporter": "python",
   "pygments_lexer": "ipython2",
   "version": "2.7.10"
  }
 },
 "nbformat": 4,
 "nbformat_minor": 0
}
