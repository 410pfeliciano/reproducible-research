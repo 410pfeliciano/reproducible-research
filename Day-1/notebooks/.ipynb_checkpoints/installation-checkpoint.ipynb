{
 "cells": [
  {
   "cell_type": "markdown",
   "metadata": {},
   "source": [
    "# Installing needed software"
   ]
  },
  {
   "cell_type": "markdown",
   "metadata": {},
   "source": [
    "Modern scientific research often either requires or can greatly benefit from the use of computational tools. Even if you're not on the cutting edge, you can make your life better and easier using these tools to conduct and share your research. The goal here is to give a brief overview of the tools we'll be using in this course and how to install them along with other tools on your system:\n",
    "\n",
    "* Installing **Python** and the **SciPy stack**\n",
    "* Installing **R** and additional packages\n",
    "* Installing **TeX** and **TeX Live**\n",
    "\n",
    "A quick disclaimer and a few notes before we dive in. \n",
    "\n",
    "First, these instructions are oriented towards Unix-like operating systems (i.e. Linux, Mac OS X). If you are running Windows, strongly consider installing [Cygwin](https://www.cygwin.com/) or creating a [linux partition](http://www.everydaylinuxuser.com/2014/05/install-ubuntu-1404-alongside-windows.html) on your machine.\n",
    "\n",
    "Second, the location of files may vary across operating systems. Keep in mind where the relevant locations are for your operating system."
   ]
  },
  {
   "cell_type": "markdown",
   "metadata": {},
   "source": [
    "# Python"
   ]
  },
  {
   "cell_type": "markdown",
   "metadata": {},
   "source": [
    "## Description"
   ]
  },
  {
   "cell_type": "markdown",
   "metadata": {},
   "source": [
    "[Python](https://www.python.org/) is a [widely-used, highly-extensible](https://www.python.org/about/success/#education), and easily-learned programming language."
   ]
  },
  {
   "cell_type": "code",
   "execution_count": 1,
   "metadata": {
    "collapsed": false
   },
   "outputs": [
    {
     "data": {
      "text/html": [
       "<img src=\"http://imgs.xkcd.com/comics/python.png\"/>"
      ],
      "text/plain": [
       "<IPython.core.display.Image object>"
      ]
     },
     "execution_count": 1,
     "metadata": {},
     "output_type": "execute_result"
    }
   ],
   "source": [
    "from IPython.display import Image\n",
    "Image(url='http://imgs.xkcd.com/comics/python.png')"
   ]
  },
  {
   "cell_type": "markdown",
   "metadata": {},
   "source": [
    "Within the Python computing environment, we'll be using several useful extensions. Collectively, these are referred to as the [SciPy stack](http://www.scipy.org/stackspec.html#stackspec). The current version of the SciPy stack requires the following versions of various tools:\n",
    "\n",
    "* [Python](https://www.python.org/)  (2.x >= 2.6 or 3.x >= 3.2) : see above, results may vary\n",
    "* [NumPy](https://github.com/numpy/numpy)  (>= 1.6) : fundamental package needed for scientific computing with python\n",
    "* [SciPy](https://github.com/scipy/scipy) (>= 0.10) : open-source software for mathematics, science, and engineering\n",
    "* [Matplotlib](http://matplotlib.org/) (>= 1.1) : open-source plotting library, deeply integrated with python\n",
    "* [IPython]() (>= 0.13) : a command shell for interactive computing in multiple programming languages\n",
    "* [Pandas](https://github.com/pydata/pandas)  (>= 0.8) : fast, flexible, and expressive data structures\n",
    "* [Sympy](http://www.sympy.org/en/index.html) (>= 0.7) : library for symbolic mathematics in python, moving towards a full computer algebra system\n",
    "\n",
    "We'll also be using third-party [SciPy toolkits](https://scikits.appspot.com/):\n",
    "\n",
    "* [Scikit-learn](http://scikit-learn.org/dev/index.html) : simple, efficient, and reusable tools for machine learning\n",
    "* [Scikit-statsmodels](https://pypi.python.org/pypi/scikits.statsmodels) : Python package for statistical computations\n",
    "* ...\n",
    "\n",
    "You'll find lots of detailed tools at Scikits. If you're thinking about implementing something in your own work, check these kits and the Python Package Index ([PyPI](https://pypi.python.org/pypi)) to see if someone has already done the work.  Below we'll talk about how to install packages from these locations."
   ]
  },
  {
   "cell_type": "markdown",
   "metadata": {},
   "source": [
    "## Installation"
   ]
  },
  {
   "cell_type": "markdown",
   "metadata": {},
   "source": [
    "If you're already started using some of these tools in your own research, then you've probably installed at least Python, and maybe more. To start off, let's find out what you've installed and where it's installed."
   ]
  },
  {
   "cell_type": "markdown",
   "metadata": {},
   "source": [
    "As a start let's find out the version of python we've got installed. You can ignore the first line, which just tells IPython to treat what follows as input to the bash shell. So far so good!"
   ]
  },
  {
   "cell_type": "code",
   "execution_count": 16,
   "metadata": {
    "collapsed": false
   },
   "outputs": [
    {
     "name": "stdout",
     "output_type": "stream",
     "text": [
      "Python version is:\n"
     ]
    },
    {
     "name": "stderr",
     "output_type": "stream",
     "text": [
      "Python 2.7.10 :: Anaconda 2.3.0 (64-bit)\n"
     ]
    }
   ],
   "source": [
    "%%bash\n",
    "echo \"Python version is:\"\n",
    "python --version"
   ]
  },
  {
   "cell_type": "markdown",
   "metadata": {},
   "source": [
    "Now, let's check to see what else is installed. Again, we can do this from the command line. But, since we're trying to find out whether a python package, rather than python itself is installed, we'll ask python to run the command in quotes. The option `-c` tells python to treat the quoted text as a command. The semicolon inside breaks up the commands. If something isn't installed, we'll get an error like the following."
   ]
  },
  {
   "cell_type": "code",
   "execution_count": 3,
   "metadata": {
    "collapsed": false
   },
   "outputs": [
    {
     "name": "stderr",
     "output_type": "stream",
     "text": [
      "Traceback (most recent call last):\n",
      "  File \"<string>\", line 1, in <module>\n",
      "ImportError: No module named notinstalledyet\n"
     ]
    }
   ],
   "source": [
    "%%bash\n",
    "python -c \"import notinstalledyet; print notinstalledyet.__version__\""
   ]
  },
  {
   "cell_type": "markdown",
   "metadata": {},
   "source": [
    "Otherwise, we'll find out what version is installed."
   ]
  },
  {
   "cell_type": "code",
   "execution_count": 4,
   "metadata": {
    "collapsed": false
   },
   "outputs": [
    {
     "name": "stdout",
     "output_type": "stream",
     "text": [
      "NumPy version is:\n",
      "1.9.2\n",
      "SciPy version is:\n",
      "0.15.1\n",
      "Matplotlib version is:\n",
      "1.4.3\n",
      "IPython version is:\n",
      "3.2.0\n",
      "Pandas version is:\n",
      "0.16.2\n",
      "SymPy version is:\n",
      "0.7.6\n"
     ]
    }
   ],
   "source": [
    "%%bash\n",
    "echo \"NumPy version is:\"\n",
    "python -c \"import numpy; print numpy.__version__\"\n",
    "echo \"SciPy version is:\"\n",
    "python -c \"import scipy; print scipy.__version__\"\n",
    "echo \"Matplotlib version is:\"\n",
    "python -c \"import matplotlib; print matplotlib.__version__\"\n",
    "echo \"IPython version is:\"\n",
    "ipython -V\n",
    "echo \"Pandas version is:\"\n",
    "python -c \"import pandas; print pandas.__version__\"\n",
    "echo \"SymPy version is:\"\n",
    "python -c \"import sympy; print sympy.__version__\""
   ]
  },
  {
   "cell_type": "markdown",
   "metadata": {},
   "source": [
    "Alright, it looks like we've got the SciPy stack installed. This is good, but not a trivial accomplishment. Sometimes getting to this point can be a bit frustrating and require a lot of time debugging and googling error messages."
   ]
  },
  {
   "cell_type": "code",
   "execution_count": 5,
   "metadata": {
    "collapsed": false
   },
   "outputs": [
    {
     "data": {
      "text/html": [
       "<img src=\"https://imgs.xkcd.com/comics/dependencies.png\"/>"
      ],
      "text/plain": [
       "<IPython.core.display.Image object>"
      ]
     },
     "execution_count": 5,
     "metadata": {},
     "output_type": "execute_result"
    }
   ],
   "source": [
    "Image(url='https://imgs.xkcd.com/comics/dependencies.png')"
   ]
  },
  {
   "cell_type": "markdown",
   "metadata": {},
   "source": [
    "For the purposes of this course, we suggest using the [Anaconda](https://store.continuum.io/cshop/anaconda/) scientific Python distribution, which is supported on Linux, Mac OS X, and Windows. The benefits of using Anaconda are:\n",
    "\n",
    "* Parallel to other Python installations\n",
    "* Maintained by [Continuum](http://continuum.io/)\n",
    "* [Free](https://en.wikipedia.org/wiki/The_Free_Software_Definition) in several ways\n",
    "\n",
    "Take a few minutes to install Anaconda and then we'll give a quick run down of its structure. Know that we've installed Anaconda, let's take a look at where our operating system thinks Python is. The default installation location is in your home directory."
   ]
  },
  {
   "cell_type": "code",
   "execution_count": 17,
   "metadata": {
    "collapsed": false
   },
   "outputs": [
    {
     "name": "stdout",
     "output_type": "stream",
     "text": [
      "/home/cahern/anaconda/bin/python\n"
     ]
    }
   ],
   "source": [
    "%%bash\n",
    "which python"
   ]
  },
  {
   "cell_type": "markdown",
   "metadata": {},
   "source": [
    "But wait, didn't we say that Anaconda installs Python in parallel to other installations. It does, we've just listed the default location. Let's look for all locations of Python. The option `-a` selects all pathnames to installations of Python rather than just the default."
   ]
  },
  {
   "cell_type": "code",
   "execution_count": 7,
   "metadata": {
    "collapsed": false
   },
   "outputs": [
    {
     "name": "stdout",
     "output_type": "stream",
     "text": [
      "/home/cahern/anaconda/bin/python\n",
      "/usr/bin/python\n"
     ]
    }
   ],
   "source": [
    "%%bash\n",
    "which -a python"
   ]
  },
  {
   "cell_type": "markdown",
   "metadata": {},
   "source": [
    "There we go! It now looks like we have two different versions of Python installed at different locations. Take a look at the versions of the different packages we'll be using in each of the two . Note that the versions used by different installations of Python are not necessarily the same. It's important to remember this as you install additional packages."
   ]
  },
  {
   "cell_type": "code",
   "execution_count": 1,
   "metadata": {
    "collapsed": false
   },
   "outputs": [
    {
     "name": "stdout",
     "output_type": "stream",
     "text": [
      "/home/cahern/anaconda/bin/python\n",
      "numpy\n",
      "1.9.2\n",
      "/home/cahern/anaconda/bin/python\n",
      "scipy\n",
      "0.15.1\n",
      "/home/cahern/anaconda/bin/python\n",
      "matplotlib\n",
      "1.4.3\n",
      "/home/cahern/anaconda/bin/python\n",
      "pandas\n",
      "0.16.2\n",
      "/home/cahern/anaconda/bin/python\n",
      "sympy\n",
      "0.7.6\n",
      "\n",
      "/usr/bin/python\n",
      "numpy\n",
      "1.8.2\n",
      "/usr/bin/python\n",
      "scipy\n",
      "0.13.3\n",
      "/usr/bin/python\n",
      "matplotlib\n",
      "1.3.1\n",
      "/usr/bin/python\n",
      "pandas\n",
      "0.13.1\n",
      "/usr/bin/python\n",
      "sympy\n",
      "0.7.4.1\n",
      "\n"
     ]
    }
   ],
   "source": [
    "%%bash\n",
    "for python_loc in $(which -a python) # For each python installation\n",
    "    do \n",
    "        for package in numpy scipy matplotlib pandas sympy # For each of these packages\n",
    "            do \n",
    "                echo \"${python_loc}\"\n",
    "                echo \"$package\"\n",
    "                \"${python_loc}\" -c \"import $package; print $package.__version__\"\n",
    "            done\n",
    "        echo\n",
    "    done"
   ]
  },
  {
   "cell_type": "markdown",
   "metadata": {},
   "source": [
    "Anaconda comes with a package and virtual environment manager `conda` with some pretty great functionality. Check out this [cheat sheet](http://conda.pydata.org/docs/_downloads/conda-cheatsheet.pdf) for an overview. We can list the packages currently installed for and accessible to Anaconda. This yields some of the information we found earlier such as the version numbers of the different packages we'll be using."
   ]
  },
  {
   "cell_type": "code",
   "execution_count": 70,
   "metadata": {
    "collapsed": false
   },
   "outputs": [
    {
     "name": "stdout",
     "output_type": "stream",
     "text": [
      "numpy                     1.9.2                    py27_0  \n",
      "\n",
      "# packages in environment at /home/cahern/anaconda:\n",
      "#\n",
      "_license                  1.1                      py27_0  \n",
      "abstract-rendering        0.5.1                np19py27_0  \n",
      "alabaster                 0.7.3                    py27_0  \n",
      "anaconda                  2.3.0                np19py27_0  \n",
      "argcomplete               0.8.9                    py27_0  \n",
      "astropy                   1.0.3                np19py27_0  \n",
      "babel                     1.3                      py27_0  \n",
      "backports.ssl-match-hostname 3.4.0.2                   <pip>\n",
      "\n",
      "198\n"
     ]
    }
   ],
   "source": [
    "%%bash\n",
    "conda list | grep \"numpy\" # Find the version of numpy installed\n",
    "echo\n",
    "conda list | head # Print the first few lines of packages\n",
    "echo\n",
    "conda list | wc -l # Print the count of packages installed via conda"
   ]
  },
  {
   "cell_type": "markdown",
   "metadata": {},
   "source": [
    "Before doing anything else, let's update `conda` and `anaconda`. The first command will make sure that `conda` has the most up to date information. Note that the second command *does not* update all packages available to Anaconda to the latest versions. Rather, it updates to the most recent version where all of the packages work together."
   ]
  },
  {
   "cell_type": "code",
   "execution_count": 22,
   "metadata": {
    "collapsed": false
   },
   "outputs": [
    {
     "name": "stdout",
     "output_type": "stream",
     "text": [
      "Fetching package metadata: ....\n",
      "# All requested packages already installed.\n",
      "# packages in environment at /home/cahern-adm/anaconda:\n",
      "#\n",
      "conda                     3.14.0                   py27_0  \n",
      "Fetching package metadata: ....\n",
      "# All requested packages already installed.\n",
      "# packages in environment at /home/cahern-adm/anaconda:\n",
      "#\n",
      "anaconda                  2.2.0                np19py27_0  \n"
     ]
    }
   ],
   "source": [
    "%%bash\n",
    "conda update conda\n",
    "conda update anaconda"
   ]
  },
  {
   "cell_type": "markdown",
   "metadata": {},
   "source": [
    "In addition to the full SciPy stack Anaconda comes with [a lot](http://docs.continuum.io/anaconda/pkg-docs.html) of packages and tools ready to use. This is one of the benefits of using a maintained Python distribution: it's possible that you'll never have to install anything beyond what's already included. In addition to the packages that are already installed, there are more to be installed by searching."
   ]
  },
  {
   "cell_type": "code",
   "execution_count": 71,
   "metadata": {
    "collapsed": false
   },
   "outputs": [
    {
     "name": "stdout",
     "output_type": "stream",
     "text": [
      "198\n",
      "156\n"
     ]
    }
   ],
   "source": [
    "%%bash\n",
    "conda list | wc -l\n",
    "conda search | grep '*' | wc -l"
   ]
  },
  {
   "cell_type": "markdown",
   "metadata": {},
   "source": [
    "For example, if we want to use [MCMC methods](https://en.wikipedia.org/wiki/Markov_chain_Monte_Carlo), we can install [PyMC](http://camdavidsonpilon.github.io/Probabilistic-Programming-and-Bayesian-Methods-for-Hackers/)."
   ]
  },
  {
   "cell_type": "code",
   "execution_count": 33,
   "metadata": {
    "collapsed": false
   },
   "outputs": [
    {
     "name": "stdout",
     "output_type": "stream",
     "text": [
      "Fetching package metadata: ....\n",
      "pymc                         2.2                 np17py27_p0  defaults        \n",
      "                             2.2                  np17py27_0  defaults        \n",
      "                             2.3                  np17py27_0  defaults        \n",
      "                             2.3                  np18py27_1  defaults        \n",
      "                             2.3.2                np18py27_0  defaults        \n",
      "                             2.3.2                np18py26_0  defaults        \n",
      "                             2.3.3                np19py27_0  defaults        \n",
      "                             2.3.3                np19py26_0  defaults        \n",
      "                             2.3.3                np18py27_0  defaults        \n",
      "                             2.3.3                np18py26_0  defaults        \n",
      "                             2.3.4               np19py34_p0  defaults        [mkl]\n",
      "                             2.3.4                np19py34_0  defaults        \n",
      "                             2.3.4               np19py33_p0  defaults        [mkl]\n",
      "                             2.3.4                np19py33_0  defaults        \n",
      "                             2.3.4               np19py27_p0  defaults        [mkl]\n",
      "                             2.3.4                np19py27_0  defaults        \n",
      "                             2.3.4               np19py26_p0  defaults        [mkl]\n",
      "                             2.3.4                np19py26_0  defaults        \n"
     ]
    }
   ],
   "source": [
    "%%bash\n",
    "conda search pymc"
   ]
  },
  {
   "cell_type": "code",
   "execution_count": 34,
   "metadata": {
    "collapsed": false
   },
   "outputs": [
    {
     "name": "stdout",
     "output_type": "stream",
     "text": [
      "Fetching package metadata: ....\n",
      "Solving package specifications: .\n",
      "Package plan for installation in environment /home/cahern-adm/anaconda:\n",
      "\n",
      "The following packages will be downloaded:\n",
      "\n",
      "    package                    |            build\n",
      "    ---------------------------|-----------------\n",
      "    conda-env-2.2.2            |           py27_0          21 KB\n",
      "    pymc-2.3.4                 |       np19py27_0         1.5 MB\n",
      "    ------------------------------------------------------------\n",
      "                                           Total:         1.5 MB\n",
      "\n",
      "The following NEW packages will be INSTALLED:\n",
      "\n",
      "    pymc:      2.3.4-np19py27_0\n",
      "\n",
      "The following packages will be UPDATED:\n",
      "\n",
      "    conda-env: 2.2.1-py27_0 --> 2.2.2-py27_0    \n",
      "\n",
      "Proceed ([y]/n)? \n",
      "Fetching packages ...\n",
      "conda-env-2.2.   0% |                                                                                           | ETA:  --:--:--   0.00  B/s\r",
      "conda-env-2.2.  76% |######################################################################                      | ETA:  0:00:00   2.63 MB/s\r",
      "conda-env-2.2. 100% |############################################################################################| ETA:  0:00:00   3.23 MB/s\r",
      "conda-env-2.2. 100% |############################################################################################| Time: 0:00:00   3.04 MB/s\r\n",
      "pymc-2.3.4-np1   0% |                                                                                           | ETA:  --:--:--   0.00  B/s\r",
      "pymc-2.3.4-np1   1% |                                                                                            | Time: 0:00:00   1.41 MB/s\r",
      "pymc-2.3.4-np1   2% |#                                                                                           | Time: 0:00:00   1.85 MB/s\r",
      "pymc-2.3.4-np1   3% |##                                                                                          | Time: 0:00:00   2.56 MB/s\r",
      "pymc-2.3.4-np1   4% |###                                                                                         | Time: 0:00:00   2.75 MB/s\r",
      "pymc-2.3.4-np1   5% |####                                                                                        | Time: 0:00:00   3.27 MB/s\r",
      "pymc-2.3.4-np1   6% |#####                                                                                       | Time: 0:00:00   3.45 MB/s\r",
      "pymc-2.3.4-np1   7% |######                                                                                      | Time: 0:00:00   3.82 MB/s\r",
      "pymc-2.3.4-np1   8% |#######                                                                                     | Time: 0:00:00   4.20 MB/s\r",
      "pymc-2.3.4-np1   9% |########                                                                                    | Time: 0:00:00   4.50 MB/s\r",
      "pymc-2.3.4-np1  10% |#########                                                                                   | Time: 0:00:00   4.65 MB/s\r",
      "pymc-2.3.4-np1  11% |##########                                                                                  | Time: 0:00:00   4.91 MB/s\r",
      "pymc-2.3.4-np1  12% |###########                                                                                 | Time: 0:00:00   5.11 MB/s\r",
      "pymc-2.3.4-np1  13% |############                                                                                | Time: 0:00:00   5.13 MB/s\r",
      "pymc-2.3.4-np1  14% |#############                                                                               | Time: 0:00:00   5.30 MB/s\r",
      "pymc-2.3.4-np1  16% |##############                                                                              | Time: 0:00:00   5.52 MB/s\r",
      "pymc-2.3.4-np1  17% |###############                                                                             | Time: 0:00:00   5.70 MB/s\r",
      "pymc-2.3.4-np1  18% |################                                                                            | Time: 0:00:00   5.76 MB/s\r",
      "pymc-2.3.4-np1  19% |#################                                                                           | Time: 0:00:00   5.91 MB/s\r",
      "pymc-2.3.4-np1  20% |##################                                                                          | Time: 0:00:00   6.06 MB/s\r",
      "pymc-2.3.4-np1  21% |###################                                                                         | Time: 0:00:00   6.20 MB/s\r",
      "pymc-2.3.4-np1  22% |####################                                                                        | Time: 0:00:00   6.27 MB/s\r",
      "pymc-2.3.4-np1  23% |#####################                                                                       | Time: 0:00:00   6.37 MB/s\r",
      "pymc-2.3.4-np1  24% |######################                                                                      | Time: 0:00:00   6.49 MB/s\r",
      "pymc-2.3.4-np1  25% |#######################                                                                     | Time: 0:00:00   6.53 MB/s\r",
      "pymc-2.3.4-np1  26% |########################                                                                    | Time: 0:00:00   6.67 MB/s\r",
      "pymc-2.3.4-np1  27% |#########################                                                                   | Time: 0:00:00   6.75 MB/s\r",
      "pymc-2.3.4-np1  28% |##########################                                                                  | Time: 0:00:00   6.82 MB/s\r",
      "pymc-2.3.4-np1  29% |###########################                                                                 | Time: 0:00:00   6.92 MB/s\r",
      "pymc-2.3.4-np1  30% |############################                                                                | Time: 0:00:00   7.01 MB/s\r",
      "pymc-2.3.4-np1  32% |#############################                                                               | Time: 0:00:00   7.06 MB/s\r",
      "pymc-2.3.4-np1  33% |##############################                                                              | Time: 0:00:00   7.10 MB/s\r",
      "pymc-2.3.4-np1  34% |###############################                                                             | Time: 0:00:00   7.17 MB/s\r",
      "pymc-2.3.4-np1  35% |################################                                                            | Time: 0:00:00   7.25 MB/s\r",
      "pymc-2.3.4-np1  36% |#################################                                                           | Time: 0:00:00   7.29 MB/s\r",
      "pymc-2.3.4-np1  37% |##################################                                                          | Time: 0:00:00   7.35 MB/s\r",
      "pymc-2.3.4-np1  38% |###################################                                                         | Time: 0:00:00   7.42 MB/s\r",
      "pymc-2.3.4-np1  39% |####################################                                                        | Time: 0:00:00   7.45 MB/s\r",
      "pymc-2.3.4-np1  40% |#####################################                                                       | Time: 0:00:00   7.47 MB/s\r",
      "pymc-2.3.4-np1  41% |######################################                                                      | Time: 0:00:00   7.55 MB/s\r",
      "pymc-2.3.4-np1  42% |#######################################                                                     | Time: 0:00:00   7.59 MB/s\r",
      "pymc-2.3.4-np1  43% |########################################                                                    | Time: 0:00:00   7.64 MB/s\r",
      "pymc-2.3.4-np1  44% |#########################################                                                   | Time: 0:00:00   7.66 MB/s\r",
      "pymc-2.3.4-np1  45% |##########################################                                                  | Time: 0:00:00   7.71 MB/s\r",
      "pymc-2.3.4-np1  46% |###########################################                                                 | Time: 0:00:00   7.77 MB/s\r",
      "pymc-2.3.4-np1  48% |############################################                                                | Time: 0:00:00   7.79 MB/s\r",
      "pymc-2.3.4-np1  49% |#############################################                                               | Time: 0:00:00   7.82 MB/s\r",
      "pymc-2.3.4-np1  50% |##############################################                                              | Time: 0:00:00   7.85 MB/s\r",
      "pymc-2.3.4-np1  51% |###############################################                                             | Time: 0:00:00   7.90 MB/s\r",
      "pymc-2.3.4-np1  52% |################################################                                            | Time: 0:00:00   7.94 MB/s\r",
      "pymc-2.3.4-np1  53% |#################################################                                           | Time: 0:00:00   7.97 MB/s\r",
      "pymc-2.3.4-np1  54% |##################################################                                          | Time: 0:00:00   7.99 MB/s\r",
      "pymc-2.3.4-np1  55% |###################################################                                         | Time: 0:00:00   8.01 MB/s\r",
      "pymc-2.3.4-np1  56% |####################################################                                        | Time: 0:00:00   8.05 MB/s\r",
      "pymc-2.3.4-np1  57% |#####################################################                                       | Time: 0:00:00   8.09 MB/s\r",
      "pymc-2.3.4-np1  58% |######################################################                                      | Time: 0:00:00   8.11 MB/s\r",
      "pymc-2.3.4-np1  59% |######################################################                                      | Time: 0:00:00   8.13 MB/s\r",
      "pymc-2.3.4-np1  60% |#######################################################                                     | Time: 0:00:00   8.18 MB/s\r",
      "pymc-2.3.4-np1  61% |########################################################                                    | Time: 0:00:00   8.22 MB/s\r",
      "pymc-2.3.4-np1  62% |#########################################################                                   | Time: 0:00:00   8.23 MB/s\r",
      "pymc-2.3.4-np1  64% |##########################################################                                  | Time: 0:00:00   8.23 MB/s\r",
      "pymc-2.3.4-np1  65% |###########################################################                                 | Time: 0:00:00   8.26 MB/s\r",
      "pymc-2.3.4-np1  66% |############################################################                                | Time: 0:00:00   8.31 MB/s\r",
      "pymc-2.3.4-np1  67% |#############################################################                               | Time: 0:00:00   8.35 MB/s\r",
      "pymc-2.3.4-np1  68% |##############################################################                              | Time: 0:00:00   8.31 MB/s\r",
      "pymc-2.3.4-np1  69% |###############################################################                             | Time: 0:00:00   8.36 MB/s\r",
      "pymc-2.3.4-np1  70% |################################################################                            | Time: 0:00:00   8.39 MB/s\r",
      "pymc-2.3.4-np1  71% |#################################################################                           | Time: 0:00:00   8.40 MB/s\r",
      "pymc-2.3.4-np1  72% |##################################################################                          | Time: 0:00:00   8.41 MB/s\r",
      "pymc-2.3.4-np1  73% |###################################################################                         | Time: 0:00:00   8.45 MB/s\r",
      "pymc-2.3.4-np1  74% |####################################################################                        | Time: 0:00:00   8.47 MB/s\r",
      "pymc-2.3.4-np1  75% |#####################################################################                       | Time: 0:00:00   8.47 MB/s\r",
      "pymc-2.3.4-np1  76% |######################################################################                      | Time: 0:00:00   8.49 MB/s\r",
      "pymc-2.3.4-np1  77% |#######################################################################                     | Time: 0:00:00   8.51 MB/s\r",
      "pymc-2.3.4-np1  78% |########################################################################                    | Time: 0:00:00   8.56 MB/s\r",
      "pymc-2.3.4-np1  80% |#########################################################################                   | Time: 0:00:00   8.55 MB/s\r",
      "pymc-2.3.4-np1  81% |##########################################################################                  | Time: 0:00:00   8.56 MB/s\r",
      "pymc-2.3.4-np1  82% |###########################################################################                 | Time: 0:00:00   8.59 MB/s\r",
      "pymc-2.3.4-np1  83% |############################################################################                | Time: 0:00:00   8.62 MB/s\r",
      "pymc-2.3.4-np1  84% |#############################################################################               | Time: 0:00:00   8.60 MB/s\r",
      "pymc-2.3.4-np1  85% |##############################################################################              | Time: 0:00:00   8.64 MB/s\r",
      "pymc-2.3.4-np1  86% |###############################################################################             | Time: 0:00:00   8.66 MB/s\r",
      "pymc-2.3.4-np1  87% |################################################################################            | Time: 0:00:00   8.67 MB/s\r",
      "pymc-2.3.4-np1  88% |#################################################################################           | Time: 0:00:00   8.68 MB/s\r",
      "pymc-2.3.4-np1  89% |##################################################################################          | Time: 0:00:00   8.71 MB/s\r",
      "pymc-2.3.4-np1  90% |###################################################################################         | Time: 0:00:00   8.73 MB/s\r",
      "pymc-2.3.4-np1  91% |####################################################################################        | Time: 0:00:00   8.75 MB/s\r",
      "pymc-2.3.4-np1  92% |#####################################################################################       | Time: 0:00:00   8.74 MB/s\r",
      "pymc-2.3.4-np1  93% |######################################################################################      | Time: 0:00:00   8.77 MB/s\r",
      "pymc-2.3.4-np1  95% |#######################################################################################     | Time: 0:00:00   8.79 MB/s\r",
      "pymc-2.3.4-np1  96% |########################################################################################    | Time: 0:00:00   8.80 MB/s\r",
      "pymc-2.3.4-np1  97% |#########################################################################################   | Time: 0:00:00   8.78 MB/s\r",
      "pymc-2.3.4-np1  98% |##########################################################################################  | Time: 0:00:00   8.81 MB/s\r",
      "pymc-2.3.4-np1  99% |########################################################################################### | Time: 0:00:00   8.84 MB/s\r",
      "pymc-2.3.4-np1 100% |############################################################################################| Time: 0:00:00   8.88 MB/s\r",
      "pymc-2.3.4-np1 100% |############################################################################################| Time: 0:00:00   8.87 MB/s\r",
      "pymc-2.3.4-np1 100% |############################################################################################| Time: 0:00:00   8.86 MB/s\r\n",
      "Extracting packages ...\n",
      "[                    ]|                                                                                                               |   0%\r",
      "[conda-env           ]|                                                                                                               |   0%\r",
      "[pymc                ]|#######################################################                                                        |  50%\r",
      "[      COMPLETE      ]|###############################################################################################################| 100%\r\n",
      "Unlinking packages ...\n",
      "[      COMPLETE      ]|                                                                                                               |   0%\r",
      "[conda-env           ]|                                                                                                               |   0%\r",
      "[conda-env           ]|                                                                                                               |   0%\r",
      "[      COMPLETE      ]|###############################################################################################################| 100%\r\n",
      "Linking packages ...\n",
      "[      COMPLETE      ]|                                                                                                               |   0%\r",
      "[conda-env-2.2.2     ]|                                                                                                               |   0%\r",
      "[conda-env-2.2.2     ]|                                                                                                               |   0%\r",
      "[pymc-2.3.4          ]|#######################################################                                                        |  50%\r",
      "[      COMPLETE      ]|###############################################################################################################| 100%\r\n"
     ]
    }
   ],
   "source": [
    "%%bash\n",
    "conda install pymc"
   ]
  },
  {
   "cell_type": "markdown",
   "metadata": {},
   "source": [
    "Anaconda offers a powerful means of revising and managing installations. If you install a package and everything breaks, then you can revert to a previous state. To list the changes you've made to Anaconda, type the following, which will show you the various revisions you've made since you've installed Anaconda."
   ]
  },
  {
   "cell_type": "code",
   "execution_count": 76,
   "metadata": {
    "collapsed": false
   },
   "outputs": [
    {
     "name": "stdout",
     "output_type": "stream",
     "text": [
      "    +r-lattice-0.20_31\n",
      "    +r-mass-7.3_42\n",
      "    +r-matrix-1.2_1\n",
      "    +r-mgcv-1.8_6\n",
      "    +r-nlme-3.1_121\n",
      "    +r-nnet-7.3_10\n",
      "    +r-recommended-3.2.0\n",
      "    +r-rpart-4.1_10\n",
      "    +r-spatial-7.3_10\n",
      "    +r-survival-2.38_3\n",
      "\n",
      "2015-07-15 12:27:14  (rev 11)\n",
      "    +rpy2-2.5.6\n",
      "\n",
      "2015-07-15 12:29:03  (rev 12)\n",
      "     ipython  {3.2.0 -> 3.2.1}\n",
      "     ipython-notebook  {3.2.0 -> 3.2.1}\n",
      "     mistune  {0.5.1 -> 0.6}\n",
      "     r  {3.2.0 -> 3.1.3}\n",
      "     r-base  {3.2.0 -> 3.1.3}\n",
      "     r-boot  {1.3_16 -> 1.3_16}\n",
      "     r-class  {7.3_13 -> 7.3_12}\n",
      "     r-cluster  {2.0.2 -> 1.15.3}\n",
      "     r-codetools  {0.2_11 -> 0.2_11}\n",
      "     r-foreign  {0.8_65 -> 0.8_63}\n",
      "     r-kernsmooth  {2.23_15 -> 2.23_14}\n",
      "     r-lattice  {0.20_31 -> 0.20_31}\n",
      "     r-mass  {7.3_42 -> 7.3.37}\n",
      "     r-matrix  {1.2_1 -> 1.2_1}\n",
      "     r-mgcv  {1.8_6 -> 1.8_6}\n",
      "     r-nlme  {3.1_121 -> 3.1.118}\n",
      "     r-nnet  {7.3_10 -> 7.3_9}\n",
      "     r-recommended  {3.2.0 -> 3.1.3}\n",
      "     r-rpart  {4.1_10 -> 4.1_9}\n",
      "     r-spatial  {7.3_10 -> 7.3_9}\n",
      "     r-survival  {2.38_3 -> 2.38_2}\n",
      "    +r-base64enc-0.1_2\n",
      "    +r-digest-0.6.8\n",
      "    +r-evaluate-0.7\n",
      "    +r-irdisplay-0.3\n",
      "    +r-irkernel-0.4\n",
      "    +r-jsonlite-0.9.14\n",
      "    +r-repr-0.1\n",
      "    +r-rzmq-0.7.7\n",
      "    +r-stringr-0.6.2\n",
      "    +r-uuid-0.1_1\n",
      "\n",
      "2015-07-15 13:19:20  (rev 13)\n",
      "    -r-nlme-3.1.118\n",
      "\n"
     ]
    }
   ],
   "source": [
    "%%bash\n",
    "conda list --revision | tail -n 50"
   ]
  },
  {
   "cell_type": "markdown",
   "metadata": {},
   "source": [
    "You can revert to any of these points using the following, where `i` is the index of the point you want to revert to."
   ]
  },
  {
   "cell_type": "code",
   "execution_count": null,
   "metadata": {
    "collapsed": true
   },
   "outputs": [],
   "source": [
    "%%bash\n",
    "conda install --revision=i"
   ]
  },
  {
   "cell_type": "markdown",
   "metadata": {},
   "source": [
    "This is great, but what if I want something that's outside of `conda search`? Well, for the most part, in this course we're going to treat Anaconda as a closed ecosystem. But, when we get to `R` below we'll outline some options."
   ]
  },
  {
   "cell_type": "code",
   "execution_count": 11,
   "metadata": {
    "collapsed": false
   },
   "outputs": [
    {
     "data": {
      "text/html": [
       "<img src=\"http://i.dailymail.co.uk/i/pix/2013/01/24/article-2267504-17212EB3000005DC-781_634x663.jpg\"/>"
      ],
      "text/plain": [
       "<IPython.core.display.Image object>"
      ]
     },
     "execution_count": 11,
     "metadata": {},
     "output_type": "execute_result"
    }
   ],
   "source": [
    "Image(url='http://i.dailymail.co.uk/i/pix/2013/01/24/article-2267504-17212EB3000005DC-781_634x663.jpg')"
   ]
  },
  {
   "cell_type": "markdown",
   "metadata": {},
   "source": [
    "There are two options if the closed ecosystem is cramping your style:\n",
    "\n",
    "1. You can add packages via conda using [anaconda.org](https://anaconda.org/about) and [binstar](https://binstar.org/about) which is an online package hosting system from Continuum analytics\n",
    "2. You can use the default python installation on your system and manually add packages using pip or source files\n",
    "\n",
    "In this section, we'll take a look at the second option and return to the first option when we look at installing R."
   ]
  },
  {
   "cell_type": "markdown",
   "metadata": {},
   "source": [
    "You can break out into the larger world by changing your default Python installation. Navigate to your home directory and edit either the `.bashrc` or `.bash_profile` file. You can either comment out the following line:"
   ]
  },
  {
   "cell_type": "code",
   "execution_count": 2,
   "metadata": {
    "collapsed": false
   },
   "outputs": [
    {
     "name": "stdout",
     "output_type": "stream",
     "text": [
      "export PATH=\"/home/cahern/anaconda/bin:$PATH\"\n"
     ]
    }
   ],
   "source": [
    "%%bash\n",
    "cd ~\n",
    "grep \"anaconda\" .bashrc"
   ]
  },
  {
   "cell_type": "markdown",
   "metadata": {},
   "source": [
    "Or you can edit the line so that your system will look in the Anaconda distribution second:"
   ]
  },
  {
   "cell_type": "raw",
   "metadata": {},
   "source": [
    "export PATH=\"$PATH:/home/cahern/anaconda/bin\""
   ]
  },
  {
   "cell_type": "markdown",
   "metadata": {},
   "source": [
    "Reload the bash script, and `which -a python` should either no longer contain Anaconda or the Anaconda installation should be second. You can still use the Python installed by Anaconda, but it won't be the default."
   ]
  },
  {
   "cell_type": "raw",
   "metadata": {
    "collapsed": true
   },
   "source": [
    "source ~/.bashrc\n",
    "which -a python"
   ]
  },
  {
   "cell_type": "markdown",
   "metadata": {},
   "source": [
    "To install more python packages you'll probably want to install [pip](https://pip.pypa.io/en/stable/installing.html#install-pip), which is a python package manager. It will allow you to install packages from the Python Package Index (PyPI) with a single command. It is important to note that there can be multiple versions of pip installed. Check which version is being used to install things."
   ]
  },
  {
   "cell_type": "code",
   "execution_count": 79,
   "metadata": {
    "collapsed": false
   },
   "outputs": [
    {
     "name": "stdout",
     "output_type": "stream",
     "text": [
      "/home/cahern/anaconda/bin/pip\n",
      "/usr/local/bin/pip\n",
      "/usr/bin/pip\n"
     ]
    }
   ],
   "source": [
    "%%bash \n",
    "which -a pip"
   ]
  },
  {
   "cell_type": "markdown",
   "metadata": {},
   "source": [
    "The Anaconda python installation does not have access to packages installed via the default system pip, and the default python installation on your system does not have access to the packages installed via Anaconda or the Anaconda version of pip."
   ]
  },
  {
   "cell_type": "markdown",
   "metadata": {},
   "source": [
    "If we want to install things solely to the system default python installation, we can:\n",
    "\n",
    "1. Set up aliases for the different commands in `.bashrc` or `.bash_profile`\n",
    "2. Uninstall the Anaconda pip\n",
    "\n",
    "To do the first, add the following lines to  `.bashrc` or `.bash_profile` and run the following:"
   ]
  },
  {
   "cell_type": "raw",
   "metadata": {},
   "source": [
    "alias pip='/usr/local/bin/pip'\n",
    "alias pip-conda='/anaconda/bin/pip'"
   ]
  },
  {
   "cell_type": "raw",
   "metadata": {
    "collapsed": true
   },
   "source": [
    "source ~/.bashrc"
   ]
  },
  {
   "cell_type": "markdown",
   "metadata": {},
   "source": [
    "For the second, do the following:"
   ]
  },
  {
   "cell_type": "code",
   "execution_count": null,
   "metadata": {
    "collapsed": true
   },
   "outputs": [],
   "source": [
    "%%bash\n",
    "conda uninstall pip"
   ]
  },
  {
   "cell_type": "markdown",
   "metadata": {},
   "source": [
    "We can take a look at the list of packages installed by the different version of pip:"
   ]
  },
  {
   "cell_type": "code",
   "execution_count": 5,
   "metadata": {
    "collapsed": false
   },
   "outputs": [
    {
     "name": "stdout",
     "output_type": "stream",
     "text": [
      "/home/cahern/anaconda/bin/pip\n",
      "textblob (0.9.1)\n",
      "Theano (0.7.0)\n",
      "toolz (0.7.2)\n",
      "tornado (4.2)\n",
      "ujson (1.33)\n",
      "unicodecsv (0.9.4)\n",
      "Werkzeug (0.10.4)\n",
      "xlrd (0.9.3)\n",
      "XlsxWriter (0.7.3)\n",
      "xlwt (1.0.0)\n",
      "115\n",
      "\n",
      "/usr/local/bin/pip\n",
      "tornado (4.2)\n",
      "Twisted-Core (13.2.0)\n",
      "Twisted-Web (13.2.0)\n",
      "unity-lens-photos (1.0)\n",
      "urllib3 (1.7.1)\n",
      "wheel (0.24.0)\n",
      "xdiagnose (3.6.3build2)\n",
      "xlrd (0.9.2)\n",
      "xlwt (0.7.5)\n",
      "zope.interface (4.0.5)\n",
      "94\n",
      "\n",
      "/usr/bin/pip\n",
      "Twisted-Core (13.2.0)\n",
      "Twisted-Web (13.2.0)\n",
      "unity-lens-photos (1.0)\n",
      "urllib3 (1.7.1)\n",
      "wheel (0.24.0)\n",
      "wsgiref (0.1.2)\n",
      "xdiagnose (3.6.3build2)\n",
      "xlrd (0.9.2)\n",
      "xlwt (0.7.5)\n",
      "zope.interface (4.0.5)\n",
      "96\n",
      "\n"
     ]
    }
   ],
   "source": [
    "%%bash\n",
    "for pip_loc in $(which -a pip)\n",
    "    do\n",
    "        echo \"${pip_loc}\"\n",
    "        \"${pip_loc}\" list | tail\n",
    "        \"${pip_loc}\" list | wc -l\n",
    "        echo\n",
    "    done"
   ]
  },
  {
   "cell_type": "markdown",
   "metadata": {},
   "source": [
    "We can also install additional packages via the following, but be conscientious about what `pip` you're using and where it's being installed."
   ]
  },
  {
   "cell_type": "code",
   "execution_count": 6,
   "metadata": {
    "collapsed": false
   },
   "outputs": [
    {
     "name": "stdout",
     "output_type": "stream",
     "text": [
      "Requirement already satisfied (use --upgrade to upgrade): textblob in /home/cahern/anaconda/lib/python2.7/site-packages\n",
      "Requirement already satisfied (use --upgrade to upgrade): nltk>=3.0 in /home/cahern/anaconda/lib/python2.7/site-packages (from textblob)\n"
     ]
    }
   ],
   "source": [
    "%%bash\n",
    "pip install textblob"
   ]
  },
  {
   "cell_type": "markdown",
   "metadata": {},
   "source": [
    "That wraps up installing python and getting things up and running. We'll now move on to `R`."
   ]
  },
  {
   "cell_type": "markdown",
   "metadata": {},
   "source": [
    "# R"
   ]
  },
  {
   "cell_type": "markdown",
   "metadata": {},
   "source": [
    "## Description"
   ]
  },
  {
   "cell_type": "markdown",
   "metadata": {},
   "source": [
    "[R](http://www.r-project.org/) is a [widely-used](http://www.nature.com/news/programming-tools-adventures-with-r-1.16609) programming language and software environment for statistical computing and graphics."
   ]
  },
  {
   "cell_type": "code",
   "execution_count": 22,
   "metadata": {
    "collapsed": false
   },
   "outputs": [
    {
     "data": {
      "text/html": [
       "<img src=\"http://1.bp.blogspot.com/-W8bv1BMOwEk/UjtKZ22SGXI/AAAAAAAAAFs/FCJiV-k-4PQ/s1600/R+Pirate.png\"/>"
      ],
      "text/plain": [
       "<IPython.core.display.Image object>"
      ]
     },
     "execution_count": 22,
     "metadata": {},
     "output_type": "execute_result"
    }
   ],
   "source": [
    "from IPython.display import Image\n",
    "Image(url='http://1.bp.blogspot.com/-W8bv1BMOwEk/UjtKZ22SGXI/AAAAAAAAAFs/FCJiV-k-4PQ/s1600/R+Pirate.png')"
   ]
  },
  {
   "cell_type": "markdown",
   "metadata": {},
   "source": [
    "## Installation"
   ]
  },
  {
   "cell_type": "markdown",
   "metadata": {},
   "source": [
    "`R` can be downloaded from the closest [mirror server](http://cran.r-project.org/mirrors.html).  Follow the installation instructions. In addition, we'll be using [RStudio](https://www.rstudio.com/) as a development environment for data analysis and document creation. Go ahead, download and install or update both if you need to.\n",
    "\n",
    "You can integrate `R` and `RStudio` with Anaconda in two ways. In fact, one of the most striking benefits of IPython notebooks is the transition to more language agnostic framework as part of `Jupyter` (`= Julia + Python + R`). Ultimately, you can run notebooks using kernels in [many langauges](https://github.com/ipython/ipython/wiki/IPython-kernels-for-other-languages) (e.g. bash, python, R, Matlab, etc.)."
   ]
  },
  {
   "cell_type": "markdown",
   "metadata": {},
   "source": [
    "To give a little taste of the flexibility and scope of the project, we'll use the aptly-named `rmagic`. This will allow us to run `R` code inside of a cell in a `Python` notebook. First, let's get a sense of the range of potential functionality:"
   ]
  },
  {
   "cell_type": "code",
   "execution_count": 10,
   "metadata": {
    "collapsed": false
   },
   "outputs": [
    {
     "data": {
      "application/json": {
       "cell": {
        "!": "OSMagics",
        "HTML": "Other",
        "R": "RMagics",
        "SVG": "Other",
        "bash": "Other",
        "capture": "ExecutionMagics",
        "debug": "ExecutionMagics",
        "file": "Other",
        "html": "DisplayMagics",
        "javascript": "DisplayMagics",
        "latex": "DisplayMagics",
        "perl": "Other",
        "prun": "ExecutionMagics",
        "pypy": "Other",
        "python": "Other",
        "python2": "Other",
        "python3": "Other",
        "ruby": "Other",
        "script": "ScriptMagics",
        "sh": "Other",
        "svg": "DisplayMagics",
        "sx": "OSMagics",
        "system": "OSMagics",
        "time": "ExecutionMagics",
        "timeit": "ExecutionMagics",
        "writefile": "OSMagics"
       },
       "line": {
        "R": "RMagics",
        "Rdevice": "RMagics",
        "Rget": "RMagics",
        "Rpull": "RMagics",
        "Rpush": "RMagics",
        "alias": "OSMagics",
        "alias_magic": "BasicMagics",
        "autocall": "AutoMagics",
        "automagic": "AutoMagics",
        "autosave": "KernelMagics",
        "bookmark": "OSMagics",
        "cat": "Other",
        "cd": "OSMagics",
        "clear": "KernelMagics",
        "colors": "BasicMagics",
        "config": "ConfigMagics",
        "connect_info": "KernelMagics",
        "cp": "Other",
        "debug": "ExecutionMagics",
        "dhist": "OSMagics",
        "dirs": "OSMagics",
        "doctest_mode": "BasicMagics",
        "ed": "Other",
        "edit": "KernelMagics",
        "env": "OSMagics",
        "gui": "BasicMagics",
        "hist": "Other",
        "history": "HistoryMagics",
        "install_default_config": "DeprecatedMagics",
        "install_ext": "ExtensionMagics",
        "install_profiles": "DeprecatedMagics",
        "killbgscripts": "ScriptMagics",
        "ldir": "Other",
        "less": "KernelMagics",
        "lf": "Other",
        "lk": "Other",
        "ll": "Other",
        "load": "CodeMagics",
        "load_ext": "ExtensionMagics",
        "loadpy": "CodeMagics",
        "logoff": "LoggingMagics",
        "logon": "LoggingMagics",
        "logstart": "LoggingMagics",
        "logstate": "LoggingMagics",
        "logstop": "LoggingMagics",
        "ls": "Other",
        "lsmagic": "BasicMagics",
        "lx": "Other",
        "macro": "ExecutionMagics",
        "magic": "BasicMagics",
        "man": "KernelMagics",
        "matplotlib": "PylabMagics",
        "mkdir": "Other",
        "more": "KernelMagics",
        "mv": "Other",
        "notebook": "BasicMagics",
        "page": "BasicMagics",
        "pastebin": "CodeMagics",
        "pdb": "ExecutionMagics",
        "pdef": "NamespaceMagics",
        "pdoc": "NamespaceMagics",
        "pfile": "NamespaceMagics",
        "pinfo": "NamespaceMagics",
        "pinfo2": "NamespaceMagics",
        "popd": "OSMagics",
        "pprint": "BasicMagics",
        "precision": "BasicMagics",
        "profile": "BasicMagics",
        "prun": "ExecutionMagics",
        "psearch": "NamespaceMagics",
        "psource": "NamespaceMagics",
        "pushd": "OSMagics",
        "pwd": "OSMagics",
        "pycat": "OSMagics",
        "pylab": "PylabMagics",
        "qtconsole": "KernelMagics",
        "quickref": "BasicMagics",
        "recall": "HistoryMagics",
        "rehashx": "OSMagics",
        "reload_ext": "ExtensionMagics",
        "rep": "Other",
        "rerun": "HistoryMagics",
        "reset": "NamespaceMagics",
        "reset_selective": "NamespaceMagics",
        "rm": "Other",
        "rmdir": "Other",
        "run": "ExecutionMagics",
        "save": "CodeMagics",
        "sc": "OSMagics",
        "set_env": "OSMagics",
        "store": "StoreMagics",
        "sx": "OSMagics",
        "system": "OSMagics",
        "tb": "ExecutionMagics",
        "time": "ExecutionMagics",
        "timeit": "ExecutionMagics",
        "unalias": "OSMagics",
        "unload_ext": "ExtensionMagics",
        "who": "NamespaceMagics",
        "who_ls": "NamespaceMagics",
        "whos": "NamespaceMagics",
        "xdel": "NamespaceMagics",
        "xmode": "BasicMagics"
       }
      },
      "text/plain": [
       "Available line magics:\n",
       "%R  %Rdevice  %Rget  %Rpull  %Rpush  %alias  %alias_magic  %autocall  %automagic  %autosave  %bookmark  %cat  %cd  %clear  %colors  %config  %connect_info  %cp  %debug  %dhist  %dirs  %doctest_mode  %ed  %edit  %env  %gui  %hist  %history  %install_default_config  %install_ext  %install_profiles  %killbgscripts  %ldir  %less  %lf  %lk  %ll  %load  %load_ext  %loadpy  %logoff  %logon  %logstart  %logstate  %logstop  %ls  %lsmagic  %lx  %macro  %magic  %man  %matplotlib  %mkdir  %more  %mv  %notebook  %page  %pastebin  %pdb  %pdef  %pdoc  %pfile  %pinfo  %pinfo2  %popd  %pprint  %precision  %profile  %prun  %psearch  %psource  %pushd  %pwd  %pycat  %pylab  %qtconsole  %quickref  %recall  %rehashx  %reload_ext  %rep  %rerun  %reset  %reset_selective  %rm  %rmdir  %run  %save  %sc  %set_env  %store  %sx  %system  %tb  %time  %timeit  %unalias  %unload_ext  %who  %who_ls  %whos  %xdel  %xmode\n",
       "\n",
       "Available cell magics:\n",
       "%%!  %%HTML  %%R  %%SVG  %%bash  %%capture  %%debug  %%file  %%html  %%javascript  %%latex  %%perl  %%prun  %%pypy  %%python  %%python2  %%python3  %%ruby  %%script  %%sh  %%svg  %%sx  %%system  %%time  %%timeit  %%writefile\n",
       "\n",
       "Automagic is ON, % prefix IS NOT needed for line magics."
      ]
     },
     "execution_count": 10,
     "metadata": {},
     "output_type": "execute_result"
    }
   ],
   "source": [
    "%lsmagic"
   ]
  },
  {
   "cell_type": "markdown",
   "metadata": {},
   "source": [
    "Now let's try the `%R` magic:"
   ]
  },
  {
   "cell_type": "code",
   "execution_count": 8,
   "metadata": {
    "collapsed": false
   },
   "outputs": [
    {
     "ename": "ImportError",
     "evalue": "No module named rpy2.ipython",
     "output_type": "error",
     "traceback": [
      "\u001b[1;31m---------------------------------------------------------------------------\u001b[0m",
      "\u001b[1;31mImportError\u001b[0m                               Traceback (most recent call last)",
      "\u001b[1;32m<ipython-input-8-691c6d73b073>\u001b[0m in \u001b[0;36m<module>\u001b[1;34m()\u001b[0m\n\u001b[1;32m----> 1\u001b[1;33m \u001b[0mget_ipython\u001b[0m\u001b[1;33m(\u001b[0m\u001b[1;33m)\u001b[0m\u001b[1;33m.\u001b[0m\u001b[0mmagic\u001b[0m\u001b[1;33m(\u001b[0m\u001b[1;34mu'load_ext rpy2.ipython'\u001b[0m\u001b[1;33m)\u001b[0m\u001b[1;33m\u001b[0m\u001b[0m\n\u001b[0m",
      "\u001b[1;32m/home/cahern/anaconda/lib/python2.7/site-packages/IPython/core/interactiveshell.pyc\u001b[0m in \u001b[0;36mmagic\u001b[1;34m(self, arg_s)\u001b[0m\n\u001b[0;32m   2305\u001b[0m         \u001b[0mmagic_name\u001b[0m\u001b[1;33m,\u001b[0m \u001b[0m_\u001b[0m\u001b[1;33m,\u001b[0m \u001b[0mmagic_arg_s\u001b[0m \u001b[1;33m=\u001b[0m \u001b[0marg_s\u001b[0m\u001b[1;33m.\u001b[0m\u001b[0mpartition\u001b[0m\u001b[1;33m(\u001b[0m\u001b[1;34m' '\u001b[0m\u001b[1;33m)\u001b[0m\u001b[1;33m\u001b[0m\u001b[0m\n\u001b[0;32m   2306\u001b[0m         \u001b[0mmagic_name\u001b[0m \u001b[1;33m=\u001b[0m \u001b[0mmagic_name\u001b[0m\u001b[1;33m.\u001b[0m\u001b[0mlstrip\u001b[0m\u001b[1;33m(\u001b[0m\u001b[0mprefilter\u001b[0m\u001b[1;33m.\u001b[0m\u001b[0mESC_MAGIC\u001b[0m\u001b[1;33m)\u001b[0m\u001b[1;33m\u001b[0m\u001b[0m\n\u001b[1;32m-> 2307\u001b[1;33m         \u001b[1;32mreturn\u001b[0m \u001b[0mself\u001b[0m\u001b[1;33m.\u001b[0m\u001b[0mrun_line_magic\u001b[0m\u001b[1;33m(\u001b[0m\u001b[0mmagic_name\u001b[0m\u001b[1;33m,\u001b[0m \u001b[0mmagic_arg_s\u001b[0m\u001b[1;33m)\u001b[0m\u001b[1;33m\u001b[0m\u001b[0m\n\u001b[0m\u001b[0;32m   2308\u001b[0m \u001b[1;33m\u001b[0m\u001b[0m\n\u001b[0;32m   2309\u001b[0m     \u001b[1;31m#-------------------------------------------------------------------------\u001b[0m\u001b[1;33m\u001b[0m\u001b[1;33m\u001b[0m\u001b[0m\n",
      "\u001b[1;32m/home/cahern/anaconda/lib/python2.7/site-packages/IPython/core/interactiveshell.pyc\u001b[0m in \u001b[0;36mrun_line_magic\u001b[1;34m(self, magic_name, line)\u001b[0m\n\u001b[0;32m   2226\u001b[0m                 \u001b[0mkwargs\u001b[0m\u001b[1;33m[\u001b[0m\u001b[1;34m'local_ns'\u001b[0m\u001b[1;33m]\u001b[0m \u001b[1;33m=\u001b[0m \u001b[0msys\u001b[0m\u001b[1;33m.\u001b[0m\u001b[0m_getframe\u001b[0m\u001b[1;33m(\u001b[0m\u001b[0mstack_depth\u001b[0m\u001b[1;33m)\u001b[0m\u001b[1;33m.\u001b[0m\u001b[0mf_locals\u001b[0m\u001b[1;33m\u001b[0m\u001b[0m\n\u001b[0;32m   2227\u001b[0m             \u001b[1;32mwith\u001b[0m \u001b[0mself\u001b[0m\u001b[1;33m.\u001b[0m\u001b[0mbuiltin_trap\u001b[0m\u001b[1;33m:\u001b[0m\u001b[1;33m\u001b[0m\u001b[0m\n\u001b[1;32m-> 2228\u001b[1;33m                 \u001b[0mresult\u001b[0m \u001b[1;33m=\u001b[0m \u001b[0mfn\u001b[0m\u001b[1;33m(\u001b[0m\u001b[1;33m*\u001b[0m\u001b[0margs\u001b[0m\u001b[1;33m,\u001b[0m\u001b[1;33m**\u001b[0m\u001b[0mkwargs\u001b[0m\u001b[1;33m)\u001b[0m\u001b[1;33m\u001b[0m\u001b[0m\n\u001b[0m\u001b[0;32m   2229\u001b[0m             \u001b[1;32mreturn\u001b[0m \u001b[0mresult\u001b[0m\u001b[1;33m\u001b[0m\u001b[0m\n\u001b[0;32m   2230\u001b[0m \u001b[1;33m\u001b[0m\u001b[0m\n",
      "\u001b[1;32m/home/cahern/anaconda/lib/python2.7/site-packages/IPython/core/magics/extension.pyc\u001b[0m in \u001b[0;36mload_ext\u001b[1;34m(self, module_str)\u001b[0m\n",
      "\u001b[1;32m/home/cahern/anaconda/lib/python2.7/site-packages/IPython/core/magic.pyc\u001b[0m in \u001b[0;36m<lambda>\u001b[1;34m(f, *a, **k)\u001b[0m\n\u001b[0;32m    191\u001b[0m     \u001b[1;31m# but it's overkill for just that one bit of state.\u001b[0m\u001b[1;33m\u001b[0m\u001b[1;33m\u001b[0m\u001b[0m\n\u001b[0;32m    192\u001b[0m     \u001b[1;32mdef\u001b[0m \u001b[0mmagic_deco\u001b[0m\u001b[1;33m(\u001b[0m\u001b[0marg\u001b[0m\u001b[1;33m)\u001b[0m\u001b[1;33m:\u001b[0m\u001b[1;33m\u001b[0m\u001b[0m\n\u001b[1;32m--> 193\u001b[1;33m         \u001b[0mcall\u001b[0m \u001b[1;33m=\u001b[0m \u001b[1;32mlambda\u001b[0m \u001b[0mf\u001b[0m\u001b[1;33m,\u001b[0m \u001b[1;33m*\u001b[0m\u001b[0ma\u001b[0m\u001b[1;33m,\u001b[0m \u001b[1;33m**\u001b[0m\u001b[0mk\u001b[0m\u001b[1;33m:\u001b[0m \u001b[0mf\u001b[0m\u001b[1;33m(\u001b[0m\u001b[1;33m*\u001b[0m\u001b[0ma\u001b[0m\u001b[1;33m,\u001b[0m \u001b[1;33m**\u001b[0m\u001b[0mk\u001b[0m\u001b[1;33m)\u001b[0m\u001b[1;33m\u001b[0m\u001b[0m\n\u001b[0m\u001b[0;32m    194\u001b[0m \u001b[1;33m\u001b[0m\u001b[0m\n\u001b[0;32m    195\u001b[0m         \u001b[1;32mif\u001b[0m \u001b[0mcallable\u001b[0m\u001b[1;33m(\u001b[0m\u001b[0marg\u001b[0m\u001b[1;33m)\u001b[0m\u001b[1;33m:\u001b[0m\u001b[1;33m\u001b[0m\u001b[0m\n",
      "\u001b[1;32m/home/cahern/anaconda/lib/python2.7/site-packages/IPython/core/magics/extension.pyc\u001b[0m in \u001b[0;36mload_ext\u001b[1;34m(self, module_str)\u001b[0m\n\u001b[0;32m     61\u001b[0m         \u001b[1;32mif\u001b[0m \u001b[1;32mnot\u001b[0m \u001b[0mmodule_str\u001b[0m\u001b[1;33m:\u001b[0m\u001b[1;33m\u001b[0m\u001b[0m\n\u001b[0;32m     62\u001b[0m             \u001b[1;32mraise\u001b[0m \u001b[0mUsageError\u001b[0m\u001b[1;33m(\u001b[0m\u001b[1;34m'Missing module name.'\u001b[0m\u001b[1;33m)\u001b[0m\u001b[1;33m\u001b[0m\u001b[0m\n\u001b[1;32m---> 63\u001b[1;33m         \u001b[0mres\u001b[0m \u001b[1;33m=\u001b[0m \u001b[0mself\u001b[0m\u001b[1;33m.\u001b[0m\u001b[0mshell\u001b[0m\u001b[1;33m.\u001b[0m\u001b[0mextension_manager\u001b[0m\u001b[1;33m.\u001b[0m\u001b[0mload_extension\u001b[0m\u001b[1;33m(\u001b[0m\u001b[0mmodule_str\u001b[0m\u001b[1;33m)\u001b[0m\u001b[1;33m\u001b[0m\u001b[0m\n\u001b[0m\u001b[0;32m     64\u001b[0m \u001b[1;33m\u001b[0m\u001b[0m\n\u001b[0;32m     65\u001b[0m         \u001b[1;32mif\u001b[0m \u001b[0mres\u001b[0m \u001b[1;33m==\u001b[0m \u001b[1;34m'already loaded'\u001b[0m\u001b[1;33m:\u001b[0m\u001b[1;33m\u001b[0m\u001b[0m\n",
      "\u001b[1;32m/home/cahern/anaconda/lib/python2.7/site-packages/IPython/core/extensions.pyc\u001b[0m in \u001b[0;36mload_extension\u001b[1;34m(self, module_str)\u001b[0m\n\u001b[0;32m     83\u001b[0m             \u001b[1;32mif\u001b[0m \u001b[0mmodule_str\u001b[0m \u001b[1;32mnot\u001b[0m \u001b[1;32min\u001b[0m \u001b[0msys\u001b[0m\u001b[1;33m.\u001b[0m\u001b[0mmodules\u001b[0m\u001b[1;33m:\u001b[0m\u001b[1;33m\u001b[0m\u001b[0m\n\u001b[0;32m     84\u001b[0m                 \u001b[1;32mwith\u001b[0m \u001b[0mprepended_to_syspath\u001b[0m\u001b[1;33m(\u001b[0m\u001b[0mself\u001b[0m\u001b[1;33m.\u001b[0m\u001b[0mipython_extension_dir\u001b[0m\u001b[1;33m)\u001b[0m\u001b[1;33m:\u001b[0m\u001b[1;33m\u001b[0m\u001b[0m\n\u001b[1;32m---> 85\u001b[1;33m                     \u001b[0m__import__\u001b[0m\u001b[1;33m(\u001b[0m\u001b[0mmodule_str\u001b[0m\u001b[1;33m)\u001b[0m\u001b[1;33m\u001b[0m\u001b[0m\n\u001b[0m\u001b[0;32m     86\u001b[0m             \u001b[0mmod\u001b[0m \u001b[1;33m=\u001b[0m \u001b[0msys\u001b[0m\u001b[1;33m.\u001b[0m\u001b[0mmodules\u001b[0m\u001b[1;33m[\u001b[0m\u001b[0mmodule_str\u001b[0m\u001b[1;33m]\u001b[0m\u001b[1;33m\u001b[0m\u001b[0m\n\u001b[0;32m     87\u001b[0m             \u001b[1;32mif\u001b[0m \u001b[0mself\u001b[0m\u001b[1;33m.\u001b[0m\u001b[0m_call_load_ipython_extension\u001b[0m\u001b[1;33m(\u001b[0m\u001b[0mmod\u001b[0m\u001b[1;33m)\u001b[0m\u001b[1;33m:\u001b[0m\u001b[1;33m\u001b[0m\u001b[0m\n",
      "\u001b[1;31mImportError\u001b[0m: No module named rpy2.ipython"
     ]
    }
   ],
   "source": [
    "%load_ext rpy2.ipython"
   ]
  },
  {
   "cell_type": "markdown",
   "metadata": {},
   "source": [
    "And we can do all the normal things we like to do in `R`, like pirate hats:"
   ]
  },
  {
   "cell_type": "code",
   "execution_count": 12,
   "metadata": {
    "collapsed": false
   },
   "outputs": [
    {
     "data": {
      "text/plain": [
       "[1] \"/usr/lib/R\"\n"
      ]
     },
     "metadata": {},
     "output_type": "display_data"
    }
   ],
   "source": [
    "%%R\n",
    "R.home()"
   ]
  },
  {
   "cell_type": "code",
   "execution_count": 13,
   "metadata": {
    "collapsed": false
   },
   "outputs": [
    {
     "data": {
      "image/png": "[encoded data removed]"
     },
     "metadata": {},
     "output_type": "display_data"
    }
   ],
   "source": [
    "%%R\n",
    "x<-rnorm(n=10000, mean=1, sd=.25)\n",
    "plot(density(x), type='l', main='',xlim=c(0,2), ylab='', xlab='', )"
   ]
  },
  {
   "cell_type": "markdown",
   "metadata": {},
   "source": [
    "Or plots of dots:"
   ]
  },
  {
   "cell_type": "code",
   "execution_count": 7,
   "metadata": {
    "collapsed": false
   },
   "outputs": [
    {
     "name": "stderr",
     "output_type": "stream",
     "text": [
      "ERROR: Cell magic `%%R` not found.\n"
     ]
    }
   ],
   "source": [
    "%%R\n",
    "library(ggplot2)\n",
    "x<-rnorm(n=10000, mean=1, sd=.25)\n",
    "y<-rnorm(n=10000, mean=1, sd=.25)\n",
    "qplot(x,y)"
   ]
  },
  {
   "cell_type": "markdown",
   "metadata": {},
   "source": [
    "There are two ways of getting this magic working:\n",
    "\n",
    "1. **Install** `R` via `conda` creating a parallel distribution\n",
    "2. Install `rpy2` via conda and **integrate** the default `R` distribution\n",
    "\n",
    "We'll walk through each of the options noting that if you use `R` occasionaly then the first option is quick and painless. If `R` is your finely-tuned workhorse, then the second option is probably best. However, support for `R` within the Anaconda ecosystem [is growing](http://continuum.io/conda-for-R), and managing your `R` installation via conda may be a viable option."
   ]
  },
  {
   "cell_type": "markdown",
   "metadata": {},
   "source": [
    "### Installing R via `conda`"
   ]
  },
  {
   "cell_type": "markdown",
   "metadata": {},
   "source": [
    "Even if you want to keep your default `R` installation, go ahead and walk through these steps and then use `conda install --revision=number` to revert back to the state before you installed everything."
   ]
  },
  {
   "cell_type": "markdown",
   "metadata": {},
   "source": [
    "To take the first route, simply type the following which will search the `r` channel on [binstar](https://binstar.org/r) and [anaconda.org](https://anaconda.org/r) for the packages `r`, `rpy2`, and `r-irkernel`."
   ]
  },
  {
   "cell_type": "code",
   "execution_count": 12,
   "metadata": {
    "collapsed": false
   },
   "outputs": [
    {
     "name": "stdout",
     "output_type": "stream",
     "text": [
      "Fetching package metadata: ......\n",
      "Solving package specifications: .......................\n",
      "Package plan for installation in environment /home/cahern/anaconda:\n",
      "\n",
      "The following packages will be REMOVED:\n",
      "\n",
      "    r-nlme: 3.1.118-0\n",
      "\n",
      "Proceed ([y]/n)? \n",
      "Unlinking packages ...\n",
      "[                    ]|                                                                                                               |   0%\r",
      "[r-nlme              ]|                                                                                                               |   0%\r",
      "[      COMPLETE      ]|###############################################################################################################| 100%\r\n"
     ]
    }
   ],
   "source": [
    "%%bash\n",
    "conda install -c r r rpy2 r-irkernel"
   ]
  },
  {
   "cell_type": "markdown",
   "metadata": {},
   "source": [
    "Note that this will install several other packages that are available via some [linux package managers](https://cran.rstudio.com/bin/linux/ubuntu/)  (e.g. r-cran-class, r-cran-cluster, r-cran-mgcv, etc.). This just means that there will be more installed when you inspect the library path."
   ]
  },
  {
   "cell_type": "code",
   "execution_count": 21,
   "metadata": {
    "collapsed": false
   },
   "outputs": [
    {
     "data": {
      "text/plain": [
       "[1] \"/home/cahern/R/x86_64-pc-linux-gnu-library/3.2\"\n",
       "[2] \"/usr/local/lib/R/site-library\"                 \n",
       "[3] \"/usr/lib/R/site-library\"                       \n",
       "[4] \"/usr/lib/R/library\"                            \n"
      ]
     },
     "metadata": {},
     "output_type": "display_data"
    }
   ],
   "source": [
    "%%R\n",
    ".libPaths()"
   ]
  },
  {
   "cell_type": "code",
   "execution_count": 23,
   "metadata": {
    "collapsed": false
   },
   "outputs": [
    {
     "name": "stdout",
     "output_type": "stream",
     "text": [
      "\u001b[0m\u001b[01;34mchron\u001b[0m/       \u001b[01;34mggplot2\u001b[0m/    \u001b[01;34mlatticeExtra\u001b[0m/  \u001b[01;34mmunsell\u001b[0m/       \u001b[01;34msandwich\u001b[0m/  \u001b[01;34mTH.data\u001b[0m/\r\n",
      "\u001b[01;34mcolorspace\u001b[0m/  \u001b[01;34mgridExtra\u001b[0m/  \u001b[01;34mmagrittr\u001b[0m/      \u001b[01;34mplyr\u001b[0m/          \u001b[01;34mscales\u001b[0m/    \u001b[01;34myaml\u001b[0m/\r\n",
      "\u001b[01;34mcrayon\u001b[0m/      \u001b[01;34mgtable\u001b[0m/     \u001b[01;34mmaptools\u001b[0m/      \u001b[01;34mproto\u001b[0m/         \u001b[01;34msp\u001b[0m/        \u001b[01;34mzoo\u001b[0m/\r\n",
      "\u001b[01;34mdichromat\u001b[0m/   \u001b[01;34mhighr\u001b[0m/      \u001b[01;34mmarkdown\u001b[0m/      \u001b[01;34mRColorBrewer\u001b[0m/  \u001b[01;34mstringi\u001b[0m/\r\n",
      "\u001b[01;34mformatR\u001b[0m/     \u001b[01;34mknitr\u001b[0m/      \u001b[01;34mmemoise\u001b[0m/       \u001b[01;34mRcpp\u001b[0m/          \u001b[01;34mstringr\u001b[0m/\r\n",
      "\u001b[01;34mFormula\u001b[0m/     \u001b[01;34mlabeling\u001b[0m/   \u001b[01;34mmime\u001b[0m/          \u001b[01;34mreshape2\u001b[0m/      \u001b[01;34mtestthat\u001b[0m/\r\n"
     ]
    }
   ],
   "source": [
    "%ls ~/anaconda/lib/R/library/"
   ]
  },
  {
   "cell_type": "markdown",
   "metadata": {},
   "source": [
    "Once `R` has been installed via conda, we can check for different versions and where they are installed:"
   ]
  },
  {
   "cell_type": "code",
   "execution_count": 15,
   "metadata": {
    "collapsed": false
   },
   "outputs": [
    {
     "name": "stdout",
     "output_type": "stream",
     "text": [
      "/usr/bin/R\n"
     ]
    }
   ],
   "source": [
    "%%bash\n",
    "which -a R"
   ]
  },
  {
   "cell_type": "markdown",
   "metadata": {},
   "source": [
    "You can check out where `R` installs libraries and packages:"
   ]
  },
  {
   "cell_type": "code",
   "execution_count": 16,
   "metadata": {
    "collapsed": false
   },
   "outputs": [
    {
     "data": {
      "text/plain": [
       "[1] \"/home/cahern/R/x86_64-pc-linux-gnu-library/3.2\"\n",
       "[2] \"/usr/local/lib/R/site-library\"                 \n",
       "[3] \"/usr/lib/R/site-library\"                       \n",
       "[4] \"/usr/lib/R/library\"                            \n"
      ]
     },
     "metadata": {},
     "output_type": "display_data"
    }
   ],
   "source": [
    "%%R\n",
    ".libPaths()"
   ]
  },
  {
   "cell_type": "markdown",
   "metadata": {},
   "source": [
    "Take a look at the packages that are available to the anaconda `R` installation:"
   ]
  },
  {
   "cell_type": "code",
   "execution_count": 17,
   "metadata": {
    "collapsed": false
   },
   "outputs": [
    {
     "name": "stdout",
     "output_type": "stream",
     "text": [
      "\u001b[0m\u001b[01;34mchron\u001b[0m/       \u001b[01;34mggplot2\u001b[0m/    \u001b[01;34mlatticeExtra\u001b[0m/  \u001b[01;34mmunsell\u001b[0m/       \u001b[01;34msandwich\u001b[0m/  \u001b[01;34mTH.data\u001b[0m/\r\n",
      "\u001b[01;34mcolorspace\u001b[0m/  \u001b[01;34mgridExtra\u001b[0m/  \u001b[01;34mmagrittr\u001b[0m/      \u001b[01;34mplyr\u001b[0m/          \u001b[01;34mscales\u001b[0m/    \u001b[01;34myaml\u001b[0m/\r\n",
      "\u001b[01;34mcrayon\u001b[0m/      \u001b[01;34mgtable\u001b[0m/     \u001b[01;34mmaptools\u001b[0m/      \u001b[01;34mproto\u001b[0m/         \u001b[01;34msp\u001b[0m/        \u001b[01;34mzoo\u001b[0m/\r\n",
      "\u001b[01;34mdichromat\u001b[0m/   \u001b[01;34mhighr\u001b[0m/      \u001b[01;34mmarkdown\u001b[0m/      \u001b[01;34mRColorBrewer\u001b[0m/  \u001b[01;34mstringi\u001b[0m/\r\n",
      "\u001b[01;34mformatR\u001b[0m/     \u001b[01;34mknitr\u001b[0m/      \u001b[01;34mmemoise\u001b[0m/       \u001b[01;34mRcpp\u001b[0m/          \u001b[01;34mstringr\u001b[0m/\r\n",
      "\u001b[01;34mFormula\u001b[0m/     \u001b[01;34mlabeling\u001b[0m/   \u001b[01;34mmime\u001b[0m/          \u001b[01;34mreshape2\u001b[0m/      \u001b[01;34mtestthat\u001b[0m/\r\n"
     ]
    }
   ],
   "source": [
    "%ls /home/cahern/anaconda/lib/R/library/"
   ]
  },
  {
   "cell_type": "markdown",
   "metadata": {},
   "source": [
    "The last thing to consider if you've decided to go all in on Anaconda is integration with `RStudio`. Try opening `RStudio` up and typing the following:"
   ]
  },
  {
   "cell_type": "code",
   "execution_count": 19,
   "metadata": {
    "collapsed": false
   },
   "outputs": [
    {
     "data": {
      "text/plain": [
       "[1] \"/usr/lib/R\"\n"
      ]
     },
     "metadata": {},
     "output_type": "display_data"
    }
   ],
   "source": [
    "%%R\n",
    "R.home()"
   ]
  },
  {
   "cell_type": "markdown",
   "metadata": {},
   "source": [
    "To use the Anaconda `R` installation you can specify the following variable in either `.bashrc` or `.bash_profile`, which will tell `RStudio` where to look for `R`:"
   ]
  },
  {
   "cell_type": "raw",
   "metadata": {},
   "source": [
    "export RSTUDIO_WHICH_R=\"/anaconda/bin/R\""
   ]
  },
  {
   "cell_type": "markdown",
   "metadata": {},
   "source": [
    "Reload the file:"
   ]
  },
  {
   "cell_type": "code",
   "execution_count": null,
   "metadata": {
    "collapsed": true
   },
   "outputs": [],
   "source": [
    "%%bash\n",
    "source ~/.bashrc"
   ]
  },
  {
   "cell_type": "markdown",
   "metadata": {},
   "source": [
    "The `R` version should be the Anaconda installation and `R.home()` should point to the Anaconda installation location."
   ]
  },
  {
   "cell_type": "markdown",
   "metadata": {},
   "source": [
    "### Integrating `R` with `Anaconda`"
   ]
  },
  {
   "cell_type": "markdown",
   "metadata": {},
   "source": [
    "The second option is only slightly more involved. If you want to integrate your current system installation of `R` with Anaconda you need to build the `rpy2` package in a format that `conda` can install. If you installed anything via `conda` according to the previous installation go ahead and roll it back using the following, where `i` is the most recent revision:"
   ]
  },
  {
   "cell_type": "code",
   "execution_count": null,
   "metadata": {
    "collapsed": true
   },
   "outputs": [],
   "source": [
    "%%bash\n",
    "conda list --revision=i"
   ]
  },
  {
   "cell_type": "markdown",
   "metadata": {},
   "source": [
    "Execute the following, which will install `rpy2` and link to your local `R` installation. You can test this out by running the code above, it should yield different outputs."
   ]
  },
  {
   "cell_type": "code",
   "execution_count": 20,
   "metadata": {
    "collapsed": false
   },
   "outputs": [
    {
     "data": {
      "text/plain": [
       "Installing package into ‘/home/cahern/R/x86_64-pc-linux-gnu-library/3.2’\n",
       "(as ‘lib’ is unspecified)\n",
       "trying URL 'http://cran.r-project.org/src/contrib/ggplot2_1.0.1.tar.gz'\n",
       "Content type 'application/x-gzip' length 2351203 bytes (2.2 MB)\n",
       "==================================================\n",
       "downloaded 2.2 MB\n",
       "\n",
       "\n",
       "The downloaded source packages are in\n",
       "\t‘/tmp/RtmpjPNEjR/downloaded_packages’\n"
      ]
     },
     "metadata": {},
     "output_type": "display_data"
    }
   ],
   "source": [
    "%%bash\n",
    "cd ~/Desktop\n",
    "git clone https://github.com/TheClimateCorporation/conda-recipes\n",
    "cd conda-recipes\n",
    "conda build rpy2\n",
    "conda install rpy2 --use-local"
   ]
  },
  {
   "cell_type": "markdown",
   "metadata": {},
   "source": [
    "# TeX"
   ]
  },
  {
   "cell_type": "markdown",
   "metadata": {},
   "source": [
    "## Description"
   ]
  },
  {
   "cell_type": "markdown",
   "metadata": {},
   "source": [
    "TeX is an open source, powerful, and flexible typesetting system that is the standard in many fields. The learning curve is steep relative to other word processing programs, but arguably pays off in terms of expressiveness and customizability."
   ]
  },
  {
   "cell_type": "markdown",
   "metadata": {},
   "source": [
    "## Installation"
   ]
  },
  {
   "cell_type": "markdown",
   "metadata": {},
   "source": [
    "To install TeX you'll need to install the appropriate version of [TeXLive]() for your system. Note that this can take a long time. It might be best to leave this for later when you have a couple of hours to occasioanlly check in on the install process."
   ]
  },
  {
   "cell_type": "markdown",
   "metadata": {},
   "source": [
    "The last thing we'll need with regard to typesetting is the [Pandoc]() package, which allows for automatic conversion between different document formats (e.g. LaTeX, Markdown, pdf, etc.). Go ahead and install the appropriate package for your system."
   ]
  },
  {
   "cell_type": "markdown",
   "metadata": {},
   "source": [
    "# Summary "
   ]
  },
  {
   "cell_type": "markdown",
   "metadata": {},
   "source": [
    "At the end of following these instructions you should have the following:\n",
    "\n",
    "* SciPy stack (see above for details)\n",
    "* R and RStudio\n",
    "* TeXLive\n",
    "* Pandoc\n",
    "\n",
    "Unfortunately, this doesn't mean things will have gone smoothly for you up to this point. In fact, it would be surprising if there were no issues. The best way to resolve issues is to consult the [oracle](http://www.lmgtfy.com)."
   ]
  }
 ],
 "metadata": {
  "kernelspec": {
   "display_name": "Python 2",
   "language": "python",
   "name": "python2"
  },
  "language_info": {
   "codemirror_mode": {
    "name": "ipython",
    "version": 2
   },
   "file_extension": ".py",
   "mimetype": "text/x-python",
   "name": "python",
   "nbconvert_exporter": "python",
   "pygments_lexer": "ipython2",
   "version": "2.7.10"
  }
 },
 "nbformat": 4,
 "nbformat_minor": 0
}
