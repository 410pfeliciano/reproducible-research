{
 "cells": [
  {
   "cell_type": "markdown",
   "metadata": {},
   "source": [
    "# Introduction to version control"
   ]
  },
  {
   "cell_type": "markdown",
   "metadata": {},
   "source": [
    "Keeping track of changes in code, data analyses, presentations, and mansucripts is crucial to research, but can be difficult, especially when collaborating with several people. Version control systems (e.g. subversion, git) allow you to track changes, merge your work with your collaborators', and share your work via [GitHub](www.github.org).  Even if neither of the first two interest you, using github allows you to code in public: you'll be able to showcase projects, get feedback from a broader range of people, and contribute to projects that you might never have even heard of. \n",
    "\n",
    "The goal here is to give a brief overview of git and github. We'll cover the following:\n",
    "\n",
    "* Installing and configuring GitHub and Git\n",
    "* Basic commands to create and update repositories\n",
    "* Basic commands to collaborate on repositories\n",
    "* Using Git with RStudio\n",
    "\n",
    "The best way to figure out which features will be the most useful to you is to dive in and try it."
   ]
  },
  {
   "cell_type": "markdown",
   "metadata": {},
   "source": [
    "# Installing and configuring GitHub and Git"
   ]
  },
  {
   "cell_type": "markdown",
   "metadata": {},
   "source": [
    "If you haven't already, go to [GitHub](https://github.com/) and follow the instructions for creating a new account. Then go ahead and install [Git](https://git-scm.com/). Once you've installed both, go ahead and try the following to see some of the more commonly used commands:"
   ]
  },
  {
   "cell_type": "code",
   "execution_count": 1,
   "metadata": {
    "collapsed": true
   },
   "outputs": [],
   "source": [
    "%man git"
   ]
  },
  {
   "cell_type": "code",
   "execution_count": 9,
   "metadata": {
    "collapsed": false
   },
   "outputs": [
    {
     "name": "stdout",
     "output_type": "stream",
     "text": [
      "\n",
      "The most commonly used git commands are:\n",
      "   add        Add file contents to the index\n",
      "   bisect     Find by binary search the change that introduced a bug\n",
      "   branch     List, create, or delete branches\n",
      "   checkout   Checkout a branch or paths to the working tree\n",
      "   clone      Clone a repository into a new directory\n",
      "   commit     Record changes to the repository\n",
      "   diff       Show changes between commits, commit and working tree, etc\n",
      "   fetch      Download objects and refs from another repository\n",
      "   grep       Print lines matching a pattern\n",
      "   init       Create an empty Git repository or reinitialize an existing one\n",
      "   log        Show commit logs\n",
      "   merge      Join two or more development histories together\n",
      "   mv         Move or rename a file, a directory, or a symlink\n",
      "   pull       Fetch from and integrate with another repository or a local branch\n",
      "   push       Update remote refs along with associated objects\n",
      "   rebase     Forward-port local commits to the updated upstream head\n",
      "   reset      Reset current HEAD to the specified state\n",
      "   rm         Remove files from the working tree and from the index\n",
      "   show       Show various types of objects\n",
      "   status     Show the working tree status\n",
      "   tag        Create, list, delete or verify a tag object signed with GPG\n",
      "\n",
      "'git help -a' and 'git help -g' lists available subcommands and some\n",
      "concept guides. See 'git help <command>' or 'git help <concept>'\n",
      "to read about a specific subcommand or concept.\n"
     ]
    }
   ],
   "source": [
    "%%bash\n",
    "git help | tail -n 27"
   ]
  },
  {
   "cell_type": "markdown",
   "metadata": {},
   "source": [
    "Before getting into any of these, let's configure a few things:"
   ]
  },
  {
   "cell_type": "raw",
   "metadata": {},
   "source": [
    "git config --global user.name \"Your name here\"\n",
    "git config --global user.email \"the_email_you_used_for_github@something.com\""
   ]
  },
  {
   "cell_type": "markdown",
   "metadata": {},
   "source": [
    "Check the status of how things are configured with the following:"
   ]
  },
  {
   "cell_type": "code",
   "execution_count": 11,
   "metadata": {
    "collapsed": false
   },
   "outputs": [
    {
     "name": "stdout",
     "output_type": "stream",
     "text": [
      "user.name=christopherahern\n",
      "user.email=christopher.ahern@gmail.com\n",
      "core.repositoryformatversion=0\n",
      "core.filemode=true\n",
      "core.bare=false\n",
      "core.logallrefupdates=true\n",
      "remote.origin.url=https://github.com/IRCS-analysis-mini-courses/reproducible-research.git\n",
      "remote.origin.fetch=+refs/heads/*:refs/remotes/origin/*\n",
      "branch.master.remote=origin\n",
      "branch.master.merge=refs/heads/master\n"
     ]
    }
   ],
   "source": [
    "%%bash\n",
    "git config --list"
   ]
  },
  {
   "cell_type": "markdown",
   "metadata": {},
   "source": [
    "Some of these configuration options are stored in a configuration in your home directory. Note that this file contains configuration options for a user on your machine. You can broaden these settings to all users on a machine by creating and editing `/etc/gitconfig` or `/private/etc/gitconfig`. You can also provide more detailed settings for a particular project by editing `<repo>/.git/config`.\n",
    "\n"
   ]
  },
  {
   "cell_type": "code",
   "execution_count": 2,
   "metadata": {
    "collapsed": false
   },
   "outputs": [
    {
     "name": "stdout",
     "output_type": "stream",
     "text": [
      "[user]\n",
      "\tname = christopherahern\n",
      "\temail = christopher.ahern@gmail.com\n",
      "[color]\n",
      "\tui = true\n",
      "[core]\n",
      "\teditor = vim\n"
     ]
    }
   ],
   "source": [
    "%%bash\n",
    "cat ~/.gitconfig"
   ]
  },
  {
   "cell_type": "markdown",
   "metadata": {},
   "source": [
    "You can [add aliases](http://top-frog.com/2013/05/16/a-few-handy-git-aliases/) to this file directly to customize git to your needs. For example, you can shorten the commmands you use the most, or set a default behavior for certain commands that will streamline your gitting."
   ]
  },
  {
   "cell_type": "markdown",
   "metadata": {},
   "source": [
    "Another useful thing to do is to set up an [ssh key](https://help.github.com/articles/generating-ssh-keys/#platform-all) for GitHub. Check out these two videos for an [overview](https://www.youtube.com/watch?v=GSIDS_lvRv4) and a [bit of historical background](https://www.youtube.com/watch?v=YEBfamv-_do) along with intuitive and more detailed explanations. On a more practical level, this will mean you don't have to type in your user name and password everytime you want to update a repository that's stored on GitHub. Take a few minutes to set up an ssh key for your GitHub account. Note that it's possible to create and manage [ssh keys for multiple accounts](http://code.tutsplus.com/tutorials/quick-tip-how-to-work-with-github-and-multiple-accounts--net-22574). Also note that you can always go back and delete any ssh keys from both your computer and your GitHub account."
   ]
  },
  {
   "cell_type": "markdown",
   "metadata": {},
   "source": [
    "# Basic commands"
   ]
  },
  {
   "cell_type": "markdown",
   "metadata": {},
   "source": [
    "We'll start by keeping things local. Create a directory with a readme file."
   ]
  },
  {
   "cell_type": "code",
   "execution_count": 7,
   "metadata": {
    "collapsed": true
   },
   "outputs": [],
   "source": [
    "%%bash\n",
    "cd ~/Desktop/\n",
    "mkdir test\n",
    "cd test\n",
    "touch README.md\n",
    "echo \"# test\" >> README.md\n",
    "echo \"We've added a header. Let's add some more text to the README file\" >> README.md"
   ]
  },
  {
   "cell_type": "code",
   "execution_count": 8,
   "metadata": {
    "collapsed": false
   },
   "outputs": [
    {
     "name": "stdout",
     "output_type": "stream",
     "text": [
      "# test\n",
      "We've added a header. Let's add some more text to the README file\n"
     ]
    }
   ],
   "source": [
    "%%bash\n",
    "cat ~/Desktop/test/README.md"
   ]
  },
  {
   "cell_type": "markdown",
   "metadata": {},
   "source": [
    "Now go to GitHub and create a new repository by clicking on the plus sign in the upper right and selecting the option to create a new repository. Call the new repository \"test\" and do the following:"
   ]
  },
  {
   "cell_type": "code",
   "execution_count": null,
   "metadata": {
    "collapsed": true
   },
   "outputs": [],
   "source": [
    "%%bash\n"
   ]
  },
  {
   "cell_type": "markdown",
   "metadata": {},
   "source": [
    "# Version control with RStudio"
   ]
  },
  {
   "cell_type": "markdown",
   "metadata": {},
   "source": [
    "http://kbroman.org/github_tutorial/\n",
    "\n",
    "- create GitHub account\n",
    "- basic commands\n",
    "- version control in RStudio\n",
    "- nbviewer"
   ]
  },
  {
   "cell_type": "markdown",
   "metadata": {},
   "source": [
    "Depending on interest, we may include a brief semi-tutorial during one of the lunch breaks on using static website generators to create a personal website using GitHub pages."
   ]
  }
 ],
 "metadata": {
  "kernelspec": {
   "display_name": "Python 2",
   "language": "python",
   "name": "python2"
  },
  "language_info": {
   "codemirror_mode": {
    "name": "ipython",
    "version": 2
   },
   "file_extension": ".py",
   "mimetype": "text/x-python",
   "name": "python",
   "nbconvert_exporter": "python",
   "pygments_lexer": "ipython2",
   "version": "2.7.10"
  }
 },
 "nbformat": 4,
 "nbformat_minor": 0
}
