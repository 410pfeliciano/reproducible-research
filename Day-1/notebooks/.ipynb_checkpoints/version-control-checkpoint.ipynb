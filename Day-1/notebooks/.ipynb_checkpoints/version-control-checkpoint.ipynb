{
 "cells": [
  {
   "cell_type": "markdown",
   "metadata": {},
   "source": [
    "# Introduction to version control"
   ]
  },
  {
   "cell_type": "markdown",
   "metadata": {},
   "source": [
    "Keeping track of changes in code, data analyses, presentations, and mansucripts is crucial to research, but can be difficult, especially when collaborating. Version control systems (e.g. subversion, git) allow you to track changes, merge work with collaborators, and share your work via [github](www.github.org). \n",
    "\n",
    "Even if neither of the first two interest you, using github allows you to code in public: you'll be able to showcase projects, get feedback from a broader range of people, and contribute to projects that you might never have even heard of. \n",
    "\n",
    "The goal here is to give a brief overview of git and github. We'll cover the following:\n",
    "\n",
    "* Installing and configuring GitHub and Git\n",
    "* Basic commands to create repositories\n",
    "* Basic commands to collaborate on repositories\n",
    "* Using Git with RStudio\n",
    "\n",
    "The best way to figure out which features will be the most useful to you is to dive in and try it."
   ]
  },
  {
   "cell_type": "markdown",
   "metadata": {},
   "source": [
    "# Installing and configuring GitHub and Git"
   ]
  },
  {
   "cell_type": "markdown",
   "metadata": {},
   "source": [
    "If you haven't already, go to [GitHub](https://github.com/) and follow the instructions for creating a new account."
   ]
  },
  {
   "cell_type": "markdown",
   "metadata": {},
   "source": [
    "# Install and configure Git"
   ]
  },
  {
   "cell_type": "markdown",
   "metadata": {},
   "source": [
    "https://help.github.com/articles/generating-ssh-keys/#platform-all\n"
   ]
  },
  {
   "cell_type": "markdown",
   "metadata": {},
   "source": [
    "# Basic commands"
   ]
  },
  {
   "cell_type": "markdown",
   "metadata": {},
   "source": [
    "# Version control with RStudio"
   ]
  },
  {
   "cell_type": "markdown",
   "metadata": {},
   "source": [
    "http://kbroman.org/github_tutorial/\n",
    "\n",
    "- create GitHub account\n",
    "- basic commands\n",
    "- version control in RStudio\n",
    "- nbviewer"
   ]
  },
  {
   "cell_type": "markdown",
   "metadata": {},
   "source": [
    "Depending on interest, we may include a brief semi-tutorial during one of the lunch breaks on using static website generators to create a personal website using GitHub pages."
   ]
  }
 ],
 "metadata": {
  "kernelspec": {
   "display_name": "Python 2",
   "language": "python",
   "name": "python2"
  },
  "language_info": {
   "codemirror_mode": {
    "name": "ipython",
    "version": 2
   },
   "file_extension": ".py",
   "mimetype": "text/x-python",
   "name": "python",
   "nbconvert_exporter": "python",
   "pygments_lexer": "ipython2",
   "version": "2.7.10"
  }
 },
 "nbformat": 4,
 "nbformat_minor": 0
}
