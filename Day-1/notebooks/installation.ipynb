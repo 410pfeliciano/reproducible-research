{
 "cells": [
  {
   "cell_type": "markdown",
   "metadata": {},
   "source": [
    "# Installing needed software"
   ]
  },
  {
   "cell_type": "markdown",
   "metadata": {},
   "source": [
    "Modern scientific research often either requires or can greatly benefit from the use of computational tools. Even if you're not on the cutting edge, you can make your life better and easier using these tools to conduct and share your research. The goal here is to give a brief overview of the tools we'll be using in this course and how to install them along with other tools on your system:\n",
    "\n",
    "* Installing **Python** and the **SciPy stack**\n",
    "* Installing **R**, **RStudio** and additional packages\n",
    "* Installing **TeX** via **TeX Live** and **Pandoc**"
   ]
  },
  {
   "cell_type": "markdown",
   "metadata": {},
   "source": [
    "### Download the course materials from GitHub to your desktop: \n",
    "\n",
    "https://github.com/IRCS-analysis-mini-courses/reproducible-research"
   ]
  },
  {
   "cell_type": "markdown",
   "metadata": {},
   "source": [
    "A few notes before we dive in.\n",
    "\n",
    "**First**, these instructions are oriented towards Unix-like operating systems (i.e. Linux, Mac OS X). If you are running Windows, strongly consider installing a few things to follow along for the first day of the course. [Cygwin](https://www.cygwin.com/) is a linux-like environment where you can use linux commands. It is also possible to create a [linux partition](http://www.everydaylinuxuser.com/2014/05/install-ubuntu-1404-alongside-windows.html) on your hard drive, which will allow you to keep Windows and get the benefits of a linux distribution. Most notably, a package manager makes everything below extremely easy.\n",
    "\n",
    "**Second**, the location of files may vary across operating systems. We'll show you how to determine these locations, but keep in mind where the relevant locations are for your operating system. \n",
    "\n",
    "**Third**, some of the cells below will generate output or install things. These have been left as raw input rather than code. This prevents any drastic changes to your system if you run the entire notebook. If you want to execute them you can copy and paste the commands in the terminal.\n",
    "\n",
    "**Fourth**, and most importantly, getting things up and running is a process. [Google](http://www.lmgtfy.com), [Stack Exchange](http://stackexchange.com/), and more specific [google groups](https://groups.google.com/a/continuum.io/forum/#!forum/anaconda) will be invaluable. Don't be afraid to ask for help while you're working through things. You might figure things out in the meanwhile, but it never hurts."
   ]
  },
  {
   "cell_type": "markdown",
   "metadata": {},
   "source": [
    "# Python"
   ]
  },
  {
   "cell_type": "markdown",
   "metadata": {},
   "source": [
    "## Description"
   ]
  },
  {
   "cell_type": "markdown",
   "metadata": {},
   "source": [
    "[Python](https://www.python.org/) is a [widely-used, highly-extensible](https://www.python.org/about/success/#education), and easily-learned programming language."
   ]
  },
  {
   "cell_type": "code",
   "execution_count": 23,
   "metadata": {
    "collapsed": false
   },
   "outputs": [
    {
     "data": {
      "text/html": [
       "<img src=\"http://imgs.xkcd.com/comics/python.png\"/>"
      ],
      "text/plain": [
       "<IPython.core.display.Image object>"
      ]
     },
     "execution_count": 23,
     "metadata": {},
     "output_type": "execute_result"
    }
   ],
   "source": [
    "from IPython.display import Image # Import image display for IPython\n",
    "Image(url='http://imgs.xkcd.com/comics/python.png') # Display url as an image"
   ]
  },
  {
   "cell_type": "markdown",
   "metadata": {},
   "source": [
    "Within the Python computing environment, we'll be using several useful extensions. Collectively, these are referred to as the [SciPy stack](http://www.scipy.org/stackspec.html#stackspec). The current version of the SciPy stack requires the following versions of various tools:\n",
    "\n",
    "* [Python](https://www.python.org/)  (2.x >= 2.6 or 3.x >= 3.2) : see above, results may vary\n",
    "* [NumPy](https://github.com/numpy/numpy)  (>= 1.6) : fundamental package needed for scientific computing with python\n",
    "* [SciPy](https://github.com/scipy/scipy) (>= 0.10) : open-source software for mathematics, science, and engineering\n",
    "* [Matplotlib](http://matplotlib.org/) (>= 1.1) : open-source plotting library, deeply integrated with python\n",
    "* [IPython]() (>= 0.13) : a command shell for interactive computing in multiple programming languages\n",
    "* [Pandas](https://github.com/pydata/pandas)  (>= 0.8) : fast, flexible, and expressive data structures\n",
    "* [Sympy](http://www.sympy.org/en/index.html) (>= 0.7) : library for symbolic mathematics in python, moving towards a full computer algebra system\n",
    "\n",
    "We'll also be using third-party [SciPy toolkits](https://scikits.appspot.com/):\n",
    "\n",
    "* [Scikit-learn](http://scikit-learn.org/dev/index.html) : simple, efficient, and reusable tools for machine learning\n",
    "* [Scikit-statsmodels](https://pypi.python.org/pypi/scikits.statsmodels) : Python package for statistical computations\n",
    "* ...\n",
    "\n",
    "You'll find lots of detailed tools at Scikits. If you're thinking about implementing something in your own work, check these kits and the Python Package Index ([PyPI](https://pypi.python.org/pypi)) to see if someone has already done the work.  Below we'll talk about how to install packages from these locations."
   ]
  },
  {
   "cell_type": "markdown",
   "metadata": {},
   "source": [
    "## Installation"
   ]
  },
  {
   "cell_type": "code",
   "execution_count": 5,
   "metadata": {
    "collapsed": false
   },
   "outputs": [
    {
     "data": {
      "text/html": [
       "<img src=\"https://imgs.xkcd.com/comics/dependencies.png\"/>"
      ],
      "text/plain": [
       "<IPython.core.display.Image object>"
      ]
     },
     "execution_count": 5,
     "metadata": {},
     "output_type": "execute_result"
    }
   ],
   "source": [
    "Image(url='https://imgs.xkcd.com/comics/dependencies.png')"
   ]
  },
  {
   "cell_type": "markdown",
   "metadata": {},
   "source": [
    "For the purposes of this course, we suggest using the [Anaconda [INSTALL]](https://store.continuum.io/cshop/anaconda/) scientific Python distribution, which is supported on Linux, Mac OS X, and Windows. The benefits of using Anaconda are:\n",
    "\n",
    "* Parallel to other Python installations\n",
    "* Maintained by [Continuum](http://continuum.io/)\n",
    "* [Free](https://en.wikipedia.org/wiki/The_Free_Software_Definition) in several ways\n",
    "* Can be installed without root privileges"
   ]
  },
  {
   "cell_type": "markdown",
   "metadata": {},
   "source": [
    "Install Anaconda and then navigate to the notebooks directory for day one. To start a notebook on your computer, type the following:"
   ]
  },
  {
   "cell_type": "markdown",
   "metadata": {},
   "source": [
    "`ipython notebook`"
   ]
  },
  {
   "cell_type": "markdown",
   "metadata": {},
   "source": [
    "Select the installation notebook and you can follow along."
   ]
  },
  {
   "cell_type": "markdown",
   "metadata": {},
   "source": [
    "As a start let's find out the version of `Python` we've got installed. The first line is a `cellmagic` which tells `IPython/Jupyter` to treat what follows as input to a bash shell."
   ]
  },
  {
   "cell_type": "code",
   "execution_count": 1,
   "metadata": {
    "collapsed": false
   },
   "outputs": [
    {
     "name": "stdout",
     "output_type": "stream",
     "text": [
      "Python version is:\n"
     ]
    },
    {
     "name": "stderr",
     "output_type": "stream",
     "text": [
      "Python 2.7.10 :: Anaconda 2.3.0 (64-bit)\n"
     ]
    }
   ],
   "source": [
    "%%bash\n",
    "echo \"Python version is:\"\n",
    "python --version"
   ]
  },
  {
   "cell_type": "markdown",
   "metadata": {},
   "source": [
    "Now that we've installed Anaconda, let's take a look at where our operating system thinks `Python` is."
   ]
  },
  {
   "cell_type": "code",
   "execution_count": 4,
   "metadata": {
    "collapsed": false
   },
   "outputs": [
    {
     "name": "stdout",
     "output_type": "stream",
     "text": [
      "/home/cahern/anaconda/bin/python\n"
     ]
    }
   ],
   "source": [
    "%%bash\n",
    "which python"
   ]
  },
  {
   "cell_type": "markdown",
   "metadata": {},
   "source": [
    "But wait, didn't we say that Anaconda installs `Python` in parallel to other installations. It does, we've just listed the first or default location. Let's look for all locations of `Python`. The option `-a` selects all pathnames to installations of `Python` rather than just the default."
   ]
  },
  {
   "cell_type": "code",
   "execution_count": 5,
   "metadata": {
    "collapsed": false
   },
   "outputs": [
    {
     "name": "stdout",
     "output_type": "stream",
     "text": [
      "/home/cahern/anaconda/bin/python\n",
      "/usr/bin/python\n"
     ]
    }
   ],
   "source": [
    "%%bash\n",
    "which -a python"
   ]
  },
  {
   "cell_type": "markdown",
   "metadata": {},
   "source": [
    "When you install Anaconda, you'll be asked if you'd like to add a line to either `.bashrc` or `.bash_profile` in your home directory. You can find out which file it has been added to with the following."
   ]
  },
  {
   "cell_type": "code",
   "execution_count": 3,
   "metadata": {
    "collapsed": false
   },
   "outputs": [
    {
     "name": "stdout",
     "output_type": "stream",
     "text": [
      ".bash_history\n",
      ".bash_logout\n",
      ".bashrc\n",
      ".bashrc-anaconda.bak\n",
      "\n",
      "export PATH=\"/home/cahern/anaconda/bin:$PATH\"\n"
     ]
    }
   ],
   "source": [
    "%%bash\n",
    "cd ~\n",
    "ls -a | grep \"bash\"\n",
    "echo\n",
    "grep \"anaconda\" .bashrc"
   ]
  },
  {
   "cell_type": "markdown",
   "metadata": {},
   "source": [
    "The `PATH` environmental variable is locations where your system looks for executable files. The line that the Anaconda installation adds to your bash profile tells the system to look for executable files in the Anaconda directory first before moving on to the other locations, which are separated by a colon."
   ]
  },
  {
   "cell_type": "code",
   "execution_count": 10,
   "metadata": {
    "collapsed": false
   },
   "outputs": [
    {
     "name": "stdout",
     "output_type": "stream",
     "text": [
      "/home/cahern/anaconda/bin:/usr/local/sbin:/usr/local/bin:/usr/sbin:/usr/bin:/sbin:/bin:/usr/games:/usr/local/games\n"
     ]
    }
   ],
   "source": [
    "%%bash \n",
    "echo $PATH"
   ]
  },
  {
   "cell_type": "markdown",
   "metadata": {},
   "source": [
    "The reason why `which python` returns the Anaconda `python` installation is that it looks in that directory first and finds an executable `python`. In fact, we can find all of the executable files that Anaconda will preempt from the system."
   ]
  },
  {
   "cell_type": "code",
   "execution_count": 40,
   "metadata": {
    "collapsed": false
   },
   "outputs": [
    {
     "name": "stdout",
     "output_type": "stream",
     "text": [
      "f2py\n",
      "ipython\n",
      "isympy\n",
      "pycolor\n",
      "pydoc\n",
      "python\n",
      "python2\n",
      "python2.7\n",
      "python-config\n",
      "\n",
      "59\n"
     ]
    }
   ],
   "source": [
    "%%bash\n",
    "comm -12 <(ls ~/anaconda/bin/ | sort) <(ls /usr/bin/ | sort) | grep \"py\"\n",
    "echo\n",
    "comm -12 <(ls ~/anaconda/bin/ | sort) <(ls /usr/bin/ | sort) | wc -l"
   ]
  },
  {
   "cell_type": "markdown",
   "metadata": {},
   "source": [
    "There are several ways to reverse this behavior, from most to least drastic.\n",
    "\n",
    "1. Uninstall Anaconda using these [instructions](http://docs.continuum.io/anaconda/install)\n",
    "2. Change order of `PATH` in `.bashrc` and reload profile : `export PATH=\"$PATH:/home/cahern/anaconda/bin\"`; `source ~/.bashrc`\n",
    "3. Comment out Anaconda `PATH` change in `.bashrc` and reload profile : `source ~/.bashrc`\n",
    "\n",
    "For now we'll leave things as is, but come back to this point when we decide on how to manage our `R` installation."
   ]
  },
  {
   "cell_type": "markdown",
   "metadata": {},
   "source": [
    "Now, let's check to see what else is installed. Again, we can do this from the command line. But, since we're trying to find out whether a `Python` package, rather than `Python` itself is installed, we'll ask `Python` to run the command in quotes. The option `-c` tells `Python` to treat the quoted text as a command. The semicolon inside breaks up the commands. If something isn't installed, we'll get an error like the following."
   ]
  },
  {
   "cell_type": "code",
   "execution_count": 2,
   "metadata": {
    "collapsed": false
   },
   "outputs": [
    {
     "name": "stderr",
     "output_type": "stream",
     "text": [
      "Traceback (most recent call last):\n",
      "  File \"<string>\", line 1, in <module>\n",
      "ImportError: No module named notinstalledyet\n"
     ]
    }
   ],
   "source": [
    "%%bash\n",
    "python -c \"import notinstalledyet; print notinstalledyet.__version__\""
   ]
  },
  {
   "cell_type": "markdown",
   "metadata": {},
   "source": [
    "Otherwise, we'll find out what version is installed."
   ]
  },
  {
   "cell_type": "markdown",
   "metadata": {},
   "source": [
    "We can check the status of the `SciPy` stack in all of our `python` installations. As we'd expect, the Anaconda installation has an up to date stack installed, which is one if its main benefits."
   ]
  },
  {
   "cell_type": "code",
   "execution_count": 17,
   "metadata": {
    "collapsed": false
   },
   "outputs": [
    {
     "name": "stdout",
     "output_type": "stream",
     "text": [
      "/home/cahern/anaconda/bin/python\n",
      "numpy\n",
      "1.9.2\n",
      "/home/cahern/anaconda/bin/python\n",
      "scipy\n",
      "0.15.1\n",
      "/home/cahern/anaconda/bin/python\n",
      "matplotlib\n",
      "1.4.3\n",
      "/home/cahern/anaconda/bin/python\n",
      "pandas\n",
      "0.16.2\n",
      "/home/cahern/anaconda/bin/python\n",
      "sympy\n",
      "0.7.6\n",
      "\n",
      "/usr/bin/python\n",
      "numpy\n",
      "1.8.2\n",
      "/usr/bin/python\n",
      "scipy\n",
      "0.13.3\n",
      "/usr/bin/python\n",
      "matplotlib\n",
      "1.3.1\n",
      "/usr/bin/python\n",
      "pandas\n",
      "0.13.1\n",
      "/usr/bin/python\n",
      "sympy\n",
      "0.7.4.1\n",
      "\n"
     ]
    }
   ],
   "source": [
    "%%bash\n",
    "for python_loc in $(which -a python) # For each python installation\n",
    "    do \n",
    "        for package in numpy scipy matplotlib pandas sympy # For each of these packages\n",
    "            do \n",
    "                echo \"${python_loc}\"\n",
    "                echo \"$package\"\n",
    "                \"${python_loc}\" -c \"import $package; print $package.__version__\"\n",
    "            done\n",
    "        echo\n",
    "    done"
   ]
  },
  {
   "cell_type": "markdown",
   "metadata": {},
   "source": [
    "Once we've installed Anaconda, we'll want to update the package and environment manager `conda`, which has some pretty great functionality. Check out this [cheat sheet](http://conda.pydata.org/docs/_downloads/conda-cheatsheet.pdf) for an overview. \n"
   ]
  },
  {
   "cell_type": "markdown",
   "metadata": {},
   "source": [
    "`conda update conda`"
   ]
  },
  {
   "cell_type": "markdown",
   "metadata": {},
   "source": [
    "We'll also update the metapackage `anaconda`, giving you a coherent distribution where everything is known to work well together."
   ]
  },
  {
   "cell_type": "markdown",
   "metadata": {},
   "source": [
    "`conda update anaconda`"
   ]
  },
  {
   "cell_type": "markdown",
   "metadata": {},
   "source": [
    "We can list the packages currently installed for and accessible to Anaconda. This yields some of the information we found earlier such as the version numbers of the different packages we'll be using."
   ]
  },
  {
   "cell_type": "code",
   "execution_count": 19,
   "metadata": {
    "collapsed": false
   },
   "outputs": [
    {
     "name": "stdout",
     "output_type": "stream",
     "text": [
      "numpy                     1.9.2                    py27_0  \n",
      "\n",
      "# packages in environment at /home/cahern/anaconda:\n",
      "#\n",
      "_license                  1.1                      py27_0  \n",
      "abstract-rendering        0.5.1                np19py27_0  \n",
      "alabaster                 0.7.3                    py27_0  \n",
      "anaconda                  2.3.0                np19py27_0  \n",
      "argcomplete               0.8.9                    py27_0  \n",
      "astropy                   1.0.3                np19py27_0  \n",
      "babel                     1.3                      py27_0  \n",
      "backports.ssl-match-hostname 3.4.0.2                   <pip>\n",
      "\n",
      "161\n"
     ]
    }
   ],
   "source": [
    "%%bash\n",
    "conda list | grep \"numpy\" # Find the version of numpy installed\n",
    "echo\n",
    "conda list | head # Print the first few lines of packages in Anaconda\n",
    "echo\n",
    "conda list | wc -l # Print the count of packages installed via Anaconda"
   ]
  },
  {
   "cell_type": "markdown",
   "metadata": {},
   "source": [
    "In addition to the full SciPy stack Anaconda comes with [a lot of packages and tools](http://docs.continuum.io/anaconda/pkg-docs.html) ready to use. This is another one of the benefits of using a maintained Python distribution: it's possible that you'll never have to install anything beyond what's already included."
   ]
  },
  {
   "cell_type": "code",
   "execution_count": 20,
   "metadata": {
    "collapsed": false
   },
   "outputs": [
    {
     "name": "stdout",
     "output_type": "stream",
     "text": [
      "161\n",
      "149\n"
     ]
    }
   ],
   "source": [
    "%%bash\n",
    "conda list | wc -l # Print the number of packages installed by Anaconda\n",
    "conda search | grep '*' | wc -l # Print the number of packages installable via conda"
   ]
  },
  {
   "cell_type": "markdown",
   "metadata": {},
   "source": [
    "In addition to the packages that are already installed, there are more to be installed by searching. For example, if we want to use [MCMC methods](https://en.wikipedia.org/wiki/Markov_chain_Monte_Carlo), we can install [PyMC](http://camdavidsonpilon.github.io/Probabilistic-Programming-and-Bayesian-Methods-for-Hackers/)."
   ]
  },
  {
   "cell_type": "code",
   "execution_count": 21,
   "metadata": {
    "collapsed": false
   },
   "outputs": [
    {
     "name": "stdout",
     "output_type": "stream",
     "text": [
      "Fetching package metadata: ....\n",
      "pymc                         2.2                 np17py27_p0  defaults        \n",
      "                             2.2                  np17py27_0  defaults        \n",
      "                             2.3                  np17py27_0  defaults        \n",
      "                             2.3                  np18py27_1  defaults        \n",
      "                             2.3.2                np18py27_0  defaults        \n",
      "                             2.3.2                np18py26_0  defaults        \n",
      "                             2.3.3                np19py27_0  defaults        \n",
      "                             2.3.3                np19py26_0  defaults        \n",
      "                             2.3.3                np18py27_0  defaults        \n",
      "                             2.3.3                np18py26_0  defaults        \n",
      "                             2.3.4               np19py34_p0  defaults        [mkl]\n",
      "                             2.3.4                np19py34_0  defaults        \n",
      "                             2.3.4               np19py33_p0  defaults        [mkl]\n",
      "                             2.3.4                np19py33_0  defaults        \n",
      "                             2.3.4               np19py27_p0  defaults        [mkl]\n",
      "                          .  2.3.4                np19py27_0  defaults        \n",
      "                             2.3.4               np19py26_p0  defaults        [mkl]\n",
      "                             2.3.4                np19py26_0  defaults        \n"
     ]
    }
   ],
   "source": [
    "%%bash\n",
    "conda search pymc"
   ]
  },
  {
   "cell_type": "markdown",
   "metadata": {},
   "source": [
    "The following command will install the package:"
   ]
  },
  {
   "cell_type": "markdown",
   "metadata": {
    "collapsed": false
   },
   "source": [
    "`conda install pymc`"
   ]
  },
  {
   "cell_type": "markdown",
   "metadata": {},
   "source": [
    "If you install a package and everything breaks, you can revert to a previous state using `conda`."
   ]
  },
  {
   "cell_type": "markdown",
   "metadata": {
    "collapsed": false
   },
   "source": [
    "`conda list --revision`"
   ]
  },
  {
   "cell_type": "markdown",
   "metadata": {},
   "source": [
    "This command will show you the various revisions you've made since you've installed Anaconda. You can revert to any of these points using the following, where `i` is the index of the point you want to revert to."
   ]
  },
  {
   "cell_type": "markdown",
   "metadata": {
    "collapsed": true
   },
   "source": [
    "`conda install --revision=i`"
   ]
  },
  {
   "cell_type": "markdown",
   "metadata": {},
   "source": [
    "You might be wondering what to do if the package you're looking for isn't installed already and isn't found using `conda search`. For this course, that won't be much of a concern as we're going to treat Anaconda as a closed ecosystem for most of the examples."
   ]
  },
  {
   "cell_type": "code",
   "execution_count": 24,
   "metadata": {
    "collapsed": false
   },
   "outputs": [
    {
     "data": {
      "text/html": [
       "<img src=\"http://i.dailymail.co.uk/i/pix/2013/01/24/article-2267504-17212EB3000005DC-781_634x663.jpg\"/>"
      ],
      "text/plain": [
       "<IPython.core.display.Image object>"
      ]
     },
     "execution_count": 24,
     "metadata": {},
     "output_type": "execute_result"
    }
   ],
   "source": [
    "Image(url='http://i.dailymail.co.uk/i/pix/2013/01/24/article-2267504-17212EB3000005DC-781_634x663.jpg')"
   ]
  },
  {
   "cell_type": "markdown",
   "metadata": {},
   "source": [
    "However, there are options if the closed ecosystem is cramping your style.\n",
    "\n",
    "First, you can search for packages that can be installed by `conda` on [anaconda.org](https://anaconda.org/about) (formerly [binstar](https://binstar.org/about)), which is an online package hosting system from Continuum analytics."
   ]
  },
  {
   "cell_type": "code",
   "execution_count": 38,
   "metadata": {
    "collapsed": false
   },
   "outputs": [
    {
     "name": "stdout",
     "output_type": "stream",
     "text": [
      "Fetching package metadata: ....\n",
      "\n",
      "Run 'binstar show <USER/PACKAGE>' to get more details:\n",
      "Packages:\n",
      "     Name                      |  Version | Package Types   | Platforms      \n",
      "     ------------------------- |   ------ | --------------- | ---------------\n",
      "     MickC/textblob            |    0.9.0 | conda           | linux-64       \n",
      "                                          : Simple, Pythonic text processing. Sentiment analysis, POS tagging, noun phrase parsing, and more.\n",
      "     chdoig/textblob           |    0.9.0 | conda           | linux-64, linux-32, osx-64\n",
      "                                          : Simple, Pythonic text processing. Sentiment analysis, POS tagging, noun phrase parsing, and more.\n",
      "     derickl/textblob          |    0.9.0 | conda           | osx-64         \n",
      "                                          : Simple, Pythonic text processing. Sentiment analysis, POS tagging, noun phrase parsing, and more.\n",
      "     hargup/textblob           |          | conda           | linux-64       \n",
      "                                          : Simple, Pythonic text processing. Sentiment analysis, POS tagging, noun phrase parsing, and more.\n",
      "     pdbaines/textblob         |    0.8.4 | conda           | linux-64       \n",
      "                                          : Simple, Pythonic text processing. Sentiment analysis, POS tagging, noun phrase parsing, and more.\n",
      "     sloria/textblob           |    0.9.1 | conda           | osx-64         \n",
      "                                          : Simple, Pythonic text processing. Sentiment analysis, POS tagging, noun phrase parsing, and more.\n",
      "     sursma/textblob           |    0.8.4 | conda           | win-64         \n",
      "                                          : Simple, Pythonic text processing. Sentiment analysis, POS tagging, noun phrase parsing, and more.\n",
      "     timka/textblob            |    0.9.0 | conda           | win-64         \n",
      "                                          : Simple, Pythonic text processing. Sentiment analysis, POS tagging, noun phrase parsing, and more.\n",
      "     trifacta/textblob         |    0.9.0 | conda           | linux-64       \n",
      "                                          : Simple, Pythonic text processing. Sentiment analysis, POS tagging, noun phrase parsing, and more.\n",
      "Found 9 packages\n"
     ]
    },
    {
     "name": "stderr",
     "output_type": "stream",
     "text": [
      "Using binstar api site https://api.anaconda.org\n"
     ]
    }
   ],
   "source": [
    "%%bash\n",
    "conda search textblob\n",
    "echo\n",
    "binstar search -t conda textblob"
   ]
  },
  {
   "cell_type": "markdown",
   "metadata": {},
   "source": [
    "We could install the appropriate package with the following command:"
   ]
  },
  {
   "cell_type": "markdown",
   "metadata": {},
   "source": [
    "`conda install -c <user> textblob`"
   ]
  },
  {
   "cell_type": "markdown",
   "metadata": {},
   "source": [
    "Another option is to build the package from pypi using "
   ]
  },
  {
   "cell_type": "markdown",
   "metadata": {},
   "source": [
    "`conda skeleton pypi <package>`\n",
    "\n",
    "`conda build <package>`\n",
    "\n",
    "`conda install <package>`\n"
   ]
  },
  {
   "cell_type": "markdown",
   "metadata": {},
   "source": [
    "A final option, which requires some care, is using [pip](https://pypi.python.org/pypi/pip), which is a `python` package manager. There can be several versions of `pip` installed on your system. The Anaconda version is likely the default."
   ]
  },
  {
   "cell_type": "code",
   "execution_count": 39,
   "metadata": {
    "collapsed": false
   },
   "outputs": [
    {
     "name": "stdout",
     "output_type": "stream",
     "text": [
      "/home/cahern/anaconda/bin/pip\n",
      "/usr/local/bin/pip\n",
      "/usr/bin/pip\n"
     ]
    }
   ],
   "source": [
    "%%bash\n",
    "which -a pip"
   ]
  },
  {
   "cell_type": "markdown",
   "metadata": {},
   "source": [
    "Packages that can be found on pypi can e installed with the following command."
   ]
  },
  {
   "cell_type": "markdown",
   "metadata": {},
   "source": [
    "`pip install <package>`"
   ]
  },
  {
   "cell_type": "markdown",
   "metadata": {},
   "source": [
    " Compare the output of the folowing to make sure that `conda` knows that `pip` has installed a package:"
   ]
  },
  {
   "cell_type": "code",
   "execution_count": 41,
   "metadata": {
    "collapsed": true
   },
   "outputs": [],
   "source": [
    "%%bash\n",
    "conda list | grep \"textblob\"\n",
    "pip list | grep \"textblob\""
   ]
  },
  {
   "cell_type": "markdown",
   "metadata": {},
   "source": [
    "That wraps up installing python and getting things up and running. We'll now move on to `R`."
   ]
  },
  {
   "cell_type": "markdown",
   "metadata": {},
   "source": [
    "# R"
   ]
  },
  {
   "cell_type": "markdown",
   "metadata": {},
   "source": [
    "## Description"
   ]
  },
  {
   "cell_type": "markdown",
   "metadata": {},
   "source": [
    "[R](http://www.r-project.org/) is a [widely-used](http://www.nature.com/news/programming-tools-adventures-with-r-1.16609) programming language and software environment for statistical computing and graphics."
   ]
  },
  {
   "cell_type": "code",
   "execution_count": 22,
   "metadata": {
    "collapsed": false
   },
   "outputs": [
    {
     "data": {
      "text/html": [
       "<img src=\"http://1.bp.blogspot.com/-W8bv1BMOwEk/UjtKZ22SGXI/AAAAAAAAAFs/FCJiV-k-4PQ/s1600/R+Pirate.png\"/>"
      ],
      "text/plain": [
       "<IPython.core.display.Image object>"
      ]
     },
     "execution_count": 22,
     "metadata": {},
     "output_type": "execute_result"
    }
   ],
   "source": [
    "from IPython.display import Image\n",
    "Image(url='http://1.bp.blogspot.com/-W8bv1BMOwEk/UjtKZ22SGXI/AAAAAAAAAFs/FCJiV-k-4PQ/s1600/R+Pirate.png')"
   ]
  },
  {
   "cell_type": "markdown",
   "metadata": {},
   "source": [
    "## Installation"
   ]
  },
  {
   "cell_type": "markdown",
   "metadata": {},
   "source": [
    "`R` can be downloaded from the closest [mirror server](http://cran.r-project.org/mirrors.html).  Follow the installation instructions. In addition, we'll be using [RStudio](https://www.rstudio.com/) as a development environment for data analysis and document creation. Go ahead, download and install or update both if you need to.\n",
    "\n",
    "You can integrate `R` with Anaconda in two ways.\n",
    "\n",
    "1. The `%R` cell magic will allow you to execute `R` code in a `python` notebook\n",
    "2. The `IRkernel` will allow you to create an `R` notebook\n",
    "\n",
    "The transition to more language agnostic framework as part of `Jupyter` (`= Julia + Python + R`) is great: you can run notebooks using [kernels in many langauges](https://github.com/ipython/ipython/wiki/IPython-kernels-for-other-languages) (e.g. bash, python, R, Matlab, etc.). This means that when you want to create a new notebook you can choose the default interpretation of code cells."
   ]
  },
  {
   "cell_type": "markdown",
   "metadata": {},
   "source": [
    "To access `R` in a `python` notebook, you can install `rpy2` via conda. In fact, you can install everything you need with the following command:"
   ]
  },
  {
   "cell_type": "markdown",
   "metadata": {},
   "source": [
    "`conda install -c r r rpy2 r-irkernel`"
   ]
  },
  {
   "cell_type": "markdown",
   "metadata": {},
   "source": [
    "However, it is important to **note** that this will create an independent instlallation of `R` in Anaconda. Since the PATH to this installation is checked first, this means that the Anaconda `R` will be the default. Installing packages via the Anaconda `R` installation seems to work normally. You can also access several packages that are available via some [linux package managers](https://cran.rstudio.com/bin/linux/ubuntu/)  (e.g. r-cran-class, r-cran-cluster, r-cran-mgcv, etc.). Support for `R` within the Anaconda ecosystem [is growing](http://continuum.io/conda-for-R), which means that installing everything via `conda` may be a viable option very soon."
   ]
  },
  {
   "cell_type": "markdown",
   "metadata": {},
   "source": [
    "To use the Anaconda `R` installation in `RStudio` on Linux you need specify the following variable in either `.bashrc` or `.bash_profile`, which will tell `RStudio` where to look for `R`:"
   ]
  },
  {
   "cell_type": "raw",
   "metadata": {},
   "source": [
    "export RSTUDIO_WHICH_R=\"~/anaconda/bin/R\""
   ]
  },
  {
   "cell_type": "markdown",
   "metadata": {},
   "source": [
    "On Mac, execute the following to make sure that `RStudio` looks at the right location when opening via spotlight."
   ]
  },
  {
   "cell_type": "markdown",
   "metadata": {},
   "source": [
    "`launchctl setenv RSTUDIO_WHICH_R /anaconda/bin/R`"
   ]
  },
  {
   "cell_type": "markdown",
   "metadata": {},
   "source": [
    "Reload the profile and restart `RStudio` from the command line and this will access the Anaconda `R` installation."
   ]
  },
  {
   "cell_type": "markdown",
   "metadata": {},
   "source": [
    "If `R` is your finely-tuned workhorse, then you'll probably want to hold off on installing anything via `conda`. But, remember, you can always come back and do it later, with a single `conda` command. For now, let's leave things as they are and point Anaconda towards the system `R` installation. To do this we've included a recipe for building and installing `rpy2` using `conda` locally. Move to the `rpy2` directory in the day one directory and execute the following."
   ]
  },
  {
   "cell_type": "markdown",
   "metadata": {},
   "source": [
    "`conda build rpy2`\n",
    "\n",
    "`conda install rpy2 --use-local`"
   ]
  },
  {
   "cell_type": "markdown",
   "metadata": {},
   "source": [
    "To give a little taste of the flexibility and scope of the integration let's use the aptly-named `rmagic`. This will allow us to run `R` code inside of a cell in a `Python` notebook."
   ]
  },
  {
   "cell_type": "code",
   "execution_count": 1,
   "metadata": {
    "collapsed": false
   },
   "outputs": [],
   "source": [
    "%load_ext rpy2.ipython"
   ]
  },
  {
   "cell_type": "markdown",
   "metadata": {},
   "source": [
    "And we can do all the normal things we like to do in `R`, like pirate hats:"
   ]
  },
  {
   "cell_type": "code",
   "execution_count": 2,
   "metadata": {
    "collapsed": false
   },
   "outputs": [
    {
     "data": {
      "image/png": "[encoded data removed]"
     },
     "metadata": {},
     "output_type": "display_data"
    }
   ],
   "source": [
    "%%R\n",
    "x<-rnorm(n=10000, mean=1, sd=.25)\n",
    "plot(density(x), type='l', main='',xlim=c(0,2), ylab='', xlab='', )"
   ]
  },
  {
   "cell_type": "markdown",
   "metadata": {},
   "source": [
    "Or plots of dots:"
   ]
  },
  {
   "cell_type": "code",
   "execution_count": 3,
   "metadata": {
    "collapsed": false
   },
   "outputs": [
    {
     "data": {
      "image/png": "[encoded data removed]"
     },
     "metadata": {},
     "output_type": "display_data"
    }
   ],
   "source": [
    "%%R\n",
    "library(ggplot2)\n",
    "x<-rnorm(n=10000, mean=1, sd=.25)\n",
    "y<-rnorm(n=10000, mean=1, sd=.25)\n",
    "qplot(x,y)"
   ]
  },
  {
   "cell_type": "code",
   "execution_count": 6,
   "metadata": {
    "collapsed": false
   },
   "outputs": [
    {
     "data": {
      "text/plain": [
       "\n",
       "Call:\n",
       "lm(formula = x ~ y)\n",
       "\n",
       "Residuals:\n",
       "     Min       1Q   Median       3Q      Max \n",
       "-1.00594 -0.17205 -0.00087  0.17285  0.90693 \n",
       "\n",
       "Coefficients:\n",
       "            Estimate Std. Error t value Pr(>|t|)    \n",
       "(Intercept)  1.01923    0.01057  96.440   <2e-16 ***\n",
       "y           -0.01781    0.01027  -1.735   0.0828 .  \n",
       "---\n",
       "Signif. codes:  0 ‘***’ 0.001 ‘**’ 0.01 ‘*’ 0.05 ‘.’ 0.1 ‘ ’ 1\n",
       "\n",
       "Residual standard error: 0.256 on 9998 degrees of freedom\n",
       "Multiple R-squared:  0.0003009,\tAdjusted R-squared:  0.0002009 \n",
       "F-statistic: 3.009 on 1 and 9998 DF,  p-value: 0.08284\n",
       "\n"
      ]
     },
     "metadata": {},
     "output_type": "display_data"
    }
   ],
   "source": [
    "%%R\n",
    "summary(lm(x ~ y))"
   ]
  },
  {
   "cell_type": "markdown",
   "metadata": {},
   "source": [
    "To install the `R` kernel, follow the [instructions](https://github.com/IRkernel/IRkernel) for your operating system on GitHub."
   ]
  },
  {
   "cell_type": "markdown",
   "metadata": {},
   "source": [
    "Regardless of how you install `R`, you'll want to know where and how things are being installed. You can use the following commands to find out."
   ]
  },
  {
   "cell_type": "code",
   "execution_count": 38,
   "metadata": {
    "collapsed": false
   },
   "outputs": [
    {
     "name": "stdout",
     "output_type": "stream",
     "text": [
      "/usr/bin/R\n"
     ]
    }
   ],
   "source": [
    "%%bash\n",
    "which -a R"
   ]
  },
  {
   "cell_type": "code",
   "execution_count": 35,
   "metadata": {
    "collapsed": false
   },
   "outputs": [
    {
     "data": {
      "text/plain": [
       "[1] \"/home/cahern/R/x86_64-pc-linux-gnu-library/3.2\"\n",
       "[2] \"/usr/local/lib/R/site-library\"                 \n",
       "[3] \"/usr/lib/R/site-library\"                       \n",
       "[4] \"/usr/lib/R/library\"                            \n"
      ]
     },
     "metadata": {},
     "output_type": "display_data"
    }
   ],
   "source": [
    "%%R\n",
    ".libPaths()"
   ]
  },
  {
   "cell_type": "code",
   "execution_count": 19,
   "metadata": {
    "collapsed": false
   },
   "outputs": [
    {
     "data": {
      "text/plain": [
       "[1] \"/usr/lib/R\"\n"
      ]
     },
     "metadata": {},
     "output_type": "display_data"
    }
   ],
   "source": [
    "%%R\n",
    "R.home()"
   ]
  },
  {
   "cell_type": "markdown",
   "metadata": {},
   "source": [
    "Now that we have `python` and `R` up and running, we'll wrap up with TeX."
   ]
  },
  {
   "cell_type": "markdown",
   "metadata": {},
   "source": [
    "# TeX"
   ]
  },
  {
   "cell_type": "markdown",
   "metadata": {},
   "source": [
    "## Description"
   ]
  },
  {
   "cell_type": "markdown",
   "metadata": {},
   "source": [
    "TeX is an open source, powerful, and flexible typesetting system that is the standard in many fields. The learning curve is steep relative to other word processing programs, but arguably pays off in terms of expressiveness and customizability."
   ]
  },
  {
   "cell_type": "markdown",
   "metadata": {},
   "source": [
    "## Installation"
   ]
  },
  {
   "cell_type": "markdown",
   "metadata": {},
   "source": [
    "To install TeX you'll need to install the appropriate version of [TeXLive](https://www.tug.org/texlive/) for your system. To convert between TeX and many other formats you'll need [Pandoc](pandoc.org)."
   ]
  },
  {
   "cell_type": "code",
   "execution_count": 41,
   "metadata": {
    "collapsed": false
   },
   "outputs": [
    {
     "data": {
      "text/html": [
       "<img src=\"http://pandoc.org/diagram.jpg\"/>"
      ],
      "text/plain": [
       "<IPython.core.display.Image object>"
      ]
     },
     "execution_count": 41,
     "metadata": {},
     "output_type": "execute_result"
    }
   ],
   "source": [
    "Image(url='http://pandoc.org/diagram.jpg')"
   ]
  },
  {
   "cell_type": "markdown",
   "metadata": {},
   "source": [
    "Up until now, the installation instructions have been similar across platforms, this is where they diverge."
   ]
  },
  {
   "cell_type": "markdown",
   "metadata": {},
   "source": [
    "### Linux"
   ]
  },
  {
   "cell_type": "markdown",
   "metadata": {},
   "source": [
    "This is where Linux really shines through, for Debian/Ubuntu you need one line. "
   ]
  },
  {
   "cell_type": "markdown",
   "metadata": {},
   "source": [
    "`sudo apt-get install texlive texmaker pandoc`"
   ]
  },
  {
   "cell_type": "markdown",
   "metadata": {},
   "source": [
    "### Mac"
   ]
  },
  {
   "cell_type": "markdown",
   "metadata": {},
   "source": [
    "* Install [XCode](https://developer.apple.com/xcode/downloads/) and [XCode command line tools](http://osxdaily.com/2014/02/12/install-command-line-tools-mac-os-x/)\n",
    "* Install [MacTex](https://tug.org/mactex/) : download via torrent if possible, use [transmission](http://www.transmissionbt.com/)\n",
    "* Install [Macports](https://www.macports.org/) : [texlive-latex-recommended](https://www.macports.org/ports.php?by=library&substr=texlive-latex-recommended), [texlive-latex-extra](https://trac.macports.org/browser/trunk/dports/tex/texlive-latex-extra/Portfile), [texlive-fonts-recommended](https://trac.macports.org/browser/trunk/dports/tex/texlive-fonts-recommended/Portfile)\n",
    "* Install [TexMaker](http://www.xm1math.net/texmaker/) : LaTeX editor\n",
    "* Install [Pandoc](http://pandoc.org/) : document converter, [older release](https://github.com/jgm/pandoc/tags) may be needed"
   ]
  },
  {
   "cell_type": "markdown",
   "metadata": {},
   "source": [
    "### Windows"
   ]
  },
  {
   "cell_type": "markdown",
   "metadata": {},
   "source": [
    "* Install [Miktex](http://miktex.org/download) : reasonable download size, installs more\n",
    "* Install [TexMaker](http://www.xm1math.net/texmaker/) : LaTeX editor\n",
    "* Install [Pandoc](http://pandoc.org/) : document converter, [older release](https://github.com/jgm/pandoc/tags) may be needed"
   ]
  },
  {
   "cell_type": "markdown",
   "metadata": {},
   "source": [
    "# Summary "
   ]
  },
  {
   "cell_type": "markdown",
   "metadata": {},
   "source": [
    "At the end of following these instructions you should have the following:\n",
    "\n",
    "* SciPy stack\n",
    "* R and RStudio\n",
    "* TeXLive and Pandoc"
   ]
  },
  {
   "cell_type": "code",
   "execution_count": 7,
   "metadata": {
    "collapsed": true
   },
   "outputs": [],
   "source": [
    "import IPython\n",
    "import sys"
   ]
  },
  {
   "cell_type": "code",
   "execution_count": 8,
   "metadata": {
    "collapsed": false
   },
   "outputs": [
    {
     "name": "stdout",
     "output_type": "stream",
     "text": [
      "Python version:  2.7.10 |Anaconda 2.3.0 (64-bit)| (default, May 28 2015, 17:02:03) \n",
      "[GCC 4.4.7 20120313 (Red Hat 4.4.7-1)]\n",
      "Platform:  linux2\n",
      "IPython version:  3.2.0\n"
     ]
    }
   ],
   "source": [
    "print 'Python version: ', sys.version\n",
    "print 'Platform: ', sys.platform\n",
    "print 'IPython version: ', IPython.__version__"
   ]
  }
 ],
 "metadata": {
  "kernelspec": {
   "display_name": "Python 2",
   "language": "python",
   "name": "python2"
  },
  "language_info": {
   "codemirror_mode": {
    "name": "ipython",
    "version": 2
   },
   "file_extension": ".py",
   "mimetype": "text/x-python",
   "name": "python",
   "nbconvert_exporter": "python",
   "pygments_lexer": "ipython2",
   "version": "2.7.10"
  }
 },
 "nbformat": 4,
 "nbformat_minor": 0
}
