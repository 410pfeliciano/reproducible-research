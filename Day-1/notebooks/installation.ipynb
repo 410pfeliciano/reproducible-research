{
 "cells": [
  {
   "cell_type": "markdown",
   "metadata": {},
   "source": [
    "# Installing needed software"
   ]
  },
  {
   "cell_type": "markdown",
   "metadata": {},
   "source": [
    "Modern scientific research often either requires or can greatly benefit from the use of computational tools. Even if you're not on the cutting edge, you can make your life better and easier using these tools to conduct and share your research. The goal here is to give a brief overview of the tools we'll be using in this course, how to install them along with other tools on your system, and how to get help when things aren't working quite like they should."
   ]
  },
  {
   "cell_type": "markdown",
   "metadata": {},
   "source": [
    "## Python"
   ]
  },
  {
   "cell_type": "markdown",
   "metadata": {},
   "source": [
    "[Python](https://www.python.org/) is a [widely-used, highly-extensible](https://www.python.org/about/success/#education), and easily-learned programming language. \n",
    "\n",
    "It also may allow you to fly, but results may vary."
   ]
  },
  {
   "cell_type": "code",
   "execution_count": 2,
   "metadata": {
    "collapsed": false
   },
   "outputs": [
    {
     "data": {
      "text/html": [
       "<img src=\"http://imgs.xkcd.com/comics/python.png\"/>"
      ],
      "text/plain": [
       "<IPython.core.display.Image object>"
      ]
     },
     "execution_count": 2,
     "metadata": {},
     "output_type": "execute_result"
    }
   ],
   "source": [
    "from IPython.display import Image\n",
    "Image(url='http://imgs.xkcd.com/comics/python.png')"
   ]
  },
  {
   "cell_type": "markdown",
   "metadata": {},
   "source": [
    "Within the python computing environment, we'll be using several useful extensions:\n",
    "\n",
    "* [Pandas](https://github.com/pydata/pandas) : fast, flexible, and expressive data structures designed to make working with \"relational\" or \"labeled\" data both easy and intuitive\n",
    "* [SciPy](https://github.com/scipy/scipy) : open-source software for mathematics, science, and engineering\n",
    "* [NumPy](https://github.com/numpy/numpy) : \n",
    "* Scikit-learn"
   ]
  },
  {
   "cell_type": "markdown",
   "metadata": {},
   "source": [
    "## Installation"
   ]
  },
  {
   "cell_type": "markdown",
   "metadata": {},
   "source": [
    "An alternative to this is just installing [Anaconda](https://store.continuum.io/cshop/anaconda/) which is a self-contained scientific computing stack for python. Basically, it takes care of most of the details so you can get on to your work."
   ]
  },
  {
   "cell_type": "code",
   "execution_count": 3,
   "metadata": {
    "collapsed": false
   },
   "outputs": [
    {
     "data": {
      "text/html": [
       "<img src=\"https://imgs.xkcd.com/comics/dependencies.png\"/>"
      ],
      "text/plain": [
       "<IPython.core.display.Image object>"
      ]
     },
     "execution_count": 3,
     "metadata": {},
     "output_type": "execute_result"
    }
   ],
   "source": [
    "Image(url='https://imgs.xkcd.com/comics/dependencies.png')"
   ]
  },
  {
   "cell_type": "markdown",
   "metadata": {},
   "source": [
    "http://stackoverflow.com/questions/6819661/python-location-on-mac-osx\n",
    "\n",
    "http://davebehnke.com/using-python-anaconda-distribution.html\n",
    "\n",
    "http://en.wikipedia.org/wiki/SciPy\n",
    "\n",
    "http://scikits.appspot.com/about\n",
    "\n",
    "http://en.wikipedia.org/wiki/Matplotlib\n",
    "\n",
    "http://en.wikipedia.org/wiki/Scikit-learn\n",
    "\n",
    "http://scikit-learn.org/stable/\n",
    "\n",
    "http://en.wikipedia.org/wiki/R_(programming_language)"
   ]
  }
 ],
 "metadata": {
  "kernelspec": {
   "display_name": "Python 2",
   "language": "python",
   "name": "python2"
  },
  "language_info": {
   "codemirror_mode": {
    "name": "ipython",
    "version": 2
   },
   "file_extension": ".py",
   "mimetype": "text/x-python",
   "name": "python",
   "nbconvert_exporter": "python",
   "pygments_lexer": "ipython2",
   "version": "2.7.9"
  }
 },
 "nbformat": 4,
 "nbformat_minor": 0
}
