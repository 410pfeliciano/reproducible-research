{
 "cells": [
  {
   "cell_type": "markdown",
   "metadata": {},
   "source": [
    "# Installing needed software"
   ]
  },
  {
   "cell_type": "markdown",
   "metadata": {},
   "source": [
    "Modern scientific research often either requires or can greatly benefit from the use of computational tools. Even if you're not on the cutting edge, you can make your life better and easier using these tools to conduct and share your research. The goal here is to give a brief overview of the tools we'll be using in this course, how to install them along with other tools on your system, and how to get help when things aren't working quite like they should.\n",
    "\n",
    "* Installing Python and the SciPy stack\n",
    "* Installing R and additional packages\n",
    "* Installing TeX and TeX Live\n",
    "\n",
    "A quick disclaimer before we dive in. These instructions are oriented towards Unix-like operating systems (i.e. Linux, Mac OS X). If you are running Windows, strongly consider installing a linux partition: this will be the difference between a single line of code to install (mostly) everything you can dream of and much suffering. "
   ]
  },
  {
   "cell_type": "markdown",
   "metadata": {},
   "source": [
    "# Python"
   ]
  },
  {
   "cell_type": "markdown",
   "metadata": {},
   "source": [
    "## Description"
   ]
  },
  {
   "cell_type": "markdown",
   "metadata": {},
   "source": [
    "[Python](https://www.python.org/) is a [widely-used, highly-extensible](https://www.python.org/about/success/#education), and easily-learned programming language."
   ]
  },
  {
   "cell_type": "code",
   "execution_count": 28,
   "metadata": {
    "collapsed": false
   },
   "outputs": [
    {
     "data": {
      "text/html": [
       "<img src=\"http://imgs.xkcd.com/comics/python.png\"/>"
      ],
      "text/plain": [
       "<IPython.core.display.Image object>"
      ]
     },
     "execution_count": 28,
     "metadata": {},
     "output_type": "execute_result"
    }
   ],
   "source": [
    "from IPython.display import Image\n",
    "Image(url='http://imgs.xkcd.com/comics/python.png')"
   ]
  },
  {
   "cell_type": "markdown",
   "metadata": {},
   "source": [
    "Within the Python computing environment, we'll be using several useful extensions. Collectively, these are referred to as the [SciPy stack](http://www.scipy.org/stackspec.html#stackspec). The current version of the SciPy stack requires the following versions of various tools:\n",
    "\n",
    "* [Python](https://www.python.org/)  (2.x >= 2.6 or 3.x >= 3.2) : see above, results may vary\n",
    "* [NumPy](https://github.com/numpy/numpy)  (>= 1.6) : fundamental package needed for scientific computing with python\n",
    "* [SciPy](https://github.com/scipy/scipy) (>= 0.10) : open-source software for mathematics, science, and engineering\n",
    "* [Matplotlib](http://matplotlib.org/) (>= 1.1) : open-source plotting library, deeply integrated with python\n",
    "* [IPython]() (>= 0.13) : a command shell for interactive computing in multiple programming languages\n",
    "* [Pandas](https://github.com/pydata/pandas)  (>= 0.8) : fast, flexible, and expressive data structures\n",
    "* [Sympy](http://www.sympy.org/en/index.html) (>= 0.7) : library for symbolic mathematics in python, moving towards a full computer algebra system\n",
    "\n",
    "We'll also be using third-party [SciPy toolkits](https://scikits.appspot.com/):\n",
    "\n",
    "* [Scikit-learn](http://scikit-learn.org/dev/index.html) : simple, efficient, and reusable tools for machine learning\n",
    "* [Scikit-statsmodels](https://pypi.python.org/pypi/scikits.statsmodels) : Python package for statistical computations\n",
    "* ...\n",
    "\n",
    "You'll find lots of detailed tools at Scikits. If you're thinking about implementing something in your own work, check these kits and the Python Package Index ([PyPI](https://pypi.python.org/pypi)) to see if someone has already done the work.  Below we'll talk about how to install packages from these locations."
   ]
  },
  {
   "cell_type": "markdown",
   "metadata": {},
   "source": [
    "## Installation"
   ]
  },
  {
   "cell_type": "markdown",
   "metadata": {},
   "source": [
    "If you're already started using some of these tools in your own research, then you've probably installed at least Python, and maybe more. To start off, let's find out what you've installed and where it's installed."
   ]
  },
  {
   "cell_type": "markdown",
   "metadata": {},
   "source": [
    "As a start let's find out the version of python we've got installed. You can ignore the first line, which just tells IPython to treat what follows as input to the bash shell. We'll come back to the bit about Anaconda later, but it looks like I'm running Python 2.7.9. So far so good!"
   ]
  },
  {
   "cell_type": "code",
   "execution_count": 1,
   "metadata": {
    "collapsed": false
   },
   "outputs": [
    {
     "name": "stdout",
     "output_type": "stream",
     "text": [
      "Python version is:\n"
     ]
    },
    {
     "name": "stderr",
     "output_type": "stream",
     "text": [
      "Python 2.7.9 :: Anaconda 2.2.0 (32-bit)\n"
     ]
    }
   ],
   "source": [
    "%%bash\n",
    "echo \"Python version is:\"\n",
    "python -V"
   ]
  },
  {
   "cell_type": "markdown",
   "metadata": {},
   "source": [
    "Now, let's check to see what else is installed. Again, we can do this from the command line. But, since we're trying to find out whether a python package, rather than python itself is installed, we'll ask python to run the command in quotes. The option `-c` tells python to treat the quoted text as a command. The semicolon inside breaks up the commands. If something isn't installed, we'll get an error like the following."
   ]
  },
  {
   "cell_type": "code",
   "execution_count": 19,
   "metadata": {
    "collapsed": false
   },
   "outputs": [
    {
     "name": "stderr",
     "output_type": "stream",
     "text": [
      "Traceback (most recent call last):\n",
      "  File \"<string>\", line 1, in <module>\n",
      "ImportError: No module named notinstalledyet\n"
     ]
    }
   ],
   "source": [
    "%%bash\n",
    "python -c \"import notinstalledyet; print notinstalledyet.__version__\""
   ]
  },
  {
   "cell_type": "markdown",
   "metadata": {},
   "source": [
    "Otherwise, we'll find out what version is installed."
   ]
  },
  {
   "cell_type": "code",
   "execution_count": 8,
   "metadata": {
    "collapsed": false
   },
   "outputs": [
    {
     "name": "stdout",
     "output_type": "stream",
     "text": [
      "NumPy version is:\n",
      "1.9.2\n",
      "SciPy version is:\n",
      "0.15.1\n",
      "Matplotlib version is:\n",
      "1.4.3\n",
      "IPython version is:\n",
      "3.0.0\n",
      "Pandas version is:\n",
      "0.15.2\n",
      "SymPy version is:\n",
      "0.7.6\n"
     ]
    }
   ],
   "source": [
    "%%bash\n",
    "echo \"NumPy version is:\"\n",
    "python -c \"import numpy; print numpy.__version__\"\n",
    "echo \"SciPy version is:\"\n",
    "python -c \"import scipy; print scipy.__version__\"\n",
    "echo \"Matplotlib version is:\"\n",
    "python -c \"import matplotlib; print matplotlib.__version__\"\n",
    "echo \"IPython version is:\"\n",
    "ipython -V\n",
    "echo \"Pandas version is:\"\n",
    "python -c \"import pandas; print pandas.__version__\"\n",
    "echo \"SymPy version is:\"\n",
    "python -c \"import sympy; print sympy.__version__\""
   ]
  },
  {
   "cell_type": "markdown",
   "metadata": {},
   "source": [
    "Alright, it looks like we've got the SciPy stack installed. This is good, but not a trivial accomplishment. Sometimes getting to this point can be a bit frustrating and require a lot of time debugging and googling error messages."
   ]
  },
  {
   "cell_type": "code",
   "execution_count": 3,
   "metadata": {
    "collapsed": false
   },
   "outputs": [
    {
     "data": {
      "text/html": [
       "<img src=\"https://imgs.xkcd.com/comics/dependencies.png\"/>"
      ],
      "text/plain": [
       "<IPython.core.display.Image object>"
      ]
     },
     "execution_count": 3,
     "metadata": {},
     "output_type": "execute_result"
    }
   ],
   "source": [
    "Image(url='https://imgs.xkcd.com/comics/dependencies.png')"
   ]
  },
  {
   "cell_type": "markdown",
   "metadata": {},
   "source": [
    "For the purposes of this course, we suggest using the [Anaconda](https://store.continuum.io/cshop/anaconda/) scientific Python distribution, which is supported on Linux, Windows and Mac OS X. The benefits of using Anaconda are:\n",
    "\n",
    "* Parallel to other Python installations\n",
    "* Maintained by [Continuum](http://continuum.io/)\n",
    "* [Free](https://en.wikipedia.org/wiki/The_Free_Software_Definition) in several ways\n",
    "\n",
    "We'll take a few minutes to install Anaconda and then give a quick run down of its structure. Know that we've installed Anaconda, let's take a look at where our operating system thinks Python is. The default installation location is in your home directory."
   ]
  },
  {
   "cell_type": "code",
   "execution_count": 9,
   "metadata": {
    "collapsed": false
   },
   "outputs": [
    {
     "name": "stdout",
     "output_type": "stream",
     "text": [
      "/home/cahern-adm/anaconda/bin/python\n"
     ]
    }
   ],
   "source": [
    "%%bash\n",
    "which python"
   ]
  },
  {
   "cell_type": "markdown",
   "metadata": {},
   "source": [
    "But wait, didn't we say that Anaconda installs Python in parallel to other installations. It does, we've just listed the default location. Let's look for all locations of Python. The option `-a` selects all pathnames to installations of Python rather than just the default."
   ]
  },
  {
   "cell_type": "code",
   "execution_count": 10,
   "metadata": {
    "collapsed": false
   },
   "outputs": [
    {
     "name": "stdout",
     "output_type": "stream",
     "text": [
      "/home/cahern-adm/anaconda/bin/python\n",
      "/usr/bin/python\n"
     ]
    }
   ],
   "source": [
    "%%bash\n",
    "which -a python"
   ]
  },
  {
   "cell_type": "markdown",
   "metadata": {},
   "source": [
    "There we go! It now looks like we have two different versions of Python installed at different locations. Take a look at the versions of the different packages we'll be using in each of the two . Note that the versions used by different installations of Python are not necessarily the same. It's important to remember this as you install additional packages."
   ]
  },
  {
   "cell_type": "code",
   "execution_count": 17,
   "metadata": {
    "collapsed": false
   },
   "outputs": [
    {
     "name": "stdout",
     "output_type": "stream",
     "text": [
      "1.9.2\n",
      "1.8.2\n"
     ]
    }
   ],
   "source": [
    "%%bash\n",
    "/home/cahern-adm/anaconda/bin/python -c \"import numpy; print numpy.__version__\"\n",
    "/usr/bin/python -c \"import numpy; print numpy.__version__\""
   ]
  },
  {
   "cell_type": "markdown",
   "metadata": {},
   "source": [
    "Anaconda comes with a package and virtual environment manager `conda`. We can list the packages currently installed for and accessible to Anaconda. This yields some of the information we found earlier. Namely, the version numbers of the different packages we'll be using."
   ]
  },
  {
   "cell_type": "code",
   "execution_count": 30,
   "metadata": {
    "collapsed": false
   },
   "outputs": [
    {
     "name": "stdout",
     "output_type": "stream",
     "text": [
      "# packages in environment at /home/cahern-adm/anaconda:\n",
      "#\n",
      "_license                  1.1                      py27_0  \n",
      "abstract-rendering        0.5.1                np19py27_0  \n",
      "anaconda                  2.2.0                np19py27_0  \n",
      "argcomplete               0.8.4                    py27_0  \n",
      "astropy                   1.0.1                np19py27_0  \n",
      "backports.ssl-match-hostname 3.4.0.2                   <pip>\n",
      "bcolz                     0.8.1                np19py27_0  \n",
      "beautiful-soup            4.3.2                    py27_0  \n",
      "beautifulsoup4            4.3.2                     <pip>\n",
      "binstar                   0.10.1                   py27_3  \n",
      "bitarray                  0.8.1                    py27_0  \n",
      "blaze                     0.7.3                     <pip>\n",
      "blaze-core                0.7.3                np19py27_0  \n",
      "blz                       0.6.2                np19py27_0  \n",
      "bokeh                     0.8.1                np19py27_1  \n",
      "boto                      2.36.0                   py27_0  \n",
      "cairo                     1.12.18                       4  \n",
      "cdecimal                  2.3                      py27_0  \n",
      "certifi                   14.05.14                 py27_0  \n",
      "cffi                      0.9.2                    py27_0  \n",
      "clyent                    0.3.4                    py27_0  \n",
      "colorama                  0.3.3                    py27_0  \n",
      "conda                     3.14.0                   py27_0  \n",
      "conda-build               1.14.0                   py27_0  \n",
      "conda-env                 2.2.1                    py27_0  \n",
      "configobj                 5.0.6                    py27_0  \n",
      "cryptography              0.8                      py27_0  \n",
      "curl                      7.38.0                        0  \n",
      "cython                    0.22                     py27_0  \n",
      "cytoolz                   0.7.2                    py27_0  \n",
      "datashape                 0.4.4                np19py27_1  \n",
      "decorator                 3.4.0                    py27_0  \n",
      "docutils                  0.12                     py27_0  \n",
      "dynd-python               0.6.5                np19py27_0  \n",
      "enum34                    1.0.4                    py27_0  \n",
      "fastcache                 1.0.2                    py27_0  \n",
      "flask                     0.10.1                   py27_1  \n",
      "fontconfig                2.11.1                        4  \n",
      "freetype                  2.5.2                         2  \n",
      "funcsigs                  0.4                      py27_0  \n",
      "futures                   2.2.0                    py27_0  \n",
      "gevent                    1.0.1                    py27_0  \n",
      "gevent-websocket          0.9.3                    py27_0  \n",
      "greenlet                  0.4.5                    py27_0  \n",
      "grin                      1.2.1                    py27_1  \n",
      "h5py                      2.4.0                np19py27_0  \n",
      "hdf5                      1.8.14                        0  \n",
      "ipython                   3.0.0                    py27_0  \n",
      "ipython-notebook          3.0.0                    py27_1  \n",
      "ipython-qtconsole         3.0.0                    py27_0  \n",
      "itsdangerous              0.24                     py27_0  \n",
      "jdcal                     1.0                      py27_0  \n",
      "jedi                      0.8.1                    py27_0  \n",
      "jinja2                    2.7.3                    py27_1  \n",
      "jpeg                      8d                            0  \n",
      "jsonschema                2.4.0                    py27_0  \n",
      "libdynd                   0.6.5                         0  \n",
      "libffi                    3.0.13                        0  \n",
      "libpng                    1.6.17                        0  \n",
      "libsodium                 0.4.5                         0  \n",
      "libtiff                   4.0.2                         1  \n",
      "libxml2                   2.9.0                         0  \n",
      "libxslt                   1.1.28                        0  \n",
      "llvmlite                  0.2.2                    py27_1  \n",
      "lxml                      3.4.2                    py27_0  \n",
      "markupsafe                0.23                     py27_0  \n",
      "matplotlib                1.4.3                np19py27_2  \n",
      "mistune                   0.5.1                    py27_0  \n",
      "mock                      1.0.1                    py27_0  \n",
      "multipledispatch          0.4.7                    py27_0  \n",
      "networkx                  1.9.1                    py27_0  \n",
      "nltk                      3.0.2                np19py27_0  \n",
      "nose                      1.3.4                    py27_1  \n",
      "numba                     0.17.0               np19py27_0  \n",
      "numexpr                   2.3.1                np19py27_0  \n",
      "numpy                     1.9.2                    py27_0  \n",
      "odo                       0.3.1                np19py27_0  \n",
      "openpyxl                  1.8.5                    py27_0  \n",
      "openssl                   1.0.1k                        1  \n",
      "pandas                    0.16.2               np19py27_0  \n",
      "patchelf                  0.6                           0  \n",
      "patsy                     0.3.0                np19py27_0  \n",
      "pep8                      1.6.2                    py27_0  \n",
      "pillow                    2.7.0                    py27_1  \n",
      "pip                       7.0.3                    py27_0  \n",
      "pixman                    0.26.2                        0  \n",
      "ply                       3.4                      py27_0  \n",
      "pocketsphinx              0.0.5                     <pip>\n",
      "psutil                    2.2.1                    py27_0  \n",
      "ptyprocess                0.4                      py27_0  \n",
      "py                        1.4.26                   py27_0  \n",
      "py2cairo                  1.10.0                   py27_2  \n",
      "pyasn1                    0.1.7                    py27_0  \n",
      "pycosat                   0.6.1                    py27_0  \n",
      "pycparser                 2.10                     py27_0  \n",
      "pycrypto                  2.6.1                    py27_0  \n",
      "pycurl                    7.19.5.1                 py27_0  \n",
      "pyflakes                  0.8.1                    py27_0  \n",
      "pygments                  2.0.2                    py27_0  \n",
      "pyopenssl                 0.14                     py27_0  \n",
      "pyparsing                 2.0.3                    py27_0  \n",
      "pyqt                      4.11.3                   py27_1  \n",
      "pytables                  3.1.1                np19py27_2  \n",
      "pytest                    2.6.4                    py27_0  \n",
      "python                    2.7.10                        0  \n",
      "python-dateutil           2.4.2                    py27_0  \n",
      "pytz                      2015.4                   py27_0  \n",
      "pyyaml                    3.11                     py27_0  \n",
      "pyzmq                     14.5.0                   py27_0  \n",
      "qt                        4.8.6                         3  \n",
      "readline                  6.2                           2  \n",
      "requests                  2.7.0                    py27_0  \n",
      "rope                      0.9.4                    py27_1  \n",
      "runipy                    0.1.3                    py27_0  \n",
      "scikit-image              0.11.2               np19py27_0  \n",
      "scikit-learn              0.15.2               np19py27_0  \n",
      "scipy                     0.15.1               np19py27_0  \n",
      "seaborn                   0.5.1                np19py27_0  \n",
      "setuptools                17.1.1                   py27_0  \n",
      "sip                       4.16.5                   py27_0  \n",
      "six                       1.9.0                    py27_0  \n",
      "sockjs-tornado            1.0.1                    py27_0  \n",
      "sphinx                    1.2.3                    py27_0  \n",
      "spyder                    2.3.4                    py27_1  \n",
      "spyder-app                2.3.4                    py27_0  \n",
      "sqlalchemy                0.9.9                    py27_0  \n",
      "sqlite                    3.8.4.1                       1  \n",
      "ssl_match_hostname        3.4.0.2                  py27_0  \n",
      "statsmodels               0.6.1                np19py27_0  \n",
      "sympy                     0.7.6                    py27_0  \n",
      "system                    5.8                           2  \n",
      "tables                    3.1.1                     <pip>\n",
      "terminado                 0.5                      py27_0  \n",
      "theano                    0.6.0                np19py27_0  \n",
      "tk                        8.5.18                        0  \n",
      "toolz                     0.7.1                    py27_0  \n",
      "tornado                   4.1                      py27_0  \n",
      "ujson                     1.33                     py27_0  \n",
      "unicodecsv                0.9.4                    py27_0  \n",
      "util-linux                2.21                          0  \n",
      "werkzeug                  0.10.1                   py27_0  \n",
      "xlrd                      0.9.3                    py27_0  \n",
      "xlsxwriter                0.6.7                    py27_0  \n",
      "xlwt                      0.7.5                    py27_0  \n",
      "yaml                      0.1.4                         0  \n",
      "zeromq                    4.0.4                         0  \n",
      "zlib                      1.2.8                         0  \n",
      "149\n"
     ]
    }
   ],
   "source": [
    "%%bash\n",
    "conda list"
   ]
  },
  {
   "cell_type": "markdown",
   "metadata": {},
   "source": [
    "Before doing anything else, let's update `conda` and `anaconda`."
   ]
  },
  {
   "cell_type": "code",
   "execution_count": 22,
   "metadata": {
    "collapsed": false
   },
   "outputs": [
    {
     "name": "stdout",
     "output_type": "stream",
     "text": [
      "Fetching package metadata: ....\n",
      "# All requested packages already installed.\n",
      "# packages in environment at /home/cahern-adm/anaconda:\n",
      "#\n",
      "conda                     3.14.0                   py27_0  \n",
      "Fetching package metadata: ....\n",
      "# All requested packages already installed.\n",
      "# packages in environment at /home/cahern-adm/anaconda:\n",
      "#\n",
      "anaconda                  2.2.0                np19py27_0  \n"
     ]
    }
   ],
   "source": [
    "%%bash\n",
    "conda update conda\n",
    "conda update anaconda"
   ]
  },
  {
   "cell_type": "markdown",
   "metadata": {},
   "source": [
    "Note that in addition to the full SciPy stack Anaconda comes with [a lot](http://docs.continuum.io/anaconda/pkg-docs.html) of packages and tools ready to use. This is one of the benefits of using a maintained Python distribution: it's possible that you'll never have to install anything beyond what's already included. In addition to the packages that are already installed, there are more to be installed by searching."
   ]
  },
  {
   "cell_type": "code",
   "execution_count": 32,
   "metadata": {
    "collapsed": false
   },
   "outputs": [
    {
     "name": "stdout",
     "output_type": "stream",
     "text": [
      "149\n",
      "142\n"
     ]
    }
   ],
   "source": [
    "%%bash\n",
    "conda list | wc -l\n",
    "conda search | grep '*' | wc -l"
   ]
  },
  {
   "cell_type": "markdown",
   "metadata": {},
   "source": [
    "For example, if we want to use [MCMC methods](https://en.wikipedia.org/wiki/Markov_chain_Monte_Carlo) in Python, we can install [PyMC](http://camdavidsonpilon.github.io/Probabilistic-Programming-and-Bayesian-Methods-for-Hackers/)."
   ]
  },
  {
   "cell_type": "code",
   "execution_count": 33,
   "metadata": {
    "collapsed": false
   },
   "outputs": [
    {
     "name": "stdout",
     "output_type": "stream",
     "text": [
      "Fetching package metadata: ....\n",
      "pymc                         2.2                 np17py27_p0  defaults        \n",
      "                             2.2                  np17py27_0  defaults        \n",
      "                             2.3                  np17py27_0  defaults        \n",
      "                             2.3                  np18py27_1  defaults        \n",
      "                             2.3.2                np18py27_0  defaults        \n",
      "                             2.3.2                np18py26_0  defaults        \n",
      "                             2.3.3                np19py27_0  defaults        \n",
      "                             2.3.3                np19py26_0  defaults        \n",
      "                             2.3.3                np18py27_0  defaults        \n",
      "                             2.3.3                np18py26_0  defaults        \n",
      "                             2.3.4               np19py34_p0  defaults        [mkl]\n",
      "                             2.3.4                np19py34_0  defaults        \n",
      "                             2.3.4               np19py33_p0  defaults        [mkl]\n",
      "                             2.3.4                np19py33_0  defaults        \n",
      "                             2.3.4               np19py27_p0  defaults        [mkl]\n",
      "                             2.3.4                np19py27_0  defaults        \n",
      "                             2.3.4               np19py26_p0  defaults        [mkl]\n",
      "                             2.3.4                np19py26_0  defaults        \n"
     ]
    }
   ],
   "source": [
    "%%bash\n",
    "conda search pymc"
   ]
  },
  {
   "cell_type": "code",
   "execution_count": 34,
   "metadata": {
    "collapsed": false
   },
   "outputs": [
    {
     "name": "stdout",
     "output_type": "stream",
     "text": [
      "Fetching package metadata: ....\n",
      "Solving package specifications: .\n",
      "Package plan for installation in environment /home/cahern-adm/anaconda:\n",
      "\n",
      "The following packages will be downloaded:\n",
      "\n",
      "    package                    |            build\n",
      "    ---------------------------|-----------------\n",
      "    conda-env-2.2.2            |           py27_0          21 KB\n",
      "    pymc-2.3.4                 |       np19py27_0         1.5 MB\n",
      "    ------------------------------------------------------------\n",
      "                                           Total:         1.5 MB\n",
      "\n",
      "The following NEW packages will be INSTALLED:\n",
      "\n",
      "    pymc:      2.3.4-np19py27_0\n",
      "\n",
      "The following packages will be UPDATED:\n",
      "\n",
      "    conda-env: 2.2.1-py27_0 --> 2.2.2-py27_0    \n",
      "\n",
      "Proceed ([y]/n)? \n",
      "Fetching packages ...\n",
      "conda-env-2.2.   0% |                                                                                           | ETA:  --:--:--   0.00  B/s\r",
      "conda-env-2.2.  76% |######################################################################                      | ETA:  0:00:00   2.63 MB/s\r",
      "conda-env-2.2. 100% |############################################################################################| ETA:  0:00:00   3.23 MB/s\r",
      "conda-env-2.2. 100% |############################################################################################| Time: 0:00:00   3.04 MB/s\r\n",
      "pymc-2.3.4-np1   0% |                                                                                           | ETA:  --:--:--   0.00  B/s\r",
      "pymc-2.3.4-np1   1% |                                                                                            | Time: 0:00:00   1.41 MB/s\r",
      "pymc-2.3.4-np1   2% |#                                                                                           | Time: 0:00:00   1.85 MB/s\r",
      "pymc-2.3.4-np1   3% |##                                                                                          | Time: 0:00:00   2.56 MB/s\r",
      "pymc-2.3.4-np1   4% |###                                                                                         | Time: 0:00:00   2.75 MB/s\r",
      "pymc-2.3.4-np1   5% |####                                                                                        | Time: 0:00:00   3.27 MB/s\r",
      "pymc-2.3.4-np1   6% |#####                                                                                       | Time: 0:00:00   3.45 MB/s\r",
      "pymc-2.3.4-np1   7% |######                                                                                      | Time: 0:00:00   3.82 MB/s\r",
      "pymc-2.3.4-np1   8% |#######                                                                                     | Time: 0:00:00   4.20 MB/s\r",
      "pymc-2.3.4-np1   9% |########                                                                                    | Time: 0:00:00   4.50 MB/s\r",
      "pymc-2.3.4-np1  10% |#########                                                                                   | Time: 0:00:00   4.65 MB/s\r",
      "pymc-2.3.4-np1  11% |##########                                                                                  | Time: 0:00:00   4.91 MB/s\r",
      "pymc-2.3.4-np1  12% |###########                                                                                 | Time: 0:00:00   5.11 MB/s\r",
      "pymc-2.3.4-np1  13% |############                                                                                | Time: 0:00:00   5.13 MB/s\r",
      "pymc-2.3.4-np1  14% |#############                                                                               | Time: 0:00:00   5.30 MB/s\r",
      "pymc-2.3.4-np1  16% |##############                                                                              | Time: 0:00:00   5.52 MB/s\r",
      "pymc-2.3.4-np1  17% |###############                                                                             | Time: 0:00:00   5.70 MB/s\r",
      "pymc-2.3.4-np1  18% |################                                                                            | Time: 0:00:00   5.76 MB/s\r",
      "pymc-2.3.4-np1  19% |#################                                                                           | Time: 0:00:00   5.91 MB/s\r",
      "pymc-2.3.4-np1  20% |##################                                                                          | Time: 0:00:00   6.06 MB/s\r",
      "pymc-2.3.4-np1  21% |###################                                                                         | Time: 0:00:00   6.20 MB/s\r",
      "pymc-2.3.4-np1  22% |####################                                                                        | Time: 0:00:00   6.27 MB/s\r",
      "pymc-2.3.4-np1  23% |#####################                                                                       | Time: 0:00:00   6.37 MB/s\r",
      "pymc-2.3.4-np1  24% |######################                                                                      | Time: 0:00:00   6.49 MB/s\r",
      "pymc-2.3.4-np1  25% |#######################                                                                     | Time: 0:00:00   6.53 MB/s\r",
      "pymc-2.3.4-np1  26% |########################                                                                    | Time: 0:00:00   6.67 MB/s\r",
      "pymc-2.3.4-np1  27% |#########################                                                                   | Time: 0:00:00   6.75 MB/s\r",
      "pymc-2.3.4-np1  28% |##########################                                                                  | Time: 0:00:00   6.82 MB/s\r",
      "pymc-2.3.4-np1  29% |###########################                                                                 | Time: 0:00:00   6.92 MB/s\r",
      "pymc-2.3.4-np1  30% |############################                                                                | Time: 0:00:00   7.01 MB/s\r",
      "pymc-2.3.4-np1  32% |#############################                                                               | Time: 0:00:00   7.06 MB/s\r",
      "pymc-2.3.4-np1  33% |##############################                                                              | Time: 0:00:00   7.10 MB/s\r",
      "pymc-2.3.4-np1  34% |###############################                                                             | Time: 0:00:00   7.17 MB/s\r",
      "pymc-2.3.4-np1  35% |################################                                                            | Time: 0:00:00   7.25 MB/s\r",
      "pymc-2.3.4-np1  36% |#################################                                                           | Time: 0:00:00   7.29 MB/s\r",
      "pymc-2.3.4-np1  37% |##################################                                                          | Time: 0:00:00   7.35 MB/s\r",
      "pymc-2.3.4-np1  38% |###################################                                                         | Time: 0:00:00   7.42 MB/s\r",
      "pymc-2.3.4-np1  39% |####################################                                                        | Time: 0:00:00   7.45 MB/s\r",
      "pymc-2.3.4-np1  40% |#####################################                                                       | Time: 0:00:00   7.47 MB/s\r",
      "pymc-2.3.4-np1  41% |######################################                                                      | Time: 0:00:00   7.55 MB/s\r",
      "pymc-2.3.4-np1  42% |#######################################                                                     | Time: 0:00:00   7.59 MB/s\r",
      "pymc-2.3.4-np1  43% |########################################                                                    | Time: 0:00:00   7.64 MB/s\r",
      "pymc-2.3.4-np1  44% |#########################################                                                   | Time: 0:00:00   7.66 MB/s\r",
      "pymc-2.3.4-np1  45% |##########################################                                                  | Time: 0:00:00   7.71 MB/s\r",
      "pymc-2.3.4-np1  46% |###########################################                                                 | Time: 0:00:00   7.77 MB/s\r",
      "pymc-2.3.4-np1  48% |############################################                                                | Time: 0:00:00   7.79 MB/s\r",
      "pymc-2.3.4-np1  49% |#############################################                                               | Time: 0:00:00   7.82 MB/s\r",
      "pymc-2.3.4-np1  50% |##############################################                                              | Time: 0:00:00   7.85 MB/s\r",
      "pymc-2.3.4-np1  51% |###############################################                                             | Time: 0:00:00   7.90 MB/s\r",
      "pymc-2.3.4-np1  52% |################################################                                            | Time: 0:00:00   7.94 MB/s\r",
      "pymc-2.3.4-np1  53% |#################################################                                           | Time: 0:00:00   7.97 MB/s\r",
      "pymc-2.3.4-np1  54% |##################################################                                          | Time: 0:00:00   7.99 MB/s\r",
      "pymc-2.3.4-np1  55% |###################################################                                         | Time: 0:00:00   8.01 MB/s\r",
      "pymc-2.3.4-np1  56% |####################################################                                        | Time: 0:00:00   8.05 MB/s\r",
      "pymc-2.3.4-np1  57% |#####################################################                                       | Time: 0:00:00   8.09 MB/s\r",
      "pymc-2.3.4-np1  58% |######################################################                                      | Time: 0:00:00   8.11 MB/s\r",
      "pymc-2.3.4-np1  59% |######################################################                                      | Time: 0:00:00   8.13 MB/s\r",
      "pymc-2.3.4-np1  60% |#######################################################                                     | Time: 0:00:00   8.18 MB/s\r",
      "pymc-2.3.4-np1  61% |########################################################                                    | Time: 0:00:00   8.22 MB/s\r",
      "pymc-2.3.4-np1  62% |#########################################################                                   | Time: 0:00:00   8.23 MB/s\r",
      "pymc-2.3.4-np1  64% |##########################################################                                  | Time: 0:00:00   8.23 MB/s\r",
      "pymc-2.3.4-np1  65% |###########################################################                                 | Time: 0:00:00   8.26 MB/s\r",
      "pymc-2.3.4-np1  66% |############################################################                                | Time: 0:00:00   8.31 MB/s\r",
      "pymc-2.3.4-np1  67% |#############################################################                               | Time: 0:00:00   8.35 MB/s\r",
      "pymc-2.3.4-np1  68% |##############################################################                              | Time: 0:00:00   8.31 MB/s\r",
      "pymc-2.3.4-np1  69% |###############################################################                             | Time: 0:00:00   8.36 MB/s\r",
      "pymc-2.3.4-np1  70% |################################################################                            | Time: 0:00:00   8.39 MB/s\r",
      "pymc-2.3.4-np1  71% |#################################################################                           | Time: 0:00:00   8.40 MB/s\r",
      "pymc-2.3.4-np1  72% |##################################################################                          | Time: 0:00:00   8.41 MB/s\r",
      "pymc-2.3.4-np1  73% |###################################################################                         | Time: 0:00:00   8.45 MB/s\r",
      "pymc-2.3.4-np1  74% |####################################################################                        | Time: 0:00:00   8.47 MB/s\r",
      "pymc-2.3.4-np1  75% |#####################################################################                       | Time: 0:00:00   8.47 MB/s\r",
      "pymc-2.3.4-np1  76% |######################################################################                      | Time: 0:00:00   8.49 MB/s\r",
      "pymc-2.3.4-np1  77% |#######################################################################                     | Time: 0:00:00   8.51 MB/s\r",
      "pymc-2.3.4-np1  78% |########################################################################                    | Time: 0:00:00   8.56 MB/s\r",
      "pymc-2.3.4-np1  80% |#########################################################################                   | Time: 0:00:00   8.55 MB/s\r",
      "pymc-2.3.4-np1  81% |##########################################################################                  | Time: 0:00:00   8.56 MB/s\r",
      "pymc-2.3.4-np1  82% |###########################################################################                 | Time: 0:00:00   8.59 MB/s\r",
      "pymc-2.3.4-np1  83% |############################################################################                | Time: 0:00:00   8.62 MB/s\r",
      "pymc-2.3.4-np1  84% |#############################################################################               | Time: 0:00:00   8.60 MB/s\r",
      "pymc-2.3.4-np1  85% |##############################################################################              | Time: 0:00:00   8.64 MB/s\r",
      "pymc-2.3.4-np1  86% |###############################################################################             | Time: 0:00:00   8.66 MB/s\r",
      "pymc-2.3.4-np1  87% |################################################################################            | Time: 0:00:00   8.67 MB/s\r",
      "pymc-2.3.4-np1  88% |#################################################################################           | Time: 0:00:00   8.68 MB/s\r",
      "pymc-2.3.4-np1  89% |##################################################################################          | Time: 0:00:00   8.71 MB/s\r",
      "pymc-2.3.4-np1  90% |###################################################################################         | Time: 0:00:00   8.73 MB/s\r",
      "pymc-2.3.4-np1  91% |####################################################################################        | Time: 0:00:00   8.75 MB/s\r",
      "pymc-2.3.4-np1  92% |#####################################################################################       | Time: 0:00:00   8.74 MB/s\r",
      "pymc-2.3.4-np1  93% |######################################################################################      | Time: 0:00:00   8.77 MB/s\r",
      "pymc-2.3.4-np1  95% |#######################################################################################     | Time: 0:00:00   8.79 MB/s\r",
      "pymc-2.3.4-np1  96% |########################################################################################    | Time: 0:00:00   8.80 MB/s\r",
      "pymc-2.3.4-np1  97% |#########################################################################################   | Time: 0:00:00   8.78 MB/s\r",
      "pymc-2.3.4-np1  98% |##########################################################################################  | Time: 0:00:00   8.81 MB/s\r",
      "pymc-2.3.4-np1  99% |########################################################################################### | Time: 0:00:00   8.84 MB/s\r",
      "pymc-2.3.4-np1 100% |############################################################################################| Time: 0:00:00   8.88 MB/s\r",
      "pymc-2.3.4-np1 100% |############################################################################################| Time: 0:00:00   8.87 MB/s\r",
      "pymc-2.3.4-np1 100% |############################################################################################| Time: 0:00:00   8.86 MB/s\r\n",
      "Extracting packages ...\n",
      "[                    ]|                                                                                                               |   0%\r",
      "[conda-env           ]|                                                                                                               |   0%\r",
      "[pymc                ]|#######################################################                                                        |  50%\r",
      "[      COMPLETE      ]|###############################################################################################################| 100%\r\n",
      "Unlinking packages ...\n",
      "[      COMPLETE      ]|                                                                                                               |   0%\r",
      "[conda-env           ]|                                                                                                               |   0%\r",
      "[conda-env           ]|                                                                                                               |   0%\r",
      "[      COMPLETE      ]|###############################################################################################################| 100%\r\n",
      "Linking packages ...\n",
      "[      COMPLETE      ]|                                                                                                               |   0%\r",
      "[conda-env-2.2.2     ]|                                                                                                               |   0%\r",
      "[conda-env-2.2.2     ]|                                                                                                               |   0%\r",
      "[pymc-2.3.4          ]|#######################################################                                                        |  50%\r",
      "[      COMPLETE      ]|###############################################################################################################| 100%\r\n"
     ]
    }
   ],
   "source": [
    "%%bash\n",
    "conda install pymc"
   ]
  },
  {
   "cell_type": "markdown",
   "metadata": {},
   "source": [
    "But, what if I want something that's outside of `conda search`? There are certainly [ways to do so](http://conda.pydata.org/), but for this course we're going to treat Anaconda as a closed ecosystem."
   ]
  },
  {
   "cell_type": "code",
   "execution_count": 29,
   "metadata": {
    "collapsed": false
   },
   "outputs": [
    {
     "data": {
      "text/html": [
       "<img src=\"http://i.dailymail.co.uk/i/pix/2013/01/24/article-2267504-17212EB3000005DC-781_634x663.jpg\"/>"
      ],
      "text/plain": [
       "<IPython.core.display.Image object>"
      ]
     },
     "execution_count": 29,
     "metadata": {},
     "output_type": "execute_result"
    }
   ],
   "source": [
    "Image(url='http://i.dailymail.co.uk/i/pix/2013/01/24/article-2267504-17212EB3000005DC-781_634x663.jpg')"
   ]
  },
  {
   "cell_type": "markdown",
   "metadata": {},
   "source": [
    "If the closed ecosystem is stifling, you can break out into the larger world by changing your default Python installation. Navigate to your home directory and either comment out the following line. Reload the bash script that runs whenever you start a new session, and `which -a python` should no longer contain Anaconda. You can still use the Anaconda install, but it won't be the default."
   ]
  },
  {
   "cell_type": "code",
   "execution_count": 1,
   "metadata": {
    "collapsed": false
   },
   "outputs": [
    {
     "name": "stdout",
     "output_type": "stream",
     "text": [
      "export PATH=\"/home/cahern-adm/anaconda/bin:$PATH\"\n"
     ]
    }
   ],
   "source": [
    "%%bash\n",
    "cd ~\n",
    "grep \"anaconda\" .bashrc\n",
    "source ~/.bashrc"
   ]
  },
  {
   "cell_type": "markdown",
   "metadata": {},
   "source": [
    "To install more packages you'll need to install [pip](https://pip.pypa.io/en/stable/installing.html#install-pip). Pip will allow you to install packages from the Python Package Index (PyPI) with a single command."
   ]
  },
  {
   "cell_type": "code",
   "execution_count": 4,
   "metadata": {
    "collapsed": false
   },
   "outputs": [
    {
     "name": "stdout",
     "output_type": "stream",
     "text": [
      "Collecting textblob\n",
      "  Downloading textblob-0.9.1-py2.py3-none-any.whl (633kB)\n",
      "Requirement already satisfied (use --upgrade to upgrade): nltk>=3.0 in /home/cahern-adm/anaconda/lib/python2.7/site-packages (from textblob)\n",
      "Installing collected packages: textblob\n",
      "Successfully installed textblob-0.9.1\n"
     ]
    }
   ],
   "source": [
    "%%bash\n",
    "pip install textblob"
   ]
  },
  {
   "cell_type": "code",
   "execution_count": 10,
   "metadata": {
    "collapsed": false
   },
   "outputs": [
    {
     "name": "stdout",
     "output_type": "stream",
     "text": [
      "textblob (0.9.1)\n",
      "Theano (0.6.0)\n",
      "toolz (0.7.1)\n",
      "tornado (4.1)\n",
      "ujson (1.33)\n",
      "unicodecsv (0.9.4)\n",
      "Werkzeug (0.10.1)\n",
      "xlrd (0.9.3)\n",
      "XlsxWriter (0.6.7)\n",
      "xlwt (0.7.5)\n",
      "110\n"
     ]
    }
   ],
   "source": [
    "%%bash\n",
    "pip list | tail\n",
    "pip list | wc -l"
   ]
  },
  {
   "cell_type": "markdown",
   "metadata": {},
   "source": [
    "## R"
   ]
  },
  {
   "cell_type": "code",
   "execution_count": 34,
   "metadata": {
    "collapsed": false
   },
   "outputs": [
    {
     "data": {
      "text/html": [
       "<img src=\"http://1.bp.blogspot.com/-W8bv1BMOwEk/UjtKZ22SGXI/AAAAAAAAAFs/FCJiV-k-4PQ/s1600/R+Pirate.png\"/>"
      ],
      "text/plain": [
       "<IPython.core.display.Image object>"
      ]
     },
     "execution_count": 34,
     "metadata": {},
     "output_type": "execute_result"
    }
   ],
   "source": [
    "from IPython.display import Image\n",
    "Image(url='http://1.bp.blogspot.com/-W8bv1BMOwEk/UjtKZ22SGXI/AAAAAAAAAFs/FCJiV-k-4PQ/s1600/R+Pirate.png')"
   ]
  },
  {
   "cell_type": "markdown",
   "metadata": {},
   "source": [
    "http://www.r-bloggers.com/how-do-you-draw-a-pirate-hat-rnorm/"
   ]
  }
 ],
 "metadata": {
  "kernelspec": {
   "display_name": "Python 2",
   "language": "python",
   "name": "python2"
  },
  "language_info": {
   "codemirror_mode": {
    "name": "ipython",
    "version": 2
   },
   "file_extension": ".py",
   "mimetype": "text/x-python",
   "name": "python",
   "nbconvert_exporter": "python",
   "pygments_lexer": "ipython2",
   "version": "2.7.10"
  }
 },
 "nbformat": 4,
 "nbformat_minor": 0
}
