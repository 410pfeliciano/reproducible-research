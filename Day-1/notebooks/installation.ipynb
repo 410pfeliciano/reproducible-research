{
 "cells": [
  {
   "cell_type": "markdown",
   "metadata": {},
   "source": [
    "# Installing needed software"
   ]
  },
  {
   "cell_type": "markdown",
   "metadata": {},
   "source": [
    "Modern scientific research often either requires or can greatly benefit from the use of computational tools. Even if you're not on the cutting edge, you can make your life better and easier using these tools to conduct and share your research. The goal here is to give a brief overview of the tools we'll be using in this course and how to install them along with other tools on your system:\n",
    "\n",
    "* Installing **Python** and the **SciPy stack**\n",
    "* Installing **R**, **RStudio** and additional packages\n",
    "* Installing **TeX** via **TeX Live** and **Pandoc**\n",
    "\n",
    "A quick disclaimer and a few notes before we dive in. \n",
    "\n",
    "**First**, these instructions are oriented towards Unix-like operating systems (i.e. Linux, Mac OS X). If you are running Windows, strongly consider installing a few things to follow along with the course. [Cygwin](https://www.cygwin.com/) is a linux-like environment where you can use linux commands. It is also possible to create a [linux partition](http://www.everydaylinuxuser.com/2014/05/install-ubuntu-1404-alongside-windows.html) on your hard drive, which will allow you to keep Windows and get the benefits of a linux distribution. Most notably, a package manager makes everything below extremely easy.\n",
    "\n",
    "**Second**, the location of files may vary across operating systems. We'll show you how to determine these locations, but keep in mind where the relevant locations are for your operating system. \n",
    "\n",
    "**Third**, some of the cells below will generate quite a bit of output or may install things on your system. These have been left as raw input rather than code. If you want to execute them you can copy and paste the commands in the terminal.\n",
    "\n",
    "**Fourth**, and most importantly, getting things up and running is a process. [Google](http://www.lmgtfy.com), [Stack Exchange](http://stackexchange.com/), and more specific [google groups](https://groups.google.com/a/continuum.io/forum/#!forum/anaconda) will be invaluable. Don't be afraid to ask for help while you're working through things. You might figure things out in the meanwhile, but it never hurts."
   ]
  },
  {
   "cell_type": "markdown",
   "metadata": {},
   "source": [
    "# Python"
   ]
  },
  {
   "cell_type": "markdown",
   "metadata": {},
   "source": [
    "## Description"
   ]
  },
  {
   "cell_type": "markdown",
   "metadata": {},
   "source": [
    "[Python](https://www.python.org/) is a [widely-used, highly-extensible](https://www.python.org/about/success/#education), and easily-learned programming language."
   ]
  },
  {
   "cell_type": "code",
   "execution_count": 40,
   "metadata": {
    "collapsed": false
   },
   "outputs": [
    {
     "data": {
      "text/html": [
       "<img src=\"http://imgs.xkcd.com/comics/python.png\"/>"
      ],
      "text/plain": [
       "<IPython.core.display.Image object>"
      ]
     },
     "execution_count": 40,
     "metadata": {},
     "output_type": "execute_result"
    }
   ],
   "source": [
    "from IPython.display import Image # Import image display for IPython\n",
    "Image(url='http://imgs.xkcd.com/comics/python.png') # Display url as an image"
   ]
  },
  {
   "cell_type": "markdown",
   "metadata": {},
   "source": [
    "Within the Python computing environment, we'll be using several useful extensions. Collectively, these are referred to as the [SciPy stack](http://www.scipy.org/stackspec.html#stackspec). The current version of the SciPy stack requires the following versions of various tools:\n",
    "\n",
    "* [Python](https://www.python.org/)  (2.x >= 2.6 or 3.x >= 3.2) : see above, results may vary\n",
    "* [NumPy](https://github.com/numpy/numpy)  (>= 1.6) : fundamental package needed for scientific computing with python\n",
    "* [SciPy](https://github.com/scipy/scipy) (>= 0.10) : open-source software for mathematics, science, and engineering\n",
    "* [Matplotlib](http://matplotlib.org/) (>= 1.1) : open-source plotting library, deeply integrated with python\n",
    "* [IPython]() (>= 0.13) : a command shell for interactive computing in multiple programming languages\n",
    "* [Pandas](https://github.com/pydata/pandas)  (>= 0.8) : fast, flexible, and expressive data structures\n",
    "* [Sympy](http://www.sympy.org/en/index.html) (>= 0.7) : library for symbolic mathematics in python, moving towards a full computer algebra system\n",
    "\n",
    "We'll also be using third-party [SciPy toolkits](https://scikits.appspot.com/):\n",
    "\n",
    "* [Scikit-learn](http://scikit-learn.org/dev/index.html) : simple, efficient, and reusable tools for machine learning\n",
    "* [Scikit-statsmodels](https://pypi.python.org/pypi/scikits.statsmodels) : Python package for statistical computations\n",
    "* ...\n",
    "\n",
    "You'll find lots of detailed tools at Scikits. If you're thinking about implementing something in your own work, check these kits and the Python Package Index ([PyPI](https://pypi.python.org/pypi)) to see if someone has already done the work.  Below we'll talk about how to install packages from these locations."
   ]
  },
  {
   "cell_type": "markdown",
   "metadata": {},
   "source": [
    "## Installation"
   ]
  },
  {
   "cell_type": "markdown",
   "metadata": {},
   "source": [
    "If you're already started using some of these tools in your own research, then you've probably installed at least `Python`, and maybe more. In fact, most recent operating systesms come with some version of `Python` already installed.\n",
    "To start off, let's find out what you've installed and where it's installed."
   ]
  },
  {
   "cell_type": "markdown",
   "metadata": {},
   "source": [
    "As a start let's find out the version of `Python` we've got installed. You can ignore the first line, which just tells `IPython` to treat what follows as input to the bash shell. So far so good!"
   ]
  },
  {
   "cell_type": "code",
   "execution_count": 1,
   "metadata": {
    "collapsed": false
   },
   "outputs": [
    {
     "name": "stdout",
     "output_type": "stream",
     "text": [
      "Python version is:\n"
     ]
    },
    {
     "name": "stderr",
     "output_type": "stream",
     "text": [
      "Python 2.7.10 :: Anaconda 2.3.0 (64-bit)\n"
     ]
    }
   ],
   "source": [
    "%%bash\n",
    "echo \"Python version is:\"\n",
    "python --version"
   ]
  },
  {
   "cell_type": "markdown",
   "metadata": {},
   "source": [
    "Now, let's check to see what else is installed. Again, we can do this from the command line. But, since we're trying to find out whether a `Python` package, rather than `Python` itself is installed, we'll ask `Python` to run the command in quotes. The option `-c` tells `Python` to treat the quoted text as a command. The semicolon inside breaks up the commands. If something isn't installed, we'll get an error like the following."
   ]
  },
  {
   "cell_type": "code",
   "execution_count": 2,
   "metadata": {
    "collapsed": false
   },
   "outputs": [
    {
     "name": "stderr",
     "output_type": "stream",
     "text": [
      "Traceback (most recent call last):\n",
      "  File \"<string>\", line 1, in <module>\n",
      "ImportError: No module named notinstalledyet\n"
     ]
    }
   ],
   "source": [
    "%%bash\n",
    "python -c \"import notinstalledyet; print notinstalledyet.__version__\""
   ]
  },
  {
   "cell_type": "markdown",
   "metadata": {},
   "source": [
    "Otherwise, we'll find out what version is installed."
   ]
  },
  {
   "cell_type": "code",
   "execution_count": 3,
   "metadata": {
    "collapsed": false
   },
   "outputs": [
    {
     "name": "stdout",
     "output_type": "stream",
     "text": [
      "NumPy version is:\n",
      "1.9.2\n",
      "SciPy version is:\n",
      "0.15.1\n",
      "Matplotlib version is:\n",
      "1.4.3\n",
      "IPython version is:\n",
      "3.2.0\n",
      "Pandas version is:\n",
      "0.16.2\n",
      "SymPy version is:\n",
      "0.7.6\n"
     ]
    }
   ],
   "source": [
    "%%bash\n",
    "echo \"NumPy version is:\"\n",
    "python -c \"import numpy; print numpy.__version__\"\n",
    "echo \"SciPy version is:\"\n",
    "python -c \"import scipy; print scipy.__version__\"\n",
    "echo \"Matplotlib version is:\"\n",
    "python -c \"import matplotlib; print matplotlib.__version__\"\n",
    "echo \"IPython version is:\"\n",
    "ipython -V\n",
    "echo \"Pandas version is:\"\n",
    "python -c \"import pandas; print pandas.__version__\"\n",
    "echo \"SymPy version is:\"\n",
    "python -c \"import sympy; print sympy.__version__\""
   ]
  },
  {
   "cell_type": "markdown",
   "metadata": {},
   "source": [
    "Alright, it looks like we've got the SciPy stack installed. This is good, but not a trivial accomplishment. Sometimes getting to this point can be a bit frustrating and require a lot of time debugging and googling error messages."
   ]
  },
  {
   "cell_type": "code",
   "execution_count": 5,
   "metadata": {
    "collapsed": false
   },
   "outputs": [
    {
     "data": {
      "text/html": [
       "<img src=\"https://imgs.xkcd.com/comics/dependencies.png\"/>"
      ],
      "text/plain": [
       "<IPython.core.display.Image object>"
      ]
     },
     "execution_count": 5,
     "metadata": {},
     "output_type": "execute_result"
    }
   ],
   "source": [
    "Image(url='https://imgs.xkcd.com/comics/dependencies.png')"
   ]
  },
  {
   "cell_type": "markdown",
   "metadata": {},
   "source": [
    "For the purposes of this course, we suggest using the [Anaconda](https://store.continuum.io/cshop/anaconda/) scientific Python distribution, which is supported on Linux, Mac OS X, and Windows. The benefits of using Anaconda are:\n",
    "\n",
    "* Parallel to other Python installations\n",
    "* Maintained by [Continuum](http://continuum.io/)\n",
    "* [Free](https://en.wikipedia.org/wiki/The_Free_Software_Definition) in several ways\n",
    "* Can be installed without root privileges\n",
    "\n",
    "Take a few minutes to install Anaconda and then we'll give a quick run down of its structure."
   ]
  },
  {
   "cell_type": "markdown",
   "metadata": {},
   "source": [
    "Now that we've installed Anaconda, let's take a look at where our operating system thinks `Python` is."
   ]
  },
  {
   "cell_type": "code",
   "execution_count": 46,
   "metadata": {
    "collapsed": true
   },
   "outputs": [],
   "source": [
    "%man which"
   ]
  },
  {
   "cell_type": "code",
   "execution_count": 4,
   "metadata": {
    "collapsed": false
   },
   "outputs": [
    {
     "name": "stdout",
     "output_type": "stream",
     "text": [
      "/home/cahern/anaconda/bin/python\n"
     ]
    }
   ],
   "source": [
    "%%bash\n",
    "which python"
   ]
  },
  {
   "cell_type": "markdown",
   "metadata": {},
   "source": [
    "But wait, didn't we say that Anaconda installs `Python` in parallel to other installations. It does, we've just listed the default location. Let's look for all locations of `Python`. The option `-a` selects all pathnames to installations of `Python` rather than just the default."
   ]
  },
  {
   "cell_type": "code",
   "execution_count": 5,
   "metadata": {
    "collapsed": false
   },
   "outputs": [
    {
     "name": "stdout",
     "output_type": "stream",
     "text": [
      "/home/cahern/anaconda/bin/python\n",
      "/usr/bin/python\n"
     ]
    }
   ],
   "source": [
    "%%bash\n",
    "which -a python"
   ]
  },
  {
   "cell_type": "markdown",
   "metadata": {},
   "source": [
    "There we go! It now looks like we have two different versions of `Python` installed at different locations. Take a look at the versions of the different packages we'll be using in each of the two . Note that the versions used by different installations of `Python` are not necessarily the same. It's important to remember this as you install additional packages."
   ]
  },
  {
   "cell_type": "code",
   "execution_count": 47,
   "metadata": {
    "collapsed": false
   },
   "outputs": [
    {
     "name": "stdout",
     "output_type": "stream",
     "text": [
      "/home/cahern/anaconda/bin/python\n",
      "numpy\n",
      "1.9.2\n",
      "/home/cahern/anaconda/bin/python\n",
      "scipy\n",
      "0.15.1\n",
      "/home/cahern/anaconda/bin/python\n",
      "matplotlib\n",
      "1.4.3\n",
      "/home/cahern/anaconda/bin/python\n",
      "pandas\n",
      "0.16.2\n",
      "/home/cahern/anaconda/bin/python\n",
      "sympy\n",
      "0.7.6\n",
      "\n",
      "/usr/bin/python\n",
      "numpy\n",
      "1.8.2\n",
      "/usr/bin/python\n",
      "scipy\n",
      "0.13.3\n",
      "/usr/bin/python\n",
      "matplotlib\n",
      "1.3.1\n",
      "/usr/bin/python\n",
      "pandas\n",
      "0.13.1\n",
      "/usr/bin/python\n",
      "sympy\n",
      "0.7.4.1\n",
      "\n"
     ]
    }
   ],
   "source": [
    "%%bash\n",
    "for python_loc in $(which -a python) # For each python installation\n",
    "    do \n",
    "        for package in numpy scipy matplotlib pandas sympy # For each of these packages\n",
    "            do \n",
    "                echo \"${python_loc}\"\n",
    "                echo \"$package\"\n",
    "                \"${python_loc}\" -c \"import $package; print $package.__version__\"\n",
    "            done\n",
    "        echo\n",
    "    done"
   ]
  },
  {
   "cell_type": "markdown",
   "metadata": {},
   "source": [
    "Anaconda comes with a package and virtual environment manager `conda` with some pretty great functionality. Check out this [cheat sheet](http://conda.pydata.org/docs/_downloads/conda-cheatsheet.pdf) for an overview. We can list the packages currently installed for and accessible to Anaconda. This yields some of the information we found earlier such as the version numbers of the different packages we'll be using."
   ]
  },
  {
   "cell_type": "code",
   "execution_count": 8,
   "metadata": {
    "collapsed": false
   },
   "outputs": [
    {
     "name": "stdout",
     "output_type": "stream",
     "text": [
      "numpy                     1.9.2                    py27_0  \n",
      "\n",
      "# packages in environment at /home/cahern/anaconda:\n",
      "#\n",
      "_license                  1.1                      py27_0  \n",
      "abstract-rendering        0.5.1                np19py27_0  \n",
      "alabaster                 0.7.3                    py27_0  \n",
      "anaconda                  2.3.0                np19py27_0  \n",
      "argcomplete               0.8.9                    py27_0  \n",
      "astropy                   1.0.3                np19py27_0  \n",
      "babel                     1.3                      py27_0  \n",
      "backports.ssl-match-hostname 3.4.0.2                   <pip>\n",
      "\n",
      "158\n"
     ]
    }
   ],
   "source": [
    "%%bash\n",
    "conda list | grep \"numpy\" # Find the version of numpy installed\n",
    "echo\n",
    "conda list | head # Print the first few lines of packages in Anaconda\n",
    "echo\n",
    "conda list | wc -l # Print the count of packages installed via Anaconda"
   ]
  },
  {
   "cell_type": "markdown",
   "metadata": {},
   "source": [
    "Before doing anything else, let's update `conda` and `anaconda`. The first command will make sure that `conda` has the most up to date information about packages. Note that the second command **does not** update all packages available to Anaconda to the latest versions. Rather, it updates to the most recent version where all of the packages work together. This is one of the benefits of using a managed distribution: you know everything will work well together. But, be careful about \"updating\"."
   ]
  },
  {
   "cell_type": "raw",
   "metadata": {
    "collapsed": false
   },
   "source": [
    "conda update conda\n",
    "conda update anaconda"
   ]
  },
  {
   "cell_type": "markdown",
   "metadata": {},
   "source": [
    "In addition to the full SciPy stack Anaconda comes with [a lot](http://docs.continuum.io/anaconda/pkg-docs.html) of packages and tools ready to use. This is another one of the benefits of using a maintained Python distribution: it's possible that you'll never have to install anything beyond what's already included. In addition to the packages that are already installed, there are more to be installed by searching."
   ]
  },
  {
   "cell_type": "code",
   "execution_count": 71,
   "metadata": {
    "collapsed": false
   },
   "outputs": [
    {
     "name": "stdout",
     "output_type": "stream",
     "text": [
      "198\n",
      "156\n"
     ]
    }
   ],
   "source": [
    "%%bash\n",
    "conda list | wc -l # Print the number of packages installed by Anaconda\n",
    "conda search | grep '*' | wc -l # Print the number of packages installable via conda"
   ]
  },
  {
   "cell_type": "markdown",
   "metadata": {},
   "source": [
    "For example, if we want to use [MCMC methods](https://en.wikipedia.org/wiki/Markov_chain_Monte_Carlo), we can install [PyMC](http://camdavidsonpilon.github.io/Probabilistic-Programming-and-Bayesian-Methods-for-Hackers/)."
   ]
  },
  {
   "cell_type": "code",
   "execution_count": 33,
   "metadata": {
    "collapsed": false
   },
   "outputs": [
    {
     "name": "stdout",
     "output_type": "stream",
     "text": [
      "Fetching package metadata: ....\n",
      "pymc                         2.2                 np17py27_p0  defaults        \n",
      "                             2.2                  np17py27_0  defaults        \n",
      "                             2.3                  np17py27_0  defaults        \n",
      "                             2.3                  np18py27_1  defaults        \n",
      "                             2.3.2                np18py27_0  defaults        \n",
      "                             2.3.2                np18py26_0  defaults        \n",
      "                             2.3.3                np19py27_0  defaults        \n",
      "                             2.3.3                np19py26_0  defaults        \n",
      "                             2.3.3                np18py27_0  defaults        \n",
      "                             2.3.3                np18py26_0  defaults        \n",
      "                             2.3.4               np19py34_p0  defaults        [mkl]\n",
      "                             2.3.4                np19py34_0  defaults        \n",
      "                             2.3.4               np19py33_p0  defaults        [mkl]\n",
      "                             2.3.4                np19py33_0  defaults        \n",
      "                             2.3.4               np19py27_p0  defaults        [mkl]\n",
      "                             2.3.4                np19py27_0  defaults        \n",
      "                             2.3.4               np19py26_p0  defaults        [mkl]\n",
      "                             2.3.4                np19py26_0  defaults        \n"
     ]
    }
   ],
   "source": [
    "%%bash\n",
    "conda search pymc"
   ]
  },
  {
   "cell_type": "markdown",
   "metadata": {},
   "source": [
    "The following command will install the package:"
   ]
  },
  {
   "cell_type": "raw",
   "metadata": {
    "collapsed": false
   },
   "source": [
    "conda install pymc"
   ]
  },
  {
   "cell_type": "markdown",
   "metadata": {},
   "source": [
    "Anaconda offers a powerful means of revising and managing installations. If you install a package and everything breaks, then you can revert to a previous state. To list the changes you've made to Anaconda, type the following, which will show you the various revisions you've made since you've installed Anaconda."
   ]
  },
  {
   "cell_type": "code",
   "execution_count": 76,
   "metadata": {
    "collapsed": false
   },
   "outputs": [
    {
     "name": "stdout",
     "output_type": "stream",
     "text": [
      "    +r-lattice-0.20_31\n",
      "    +r-mass-7.3_42\n",
      "    +r-matrix-1.2_1\n",
      "    +r-mgcv-1.8_6\n",
      "    +r-nlme-3.1_121\n",
      "    +r-nnet-7.3_10\n",
      "    +r-recommended-3.2.0\n",
      "    +r-rpart-4.1_10\n",
      "    +r-spatial-7.3_10\n",
      "    +r-survival-2.38_3\n",
      "\n",
      "2015-07-15 12:27:14  (rev 11)\n",
      "    +rpy2-2.5.6\n",
      "\n",
      "2015-07-15 12:29:03  (rev 12)\n",
      "     ipython  {3.2.0 -> 3.2.1}\n",
      "     ipython-notebook  {3.2.0 -> 3.2.1}\n",
      "     mistune  {0.5.1 -> 0.6}\n",
      "     r  {3.2.0 -> 3.1.3}\n",
      "     r-base  {3.2.0 -> 3.1.3}\n",
      "     r-boot  {1.3_16 -> 1.3_16}\n",
      "     r-class  {7.3_13 -> 7.3_12}\n",
      "     r-cluster  {2.0.2 -> 1.15.3}\n",
      "     r-codetools  {0.2_11 -> 0.2_11}\n",
      "     r-foreign  {0.8_65 -> 0.8_63}\n",
      "     r-kernsmooth  {2.23_15 -> 2.23_14}\n",
      "     r-lattice  {0.20_31 -> 0.20_31}\n",
      "     r-mass  {7.3_42 -> 7.3.37}\n",
      "     r-matrix  {1.2_1 -> 1.2_1}\n",
      "     r-mgcv  {1.8_6 -> 1.8_6}\n",
      "     r-nlme  {3.1_121 -> 3.1.118}\n",
      "     r-nnet  {7.3_10 -> 7.3_9}\n",
      "     r-recommended  {3.2.0 -> 3.1.3}\n",
      "     r-rpart  {4.1_10 -> 4.1_9}\n",
      "     r-spatial  {7.3_10 -> 7.3_9}\n",
      "     r-survival  {2.38_3 -> 2.38_2}\n",
      "    +r-base64enc-0.1_2\n",
      "    +r-digest-0.6.8\n",
      "    +r-evaluate-0.7\n",
      "    +r-irdisplay-0.3\n",
      "    +r-irkernel-0.4\n",
      "    +r-jsonlite-0.9.14\n",
      "    +r-repr-0.1\n",
      "    +r-rzmq-0.7.7\n",
      "    +r-stringr-0.6.2\n",
      "    +r-uuid-0.1_1\n",
      "\n",
      "2015-07-15 13:19:20  (rev 13)\n",
      "    -r-nlme-3.1.118\n",
      "\n"
     ]
    }
   ],
   "source": [
    "%%bash\n",
    "conda list --revision | tail -n 50 # Print the last 50 lines of previous revisions"
   ]
  },
  {
   "cell_type": "markdown",
   "metadata": {},
   "source": [
    "You can revert to any of these points using the following, where `i` is the index of the point you want to revert to."
   ]
  },
  {
   "cell_type": "raw",
   "metadata": {
    "collapsed": true
   },
   "source": [
    "conda install --revision=i"
   ]
  },
  {
   "cell_type": "markdown",
   "metadata": {},
   "source": [
    "This is great, but what if I want something that's outside of `conda search`? Well, for the most part, in this course we're going to treat Anaconda as a closed ecosystem."
   ]
  },
  {
   "cell_type": "code",
   "execution_count": 11,
   "metadata": {
    "collapsed": false
   },
   "outputs": [
    {
     "data": {
      "text/html": [
       "<img src=\"http://i.dailymail.co.uk/i/pix/2013/01/24/article-2267504-17212EB3000005DC-781_634x663.jpg\"/>"
      ],
      "text/plain": [
       "<IPython.core.display.Image object>"
      ]
     },
     "execution_count": 11,
     "metadata": {},
     "output_type": "execute_result"
    }
   ],
   "source": [
    "Image(url='http://i.dailymail.co.uk/i/pix/2013/01/24/article-2267504-17212EB3000005DC-781_634x663.jpg')"
   ]
  },
  {
   "cell_type": "markdown",
   "metadata": {},
   "source": [
    "There are, however, two options if the closed ecosystem is cramping your style:\n",
    "\n",
    "1. You can add packages via conda using [anaconda.org](https://anaconda.org/about) and [binstar](https://binstar.org/about) which is an online package hosting system from Continuum analytics\n",
    "2. You can use the default python installation on your system and manually add packages using pip or source files\n",
    "\n",
    "In this section, we'll take a look at both options when it comes to installing and/or integrating `R` with your Anaconda distribution."
   ]
  },
  {
   "cell_type": "markdown",
   "metadata": {},
   "source": [
    "You can break out into the larger world by changing your default Python installation. Navigate to your home directory and edit either the `.bashrc` or `.bash_profile` file. The file you have to edit will depend on your operating system."
   ]
  },
  {
   "cell_type": "code",
   "execution_count": 9,
   "metadata": {
    "collapsed": false
   },
   "outputs": [
    {
     "name": "stdout",
     "output_type": "stream",
     "text": [
      ".bash_history\n",
      ".bash_logout\n",
      ".bashrc\n",
      ".bashrc-anaconda.bak\n"
     ]
    }
   ],
   "source": [
    "%%bash\n",
    "cd ~\n",
    "ls -a | grep \".bash\""
   ]
  },
  {
   "cell_type": "markdown",
   "metadata": {},
   "source": [
    "Before doing anything, make a backup copy of whatever you're editing: `cp ~/.bashrc ~/.bashrc.bak`. You can either comment out the following line:"
   ]
  },
  {
   "cell_type": "code",
   "execution_count": 15,
   "metadata": {
    "collapsed": false
   },
   "outputs": [
    {
     "name": "stdout",
     "output_type": "stream",
     "text": [
      "export PATH=\"/home/cahern/anaconda/bin:$PATH\"\n"
     ]
    }
   ],
   "source": [
    "%%bash\n",
    "cd ~\n",
    "grep \"anaconda\" .bashrc"
   ]
  },
  {
   "cell_type": "markdown",
   "metadata": {},
   "source": [
    "Or you can edit the line so that your system will look in the Anaconda distribution second:"
   ]
  },
  {
   "cell_type": "raw",
   "metadata": {},
   "source": [
    "export PATH=\"$PATH:/home/cahern/anaconda/bin\""
   ]
  },
  {
   "cell_type": "markdown",
   "metadata": {},
   "source": [
    "Check out the PATH variable on your system:"
   ]
  },
  {
   "cell_type": "code",
   "execution_count": 48,
   "metadata": {
    "collapsed": false
   },
   "outputs": [
    {
     "name": "stdout",
     "output_type": "stream",
     "text": [
      "/home/cahern/anaconda/bin:/usr/local/sbin:/usr/local/bin:/usr/sbin:/usr/bin:/sbin:/bin:/usr/games:/usr/local/games\n"
     ]
    }
   ],
   "source": [
    "%%bash\n",
    "echo $PATH"
   ]
  },
  {
   "cell_type": "markdown",
   "metadata": {},
   "source": [
    "Note that this will only affect executable binaries that are common to both Anaconda and your systems default installation. If you try running any of these, the Anaconda installation will be found first and used."
   ]
  },
  {
   "cell_type": "code",
   "execution_count": 20,
   "metadata": {
    "collapsed": false
   },
   "outputs": [
    {
     "name": "stdout",
     "output_type": "stream",
     "text": [
      "2to3\n",
      "assistant\n",
      "c_rehash\n",
      "curl\n",
      "designer\n",
      "easy_install\n",
      "easy_install-2.7\n",
      "f2py\n",
      "fc-cache\n",
      "fc-cat\n",
      "fc-list\n",
      "fc-match\n",
      "fc-pattern\n",
      "fc-query\n",
      "fc-scan\n",
      "fc-validate\n",
      "ipcluster\n",
      "ipcontroller\n",
      "ipengine\n",
      "iplogger\n",
      "ipython\n",
      "irunner\n",
      "isympy\n",
      "lconvert\n",
      "libpng-config\n",
      "linguist\n",
      "lrelease\n",
      "lupdate\n",
      "moc\n",
      "openssl\n",
      "pip\n",
      "pip2\n",
      "pixeltool\n",
      "pt2to3\n",
      "ptdump\n",
      "ptrepack\n",
      "pycolor\n",
      "pydoc\n",
      "python\n",
      "python2\n",
      "python2.7\n",
      "python-config\n",
      "qcollectiongenerator\n",
      "qdbus\n",
      "qdbuscpp2xml\n",
      "qdbusviewer\n",
      "qdbusxml2cpp\n",
      "qhelpconverter\n",
      "qhelpgenerator\n",
      "qmake\n",
      "qmlplugindump\n",
      "qmlviewer\n",
      "qtconfig\n",
      "rcc\n",
      "tclsh8.5\n",
      "uic\n",
      "wish8.5\n",
      "xmlpatterns\n",
      "xmlpatternsvalidator\n",
      "\n",
      "59\n"
     ]
    }
   ],
   "source": [
    "%%bash\n",
    "comm -12 <(ls ~/anaconda/bin/ | sort) <(ls /usr/bin/ | sort)\n",
    "echo\n",
    "comm -12 <(ls ~/anaconda/bin/ | sort) <(ls /usr/bin/ | sort) | wc -l"
   ]
  },
  {
   "cell_type": "markdown",
   "metadata": {},
   "source": [
    "Reload the bash script, and `which -a python` should either no longer contain Anaconda or the Anaconda installation should be second. You can still use the Python installed by Anaconda, but it won't be the default."
   ]
  },
  {
   "cell_type": "raw",
   "metadata": {
    "collapsed": true
   },
   "source": [
    "source ~/.bashrc\n",
    "which -a python"
   ]
  },
  {
   "cell_type": "markdown",
   "metadata": {},
   "source": [
    "To install more `Python` packages you'll want to install [pip](https://pip.pypa.io/en/stable/installing.html#install-pip), which is a python package manager. It will allow you to install packages from the Python Package Index (PyPI) with a single command. It is important to note that there can be multiple versions of pip installed. Check which version is being used to install things."
   ]
  },
  {
   "cell_type": "code",
   "execution_count": 79,
   "metadata": {
    "collapsed": false
   },
   "outputs": [
    {
     "name": "stdout",
     "output_type": "stream",
     "text": [
      "/home/cahern/anaconda/bin/pip\n",
      "/usr/local/bin/pip\n",
      "/usr/bin/pip\n"
     ]
    }
   ],
   "source": [
    "%%bash \n",
    "which -a pip"
   ]
  },
  {
   "cell_type": "markdown",
   "metadata": {},
   "source": [
    "The Anaconda python installation does not have access to packages installed via the default system pip, and the default python installation on your system does not have access to the packages installed via Anaconda or the Anaconda version of pip."
   ]
  },
  {
   "cell_type": "markdown",
   "metadata": {},
   "source": [
    "If we want to install things solely to the system default python installation, we can:\n",
    "\n",
    "1. Set up aliases for the different commands in `.bashrc` or `.bash_profile`\n",
    "2. Uninstall the Anaconda pip\n",
    "\n",
    "To do the first, add the following lines to  `.bashrc` or `.bash_profile` and run the following:"
   ]
  },
  {
   "cell_type": "raw",
   "metadata": {},
   "source": [
    "alias pip='/usr/local/bin/pip'\n",
    "alias pip-conda='/anaconda/bin/pip'"
   ]
  },
  {
   "cell_type": "raw",
   "metadata": {
    "collapsed": true
   },
   "source": [
    "source ~/.bashrc"
   ]
  },
  {
   "cell_type": "markdown",
   "metadata": {},
   "source": [
    "For the second, do the following:"
   ]
  },
  {
   "cell_type": "code",
   "execution_count": null,
   "metadata": {
    "collapsed": true
   },
   "outputs": [],
   "source": [
    "%%bash\n",
    "conda uninstall pip"
   ]
  },
  {
   "cell_type": "markdown",
   "metadata": {},
   "source": [
    "We can take a look at the list of packages installed by the different version of pip:"
   ]
  },
  {
   "cell_type": "code",
   "execution_count": 21,
   "metadata": {
    "collapsed": false
   },
   "outputs": [
    {
     "name": "stdout",
     "output_type": "stream",
     "text": [
      "/home/cahern/anaconda/bin/pip\n",
      "textblob (0.9.1)\n",
      "Theano (0.7.0)\n",
      "toolz (0.7.2)\n",
      "tornado (4.2)\n",
      "ujson (1.33)\n",
      "unicodecsv (0.9.4)\n",
      "Werkzeug (0.10.4)\n",
      "xlrd (0.9.3)\n",
      "XlsxWriter (0.7.3)\n",
      "xlwt (1.0.0)\n",
      "115\n",
      "\n",
      "/usr/local/bin/pip\n",
      "tornado (4.2)\n",
      "Twisted-Core (13.2.0)\n",
      "Twisted-Web (13.2.0)\n",
      "unity-lens-photos (1.0)\n",
      "urllib3 (1.7.1)\n",
      "wheel (0.24.0)\n",
      "xdiagnose (3.6.3build2)\n",
      "xlrd (0.9.2)\n",
      "xlwt (0.7.5)\n",
      "zope.interface (4.0.5)\n",
      "94\n",
      "\n",
      "/usr/bin/pip\n",
      "Twisted-Core (13.2.0)\n",
      "Twisted-Web (13.2.0)\n",
      "unity-lens-photos (1.0)\n",
      "urllib3 (1.7.1)\n",
      "wheel (0.24.0)\n",
      "wsgiref (0.1.2)\n",
      "xdiagnose (3.6.3build2)\n",
      "xlrd (0.9.2)\n",
      "xlwt (0.7.5)\n",
      "zope.interface (4.0.5)\n",
      "96\n",
      "\n"
     ]
    }
   ],
   "source": [
    "%%bash\n",
    "for pip_loc in $(which -a pip)\n",
    "    do\n",
    "        echo \"${pip_loc}\"\n",
    "        \"${pip_loc}\" list | tail\n",
    "        \"${pip_loc}\" list | wc -l\n",
    "        echo\n",
    "    done"
   ]
  },
  {
   "cell_type": "markdown",
   "metadata": {},
   "source": [
    "We can also install additional packages via the following, but be conscientious about what `pip` you're using and where it's being installed."
   ]
  },
  {
   "cell_type": "code",
   "execution_count": 6,
   "metadata": {
    "collapsed": false
   },
   "outputs": [
    {
     "name": "stdout",
     "output_type": "stream",
     "text": [
      "Requirement already satisfied (use --upgrade to upgrade): textblob in /home/cahern/anaconda/lib/python2.7/site-packages\n",
      "Requirement already satisfied (use --upgrade to upgrade): nltk>=3.0 in /home/cahern/anaconda/lib/python2.7/site-packages (from textblob)\n"
     ]
    }
   ],
   "source": [
    "%%bash\n",
    "pip install textblob"
   ]
  },
  {
   "cell_type": "markdown",
   "metadata": {},
   "source": [
    "That wraps up installing python and getting things up and running. We'll now move on to `R`."
   ]
  },
  {
   "cell_type": "markdown",
   "metadata": {},
   "source": [
    "# R"
   ]
  },
  {
   "cell_type": "markdown",
   "metadata": {},
   "source": [
    "## Description"
   ]
  },
  {
   "cell_type": "markdown",
   "metadata": {},
   "source": [
    "[R](http://www.r-project.org/) is a [widely-used](http://www.nature.com/news/programming-tools-adventures-with-r-1.16609) programming language and software environment for statistical computing and graphics."
   ]
  },
  {
   "cell_type": "code",
   "execution_count": 22,
   "metadata": {
    "collapsed": false
   },
   "outputs": [
    {
     "data": {
      "text/html": [
       "<img src=\"http://1.bp.blogspot.com/-W8bv1BMOwEk/UjtKZ22SGXI/AAAAAAAAAFs/FCJiV-k-4PQ/s1600/R+Pirate.png\"/>"
      ],
      "text/plain": [
       "<IPython.core.display.Image object>"
      ]
     },
     "execution_count": 22,
     "metadata": {},
     "output_type": "execute_result"
    }
   ],
   "source": [
    "from IPython.display import Image\n",
    "Image(url='http://1.bp.blogspot.com/-W8bv1BMOwEk/UjtKZ22SGXI/AAAAAAAAAFs/FCJiV-k-4PQ/s1600/R+Pirate.png')"
   ]
  },
  {
   "cell_type": "markdown",
   "metadata": {},
   "source": [
    "## Installation"
   ]
  },
  {
   "cell_type": "markdown",
   "metadata": {},
   "source": [
    "`R` can be downloaded from the closest [mirror server](http://cran.r-project.org/mirrors.html).  Follow the installation instructions. In addition, we'll be using [RStudio](https://www.rstudio.com/) as a development environment for data analysis and document creation. Go ahead, download and install or update both if you need to.\n",
    "\n",
    "You can integrate `R` and `RStudio` with Anaconda in two ways. In fact, one of the most striking benefits of IPython notebooks is the transition to more language agnostic framework as part of `Jupyter` (`= Julia + Python + R`). Ultimately, you can run notebooks using kernels in [many langauges](https://github.com/ipython/ipython/wiki/IPython-kernels-for-other-languages) (e.g. bash, python, R, Matlab, etc.)."
   ]
  },
  {
   "cell_type": "markdown",
   "metadata": {},
   "source": [
    "To give a little taste of the flexibility and scope of the project, we'll use the aptly-named `rmagic`. This will allow us to run `R` code inside of a cell in a `Python` notebook. First, let's get a sense of the range of potential functionality, some of which we've already used above:"
   ]
  },
  {
   "cell_type": "code",
   "execution_count": 22,
   "metadata": {
    "collapsed": false
   },
   "outputs": [
    {
     "data": {
      "application/json": {
       "cell": {
        "!": "OSMagics",
        "HTML": "Other",
        "SVG": "Other",
        "bash": "Other",
        "capture": "ExecutionMagics",
        "debug": "ExecutionMagics",
        "file": "Other",
        "html": "DisplayMagics",
        "javascript": "DisplayMagics",
        "latex": "DisplayMagics",
        "perl": "Other",
        "prun": "ExecutionMagics",
        "pypy": "Other",
        "python": "Other",
        "python2": "Other",
        "python3": "Other",
        "ruby": "Other",
        "script": "ScriptMagics",
        "sh": "Other",
        "svg": "DisplayMagics",
        "sx": "OSMagics",
        "system": "OSMagics",
        "time": "ExecutionMagics",
        "timeit": "ExecutionMagics",
        "writefile": "OSMagics"
       },
       "line": {
        "alias": "OSMagics",
        "alias_magic": "BasicMagics",
        "autocall": "AutoMagics",
        "automagic": "AutoMagics",
        "autosave": "KernelMagics",
        "bookmark": "OSMagics",
        "cat": "Other",
        "cd": "OSMagics",
        "clear": "KernelMagics",
        "colors": "BasicMagics",
        "config": "ConfigMagics",
        "connect_info": "KernelMagics",
        "cp": "Other",
        "debug": "ExecutionMagics",
        "dhist": "OSMagics",
        "dirs": "OSMagics",
        "doctest_mode": "BasicMagics",
        "ed": "Other",
        "edit": "KernelMagics",
        "env": "OSMagics",
        "gui": "BasicMagics",
        "hist": "Other",
        "history": "HistoryMagics",
        "install_default_config": "DeprecatedMagics",
        "install_ext": "ExtensionMagics",
        "install_profiles": "DeprecatedMagics",
        "killbgscripts": "ScriptMagics",
        "ldir": "Other",
        "less": "KernelMagics",
        "lf": "Other",
        "lk": "Other",
        "ll": "Other",
        "load": "CodeMagics",
        "load_ext": "ExtensionMagics",
        "loadpy": "CodeMagics",
        "logoff": "LoggingMagics",
        "logon": "LoggingMagics",
        "logstart": "LoggingMagics",
        "logstate": "LoggingMagics",
        "logstop": "LoggingMagics",
        "ls": "Other",
        "lsmagic": "BasicMagics",
        "lx": "Other",
        "macro": "ExecutionMagics",
        "magic": "BasicMagics",
        "man": "KernelMagics",
        "matplotlib": "PylabMagics",
        "mkdir": "Other",
        "more": "KernelMagics",
        "mv": "Other",
        "notebook": "BasicMagics",
        "page": "BasicMagics",
        "pastebin": "CodeMagics",
        "pdb": "ExecutionMagics",
        "pdef": "NamespaceMagics",
        "pdoc": "NamespaceMagics",
        "pfile": "NamespaceMagics",
        "pinfo": "NamespaceMagics",
        "pinfo2": "NamespaceMagics",
        "popd": "OSMagics",
        "pprint": "BasicMagics",
        "precision": "BasicMagics",
        "profile": "BasicMagics",
        "prun": "ExecutionMagics",
        "psearch": "NamespaceMagics",
        "psource": "NamespaceMagics",
        "pushd": "OSMagics",
        "pwd": "OSMagics",
        "pycat": "OSMagics",
        "pylab": "PylabMagics",
        "qtconsole": "KernelMagics",
        "quickref": "BasicMagics",
        "recall": "HistoryMagics",
        "rehashx": "OSMagics",
        "reload_ext": "ExtensionMagics",
        "rep": "Other",
        "rerun": "HistoryMagics",
        "reset": "NamespaceMagics",
        "reset_selective": "NamespaceMagics",
        "rm": "Other",
        "rmdir": "Other",
        "run": "ExecutionMagics",
        "save": "CodeMagics",
        "sc": "OSMagics",
        "set_env": "OSMagics",
        "store": "StoreMagics",
        "sx": "OSMagics",
        "system": "OSMagics",
        "tb": "ExecutionMagics",
        "time": "ExecutionMagics",
        "timeit": "ExecutionMagics",
        "unalias": "OSMagics",
        "unload_ext": "ExtensionMagics",
        "who": "NamespaceMagics",
        "who_ls": "NamespaceMagics",
        "whos": "NamespaceMagics",
        "xdel": "NamespaceMagics",
        "xmode": "BasicMagics"
       }
      },
      "text/plain": [
       "Available line magics:\n",
       "%alias  %alias_magic  %autocall  %automagic  %autosave  %bookmark  %cat  %cd  %clear  %colors  %config  %connect_info  %cp  %debug  %dhist  %dirs  %doctest_mode  %ed  %edit  %env  %gui  %hist  %history  %install_default_config  %install_ext  %install_profiles  %killbgscripts  %ldir  %less  %lf  %lk  %ll  %load  %load_ext  %loadpy  %logoff  %logon  %logstart  %logstate  %logstop  %ls  %lsmagic  %lx  %macro  %magic  %man  %matplotlib  %mkdir  %more  %mv  %notebook  %page  %pastebin  %pdb  %pdef  %pdoc  %pfile  %pinfo  %pinfo2  %popd  %pprint  %precision  %profile  %prun  %psearch  %psource  %pushd  %pwd  %pycat  %pylab  %qtconsole  %quickref  %recall  %rehashx  %reload_ext  %rep  %rerun  %reset  %reset_selective  %rm  %rmdir  %run  %save  %sc  %set_env  %store  %sx  %system  %tb  %time  %timeit  %unalias  %unload_ext  %who  %who_ls  %whos  %xdel  %xmode\n",
       "\n",
       "Available cell magics:\n",
       "%%!  %%HTML  %%SVG  %%bash  %%capture  %%debug  %%file  %%html  %%javascript  %%latex  %%perl  %%prun  %%pypy  %%python  %%python2  %%python3  %%ruby  %%script  %%sh  %%svg  %%sx  %%system  %%time  %%timeit  %%writefile\n",
       "\n",
       "Automagic is ON, % prefix IS NOT needed for line magics."
      ]
     },
     "execution_count": 22,
     "metadata": {},
     "output_type": "execute_result"
    }
   ],
   "source": [
    "%lsmagic"
   ]
  },
  {
   "cell_type": "markdown",
   "metadata": {},
   "source": [
    "Now let's try the `%R` magic:"
   ]
  },
  {
   "cell_type": "code",
   "execution_count": 28,
   "metadata": {
    "collapsed": false
   },
   "outputs": [
    {
     "name": "stdout",
     "output_type": "stream",
     "text": [
      "The rpy2.ipython extension is already loaded. To reload it, use:\n",
      "  %reload_ext rpy2.ipython\n"
     ]
    }
   ],
   "source": [
    "%load_ext rpy2.ipython"
   ]
  },
  {
   "cell_type": "markdown",
   "metadata": {},
   "source": [
    "And we can do all the normal things we like to do in `R`, like pirate hats:"
   ]
  },
  {
   "cell_type": "code",
   "execution_count": 30,
   "metadata": {
    "collapsed": false
   },
   "outputs": [
    {
     "data": {
      "image/png": "[encoded data removed]"
     },
     "metadata": {},
     "output_type": "display_data"
    }
   ],
   "source": [
    "%%R\n",
    "x<-rnorm(n=10000, mean=1, sd=.25)\n",
    "plot(density(x), type='l', main='',xlim=c(0,2), ylab='', xlab='', )"
   ]
  },
  {
   "cell_type": "markdown",
   "metadata": {},
   "source": [
    "Or plots of dots:"
   ]
  },
  {
   "cell_type": "code",
   "execution_count": 34,
   "metadata": {
    "collapsed": false
   },
   "outputs": [
    {
     "data": {
      "image/png": "[encoded data removed]"
     },
     "metadata": {},
     "output_type": "display_data"
    }
   ],
   "source": [
    "%%R\n",
    "library(ggplot2)\n",
    "x<-rnorm(n=10000, mean=1, sd=.25)\n",
    "y<-rnorm(n=10000, mean=1, sd=.25)\n",
    "qplot(x,y)"
   ]
  },
  {
   "cell_type": "markdown",
   "metadata": {},
   "source": [
    "There are two ways of getting this magic working:\n",
    "\n",
    "1. **Install** `R` via `conda` creating a parallel distribution\n",
    "2. Install `rpy2` via conda and **integrate** the default `R` distribution\n",
    "\n",
    "We'll walk through each of the options noting that if you use `R` occasionaly then the first option is quick and painless. If `R` is your finely-tuned workhorse, then the second option is probably best. However, support for `R` within the Anaconda ecosystem [is growing](http://continuum.io/conda-for-R), and managing your `R` installation via conda may be as simple an option as what most people are used to."
   ]
  },
  {
   "cell_type": "markdown",
   "metadata": {},
   "source": [
    "### Installing R via `conda`"
   ]
  },
  {
   "cell_type": "markdown",
   "metadata": {},
   "source": [
    "Even if you want to keep your default `R` installation, go ahead and walk through these steps and then use `conda install --revision=number` to revert back to the state before you installed everything."
   ]
  },
  {
   "cell_type": "markdown",
   "metadata": {},
   "source": [
    "To take the first route, simply type the following which will search the `r` channel on [binstar](https://binstar.org/r) and [anaconda.org](https://anaconda.org/r) for the packages `r`, `rpy2`, and `r-irkernel`."
   ]
  },
  {
   "cell_type": "raw",
   "metadata": {
    "collapsed": false
   },
   "source": [
    "conda install -c r r rpy2 r-irkernel"
   ]
  },
  {
   "cell_type": "markdown",
   "metadata": {},
   "source": [
    "Note that this will install several other packages that are available via some [linux package managers](https://cran.rstudio.com/bin/linux/ubuntu/)  (e.g. r-cran-class, r-cran-cluster, r-cran-mgcv, etc.). This just means that there will be more installed when you inspect the library path."
   ]
  },
  {
   "cell_type": "markdown",
   "metadata": {},
   "source": [
    "Once `R` has been installed via conda, we can check for different versions, where they are installed, and what packages are available to the different installations:"
   ]
  },
  {
   "cell_type": "code",
   "execution_count": 38,
   "metadata": {
    "collapsed": false
   },
   "outputs": [
    {
     "name": "stdout",
     "output_type": "stream",
     "text": [
      "/usr/bin/R\n"
     ]
    }
   ],
   "source": [
    "%%bash\n",
    "which -a R"
   ]
  },
  {
   "cell_type": "code",
   "execution_count": 35,
   "metadata": {
    "collapsed": false
   },
   "outputs": [
    {
     "data": {
      "text/plain": [
       "[1] \"/home/cahern/R/x86_64-pc-linux-gnu-library/3.2\"\n",
       "[2] \"/usr/local/lib/R/site-library\"                 \n",
       "[3] \"/usr/lib/R/site-library\"                       \n",
       "[4] \"/usr/lib/R/library\"                            \n"
      ]
     },
     "metadata": {},
     "output_type": "display_data"
    }
   ],
   "source": [
    "%%R\n",
    ".libPaths()"
   ]
  },
  {
   "cell_type": "markdown",
   "metadata": {},
   "source": [
    "Take a look at the packages that are available to the anaconda `R` installation:"
   ]
  },
  {
   "cell_type": "code",
   "execution_count": 37,
   "metadata": {
    "collapsed": false
   },
   "outputs": [
    {
     "name": "stdout",
     "output_type": "stream",
     "text": [
      "\u001b[0m\u001b[01;34mchron\u001b[0m/       \u001b[01;34mggplot2\u001b[0m/    \u001b[01;34mlatticeExtra\u001b[0m/  \u001b[01;34mmunsell\u001b[0m/       \u001b[01;34msandwich\u001b[0m/  \u001b[01;34mTH.data\u001b[0m/\r\n",
      "\u001b[01;34mcolorspace\u001b[0m/  \u001b[01;34mgridExtra\u001b[0m/  \u001b[01;34mmagrittr\u001b[0m/      \u001b[01;34mplyr\u001b[0m/          \u001b[01;34mscales\u001b[0m/    \u001b[01;34myaml\u001b[0m/\r\n",
      "\u001b[01;34mcrayon\u001b[0m/      \u001b[01;34mgtable\u001b[0m/     \u001b[01;34mmaptools\u001b[0m/      \u001b[01;34mproto\u001b[0m/         \u001b[01;34msp\u001b[0m/        \u001b[01;34mzoo\u001b[0m/\r\n",
      "\u001b[01;34mdichromat\u001b[0m/   \u001b[01;34mhighr\u001b[0m/      \u001b[01;34mmarkdown\u001b[0m/      \u001b[01;34mRColorBrewer\u001b[0m/  \u001b[01;34mstringi\u001b[0m/\r\n",
      "\u001b[01;34mformatR\u001b[0m/     \u001b[01;34mknitr\u001b[0m/      \u001b[01;34mmemoise\u001b[0m/       \u001b[01;34mRcpp\u001b[0m/          \u001b[01;34mstringr\u001b[0m/\r\n",
      "\u001b[01;34mFormula\u001b[0m/     \u001b[01;34mlabeling\u001b[0m/   \u001b[01;34mmime\u001b[0m/          \u001b[01;34mreshape2\u001b[0m/      \u001b[01;34mtestthat\u001b[0m/\r\n"
     ]
    }
   ],
   "source": [
    "ls ~/anaconda/lib/R/library/"
   ]
  },
  {
   "cell_type": "code",
   "execution_count": 49,
   "metadata": {
    "collapsed": false
   },
   "outputs": [
    {
     "name": "stdout",
     "output_type": "stream",
     "text": [
      "\u001b[0m\u001b[01;34macepack\u001b[0m/     \u001b[01;34mggplot2\u001b[0m/    \u001b[01;34mlattice\u001b[0m/       \u001b[01;34mmime\u001b[0m/          \u001b[01;34mRcpp\u001b[0m/      \u001b[01;34mtestthat\u001b[0m/\r\n",
      "\u001b[01;34mcolorspace\u001b[0m/  \u001b[01;34mgridExtra\u001b[0m/  \u001b[01;34mlatticeExtra\u001b[0m/  \u001b[01;34mmultcomp\u001b[0m/      \u001b[01;34mreshape2\u001b[0m/  \u001b[01;34mTH.data\u001b[0m/\r\n",
      "\u001b[01;34mcrayon\u001b[0m/      \u001b[01;34mgtable\u001b[0m/     \u001b[01;34mmagrittr\u001b[0m/      \u001b[01;34mmunsell\u001b[0m/       \u001b[01;34msandwich\u001b[0m/  \u001b[01;34myaml\u001b[0m/\r\n",
      "\u001b[01;34mdichromat\u001b[0m/   \u001b[01;34mhexbin\u001b[0m/     \u001b[01;34mmapproj\u001b[0m/       \u001b[01;34mmvtnorm\u001b[0m/       \u001b[01;34mscales\u001b[0m/    \u001b[01;34mzoo\u001b[0m/\r\n",
      "\u001b[01;34mdigest\u001b[0m/      \u001b[01;34mhighr\u001b[0m/      \u001b[01;34mmaps\u001b[0m/          \u001b[01;34mplyr\u001b[0m/          \u001b[01;34msp\u001b[0m/\r\n",
      "\u001b[01;34mevaluate\u001b[0m/    \u001b[01;34mHmisc\u001b[0m/      \u001b[01;34mmaptools\u001b[0m/      \u001b[01;34mproto\u001b[0m/         \u001b[01;34mSparseM\u001b[0m/\r\n",
      "\u001b[01;34mformatR\u001b[0m/     \u001b[01;34mknitr\u001b[0m/      \u001b[01;34mmarkdown\u001b[0m/      \u001b[01;34mquantreg\u001b[0m/      \u001b[01;34mstringi\u001b[0m/\r\n",
      "\u001b[01;34mFormula\u001b[0m/     \u001b[01;34mlabeling\u001b[0m/   \u001b[01;34mmemoise\u001b[0m/       \u001b[01;34mRColorBrewer\u001b[0m/  \u001b[01;34mstringr\u001b[0m/\r\n"
     ]
    }
   ],
   "source": [
    "%ls /home/cahern/R/x86_64-pc-linux-gnu-library/3.2/"
   ]
  },
  {
   "cell_type": "markdown",
   "metadata": {},
   "source": [
    "The last thing to consider if you've decided to go all in on Anaconda is integration with `RStudio`. Try opening `RStudio` up and typing the following:"
   ]
  },
  {
   "cell_type": "code",
   "execution_count": 19,
   "metadata": {
    "collapsed": false
   },
   "outputs": [
    {
     "data": {
      "text/plain": [
       "[1] \"/usr/lib/R\"\n"
      ]
     },
     "metadata": {},
     "output_type": "display_data"
    }
   ],
   "source": [
    "%%R\n",
    "R.home()"
   ]
  },
  {
   "cell_type": "markdown",
   "metadata": {},
   "source": [
    "To use the Anaconda `R` installation you can specify the following variable in either `.bashrc` or `.bash_profile`, which will tell `RStudio` where to look for `R`:"
   ]
  },
  {
   "cell_type": "raw",
   "metadata": {},
   "source": [
    "export RSTUDIO_WHICH_R=\"/anaconda/bin/R\""
   ]
  },
  {
   "cell_type": "markdown",
   "metadata": {},
   "source": [
    "Reload the file:"
   ]
  },
  {
   "cell_type": "code",
   "execution_count": null,
   "metadata": {
    "collapsed": true
   },
   "outputs": [],
   "source": [
    "%%bash\n",
    "source ~/.bashrc"
   ]
  },
  {
   "cell_type": "markdown",
   "metadata": {},
   "source": [
    "The `R` version should be the Anaconda installation and `R.home()` should point to the Anaconda installation location. From that point on you should be able to install packages in the same manner you would normally."
   ]
  },
  {
   "cell_type": "markdown",
   "metadata": {},
   "source": [
    "### Integrating `R` with `Anaconda`"
   ]
  },
  {
   "cell_type": "markdown",
   "metadata": {},
   "source": [
    "The second option is only slightly more involved. If you want to integrate your current system installation of `R` with Anaconda you need to build the `rpy2` package in a format that `conda` can install. If you installed anything via `conda` according to the previous installation go ahead and roll it back using the following, where `i` is the most recent revision:"
   ]
  },
  {
   "cell_type": "code",
   "execution_count": null,
   "metadata": {
    "collapsed": true
   },
   "outputs": [],
   "source": [
    "%%bash\n",
    "conda list --revision=i"
   ]
  },
  {
   "cell_type": "markdown",
   "metadata": {},
   "source": [
    "Execute the following, which will install `rpy2` and link to your local `R` installation. You can test this out by running the code above, it should yield different outputs."
   ]
  },
  {
   "cell_type": "raw",
   "metadata": {
    "collapsed": false
   },
   "source": [
    "cd ~/Desktop\n",
    "git clone https://github.com/TheClimateCorporation/conda-recipes\n",
    "cd conda-recipes\n",
    "conda build rpy2\n",
    "conda install rpy2 --use-local"
   ]
  },
  {
   "cell_type": "markdown",
   "metadata": {},
   "source": [
    "# TeX"
   ]
  },
  {
   "cell_type": "markdown",
   "metadata": {},
   "source": [
    "## Description"
   ]
  },
  {
   "cell_type": "markdown",
   "metadata": {},
   "source": [
    "TeX is an open source, powerful, and flexible typesetting system that is the standard in many fields. The learning curve is steep relative to other word processing programs, but arguably pays off in terms of expressiveness and customizability."
   ]
  },
  {
   "cell_type": "markdown",
   "metadata": {},
   "source": [
    "## Installation"
   ]
  },
  {
   "cell_type": "markdown",
   "metadata": {},
   "source": [
    "To install TeX you'll need to install the appropriate version of [TeXLive](https://www.tug.org/texlive/) for your system. Note that this can be a rather larege install that can take a rather long time. Consider leaving this for later when you have a couple of hours to occasioanlly check in on the install process."
   ]
  },
  {
   "cell_type": "markdown",
   "metadata": {},
   "source": [
    "The last thing we'll need with regard to typesetting is the [Pandoc]() package, which allows for automatic conversion between different document formats (e.g. LaTeX, Markdown, pdf, etc.). Go ahead and install the appropriate package for your system. Note that if you have problems with a particular release, try again with an [older release](https://github.com/jgm/pandoc/tags)."
   ]
  },
  {
   "cell_type": "code",
   "execution_count": 41,
   "metadata": {
    "collapsed": false
   },
   "outputs": [
    {
     "data": {
      "text/html": [
       "<img src=\"http://pandoc.org/diagram.jpg\"/>"
      ],
      "text/plain": [
       "<IPython.core.display.Image object>"
      ]
     },
     "execution_count": 41,
     "metadata": {},
     "output_type": "execute_result"
    }
   ],
   "source": [
    "Image(url='http://pandoc.org/diagram.jpg')"
   ]
  },
  {
   "cell_type": "markdown",
   "metadata": {},
   "source": [
    "# Summary "
   ]
  },
  {
   "cell_type": "markdown",
   "metadata": {},
   "source": [
    "At the end of following these instructions you should have the following:\n",
    "\n",
    "* SciPy stack\n",
    "* R and RStudio\n",
    "* TeXLive\n",
    "* Pandoc"
   ]
  }
 ],
 "metadata": {
  "kernelspec": {
   "display_name": "Python 2",
   "language": "python",
   "name": "python2"
  },
  "language_info": {
   "codemirror_mode": {
    "name": "ipython",
    "version": 2
   },
   "file_extension": ".py",
   "mimetype": "text/x-python",
   "name": "python",
   "nbconvert_exporter": "python",
   "pygments_lexer": "ipython2",
   "version": "2.7.10"
  }
 },
 "nbformat": 4,
 "nbformat_minor": 0
}
