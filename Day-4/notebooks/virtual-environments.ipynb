{
 "cells": [
  {
   "cell_type": "markdown",
   "metadata": {},
   "source": [
    "# Virtual Environments"
   ]
  },
  {
   "cell_type": "markdown",
   "metadata": {},
   "source": [
    "Less like this:"
   ]
  },
  {
   "cell_type": "code",
   "execution_count": 9,
   "metadata": {
    "collapsed": false
   },
   "outputs": [
    {
     "data": {
      "text/html": [
       "\n",
       "        <iframe\n",
       "            width=\"400\"\n",
       "            height=\"300\"\n",
       "            src=\"https://www.youtube.com/embed/_fNp37zFn9Q\"\n",
       "            frameborder=\"0\"\n",
       "            allowfullscreen\n",
       "        ></iframe>\n",
       "        "
      ],
      "text/plain": [
       "<IPython.lib.display.YouTubeVideo at 0x1026e1a90>"
      ]
     },
     "execution_count": 9,
     "metadata": {},
     "output_type": "execute_result"
    }
   ],
   "source": [
    "from IPython.display import YouTubeVideo, Image\n",
    "YouTubeVideo(\"_fNp37zFn9Q\")"
   ]
  },
  {
   "cell_type": "markdown",
   "metadata": {},
   "source": [
    "More like this:"
   ]
  },
  {
   "cell_type": "code",
   "execution_count": 11,
   "metadata": {
    "collapsed": false
   },
   "outputs": [
    {
     "data": {
      "text/html": [
       "<img src=\"https://wikispaces.psu.edu/download/attachments/115966617/ht_BuildaSandbox_hero_image.jpg\"/>"
      ],
      "text/plain": [
       "<IPython.core.display.Image object>"
      ]
     },
     "execution_count": 11,
     "metadata": {},
     "output_type": "execute_result"
    }
   ],
   "source": [
    "Image(url='https://wikispaces.psu.edu/download/attachments/115966617/ht_BuildaSandbox_hero_image.jpg')"
   ]
  },
  {
   "cell_type": "markdown",
   "metadata": {},
   "source": [
    "# Introduction"
   ]
  },
  {
   "cell_type": "markdown",
   "metadata": {},
   "source": [
    "Running your code often implicitly depends on the current state of what you have installed on your system. It's all fine and well to give someone the code and data that you used to produce your results, but what happens when they can't reproduce the analysis even when they run the code! This is particularly problematic when [the person who can't reproduce your results is you](https://twitter.com/kcranstn/status/370914072511791104)!"
   ]
  },
  {
   "cell_type": "markdown",
   "metadata": {},
   "source": [
    "The most likely culprit? Differences between the behavior on the original system and the current system. The solution? Virtual environments and version control. This allows you to take a snapshot of your system and recreate it at different times on different machines. We'll go through examples of how to use virtual environments in both `python` and `R` below."
   ]
  },
  {
   "cell_type": "markdown",
   "metadata": {},
   "source": [
    "The goal is for you to be able to:\n",
    "\n",
    "* Create a virtual environment for a project\n",
    "* Include details in github repository\n",
    "* Recreate the analysis on another machine"
   ]
  },
  {
   "cell_type": "markdown",
   "metadata": {},
   "source": [
    "# Python"
   ]
  },
  {
   "cell_type": "markdown",
   "metadata": {},
   "source": [
    "## Conda"
   ]
  },
  {
   "cell_type": "markdown",
   "metadata": {},
   "source": [
    "In addition to being a package manager `conda` is also a environment manager. There are other methods for doing both,  `pip` is a python package manager and `virtualenv` is a python environment manager, but `conda` does both in one. See [this table for a side by side comparison](http://conda.pydata.org/docs/_downloads/conda-pip-virtualenv-translator.html) of the three."
   ]
  },
  {
   "cell_type": "markdown",
   "metadata": {},
   "source": [
    "Two of the [main advantages](http://stackoverflow.com/questions/20994716/what-is-the-difference-between-pip-and-conda) of using conda:\n",
    "\n",
    "* `conda` packages can be more than `python` (e.g. pre-compiled binaries for `R`, `C` libraries, etc.)\n",
    "* `conda` environments can specify non-`python` libraries and dependencies"
   ]
  },
  {
   "cell_type": "markdown",
   "metadata": {},
   "source": [
    "Roughly speaking:\n",
    "\n",
    "`conda` = `pip` + `virtualenv`...for more than just `python`"
   ]
  },
  {
   "cell_type": "markdown",
   "metadata": {},
   "source": [
    "Let's give it a try! In fact, if you've been using `conda` you've been using a default environment. Note that you can always abbreviate options using a `--` double dash with a `-` single dash and the first letter. In what follows, we'll mostly use [the documentation](http://conda.pydata.org/docs/using/envs.html)"
   ]
  },
  {
   "cell_type": "code",
   "execution_count": 14,
   "metadata": {
    "collapsed": false
   },
   "outputs": [
    {
     "name": "stdout",
     "output_type": "stream",
     "text": [
      "# conda environments:\n",
      "#\n",
      "_test                    //anaconda/envs/_test\n",
      "root                  *  //anaconda\n",
      "\n",
      "# conda environments:\n",
      "#\n",
      "_test                    //anaconda/envs/_test\n",
      "root                  *  //anaconda\n",
      "\n"
     ]
    }
   ],
   "source": [
    "%%bash\n",
    "conda info --envs\n",
    "conda info -e"
   ]
  },
  {
   "cell_type": "markdown",
   "metadata": {},
   "source": [
    "Since we're using the default environment, then listing the packages installed via `conda` should be the same as listing the packages in our current environment."
   ]
  },
  {
   "cell_type": "code",
   "execution_count": 16,
   "metadata": {
    "collapsed": false
   },
   "outputs": [
    {
     "name": "stdout",
     "output_type": "stream",
     "text": [
      "# packages in environment at //anaconda:\n",
      "#\n",
      "_license                  1.1                      py27_0  \n",
      "abstract-rendering        0.5.1                np19py27_0  \n",
      "alabaster                 0.7.3                    py27_0  \n",
      "anaconda                  2.3.0                np19py27_0  \n",
      "appscript                 1.0.1                    py27_0  \n",
      "argcomplete               0.8.9                    py27_0  \n",
      "astropy                   1.0.3                np19py27_0  \n",
      "atom                      0.3.9                    py27_0  \n",
      "# This file may be used to create an environment using:\n",
      "# $ conda create --name <env> --file <this file>\n",
      "# platform: osx-64\n",
      "_license=1.1=py27_0\n",
      "abstract-rendering=0.5.1=np19py27_0\n",
      "alabaster=0.7.3=py27_0\n",
      "anaconda=2.3.0=np19py27_0\n",
      "appscript=1.0.1=py27_0\n",
      "argcomplete=0.8.9=py27_0\n",
      "astropy=1.0.3=np19py27_0\n"
     ]
    }
   ],
   "source": [
    "%%bash\n",
    "conda list | head\n",
    "conda list -e | head"
   ]
  },
  {
   "cell_type": "markdown",
   "metadata": {},
   "source": [
    "Let's create a new environment for a project that we'd eventually like to share using a specific version of `numpy` that is needed for some other code to run. You don't have to specify the version if you don't need to."
   ]
  },
  {
   "cell_type": "code",
   "execution_count": 5,
   "metadata": {
    "collapsed": false
   },
   "outputs": [
    {
     "name": "stderr",
     "output_type": "stream",
     "text": [
      "Error: prefix already exists: //anaconda/envs/test\n"
     ]
    }
   ],
   "source": [
    "%%bash\n",
    "conda create -n test numpy=1.8"
   ]
  },
  {
   "cell_type": "markdown",
   "metadata": {},
   "source": [
    "This will create the new environment and install the relevant version of `numpy` as well as packages that interact with it. We can look at the change we've made by inspecting the information about environments. Note that the current environment has an `*` next to it."
   ]
  },
  {
   "cell_type": "markdown",
   "metadata": {
    "collapsed": false
   },
   "source": [
    "`conda info -e`"
   ]
  },
  {
   "cell_type": "markdown",
   "metadata": {},
   "source": [
    "We can change the environment using the suggestions at the end of the install instructions from when we created the environment. Note that this might differ from system to system; windows omits `source`."
   ]
  },
  {
   "cell_type": "markdown",
   "metadata": {
    "collapsed": false
   },
   "source": [
    "`source activate test`\n",
    "\n",
    "`conda info -e`\n",
    "\n",
    "`conda list -e`"
   ]
  },
  {
   "cell_type": "markdown",
   "metadata": {},
   "source": [
    "The packages installed in the new environment will be minimal. But, you can very carefully control what's required and specify the version. It is particularly useful to install all of the packages that will be required in the environment simultaneously. This will give you a comprehensive overview of what's going to be installed. "
   ]
  },
  {
   "cell_type": "markdown",
   "metadata": {},
   "source": [
    "If you have to go back and add things, it's possible to use the regular install syntax and specify the environment where you want the package installed."
   ]
  },
  {
   "cell_type": "markdown",
   "metadata": {},
   "source": [
    "`conda install -n test pymc`"
   ]
  },
  {
   "cell_type": "markdown",
   "metadata": {},
   "source": [
    "If we omit the `-n` tag, then `conda` will install or uninstall in the current environment, which can be checked using `conda info -e`."
   ]
  },
  {
   "cell_type": "markdown",
   "metadata": {},
   "source": [
    "You can `clone` an environment to minimally test altering a single package version, or larger changes."
   ]
  },
  {
   "cell_type": "markdown",
   "metadata": {},
   "source": [
    "`conda create --name another-test --clone test`"
   ]
  },
  {
   "cell_type": "markdown",
   "metadata": {},
   "source": [
    "You can also just delete an environment once you're done with it."
   ]
  },
  {
   "cell_type": "markdown",
   "metadata": {},
   "source": [
    "`conda remove --name flowers --all`"
   ]
  },
  {
   "cell_type": "markdown",
   "metadata": {},
   "source": [
    "Most importantly, you can export the current environment to file."
   ]
  },
  {
   "cell_type": "code",
   "execution_count": 11,
   "metadata": {
    "collapsed": false
   },
   "outputs": [
    {
     "name": "stdout",
     "output_type": "stream",
     "text": [
      "name: test\n",
      "dependencies:\n",
      "- numpy=1.8.2=py27_0\n",
      "- openssl=1.0.1k=1\n",
      "- pip=7.1.0=py27_0\n",
      "- python=2.7.10=0\n",
      "- readline=6.2=2\n",
      "- setuptools=18.0.1=py27_0\n",
      "- sqlite=3.8.4.1=1\n",
      "- tk=8.5.18=0\n",
      "- zlib=1.2.8=0\n",
      "\n"
     ]
    },
    {
     "name": "stderr",
     "output_type": "stream",
     "text": [
      "discarding //anaconda/bin from PATH\n",
      "prepending //anaconda/envs/test/bin to PATH\n"
     ]
    }
   ],
   "source": [
    "%%bash\n",
    "source activate test\n",
    "conda env export > environment.yml\n",
    "cat environment.yml"
   ]
  },
  {
   "cell_type": "markdown",
   "metadata": {},
   "source": [
    "This environment file can be used to recreate the environment."
   ]
  },
  {
   "cell_type": "markdown",
   "metadata": {},
   "source": [
    "`conda env create -f environment.yml`"
   ]
  },
  {
   "cell_type": "markdown",
   "metadata": {},
   "source": [
    "Simple as that. Not only can you test out how updating your system will affect your work, you can also make sure that your work can be successfully reproduced!"
   ]
  },
  {
   "cell_type": "markdown",
   "metadata": {},
   "source": [
    "Approaching it from the other direction, imagine you are trying to reproduce someone else's analysis. If they've include an environment file in a github repository, then you could take the following steps:\n",
    "\n",
    "1. Clone from github (or fork and clone)\n",
    "2. Create virtual environment from file\n",
    "3. Follow instructions to reproduce\n",
    "\n",
    "If all goes according to plan, that's great. If things go wrong, then you have plenty of information to work with. You can use github to collaboratively resolve the issue."
   ]
  },
  {
   "cell_type": "markdown",
   "metadata": {},
   "source": [
    "# R"
   ]
  },
  {
   "cell_type": "markdown",
   "metadata": {},
   "source": [
    "## Packrat "
   ]
  },
  {
   "cell_type": "markdown",
   "metadata": {},
   "source": [
    "Much like the virtual environments that you can create using `conda`, `Packrat` offers similar functionality for `R`, and is particularly [well-integrated with RStudio](https://rstudio.github.io/packrat/rstudio.html)."
   ]
  },
  {
   "cell_type": "markdown",
   "metadata": {},
   "source": [
    "As the name suggests, `Packrat` works by keeping a local copy of everything, with [the benefits](https://rstudio.github.io/packrat/) of being:\n",
    "\n",
    "* Isolated: Installing a new or updated package for one project won't break your other projects, and vice versa. That's because packrat gives each project its own private package library.\n",
    "* Portable: Easily transport your projects from one computer to another, even across different platforms. Packrat makes it easy to install the packages your project depends on.\n",
    "* Reproducible: Packrat records the exact package versions you depend on, and ensures those exact versions are the ones that get installed wherever you go."
   ]
  },
  {
   "cell_type": "markdown",
   "metadata": {},
   "source": [
    "You can install from `CRAN` and start using `Packrat` when creating a new project in `RStudio`. Or, you can navigate to the appropriate directory and initialize a project via the `R` terminal."
   ]
  },
  {
   "cell_type": "markdown",
   "metadata": {},
   "source": [
    "The basic workflow for a project using `Packrat` would be something like the following:\n",
    "\n",
    "* `packrat::init()`\n",
    "* `install.packages()` to project\n",
    "* `packrat::snapshot()` status of project\n",
    "* `packrat::status()` check status\n",
    "\n",
    "Once you're satisfied with the project you can either push it to a repository on github or bundle it into a tarball:\n",
    "\n",
    "* `packrat::bundle()` project into tarball\n",
    "* `packrat::unbundle()` project elsewhere"
   ]
  },
  {
   "cell_type": "markdown",
   "metadata": {},
   "source": [
    "If you or a collaborator accidentally remove packages that your code depends on, you can restore those using:\n",
    "\n",
    "`packrat::restore()`\n",
    "\n",
    "\n",
    "If you no longer need a package to run your code, you can remove it from the project using:\n",
    "\n",
    "`packrat::clean()`"
   ]
  },
  {
   "cell_type": "markdown",
   "metadata": {},
   "source": [
    "`Packrat` is very nicely integrated with `RStudio`. You can get at most of the functions above [using the packages pane[(https://rstudio.github.io/packrat/rstudio.html). Together with git and github integration, and document creation, this turns `RStudio` into an extremely powerful tool."
   ]
  },
  {
   "cell_type": "markdown",
   "metadata": {},
   "source": [
    "# Testing for reproducibility"
   ]
  },
  {
   "cell_type": "markdown",
   "metadata": {},
   "source": [
    "Here's where the rubber meets the road. If you've followed along with the rest of the course, you should be able to create and track a project using a git repository, push it to github so that others can see, download, and ultimately reproduce it. You can test things out by asking a friend or colleague to try to reproduce your analysis, or download the materials onto another machine."
   ]
  }
 ],
 "metadata": {
  "kernelspec": {
   "display_name": "Python 2",
   "language": "python",
   "name": "python2"
  },
  "language_info": {
   "codemirror_mode": {
    "name": "ipython",
    "version": 2
   },
   "file_extension": ".py",
   "mimetype": "text/x-python",
   "name": "python",
   "nbconvert_exporter": "python",
   "pygments_lexer": "ipython2",
   "version": "2.7.10"
  }
 },
 "nbformat": 4,
 "nbformat_minor": 0
}
