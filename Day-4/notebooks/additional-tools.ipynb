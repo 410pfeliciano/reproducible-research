{
 "cells": [
  {
   "cell_type": "markdown",
   "metadata": {},
   "source": [
    "# Additional tools"
   ]
  },
  {
   "cell_type": "markdown",
   "metadata": {},
   "source": [
    "# Introduction"
   ]
  },
  {
   "cell_type": "markdown",
   "metadata": {},
   "source": [
    "In addition to the tools we've discussed on previous days, `python` and `R` both offer tools for performing both symbolic and numerical calculations. Below we'll outline how to do some of both, mostly focusing on `python`.\n",
    "\n",
    "The goal is to be able to perform basic symbolic manipulation, apply this to dynamical systems, and finally fit dynamical systems to data."
   ]
  },
  {
   "cell_type": "markdown",
   "metadata": {},
   "source": [
    "# Symbolic calculations"
   ]
  },
  {
   "cell_type": "markdown",
   "metadata": {},
   "source": [
    "## Python"
   ]
  },
  {
   "cell_type": "markdown",
   "metadata": {},
   "source": [
    "`SymPy` is a computer algebra system that allows both symbolic and numeric computations. Although not exact, it is [comparable to proprietary systems such as Mathematica](https://github.com/sympy/sympy/wiki/SymPy-vs.-Mathematica), it is moving towards a richer set of features."
   ]
  },
  {
   "cell_type": "code",
   "execution_count": 1,
   "metadata": {
    "collapsed": false
   },
   "outputs": [],
   "source": [
    "from sympy import *"
   ]
  },
  {
   "cell_type": "markdown",
   "metadata": {},
   "source": [
    "## Algebra"
   ]
  },
  {
   "cell_type": "markdown",
   "metadata": {},
   "source": [
    "`python` treats division differently, but we can also use `SymPy` to preserve the structure of the rational."
   ]
  },
  {
   "cell_type": "code",
   "execution_count": 3,
   "metadata": {
    "collapsed": false
   },
   "outputs": [
    {
     "data": {
      "text/plain": [
       "0"
      ]
     },
     "execution_count": 3,
     "metadata": {},
     "output_type": "execute_result"
    }
   ],
   "source": [
    "2/7"
   ]
  },
  {
   "cell_type": "markdown",
   "metadata": {},
   "source": [
    "We can fix this by either forcing division to not be modular, or telling `SymPy` to maintain the structure we've given it."
   ]
  },
  {
   "cell_type": "code",
   "execution_count": 4,
   "metadata": {
    "collapsed": true
   },
   "outputs": [],
   "source": [
    "from __future__ import division"
   ]
  },
  {
   "cell_type": "code",
   "execution_count": 5,
   "metadata": {
    "collapsed": false
   },
   "outputs": [
    {
     "data": {
      "text/plain": [
       "2/7"
      ]
     },
     "execution_count": 5,
     "metadata": {},
     "output_type": "execute_result"
    }
   ],
   "source": [
    "S(2)/7"
   ]
  },
  {
   "cell_type": "markdown",
   "metadata": {},
   "source": [
    "We can define different classes of symbols."
   ]
  },
  {
   "cell_type": "code",
   "execution_count": 6,
   "metadata": {
    "collapsed": true
   },
   "outputs": [],
   "source": [
    "x, y, z, t = symbols('x y z t')\n",
    "k, m, n = symbols('k m n', integer=True)\n",
    "f, g, h = symbols('f g h', cls=Function)"
   ]
  },
  {
   "cell_type": "markdown",
   "metadata": {},
   "source": [
    "Now we can represent a few things algebraically, and display them nicely."
   ]
  },
  {
   "cell_type": "code",
   "execution_count": 14,
   "metadata": {
    "collapsed": true
   },
   "outputs": [],
   "source": [
    "from sympy.interactive import printing\n",
    "printing.init_printing(use_latex=True)"
   ]
  },
  {
   "cell_type": "code",
   "execution_count": 15,
   "metadata": {
    "collapsed": false
   },
   "outputs": [
    {
     "data": {
      "image/png": "[encoded data removed]",
      "text/latex": [
       "$$x + 2$$"
      ],
      "text/plain": [
       "x + 2"
      ]
     },
     "execution_count": 15,
     "metadata": {},
     "output_type": "execute_result"
    }
   ],
   "source": [
    "x + 2"
   ]
  },
  {
   "cell_type": "code",
   "execution_count": 18,
   "metadata": {
    "collapsed": false
   },
   "outputs": [
    {
     "data": {
      "image/png": "[encoded data removed]",
      "text/latex": [
       "$$x^{2}$$"
      ],
      "text/plain": [
       " 2\n",
       "x "
      ]
     },
     "execution_count": 18,
     "metadata": {},
     "output_type": "execute_result"
    }
   ],
   "source": [
    "x**2"
   ]
  },
  {
   "cell_type": "markdown",
   "metadata": {},
   "source": [
    "We can also create more complex expressions."
   ]
  },
  {
   "cell_type": "code",
   "execution_count": 19,
   "metadata": {
    "collapsed": true
   },
   "outputs": [],
   "source": [
    "expr = x**2 - 2*x - 8"
   ]
  },
  {
   "cell_type": "markdown",
   "metadata": {},
   "source": [
    "And factor and expand them."
   ]
  },
  {
   "cell_type": "code",
   "execution_count": 20,
   "metadata": {
    "collapsed": false
   },
   "outputs": [
    {
     "data": {
      "image/png": "[encoded data removed]",
      "text/latex": [
       "$$\\left(x - 4\\right) \\left(x + 2\\right)$$"
      ],
      "text/plain": [
       "(x - 4)⋅(x + 2)"
      ]
     },
     "execution_count": 20,
     "metadata": {},
     "output_type": "execute_result"
    }
   ],
   "source": [
    "factor(expr)"
   ]
  },
  {
   "cell_type": "code",
   "execution_count": 21,
   "metadata": {
    "collapsed": false
   },
   "outputs": [
    {
     "data": {
      "image/png": "[encoded data removed]",
      "text/latex": [
       "$$x^{2} - 2 x - 8$$"
      ],
      "text/plain": [
       " 2          \n",
       "x  - 2⋅x - 8"
      ]
     },
     "execution_count": 21,
     "metadata": {},
     "output_type": "execute_result"
    }
   ],
   "source": [
    "expand(factor(expr))"
   ]
  },
  {
   "cell_type": "markdown",
   "metadata": {},
   "source": [
    "There's plenty of additional functionality. We can `cancel` common terms, but this can sometimes lose important information."
   ]
  },
  {
   "cell_type": "code",
   "execution_count": 22,
   "metadata": {
    "collapsed": false
   },
   "outputs": [
    {
     "data": {
      "image/png": "[encoded data removed]",
      "text/latex": [
       "$$x + 1$$"
      ],
      "text/plain": [
       "x + 1"
      ]
     },
     "execution_count": 22,
     "metadata": {},
     "output_type": "execute_result"
    }
   ],
   "source": [
    "cancel((x**2 - 1)/(x - 1))"
   ]
  },
  {
   "cell_type": "markdown",
   "metadata": {},
   "source": [
    "We can solve functions, the special case being $0$."
   ]
  },
  {
   "cell_type": "code",
   "execution_count": 23,
   "metadata": {
    "collapsed": false
   },
   "outputs": [
    {
     "data": {
      "image/png": "[encoded data removed]",
      "text/latex": [
       "$$\\left [ -1, \\quad - \\frac{1}{2} + \\frac{\\sqrt{5}}{2}, \\quad - \\frac{\\sqrt{5}}{2} - \\frac{1}{2}\\right ]$$"
      ],
      "text/plain": [
       "⎡            ___      ___    ⎤\n",
       "⎢      1   ╲╱ 5     ╲╱ 5    1⎥\n",
       "⎢-1, - ─ + ─────, - ───── - ─⎥\n",
       "⎣      2     2        2     2⎦"
      ]
     },
     "execution_count": 23,
     "metadata": {},
     "output_type": "execute_result"
    }
   ],
   "source": [
    "solve(x**3 + 2*x**2 - 1, x)"
   ]
  },
  {
   "cell_type": "markdown",
   "metadata": {},
   "source": [
    "Or for cases where the function is equal to a specific value."
   ]
  },
  {
   "cell_type": "code",
   "execution_count": 24,
   "metadata": {
    "collapsed": false
   },
   "outputs": [
    {
     "data": {
      "image/png": "[encoded data removed]",
      "text/latex": [
       "$$\\left [ - \\frac{2}{3} + \\left(- \\frac{1}{2} - \\frac{\\sqrt{3} i}{2}\\right) \\sqrt[3]{\\frac{\\sqrt{33}}{9} + \\frac{19}{27}} + \\frac{4}{9 \\left(- \\frac{1}{2} - \\frac{\\sqrt{3} i}{2}\\right) \\sqrt[3]{\\frac{\\sqrt{33}}{9} + \\frac{19}{27}}}, \\quad - \\frac{2}{3} + \\frac{4}{9 \\left(- \\frac{1}{2} + \\frac{\\sqrt{3} i}{2}\\right) \\sqrt[3]{\\frac{\\sqrt{33}}{9} + \\frac{19}{27}}} + \\left(- \\frac{1}{2} + \\frac{\\sqrt{3} i}{2}\\right) \\sqrt[3]{\\frac{\\sqrt{33}}{9} + \\frac{19}{27}}, \\quad - \\frac{2}{3} + \\frac{4}{9 \\sqrt[3]{\\frac{\\sqrt{33}}{9} + \\frac{19}{27}}} + \\sqrt[3]{\\frac{\\sqrt{33}}{9} + \\frac{19}{27}}\\right ]$$"
      ],
      "text/plain": [
       "⎡                           _____________                                     \n",
       "⎢      ⎛        ___  ⎞     ╱   ____                                           \n",
       "⎢  2   ⎜  1   ╲╱ 3 ⋅ⅈ⎟    ╱  ╲╱ 33    19                     4                \n",
       "⎢- ─ + ⎜- ─ - ───────⎟⋅3 ╱   ────── + ──  + ──────────────────────────────────\n",
       "⎢  3   ⎝  2      2   ⎠ ╲╱      9      27                           ___________\n",
       "⎢                                             ⎛        ___  ⎞     ╱   ____    \n",
       "⎢                                             ⎜  1   ╲╱ 3 ⋅ⅈ⎟    ╱  ╲╱ 33    1\n",
       "⎢                                           9⋅⎜- ─ - ───────⎟⋅3 ╱   ────── + ─\n",
       "⎣                                             ⎝  2      2   ⎠ ╲╱      9      2\n",
       "\n",
       "                                                                      ________\n",
       "                                                 ⎛        ___  ⎞     ╱   ____ \n",
       "      2                    4                     ⎜  1   ╲╱ 3 ⋅ⅈ⎟    ╱  ╲╱ 33  \n",
       "──, - ─ + ──────────────────────────────────── + ⎜- ─ + ───────⎟⋅3 ╱   ────── \n",
       "__    3                          _____________   ⎝  2      2   ⎠ ╲╱      9    \n",
       "            ⎛        ___  ⎞     ╱   ____                                      \n",
       "9           ⎜  1   ╲╱ 3 ⋅ⅈ⎟    ╱  ╲╱ 33    19                                 \n",
       "─         9⋅⎜- ─ + ───────⎟⋅3 ╱   ────── + ──                                 \n",
       "7           ⎝  2      2   ⎠ ╲╱      9      27                                 \n",
       "\n",
       "_____                                    _____________⎤\n",
       "                                        ╱   ____      ⎥\n",
       "  19     2            4                ╱  ╲╱ 33    19 ⎥\n",
       "+ ── , - ─ + ──────────────────── + 3 ╱   ────── + ── ⎥\n",
       "  27     3          _____________   ╲╱      9      27 ⎥\n",
       "                   ╱   ____                           ⎥\n",
       "                  ╱  ╲╱ 33    19                      ⎥\n",
       "             9⋅3 ╱   ────── + ──                      ⎥\n",
       "               ╲╱      9      27                      ⎦"
      ]
     },
     "execution_count": 24,
     "metadata": {},
     "output_type": "execute_result"
    }
   ],
   "source": [
    "solve(Eq(x**3 + 2*x**2 - 1, 1), x)"
   ]
  },
  {
   "cell_type": "code",
   "execution_count": 25,
   "metadata": {
    "collapsed": false
   },
   "outputs": [
    {
     "data": {
      "image/png": "[encoded data removed]",
      "text/latex": [
       "$$\\left [ - \\frac{2}{3} + \\left(- \\frac{1}{2} - \\frac{\\sqrt{3} i}{2}\\right) \\sqrt[3]{\\frac{\\sqrt{33}}{9} + \\frac{19}{27}} + \\frac{4}{9 \\left(- \\frac{1}{2} - \\frac{\\sqrt{3} i}{2}\\right) \\sqrt[3]{\\frac{\\sqrt{33}}{9} + \\frac{19}{27}}}, \\quad - \\frac{2}{3} + \\frac{4}{9 \\left(- \\frac{1}{2} + \\frac{\\sqrt{3} i}{2}\\right) \\sqrt[3]{\\frac{\\sqrt{33}}{9} + \\frac{19}{27}}} + \\left(- \\frac{1}{2} + \\frac{\\sqrt{3} i}{2}\\right) \\sqrt[3]{\\frac{\\sqrt{33}}{9} + \\frac{19}{27}}, \\quad - \\frac{2}{3} + \\frac{4}{9 \\sqrt[3]{\\frac{\\sqrt{33}}{9} + \\frac{19}{27}}} + \\sqrt[3]{\\frac{\\sqrt{33}}{9} + \\frac{19}{27}}\\right ]$$"
      ],
      "text/plain": [
       "⎡                           _____________                                     \n",
       "⎢      ⎛        ___  ⎞     ╱   ____                                           \n",
       "⎢  2   ⎜  1   ╲╱ 3 ⋅ⅈ⎟    ╱  ╲╱ 33    19                     4                \n",
       "⎢- ─ + ⎜- ─ - ───────⎟⋅3 ╱   ────── + ──  + ──────────────────────────────────\n",
       "⎢  3   ⎝  2      2   ⎠ ╲╱      9      27                           ___________\n",
       "⎢                                             ⎛        ___  ⎞     ╱   ____    \n",
       "⎢                                             ⎜  1   ╲╱ 3 ⋅ⅈ⎟    ╱  ╲╱ 33    1\n",
       "⎢                                           9⋅⎜- ─ - ───────⎟⋅3 ╱   ────── + ─\n",
       "⎣                                             ⎝  2      2   ⎠ ╲╱      9      2\n",
       "\n",
       "                                                                      ________\n",
       "                                                 ⎛        ___  ⎞     ╱   ____ \n",
       "      2                    4                     ⎜  1   ╲╱ 3 ⋅ⅈ⎟    ╱  ╲╱ 33  \n",
       "──, - ─ + ──────────────────────────────────── + ⎜- ─ + ───────⎟⋅3 ╱   ────── \n",
       "__    3                          _____________   ⎝  2      2   ⎠ ╲╱      9    \n",
       "            ⎛        ___  ⎞     ╱   ____                                      \n",
       "9           ⎜  1   ╲╱ 3 ⋅ⅈ⎟    ╱  ╲╱ 33    19                                 \n",
       "─         9⋅⎜- ─ + ───────⎟⋅3 ╱   ────── + ──                                 \n",
       "7           ⎝  2      2   ⎠ ╲╱      9      27                                 \n",
       "\n",
       "_____                                    _____________⎤\n",
       "                                        ╱   ____      ⎥\n",
       "  19     2            4                ╱  ╲╱ 33    19 ⎥\n",
       "+ ── , - ─ + ──────────────────── + 3 ╱   ────── + ── ⎥\n",
       "  27     3          _____________   ╲╱      9      27 ⎥\n",
       "                   ╱   ____                           ⎥\n",
       "                  ╱  ╲╱ 33    19                      ⎥\n",
       "             9⋅3 ╱   ────── + ──                      ⎥\n",
       "               ╲╱      9      27                      ⎦"
      ]
     },
     "execution_count": 25,
     "metadata": {},
     "output_type": "execute_result"
    }
   ],
   "source": [
    "solve(x**3 + 2*x**2 - 2, x)"
   ]
  },
  {
   "cell_type": "markdown",
   "metadata": {},
   "source": [
    "Likewise, we can create equalities and access their components."
   ]
  },
  {
   "cell_type": "code",
   "execution_count": 26,
   "metadata": {
    "collapsed": true
   },
   "outputs": [],
   "source": [
    "expr = Eq(x**2 - 2*x - 8, y)"
   ]
  },
  {
   "cell_type": "code",
   "execution_count": 27,
   "metadata": {
    "collapsed": false
   },
   "outputs": [
    {
     "data": {
      "image/png": "[encoded data removed]",
      "text/latex": [
       "$$\\left ( y, \\quad x^{2} - 2 x - 8\\right )$$"
      ],
      "text/plain": [
       "⎛    2          ⎞\n",
       "⎝y, x  - 2⋅x - 8⎠"
      ]
     },
     "execution_count": 27,
     "metadata": {},
     "output_type": "execute_result"
    }
   ],
   "source": [
    "expr.rhs, expr.lhs"
   ]
  },
  {
   "cell_type": "markdown",
   "metadata": {},
   "source": [
    "We can solve systems of equations as well."
   ]
  },
  {
   "cell_type": "code",
   "execution_count": 28,
   "metadata": {
    "collapsed": false
   },
   "outputs": [
    {
     "data": {
      "image/png": "[encoded data removed]",
      "text/latex": [
       "$$\\left \\{ x : \\frac{6}{5}, \\quad y : \\frac{9}{5}\\right \\}$$"
      ],
      "text/plain": [
       "{x: 6/5, y: 9/5}"
      ]
     },
     "execution_count": 28,
     "metadata": {},
     "output_type": "execute_result"
    }
   ],
   "source": [
    "solve([x + y - 3, 3*x - 2*y], [x,y])"
   ]
  },
  {
   "cell_type": "markdown",
   "metadata": {},
   "source": [
    "## Calculus"
   ]
  },
  {
   "cell_type": "markdown",
   "metadata": {},
   "source": [
    "Suppose we have the following function."
   ]
  },
  {
   "cell_type": "code",
   "execution_count": 29,
   "metadata": {
    "collapsed": false
   },
   "outputs": [
    {
     "data": {
      "image/png": "[encoded data removed]",
      "text/latex": [
       "$$f{\\left (x \\right )} = \\left(1 + \\frac{1}{x}\\right)^{x}$$"
      ],
      "text/plain": [
       "              x\n",
       "       ⎛    1⎞ \n",
       "f(x) = ⎜1 + ─⎟ \n",
       "       ⎝    x⎠ "
      ]
     },
     "execution_count": 29,
     "metadata": {},
     "output_type": "execute_result"
    }
   ],
   "source": [
    "Eq(f(x), (1 + 1/x)**x)"
   ]
  },
  {
   "cell_type": "markdown",
   "metadata": {},
   "source": [
    "We can find the limit using the following."
   ]
  },
  {
   "cell_type": "code",
   "execution_count": 30,
   "metadata": {
    "collapsed": false
   },
   "outputs": [
    {
     "data": {
      "image/png": "[encoded data removed]",
      "text/latex": [
       "$$e$$"
      ],
      "text/plain": [
       "ℯ"
      ]
     },
     "execution_count": 30,
     "metadata": {},
     "output_type": "execute_result"
    }
   ],
   "source": [
    "limit((1 + 1/x)**x, x, oo)"
   ]
  },
  {
   "cell_type": "markdown",
   "metadata": {},
   "source": [
    "Likewise, we can differentiate the function."
   ]
  },
  {
   "cell_type": "code",
   "execution_count": 31,
   "metadata": {
    "collapsed": false
   },
   "outputs": [
    {
     "data": {
      "image/png": "[encoded data removed]",
      "text/latex": [
       "$$\\frac{d}{d x} f{\\left (x \\right )}$$"
      ],
      "text/plain": [
       "d       \n",
       "──(f(x))\n",
       "dx      "
      ]
     },
     "execution_count": 31,
     "metadata": {},
     "output_type": "execute_result"
    }
   ],
   "source": [
    "diff(f(x), x)"
   ]
  },
  {
   "cell_type": "code",
   "execution_count": 32,
   "metadata": {
    "collapsed": false
   },
   "outputs": [
    {
     "data": {
      "image/png": "[encoded data removed]",
      "text/latex": [
       "$$\\left(1 + \\frac{1}{x}\\right)^{x} \\left(\\log{\\left (1 + \\frac{1}{x} \\right )} - \\frac{1}{x \\left(1 + \\frac{1}{x}\\right)}\\right)$$"
      ],
      "text/plain": [
       "       x                         \n",
       "⎛    1⎞  ⎛   ⎛    1⎞       1    ⎞\n",
       "⎜1 + ─⎟ ⋅⎜log⎜1 + ─⎟ - ─────────⎟\n",
       "⎝    x⎠  ⎜   ⎝    x⎠     ⎛    1⎞⎟\n",
       "         ⎜             x⋅⎜1 + ─⎟⎟\n",
       "         ⎝               ⎝    x⎠⎠"
      ]
     },
     "execution_count": 32,
     "metadata": {},
     "output_type": "execute_result"
    }
   ],
   "source": [
    "diff((1 + 1/x)**x, x)"
   ]
  },
  {
   "cell_type": "code",
   "execution_count": 33,
   "metadata": {
    "collapsed": false
   },
   "outputs": [
    {
     "data": {
      "image/png": "[encoded data removed]",
      "text/latex": [
       "$$\\int \\left(1 + \\frac{1}{x}\\right)^{x}\\, dx$$"
      ],
      "text/plain": [
       "⌠            \n",
       "⎮        x   \n",
       "⎮ ⎛    1⎞    \n",
       "⎮ ⎜1 + ─⎟  dx\n",
       "⎮ ⎝    x⎠    \n",
       "⌡            "
      ]
     },
     "execution_count": 33,
     "metadata": {},
     "output_type": "execute_result"
    }
   ],
   "source": [
    "integrate((1 + 1/x)**x, x)"
   ]
  },
  {
   "cell_type": "code",
   "execution_count": 34,
   "metadata": {
    "collapsed": false
   },
   "outputs": [],
   "source": [
    "expr = Integral((1 + 1/x)**x, x)"
   ]
  },
  {
   "cell_type": "markdown",
   "metadata": {},
   "source": [
    "This will represent the symbolic integral. If it can be evaluated, then the following will return the indefinite integral, otherwise, it will simply be the symbolic integral."
   ]
  },
  {
   "cell_type": "code",
   "execution_count": 35,
   "metadata": {
    "collapsed": false
   },
   "outputs": [
    {
     "data": {
      "image/png": "[encoded data removed]",
      "text/latex": [
       "$$\\int \\left(1 + \\frac{1}{x}\\right)^{x}\\, dx$$"
      ],
      "text/plain": [
       "⌠            \n",
       "⎮        x   \n",
       "⎮ ⎛    1⎞    \n",
       "⎮ ⎜1 + ─⎟  dx\n",
       "⎮ ⎝    x⎠    \n",
       "⌡            "
      ]
     },
     "execution_count": 35,
     "metadata": {},
     "output_type": "execute_result"
    }
   ],
   "source": [
    "expr.doit()"
   ]
  },
  {
   "cell_type": "code",
   "execution_count": 36,
   "metadata": {
    "collapsed": false
   },
   "outputs": [
    {
     "data": {
      "image/png": "[encoded data removed]",
      "text/latex": [
       "$$\\int x^{2}\\, dx$$"
      ],
      "text/plain": [
       "⌠      \n",
       "⎮  2   \n",
       "⎮ x  dx\n",
       "⌡      "
      ]
     },
     "execution_count": 36,
     "metadata": {},
     "output_type": "execute_result"
    }
   ],
   "source": [
    "Integral(x**2, x)"
   ]
  },
  {
   "cell_type": "code",
   "execution_count": 37,
   "metadata": {
    "collapsed": false
   },
   "outputs": [
    {
     "data": {
      "image/png": "[encoded data removed]",
      "text/latex": [
       "$$\\frac{x^{3}}{3}$$"
      ],
      "text/plain": [
       " 3\n",
       "x \n",
       "──\n",
       "3 "
      ]
     },
     "execution_count": 37,
     "metadata": {},
     "output_type": "execute_result"
    }
   ],
   "source": [
    "Integral(x**2, x).doit()"
   ]
  },
  {
   "cell_type": "markdown",
   "metadata": {},
   "source": [
    "## Dynamical Systems"
   ]
  },
  {
   "cell_type": "markdown",
   "metadata": {},
   "source": [
    "As simple example of applying these tools symbolically, we'll consdier the [Lotka-Volterra equations](https://en.wikipedia.org/wiki/Lotka%E2%80%93Volterra_equation) which define a class of predator-prey dynamics."
   ]
  },
  {
   "cell_type": "code",
   "execution_count": 38,
   "metadata": {
    "collapsed": true
   },
   "outputs": [],
   "source": [
    "a, b, c, d = symbols('a b c d', positive=True)\n",
    "x_dot = a*x - b*x*y\n",
    "y_dot = d*x*y - c*y"
   ]
  },
  {
   "cell_type": "code",
   "execution_count": 39,
   "metadata": {
    "collapsed": false
   },
   "outputs": [
    {
     "data": {
      "image/png": "[encoded data removed]",
      "text/latex": [
       "$$- x \\left(- a + b y\\right)$$"
      ],
      "text/plain": [
       "-x⋅(-a + b⋅y)"
      ]
     },
     "execution_count": 39,
     "metadata": {},
     "output_type": "execute_result"
    }
   ],
   "source": [
    "factor(x_dot)"
   ]
  },
  {
   "cell_type": "code",
   "execution_count": 40,
   "metadata": {
    "collapsed": false
   },
   "outputs": [
    {
     "data": {
      "image/png": "[encoded data removed]",
      "text/latex": [
       "$$y \\left(- c + d x\\right)$$"
      ],
      "text/plain": [
       "y⋅(-c + d⋅x)"
      ]
     },
     "execution_count": 40,
     "metadata": {},
     "output_type": "execute_result"
    }
   ],
   "source": [
    "factor(y_dot)"
   ]
  },
  {
   "cell_type": "markdown",
   "metadata": {},
   "source": [
    "We can find the fixed points of the system."
   ]
  },
  {
   "cell_type": "code",
   "execution_count": 41,
   "metadata": {
    "collapsed": false
   },
   "outputs": [
    {
     "data": {
      "image/png": "[encoded data removed]",
      "text/latex": [
       "$$\\left [ \\left ( 0, \\quad 0\\right ), \\quad \\left ( \\frac{c}{d}, \\quad \\frac{a}{b}\\right )\\right ]$$"
      ],
      "text/plain": [
       "⎡        ⎛c  a⎞⎤\n",
       "⎢(0, 0), ⎜─, ─⎟⎥\n",
       "⎣        ⎝d  b⎠⎦"
      ]
     },
     "execution_count": 41,
     "metadata": {},
     "output_type": "execute_result"
    }
   ],
   "source": [
    "solve([x_dot, y_dot], [x, y])"
   ]
  },
  {
   "cell_type": "markdown",
   "metadata": {},
   "source": [
    "We can evaluate their stability by getting the Jacobian of the system of differential equations."
   ]
  },
  {
   "cell_type": "code",
   "execution_count": 42,
   "metadata": {
    "collapsed": false
   },
   "outputs": [
    {
     "data": {
      "image/png": "[encoded data removed]",
      "text/latex": [
       "$$\\left[\\begin{matrix}a - b y & - b x\\\\d y & - c + d x\\end{matrix}\\right]$$"
      ],
      "text/plain": [
       "⎡a - b⋅y    -b⋅x  ⎤\n",
       "⎢                 ⎥\n",
       "⎣  d⋅y    -c + d⋅x⎦"
      ]
     },
     "execution_count": 42,
     "metadata": {},
     "output_type": "execute_result"
    }
   ],
   "source": [
    "F = Matrix([x_dot, y_dot])\n",
    "J = F.jacobian([x,y])\n",
    "J"
   ]
  },
  {
   "cell_type": "markdown",
   "metadata": {},
   "source": [
    "And determining its eigenvalues at the fixed points."
   ]
  },
  {
   "cell_type": "code",
   "execution_count": 43,
   "metadata": {
    "collapsed": false
   },
   "outputs": [
    {
     "name": "stdout",
     "output_type": "stream",
     "text": [
      "(0, 0)\n",
      "{-c: 1, a: 1}\n",
      "(c/d, a/b)\n",
      "{I*sqrt(a)*sqrt(c): 1, -I*sqrt(a)*sqrt(c): 1}\n"
     ]
    }
   ],
   "source": [
    "for sol in solve([x_dot, y_dot], [x, y]):\n",
    "    print sol\n",
    "    print J.subs([(x, sol[0]), (y, sol[1])]).eigenvals()"
   ]
  },
  {
   "cell_type": "markdown",
   "metadata": {},
   "source": [
    "The fixed point where both species go extinct is unstable. The co-existing equilibrium is a center, but it is not hyperbolic, so we can't draw any particular conclusions from the linearization."
   ]
  },
  {
   "cell_type": "markdown",
   "metadata": {},
   "source": [
    "## R"
   ]
  },
  {
   "cell_type": "markdown",
   "metadata": {},
   "source": [
    "All of the same functionality can be achieved using the [rSymPy](https://cran.r-project.org/web/packages/rSymPy/index.html) package. This will actually run the code via `SymPy`. It's also possible to access some of the basic functions via `R`."
   ]
  },
  {
   "cell_type": "markdown",
   "metadata": {},
   "source": [
    "# Numerical calculations"
   ]
  },
  {
   "cell_type": "markdown",
   "metadata": {},
   "source": [
    "## Python"
   ]
  },
  {
   "cell_type": "markdown",
   "metadata": {},
   "source": [
    "Suppose that we want to solve the equations above, numerically. In fact, since there aren't any closed form solutions to the equations, finding numerical solutions is actually helpful."
   ]
  },
  {
   "cell_type": "code",
   "execution_count": 44,
   "metadata": {
    "collapsed": false
   },
   "outputs": [],
   "source": [
    "from scipy.integrate import odeint"
   ]
  },
  {
   "cell_type": "code",
   "execution_count": 3,
   "metadata": {
    "collapsed": true
   },
   "outputs": [],
   "source": [
    "import numpy as np\n",
    "from matplotlib import pyplot as plt\n",
    "% matplotlib inline"
   ]
  },
  {
   "cell_type": "markdown",
   "metadata": {},
   "source": [
    "First, we define the set of differential equations, along with the parameters."
   ]
  },
  {
   "cell_type": "code",
   "execution_count": 46,
   "metadata": {
    "collapsed": false
   },
   "outputs": [],
   "source": [
    "def lotka_volterra(pop_vec, t, param):\n",
    "    x, y = pop_vec\n",
    "    a = param[0]\n",
    "    b = param[1]\n",
    "    c = param[2]\n",
    "    d = param[3]\n",
    "    return [-x*(-a + b*y),\\\n",
    "            y*(-c + d*x)]"
   ]
  },
  {
   "cell_type": "markdown",
   "metadata": {},
   "source": [
    "Then we specify the length of time, the initial point, and the parameter values."
   ]
  },
  {
   "cell_type": "code",
   "execution_count": 47,
   "metadata": {
    "collapsed": false
   },
   "outputs": [],
   "source": [
    "t = np.linspace(0, 100,  10000)              \n",
    "Y0 = np.array([6, 5])\n",
    "param = [1, 2, 2, 1]"
   ]
  },
  {
   "cell_type": "markdown",
   "metadata": {},
   "source": [
    "We solve the differential equations using `scipy`."
   ]
  },
  {
   "cell_type": "code",
   "execution_count": 48,
   "metadata": {
    "collapsed": true
   },
   "outputs": [],
   "source": [
    "Y = odeint(lotka_volterra, Y0, t, (param,))"
   ]
  },
  {
   "cell_type": "markdown",
   "metadata": {},
   "source": [
    "We can plot the results as a function of time, noting that the relationship between the two populations is periodic, but stable."
   ]
  },
  {
   "cell_type": "code",
   "execution_count": 49,
   "metadata": {
    "collapsed": false
   },
   "outputs": [
    {
     "data": {
      "image/png": "[encoded data removed]",
      "text/plain": [
       "<matplotlib.figure.Figure at 0x108e97a90>"
      ]
     },
     "metadata": {},
     "output_type": "display_data"
    }
   ],
   "source": [
    "plt.plot(Y)\n",
    "plt.show()"
   ]
  },
  {
   "cell_type": "markdown",
   "metadata": {},
   "source": [
    "It's even easier to see this when we plot the two populations in the plane. The populations form a closed orbit."
   ]
  },
  {
   "cell_type": "code",
   "execution_count": 50,
   "metadata": {
    "collapsed": false
   },
   "outputs": [
    {
     "data": {
      "image/png": "[encoded data removed]",
      "text/plain": [
       "<matplotlib.figure.Figure at 0x106ef46d0>"
      ]
     },
     "metadata": {},
     "output_type": "display_data"
    }
   ],
   "source": [
    "plt.plot(Y[:,0], Y[:,1])\n",
    "plt.xlim(-.1, 20)\n",
    "plt.ylim(-.1, 20)\n",
    "plt.show()"
   ]
  },
  {
   "cell_type": "markdown",
   "metadata": {},
   "source": [
    "That should give you sense of the mechanics for how to solve differential equations. There are of course other ways of going about this, for example `scipy` has a [more object-oriented integrator](http://docs.scipy.org/doc/scipy/reference/generated/scipy.integrate.ode.html) `ode`, which can be used to specify additional information such as the method of integration."
   ]
  },
  {
   "cell_type": "markdown",
   "metadata": {},
   "source": [
    "Now we can do the same thing with data following the [tutorial presented here](http://people.duke.edu/~ccc14/sta-663/CalibratingODEs.html)."
   ]
  },
  {
   "cell_type": "code",
   "execution_count": 1,
   "metadata": {
    "collapsed": false
   },
   "outputs": [],
   "source": [
    "from lmfit import minimize, Parameters, Parameter, report_fit\n",
    "from scipy.integrate import odeint\n",
    " \n",
    "def f(xs, t, ps):\n",
    "    \"\"\"Lotka-Volterra predator-prey model.\"\"\"\n",
    "    try:\n",
    "        a = ps['a'].value\n",
    "        b = ps['b'].value\n",
    "        c = ps['c'].value\n",
    "        d = ps['d'].value\n",
    "    except:\n",
    "        a, b, c, d = ps\n",
    "\n",
    "    x, y = xs\n",
    "    return [a*x - b*x*y, c*x*y - d*y]\n",
    "\n",
    "def g(t, x0, ps):\n",
    "    \"\"\"\n",
    "    Solution to the ODE x'(t) = f(t,x,k) with initial condition x(0) = x0\n",
    "    \"\"\"\n",
    "    x = odeint(f, x0, t, args=(ps,))\n",
    "    return x\n",
    "\n",
    "def residual(ps, ts, data):\n",
    "    x0 = ps['x0'].value, ps['y0'].value\n",
    "    model = g(ts, x0, ps)\n",
    "    return (model - data).ravel()"
   ]
  },
  {
   "cell_type": "code",
   "execution_count": 10,
   "metadata": {
    "collapsed": false
   },
   "outputs": [],
   "source": [
    "t = np.linspace(0, 10, 100)\n",
    "x0 = np.array([1,1])\n",
    "\n",
    "a, b, c, d = 3,1,1,1\n",
    "true_params = np.array((a, b, c, d))\n",
    "data = g(t, x0, true_params)\n",
    "data += np.random.normal(size=data.shape)\n",
    "\n",
    "# set parameters incluing bounds\n",
    "params = Parameters()\n",
    "params.add('x0', value= float(data[0, 0]), min=0, max=10)\n",
    "params.add('y0', value=float(data[0, 1]), min=0, max=10)\n",
    "params.add('a', value=2.0, min=0, max=10)\n",
    "params.add('b', value=1.0, min=0, max=10)\n",
    "params.add('c', value=1.0, min=0, max=10)\n",
    "params.add('d', value=1.0, min=0, max=10)"
   ]
  },
  {
   "cell_type": "code",
   "execution_count": 11,
   "metadata": {
    "collapsed": false
   },
   "outputs": [
    {
     "data": {
      "image/png": "[encoded data removed]",
      "text/plain": [
       "<matplotlib.figure.Figure at 0x109e03950>"
      ]
     },
     "metadata": {},
     "output_type": "display_data"
    }
   ],
   "source": [
    "# fit model and find predicted values\n",
    "result = minimize(residual, params, args=(t, data), method='leastsq')\n",
    "final = data + result.residual.reshape(data.shape)\n",
    "\n",
    "# plot data and fitted curves\n",
    "plt.plot(t, data, 'o')\n",
    "plt.plot(t, final, '-', linewidth=2);"
   ]
  },
  {
   "cell_type": "markdown",
   "metadata": {},
   "source": [
    "## R"
   ]
  },
  {
   "cell_type": "markdown",
   "metadata": {
    "collapsed": true
   },
   "source": [
    "For numerical methods, see the `deSolve` [package available via CRAN](http://desolve.r-forge.r-project.org/), and the [broader range](https://cran.r-project.org/web/views/NumericalMathematics.html) of packages suited to different tasks. \n"
   ]
  }
 ],
 "metadata": {
  "kernelspec": {
   "display_name": "Python 2",
   "language": "python",
   "name": "python2"
  },
  "language_info": {
   "codemirror_mode": {
    "name": "ipython",
    "version": 2
   },
   "file_extension": ".py",
   "mimetype": "text/x-python",
   "name": "python",
   "nbconvert_exporter": "python",
   "pygments_lexer": "ipython2",
   "version": "2.7.10"
  }
 },
 "nbformat": 4,
 "nbformat_minor": 0
}
