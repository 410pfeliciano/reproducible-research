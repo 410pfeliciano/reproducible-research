{
 "cells": [
  {
   "cell_type": "markdown",
   "metadata": {},
   "source": [
    "# Introduction to `NumPy`\n",
    "\n",
    "The majority of the calculations and analyses you will be performing will depend on matrices in some way, shape, or form. The Python module that most other modules will use for matrix operations is `NumPy`. `NumPy` is designed to be fast and memory-efficient, meaning that under the hood, there are a lot of vectorized functions and it does not copy data on every operation or when iterating, like you would find in MATLAB or R. This notebook covers basic `NumPy` operations to get you started.  \n",
    "\n",
    "The majority of this information is condensed from Wes McKinney's book on Python for data analysis (chapter 4)."
   ]
  },
  {
   "cell_type": "markdown",
   "metadata": {},
   "source": [
    "## Arrays\n",
    "\n",
    "A `ndarray` is a generic data for data of the same type (i.e., all the entries have the same data class). There are several methods to access the data (some based on core Python functions) and to get information about the structure of the container itself.  \n",
    "\n",
    "The first step is to create several arrays and then get information about them."
   ]
  },
  {
   "cell_type": "code",
   "execution_count": 1,
   "metadata": {
    "collapsed": true
   },
   "outputs": [],
   "source": [
    "import numpy as np\n",
    "\n",
    "example1 = [3.1415, 2.718, 6.25, 9., 144, 42]\n",
    "\n",
    "example2 = [[1, 2, 3, 4, 5], [1, 2, 3, 5, 8]]"
   ]
  },
  {
   "cell_type": "markdown",
   "metadata": {},
   "source": [
    "The first line of code imports the `NumPy` module. Use this convention when importing.  \n",
    "\n",
    "The next two lines create lists. The first consists of 6 entries, while the second is a list containing two lists with five entries each.  Now to convert to a `ndarray`."
   ]
  },
  {
   "cell_type": "code",
   "execution_count": 2,
   "metadata": {
    "collapsed": true
   },
   "outputs": [],
   "source": [
    "array1 = np.array(example1)\n",
    "\n",
    "array2 = np.array(example2)"
   ]
  },
  {
   "cell_type": "code",
   "execution_count": 3,
   "metadata": {
    "collapsed": false
   },
   "outputs": [
    {
     "data": {
      "text/plain": [
       "array([   3.1415,    2.718 ,    6.25  ,    9.    ,  144.    ,   42.    ])"
      ]
     },
     "execution_count": 3,
     "metadata": {},
     "output_type": "execute_result"
    }
   ],
   "source": [
    "array1"
   ]
  },
  {
   "cell_type": "code",
   "execution_count": 4,
   "metadata": {
    "collapsed": false
   },
   "outputs": [
    {
     "data": {
      "text/plain": [
       "array([[1, 2, 3, 4, 5],\n",
       "       [1, 2, 3, 5, 8]])"
      ]
     },
     "execution_count": 4,
     "metadata": {},
     "output_type": "execute_result"
    }
   ],
   "source": [
    "array2"
   ]
  },
  {
   "cell_type": "markdown",
   "metadata": {},
   "source": [
    "The first example list becomes a 1 x 6 array, while the second is shaped into a 2 x 5 array. How do we check this? By using the `shape` method on the arrays."
   ]
  },
  {
   "cell_type": "code",
   "execution_count": 5,
   "metadata": {
    "collapsed": false
   },
   "outputs": [
    {
     "data": {
      "text/plain": [
       "(6,)"
      ]
     },
     "execution_count": 5,
     "metadata": {},
     "output_type": "execute_result"
    }
   ],
   "source": [
    "array1.shape"
   ]
  },
  {
   "cell_type": "code",
   "execution_count": 6,
   "metadata": {
    "collapsed": false
   },
   "outputs": [
    {
     "data": {
      "text/plain": [
       "(2, 5)"
      ]
     },
     "execution_count": 6,
     "metadata": {},
     "output_type": "execute_result"
    }
   ],
   "source": [
    "array2.shape"
   ]
  },
  {
   "cell_type": "markdown",
   "metadata": {},
   "source": [
    "The data types are also inferred when creating the arrays. The `dtype` method tells us what the data type is. You can also specify the datatype when creating the array."
   ]
  },
  {
   "cell_type": "code",
   "execution_count": 7,
   "metadata": {
    "collapsed": false
   },
   "outputs": [
    {
     "data": {
      "text/plain": [
       "dtype('float64')"
      ]
     },
     "execution_count": 7,
     "metadata": {},
     "output_type": "execute_result"
    }
   ],
   "source": [
    "array1.dtype"
   ]
  },
  {
   "cell_type": "code",
   "execution_count": 8,
   "metadata": {
    "collapsed": false
   },
   "outputs": [
    {
     "data": {
      "text/plain": [
       "dtype('int64')"
      ]
     },
     "execution_count": 8,
     "metadata": {},
     "output_type": "execute_result"
    }
   ],
   "source": [
    "array2.dtype"
   ]
  },
  {
   "cell_type": "markdown",
   "metadata": {},
   "source": [
    "At times, in order to cut down on memory use (e.g., looping or creating large matrices/arrays in MATLAB), you want to preallocate a matrix and the memory associated with it. The `zeros` and `ones` functions perform can do this."
   ]
  },
  {
   "cell_type": "code",
   "execution_count": 9,
   "metadata": {
    "collapsed": false
   },
   "outputs": [
    {
     "name": "stdout",
     "output_type": "stream",
     "text": [
      "[[ 0.  0.  0.  0.  0.]\n",
      " [ 0.  0.  0.  0.  0.]\n",
      " [ 0.  0.  0.  0.  0.]\n",
      " [ 0.  0.  0.  0.  0.]\n",
      " [ 0.  0.  0.  0.  0.]]\n"
     ]
    }
   ],
   "source": [
    "zero_mtx = np.zeros((5, 5))\n",
    "print(zero_mtx)"
   ]
  },
  {
   "cell_type": "code",
   "execution_count": 10,
   "metadata": {
    "collapsed": false
   },
   "outputs": [
    {
     "name": "stdout",
     "output_type": "stream",
     "text": [
      "[[ 1.  1.  1.  1.]\n",
      " [ 1.  1.  1.  1.]]\n"
     ]
    }
   ],
   "source": [
    "ones_mtx = np.ones((2, 4))\n",
    "print(ones_mtx)"
   ]
  },
  {
   "cell_type": "markdown",
   "metadata": {},
   "source": [
    "If you need to create a diagonal matrix, use the `eye` function."
   ]
  },
  {
   "cell_type": "code",
   "execution_count": 11,
   "metadata": {
    "collapsed": false
   },
   "outputs": [
    {
     "name": "stdout",
     "output_type": "stream",
     "text": [
      "[[ 1.  0.  0.  0.  0.]\n",
      " [ 0.  1.  0.  0.  0.]\n",
      " [ 0.  0.  1.  0.  0.]\n",
      " [ 0.  0.  0.  1.  0.]\n",
      " [ 0.  0.  0.  0.  1.]]\n"
     ]
    }
   ],
   "source": [
    "eye5 = np.eye((5))\n",
    "print(eye5)"
   ]
  },
  {
   "cell_type": "markdown",
   "metadata": {},
   "source": [
    "## Data types\n",
    "`NumPy` arrays support the following data types:  \n",
    "- int8, uint8  \n",
    "- int16, uint16  \n",
    "- int32, uint32  \n",
    "- int64, uint64  \n",
    "- float16, float32, float64, float128   \n",
    "- complex64, complex128, complex256  \n",
    "- bool (Boolean)  \n",
    "- object (generic Python object)  \n",
    "- `string_` (fixed length string)  \n",
    "- `unicode_`  \n",
    "\n",
    "Most of the time the underlying data type will not be of any consequence.  There might be issues if you are working with a dataset that is very large and you have to make a decision about precision vs. speed and memory.  You can also convert between data types or specify the datatype when creating the array. See the documentation for more details."
   ]
  },
  {
   "cell_type": "markdown",
   "metadata": {},
   "source": [
    "## Vectorized operations\n",
    "Arrays allow for batch operations without writing `for` loops; this saves time, energy and memory (and money, depending on what is being accomplished). For example, we can create two matrices, and perform arithmetic operations (or some linear algebra) in a fairly efficient manner."
   ]
  },
  {
   "cell_type": "code",
   "execution_count": 12,
   "metadata": {
    "collapsed": false
   },
   "outputs": [
    {
     "data": {
      "text/plain": [
       "array([   6.283,    5.436,   12.5  ,   18.   ,  288.   ,   84.   ])"
      ]
     },
     "execution_count": 12,
     "metadata": {},
     "output_type": "execute_result"
    }
   ],
   "source": [
    "2 * array1"
   ]
  },
  {
   "cell_type": "code",
   "execution_count": 13,
   "metadata": {
    "collapsed": false
   },
   "outputs": [
    {
     "data": {
      "text/plain": [
       "array([ 0.,  0.,  0.,  0.,  0.,  0.])"
      ]
     },
     "execution_count": 13,
     "metadata": {},
     "output_type": "execute_result"
    }
   ],
   "source": [
    "array1 - array1"
   ]
  },
  {
   "cell_type": "code",
   "execution_count": 14,
   "metadata": {
    "collapsed": false
   },
   "outputs": [
    {
     "data": {
      "text/plain": [
       "array([ 0.70934724,  0.74084126,  0.57707996,  0.51728186,  0.22516001,\n",
       "        0.32585562])"
      ]
     },
     "execution_count": 14,
     "metadata": {},
     "output_type": "execute_result"
    }
   ],
   "source": [
    "array1 ** -0.3"
   ]
  },
  {
   "cell_type": "markdown",
   "metadata": {},
   "source": [
    "## Indexing and slicing\n",
    "`NumPy` arrays can be accessed in the same manner as other Python classes: they are zero-indexed and the elements are are indexed and sliced in similar ways. Let's create a big matrix (well, not really) and then see how to access the data."
   ]
  },
  {
   "cell_type": "code",
   "execution_count": 15,
   "metadata": {
    "collapsed": true
   },
   "outputs": [],
   "source": [
    "small_example_list = range(5)\n",
    "small_example = np.array(small_example_list) + 9.8\n",
    "\n",
    "big_example_list = range(30)\n",
    "big_example = np.array(big_example_list,).reshape((5, 6))"
   ]
  },
  {
   "cell_type": "code",
   "execution_count": 16,
   "metadata": {
    "collapsed": false
   },
   "outputs": [
    {
     "name": "stdout",
     "output_type": "stream",
     "text": [
      "[  9.8  10.8  11.8  12.8  13.8]\n"
     ]
    }
   ],
   "source": [
    "print(small_example)"
   ]
  },
  {
   "cell_type": "code",
   "execution_count": 17,
   "metadata": {
    "collapsed": false
   },
   "outputs": [
    {
     "name": "stdout",
     "output_type": "stream",
     "text": [
      "[[ 0  1  2  3  4  5]\n",
      " [ 6  7  8  9 10 11]\n",
      " [12 13 14 15 16 17]\n",
      " [18 19 20 21 22 23]\n",
      " [24 25 26 27 28 29]]\n"
     ]
    }
   ],
   "source": [
    "print(big_example)"
   ]
  },
  {
   "cell_type": "code",
   "execution_count": 18,
   "metadata": {
    "collapsed": false
   },
   "outputs": [
    {
     "data": {
      "text/plain": [
       "12.800000000000001"
      ]
     },
     "execution_count": 18,
     "metadata": {},
     "output_type": "execute_result"
    }
   ],
   "source": [
    "small_example[3]"
   ]
  },
  {
   "cell_type": "code",
   "execution_count": 19,
   "metadata": {
    "collapsed": false
   },
   "outputs": [
    {
     "data": {
      "text/plain": [
       "array([ 12.8,  13.8])"
      ]
     },
     "execution_count": 19,
     "metadata": {},
     "output_type": "execute_result"
    }
   ],
   "source": [
    "small_example[3:]"
   ]
  },
  {
   "cell_type": "code",
   "execution_count": 20,
   "metadata": {
    "collapsed": false
   },
   "outputs": [
    {
     "data": {
      "text/plain": [
       "array([ 13.8])"
      ]
     },
     "execution_count": 20,
     "metadata": {},
     "output_type": "execute_result"
    }
   ],
   "source": [
    "small_example[-1:]"
   ]
  },
  {
   "cell_type": "code",
   "execution_count": 21,
   "metadata": {
    "collapsed": false
   },
   "outputs": [
    {
     "data": {
      "text/plain": [
       "9.8000000000000007"
      ]
     },
     "execution_count": 21,
     "metadata": {},
     "output_type": "execute_result"
    }
   ],
   "source": [
    "small_example[0]"
   ]
  },
  {
   "cell_type": "markdown",
   "metadata": {},
   "source": [
    "The above illustrates how to index an array with a single row (or column). This also dovetails nicely with the preceding section, about datatypes. Notice that when accessing a single value, the entire numeric value is the output. Because of the datatype (float64), there is an error associated with it. This can be an issue when performing some computations and is a limitation when performing numeric analyses on a computer (this comes up in regression, curve-fitting and machine learning a lot). This is the reason why there is an error tolerance when certain calculations are performed."
   ]
  },
  {
   "cell_type": "code",
   "execution_count": 22,
   "metadata": {
    "collapsed": false
   },
   "outputs": [
    {
     "data": {
      "text/plain": [
       "array([10, 16, 22])"
      ]
     },
     "execution_count": 22,
     "metadata": {},
     "output_type": "execute_result"
    }
   ],
   "source": [
    "big_example[1:4, 4]"
   ]
  },
  {
   "cell_type": "code",
   "execution_count": 23,
   "metadata": {
    "collapsed": false
   },
   "outputs": [
    {
     "data": {
      "text/plain": [
       "array([18, 19, 20, 21, 22, 23])"
      ]
     },
     "execution_count": 23,
     "metadata": {},
     "output_type": "execute_result"
    }
   ],
   "source": [
    "big_example[3, :]"
   ]
  },
  {
   "cell_type": "code",
   "execution_count": 24,
   "metadata": {
    "collapsed": false
   },
   "outputs": [
    {
     "data": {
      "text/plain": [
       "array([[27, 28, 29]])"
      ]
     },
     "execution_count": 24,
     "metadata": {},
     "output_type": "execute_result"
    }
   ],
   "source": [
    "big_example[-1:, 3:7]"
   ]
  },
  {
   "cell_type": "markdown",
   "metadata": {},
   "source": [
    "The above shows how to access as two-dimensional array. Unsurprisngly, the methods are the same.  \n",
    "\n",
    "Remember what was mentioned about how `NumPy` does not create copies of matrices all over the place? This becomes useful when wanting to change values. For example, we want to change values at specific indices. What will happen is that the changes will be *broadcasted* to the array; if we want to make a copy, it will have to be explicitly made."
   ]
  },
  {
   "cell_type": "code",
   "execution_count": 25,
   "metadata": {
    "collapsed": true
   },
   "outputs": [],
   "source": [
    "big_example[1:3, 5] = 700"
   ]
  },
  {
   "cell_type": "code",
   "execution_count": 26,
   "metadata": {
    "collapsed": false
   },
   "outputs": [
    {
     "data": {
      "text/plain": [
       "array([[  0,   1,   2,   3,   4,   5],\n",
       "       [  6,   7,   8,   9,  10, 700],\n",
       "       [ 12,  13,  14,  15,  16, 700],\n",
       "       [ 18,  19,  20,  21,  22,  23],\n",
       "       [ 24,  25,  26,  27,  28,  29]])"
      ]
     },
     "execution_count": 26,
     "metadata": {},
     "output_type": "execute_result"
    }
   ],
   "source": [
    "big_example"
   ]
  },
  {
   "cell_type": "markdown",
   "metadata": {},
   "source": [
    "## Boolean indexing\n",
    "When performing comparisons, you will often want a Boolean value to see if what we are are testing for is present. The next example is going to create a matrix, and then test to see where the values match certain criteria."
   ]
  },
  {
   "cell_type": "code",
   "execution_count": 27,
   "metadata": {
    "collapsed": false
   },
   "outputs": [
    {
     "data": {
      "text/plain": [
       "array([  1.,   4.,   7.,  99.,  25.])"
      ]
     },
     "execution_count": 27,
     "metadata": {},
     "output_type": "execute_result"
    }
   ],
   "source": [
    "array3 = np.array([1., 4., 7., 99., 25.])\n",
    "array3"
   ]
  },
  {
   "cell_type": "code",
   "execution_count": 28,
   "metadata": {
    "collapsed": false
   },
   "outputs": [
    {
     "data": {
      "text/plain": [
       "array([False, False,  True, False, False], dtype=bool)"
      ]
     },
     "execution_count": 28,
     "metadata": {},
     "output_type": "execute_result"
    }
   ],
   "source": [
    "array3 == 7."
   ]
  },
  {
   "cell_type": "code",
   "execution_count": 29,
   "metadata": {
    "collapsed": false
   },
   "outputs": [
    {
     "data": {
      "text/plain": [
       "array([ True,  True, False, False, False], dtype=bool)"
      ]
     },
     "execution_count": 29,
     "metadata": {},
     "output_type": "execute_result"
    }
   ],
   "source": [
    "array3 <= 6."
   ]
  },
  {
   "cell_type": "markdown",
   "metadata": {},
   "source": [
    "The output gives Boolean values wherever the condition is satsified, with the corresponding value at a particular index. Using other functions, such as `np.where`, you can also use the values with a conditional to broadcast changes and the like. And Boolean conditions can be combined."
   ]
  },
  {
   "cell_type": "markdown",
   "metadata": {},
   "source": [
    "## Transposing data\n",
    "Linear algebra operations, such as those used for regression, make use of matrix transposition (more on that below). There are vectorized functions for transposition, dot products and other common matrix operations."
   ]
  },
  {
   "cell_type": "code",
   "execution_count": 30,
   "metadata": {
    "collapsed": false
   },
   "outputs": [
    {
     "data": {
      "text/plain": [
       "array([[ 0,  1],\n",
       "       [ 2,  3],\n",
       "       [ 4,  5],\n",
       "       [ 6,  7],\n",
       "       [ 8,  9],\n",
       "       [10, 11],\n",
       "       [12, 13],\n",
       "       [14, 15],\n",
       "       [16, 17],\n",
       "       [18, 19]])"
      ]
     },
     "execution_count": 30,
     "metadata": {},
     "output_type": "execute_result"
    }
   ],
   "source": [
    "array4 = np.arange(20).reshape((10, 2))\n",
    "array4"
   ]
  },
  {
   "cell_type": "code",
   "execution_count": 31,
   "metadata": {
    "collapsed": false
   },
   "outputs": [
    {
     "data": {
      "text/plain": [
       "array([[ 0,  2,  4,  6,  8, 10, 12, 14, 16, 18],\n",
       "       [ 1,  3,  5,  7,  9, 11, 13, 15, 17, 19]])"
      ]
     },
     "execution_count": 31,
     "metadata": {},
     "output_type": "execute_result"
    }
   ],
   "source": [
    "array4.T"
   ]
  },
  {
   "cell_type": "code",
   "execution_count": 32,
   "metadata": {
    "collapsed": false
   },
   "outputs": [
    {
     "name": "stdout",
     "output_type": "stream",
     "text": [
      "Dot product of array4:\n"
     ]
    },
    {
     "data": {
      "text/plain": [
       "array([[1140, 1230],\n",
       "       [1230, 1330]])"
      ]
     },
     "execution_count": 32,
     "metadata": {},
     "output_type": "execute_result"
    }
   ],
   "source": [
    "print 'Dot product of array4:'\n",
    "np.dot(array4.T, array4)"
   ]
  },
  {
   "cell_type": "markdown",
   "metadata": {},
   "source": [
    "## Universal functions\n",
    "Universal functions perform element-wise operations on data. For example, in MATLAB (and Julia), if you want to perform element-wise operations, you use a special syntax for the operator (usually - you can also call the base functions). In `NumPy`, you will use the functions themselves. *Unary* universal functions operate on a single matrix; *binary* universal functions work on two matrices."
   ]
  },
  {
   "cell_type": "code",
   "execution_count": 33,
   "metadata": {
    "collapsed": false
   },
   "outputs": [
    {
     "data": {
      "text/plain": [
       "array([[ 0,  1,  2,  3,  4],\n",
       "       [ 5,  6,  7,  8,  9],\n",
       "       [10, 11, 12, 13, 14],\n",
       "       [15, 16, 17, 18, 19],\n",
       "       [20, 21, 22, 23, 24]])"
      ]
     },
     "execution_count": 33,
     "metadata": {},
     "output_type": "execute_result"
    }
   ],
   "source": [
    "array5 = np.arange(25).reshape((5, 5))\n",
    "array5"
   ]
  },
  {
   "cell_type": "code",
   "execution_count": 34,
   "metadata": {
    "collapsed": false
   },
   "outputs": [
    {
     "data": {
      "text/plain": [
       "array([[  1.00000000e+00,   2.71828183e+00,   7.38905610e+00,\n",
       "          2.00855369e+01,   5.45981500e+01],\n",
       "       [  1.48413159e+02,   4.03428793e+02,   1.09663316e+03,\n",
       "          2.98095799e+03,   8.10308393e+03],\n",
       "       [  2.20264658e+04,   5.98741417e+04,   1.62754791e+05,\n",
       "          4.42413392e+05,   1.20260428e+06],\n",
       "       [  3.26901737e+06,   8.88611052e+06,   2.41549528e+07,\n",
       "          6.56599691e+07,   1.78482301e+08],\n",
       "       [  4.85165195e+08,   1.31881573e+09,   3.58491285e+09,\n",
       "          9.74480345e+09,   2.64891221e+10]])"
      ]
     },
     "execution_count": 34,
     "metadata": {},
     "output_type": "execute_result"
    }
   ],
   "source": [
    "np.exp(array5)"
   ]
  },
  {
   "cell_type": "code",
   "execution_count": 35,
   "metadata": {
    "collapsed": false
   },
   "outputs": [
    {
     "data": {
      "text/plain": [
       "array([[ 0.        ,  1.        ,  1.41421356,  1.73205081,  2.        ],\n",
       "       [ 2.23606798,  2.44948974,  2.64575131,  2.82842712,  3.        ],\n",
       "       [ 3.16227766,  3.31662479,  3.46410162,  3.60555128,  3.74165739],\n",
       "       [ 3.87298335,  4.        ,  4.12310563,  4.24264069,  4.35889894],\n",
       "       [ 4.47213595,  4.58257569,  4.69041576,  4.79583152,  4.89897949]])"
      ]
     },
     "execution_count": 35,
     "metadata": {},
     "output_type": "execute_result"
    }
   ],
   "source": [
    "np.sqrt(array5)"
   ]
  },
  {
   "cell_type": "code",
   "execution_count": 36,
   "metadata": {
    "collapsed": false
   },
   "outputs": [
    {
     "name": "stderr",
     "output_type": "stream",
     "text": [
      "/anaconda/lib/python2.7/site-packages/IPython/kernel/__main__.py:1: RuntimeWarning: divide by zero encountered in log\n",
      "  if __name__ == '__main__':\n"
     ]
    },
    {
     "data": {
      "text/plain": [
       "array([[       -inf,  0.        ,  0.69314718,  1.09861229,  1.38629436],\n",
       "       [ 1.60943791,  1.79175947,  1.94591015,  2.07944154,  2.19722458],\n",
       "       [ 2.30258509,  2.39789527,  2.48490665,  2.56494936,  2.63905733],\n",
       "       [ 2.7080502 ,  2.77258872,  2.83321334,  2.89037176,  2.94443898],\n",
       "       [ 2.99573227,  3.04452244,  3.09104245,  3.13549422,  3.17805383]])"
      ]
     },
     "execution_count": 36,
     "metadata": {},
     "output_type": "execute_result"
    }
   ],
   "source": [
    "np.log(array5)"
   ]
  },
  {
   "cell_type": "code",
   "execution_count": 37,
   "metadata": {
    "collapsed": false
   },
   "outputs": [
    {
     "data": {
      "text/plain": [
       "array([[ 0.,  1.,  2.,  2.,  2.],\n",
       "       [ 3.,  3.,  3.,  3.,  3.],\n",
       "       [ 4.,  4.,  4.,  4.,  4.],\n",
       "       [ 4.,  4.,  5.,  5.,  5.],\n",
       "       [ 5.,  5.,  5.,  5.,  5.]])"
      ]
     },
     "execution_count": 37,
     "metadata": {},
     "output_type": "execute_result"
    }
   ],
   "source": [
    "np.ceil(np.sqrt(array5))"
   ]
  },
  {
   "cell_type": "code",
   "execution_count": 38,
   "metadata": {
    "collapsed": false
   },
   "outputs": [
    {
     "data": {
      "text/plain": [
       "array([[ 46.89178941,  97.09992863,  64.43883434,  20.47858179,\n",
       "         41.59473138],\n",
       "       [ 23.8775576 ,  49.57935744,  33.84037345,  52.24464795,\n",
       "         46.08804264],\n",
       "       [  8.05509019,   6.9615545 ,  11.80477242,  23.06592616,\n",
       "         82.41436886],\n",
       "       [ 12.26647171,  17.44700018,  72.21113492,  62.69841097,  30.2481283 ],\n",
       "       [ 49.02044714,  30.52390682,  23.2752846 ,  11.87598779,\n",
       "         59.89530117]])"
      ]
     },
     "execution_count": 38,
     "metadata": {},
     "output_type": "execute_result"
    }
   ],
   "source": [
    "array6 = np.random.uniform(low = 5, high = 100, size = (5, 5))\n",
    "array6"
   ]
  },
  {
   "cell_type": "code",
   "execution_count": 39,
   "metadata": {
    "collapsed": false
   },
   "outputs": [
    {
     "data": {
      "text/plain": [
       "array([[ 46.89178941,  98.09992863,  66.43883434,  23.47858179,\n",
       "         45.59473138],\n",
       "       [ 28.8775576 ,  55.57935744,  40.84037345,  60.24464795,\n",
       "         55.08804264],\n",
       "       [ 18.05509019,  17.9615545 ,  23.80477242,  36.06592616,\n",
       "         96.41436886],\n",
       "       [ 27.26647171,  33.44700018,  89.21113492,  80.69841097,  49.2481283 ],\n",
       "       [ 69.02044714,  51.52390682,  45.2752846 ,  34.87598779,\n",
       "         83.89530117]])"
      ]
     },
     "execution_count": 39,
     "metadata": {},
     "output_type": "execute_result"
    }
   ],
   "source": [
    "np.add(array5, array6)"
   ]
  },
  {
   "cell_type": "code",
   "execution_count": 40,
   "metadata": {
    "collapsed": false
   },
   "outputs": [
    {
     "data": {
      "text/plain": [
       "array([[-46.89178941, -96.09992863, -62.43883434, -17.47858179,\n",
       "        -37.59473138],\n",
       "       [-18.8775576 , -43.57935744, -26.84037345, -44.24464795,\n",
       "        -37.08804264],\n",
       "       [  1.94490981,   4.0384455 ,   0.19522758, -10.06592616,\n",
       "        -68.41436886],\n",
       "       [  2.73352829,  -1.44700018, -55.21113492, -44.69841097, -11.2481283 ],\n",
       "       [-29.02044714,  -9.52390682,  -1.2752846 ,  11.12401221,\n",
       "        -35.89530117]])"
      ]
     },
     "execution_count": 40,
     "metadata": {},
     "output_type": "execute_result"
    }
   ],
   "source": [
    "np.subtract(array5, array6)"
   ]
  },
  {
   "cell_type": "markdown",
   "metadata": {},
   "source": [
    "## Mathematical functions\n",
    "The standard mathematical functions for evaluating data are also available to you. Generally, you call the function on the array itself, and in the case of multidimensional arrays, you also specify the axis (0 = rows, 1 = columns if 2D)."
   ]
  },
  {
   "cell_type": "code",
   "execution_count": 41,
   "metadata": {
    "collapsed": false
   },
   "outputs": [
    {
     "data": {
      "text/plain": [
       "34.518250000000002"
      ]
     },
     "execution_count": 41,
     "metadata": {},
     "output_type": "execute_result"
    }
   ],
   "source": [
    "array1.mean()"
   ]
  },
  {
   "cell_type": "code",
   "execution_count": 42,
   "metadata": {
    "collapsed": false
   },
   "outputs": [
    {
     "data": {
      "text/plain": [
       "array([ 10.,  11.,  12.,  13.,  14.])"
      ]
     },
     "execution_count": 42,
     "metadata": {},
     "output_type": "execute_result"
    }
   ],
   "source": [
    "array5.mean(axis = 0)"
   ]
  },
  {
   "cell_type": "code",
   "execution_count": 43,
   "metadata": {
    "collapsed": false
   },
   "outputs": [
    {
     "data": {
      "text/plain": [
       "array([ 54.10077311,  41.12599581,  26.46034243,  38.97422922,  34.91818551])"
      ]
     },
     "execution_count": 43,
     "metadata": {},
     "output_type": "execute_result"
    }
   ],
   "source": [
    "array6.mean(axis = 1)"
   ]
  },
  {
   "cell_type": "code",
   "execution_count": 44,
   "metadata": {
    "collapsed": false
   },
   "outputs": [
    {
     "data": {
      "text/plain": [
       "array([    1,     2,     6,    24,   120,   120,   240,   720,  3600, 28800])"
      ]
     },
     "execution_count": 44,
     "metadata": {},
     "output_type": "execute_result"
    }
   ],
   "source": [
    "array2.cumprod()"
   ]
  },
  {
   "cell_type": "markdown",
   "metadata": {},
   "source": [
    "If you have used statistical packages before, you may be aware that Boolean values can be coerced to ones and zeros. The same is true here; if you were to call a mathematical function on a Boolean array, `True` would become 1 and `False` would become 0 before the computation was carried out."
   ]
  },
  {
   "cell_type": "markdown",
   "metadata": {},
   "source": [
    "## Sorting values\n",
    "Sometimes array values need to be placed in some sort (pun not intended or particularly funny) of order. For that, the `sort` function is used. The array will be sorted in-place and the axis can be specified."
   ]
  },
  {
   "cell_type": "code",
   "execution_count": 45,
   "metadata": {
    "collapsed": false
   },
   "outputs": [
    {
     "data": {
      "text/plain": [
       "array([-2.03222208, -1.16971887, -1.01571509, -0.97148722, -0.95767178,\n",
       "       -0.94271524, -0.67153918, -0.64376431, -0.52744269, -0.3681632 ,\n",
       "       -0.36103295, -0.27606156, -0.23925492, -0.21582443, -0.10398469,\n",
       "       -0.03976982,  0.010571  ,  0.01431829,  0.12284839,  0.12787691,\n",
       "        0.24621289,  0.3595527 ,  0.53235297,  0.53640206,  0.71987718,\n",
       "        0.86311338,  1.26655053,  1.37136743,  1.57016089,  1.87037961])"
      ]
     },
     "execution_count": 45,
     "metadata": {},
     "output_type": "execute_result"
    }
   ],
   "source": [
    "array7 = np.random.randn(30).reshape((30,))\n",
    "array7.sort()\n",
    "array7"
   ]
  },
  {
   "cell_type": "code",
   "execution_count": 46,
   "metadata": {
    "collapsed": false
   },
   "outputs": [
    {
     "data": {
      "text/plain": [
       "array([[-2.00312729, -0.55484141, -0.26321267, -0.21974147,  1.037973  ],\n",
       "       [-0.91695903, -0.62580577, -0.45397555,  0.18343422,  1.7644113 ],\n",
       "       [-0.73022914, -0.00281871,  0.50127188,  1.1125108 ,  1.373264  ],\n",
       "       [-1.45468521, -1.1093212 ,  0.2721482 ,  0.35178788,  0.88064373]])"
      ]
     },
     "execution_count": 46,
     "metadata": {},
     "output_type": "execute_result"
    }
   ],
   "source": [
    "array8 = np.random.randn(20).reshape((4, 5))\n",
    "array8.sort()\n",
    "array8"
   ]
  },
  {
   "cell_type": "markdown",
   "metadata": {},
   "source": [
    "## Set logic\n",
    "Set logic and operations can also be used on arrays. For example, fnding out unique values and comparing the items in different arrays."
   ]
  },
  {
   "cell_type": "code",
   "execution_count": 47,
   "metadata": {
    "collapsed": false
   },
   "outputs": [],
   "source": [
    "array9 = np.arange(20)\n",
    "array10 = np.random.randint(low = 2, high = 20, size = (20))"
   ]
  },
  {
   "cell_type": "code",
   "execution_count": 48,
   "metadata": {
    "collapsed": false
   },
   "outputs": [
    {
     "data": {
      "text/plain": [
       "array([ 2,  3,  4,  5,  7,  8,  9, 12, 13, 14, 15, 16, 17, 18])"
      ]
     },
     "execution_count": 48,
     "metadata": {},
     "output_type": "execute_result"
    }
   ],
   "source": [
    "np.unique(array10)"
   ]
  },
  {
   "cell_type": "code",
   "execution_count": 49,
   "metadata": {
    "collapsed": false
   },
   "outputs": [
    {
     "data": {
      "text/plain": [
       "array([ 2,  3,  4,  5,  7,  8,  9, 12, 13, 14, 15, 16, 17, 18])"
      ]
     },
     "execution_count": 49,
     "metadata": {},
     "output_type": "execute_result"
    }
   ],
   "source": [
    "np.intersect1d(array9, array10)"
   ]
  },
  {
   "cell_type": "code",
   "execution_count": 50,
   "metadata": {
    "collapsed": false
   },
   "outputs": [
    {
     "data": {
      "text/plain": [
       "array([ 0,  1,  6, 10, 11, 19])"
      ]
     },
     "execution_count": 50,
     "metadata": {},
     "output_type": "execute_result"
    }
   ],
   "source": [
    "np.setdiff1d(array9, array10)"
   ]
  },
  {
   "cell_type": "markdown",
   "metadata": {},
   "source": [
    "## Linear algebra\n",
    "Most of the matrix operations used in the SciPy stack will be using `NumPy` operations (which in turn use BLAS, OpenBLAS, Intel MKL, etc.). So it is not surprsing that square matrix operations can be implemented in `NumPy`, though in all likelihood you will use other modules to perform the analyses you want. It can be useful to compare output between programs; for example, comparing the precision and error in QR decomposition and solving  system of equations in the SciPy stack, MATLAB, R and Julia (this may depend on whether or not you are not using the same underlying libraries in all the programs and the limits of their floating point precision)."
   ]
  },
  {
   "cell_type": "code",
   "execution_count": 51,
   "metadata": {
    "collapsed": false
   },
   "outputs": [],
   "source": [
    "mtx1 = np.random.normal(loc = 5, scale = 0.02, size = (5,5))\n",
    "mtx2 = np.random.uniform(low = 32, high = 500, size = (5,5))\n",
    "targets = np.array([36., 2., 5., 8., 772.])\n",
    "\n",
    "from numpy.linalg import det, eig, pinv, qr, svd, solve, lstsq"
   ]
  },
  {
   "cell_type": "code",
   "execution_count": 52,
   "metadata": {
    "collapsed": false
   },
   "outputs": [
    {
     "data": {
      "text/plain": [
       "array([[-136.14650279,   -0.60048447,   22.10188686,   39.07375801,\n",
       "          75.65619215],\n",
       "       [ -87.64316481,  -30.23668381,  -10.77477145,   35.01278972,\n",
       "          93.79092319],\n",
       "       [ 171.31818275,   38.83977698,  -16.88582925,  -66.22789646,\n",
       "        -127.11319871],\n",
       "       [  25.08496855,   -6.18933569,   -5.41326949,    9.79232017,\n",
       "         -23.29013486],\n",
       "       [  27.73975846,   -1.72778411,   10.97561646,  -17.67438083,\n",
       "         -19.26291864]])"
      ]
     },
     "execution_count": 52,
     "metadata": {},
     "output_type": "execute_result"
    }
   ],
   "source": [
    "pinv(mtx1)"
   ]
  },
  {
   "cell_type": "code",
   "execution_count": 53,
   "metadata": {
    "collapsed": false
   },
   "outputs": [
    {
     "data": {
      "text/plain": [
       "-876715450128.76465"
      ]
     },
     "execution_count": 53,
     "metadata": {},
     "output_type": "execute_result"
    }
   ],
   "source": [
    "det(mtx2)"
   ]
  },
  {
   "cell_type": "code",
   "execution_count": 54,
   "metadata": {
    "collapsed": false
   },
   "outputs": [
    {
     "data": {
      "text/plain": [
       "(array([  2.49793538e+01+0.j        ,  -1.27174803e-02+0.02309577j,\n",
       "         -1.27174803e-02-0.02309577j,  -5.57345769e-03+0.j        ,\n",
       "          4.30451659e-02+0.j        ]),\n",
       " array([[-0.44708930+0.j        , -0.02470850+0.16728883j,\n",
       "         -0.02470850-0.16728883j, -0.56246651+0.j        ,  0.03769113+0.j        ],\n",
       "        [-0.44754132+0.j        , -0.46677699-0.44472807j,\n",
       "         -0.46677699+0.44472807j, -0.33079674+0.j        ,  0.10392266+0.j        ],\n",
       "        [-0.44701706+0.j        ,  0.68264072+0.j        ,\n",
       "          0.68264072-0.j        ,  0.75035850+0.j        ,  0.26400357+0.j        ],\n",
       "        [-0.44808191+0.j        , -0.04550617+0.02000719j,\n",
       "         -0.04550617-0.02000719j,  0.09168327+0.j        , -0.85006177+0.j        ],\n",
       "        [-0.44633649+0.j        , -0.14465105+0.25757861j,\n",
       "         -0.14465105-0.25757861j,  0.05254742+0.j        ,  0.44212731+0.j        ]]))"
      ]
     },
     "execution_count": 54,
     "metadata": {},
     "output_type": "execute_result"
    }
   ],
   "source": [
    "eig(mtx1)"
   ]
  },
  {
   "cell_type": "code",
   "execution_count": 55,
   "metadata": {
    "collapsed": false
   },
   "outputs": [
    {
     "data": {
      "text/plain": [
       "(array([[-0.4841039 , -0.47801187,  0.53039905,  0.38204586, -0.33146021],\n",
       "        [-0.36600516, -0.3988828 ,  0.02345871, -0.81405104,  0.20905342],\n",
       "        [-0.46051625, -0.21819011, -0.65861868,  0.39469595,  0.38827104],\n",
       "        [-0.44825611,  0.40703319, -0.34207662, -0.18601165, -0.69409919],\n",
       "        [-0.46762686,  0.63175487,  0.40906179,  0.03125132,  0.46249617]]),\n",
       " array([ 1341.31964141,   531.98576512,   342.84712027,   203.41456879,\n",
       "           17.61748068]),\n",
       " array([[-0.41006287, -0.32931531, -0.49501309, -0.51601018, -0.46053817],\n",
       "        [ 0.4454392 , -0.19029295,  0.34645642, -0.76981914,  0.22960607],\n",
       "        [ 0.38876534,  0.77009217, -0.28019212, -0.20174889, -0.36960699],\n",
       "        [ 0.2767952 , -0.11466431, -0.74291167,  0.03243411,  0.59771799],\n",
       "        [-0.6369288 ,  0.49914945,  0.06711643, -0.31521008,  0.49123266]]))"
      ]
     },
     "execution_count": 55,
     "metadata": {},
     "output_type": "execute_result"
    }
   ],
   "source": [
    "svd(mtx2)"
   ]
  },
  {
   "cell_type": "code",
   "execution_count": 56,
   "metadata": {
    "collapsed": false
   },
   "outputs": [
    {
     "data": {
      "text/plain": [
       "array([ 53927.20476904,  69417.19386142, -92500.50759215, -17038.03170513,\n",
       "       -13962.3144175 ])"
      ]
     },
     "execution_count": 56,
     "metadata": {},
     "output_type": "execute_result"
    }
   ],
   "source": [
    "solve(mtx1, targets)"
   ]
  },
  {
   "cell_type": "code",
   "execution_count": 57,
   "metadata": {
    "collapsed": false
   },
   "outputs": [
    {
     "data": {
      "text/plain": [
       "(array([ 53927.20476903,  69417.19386142, -92500.50759215, -17038.03170513,\n",
       "        -13962.3144175 ]),\n",
       " array([], dtype=float64),\n",
       " 5,\n",
       " array([  2.49794218e+01,   5.52541260e-02,   4.25992602e-02,\n",
       "          2.20294545e-02,   3.21629033e-03]))"
      ]
     },
     "execution_count": 57,
     "metadata": {},
     "output_type": "execute_result"
    }
   ],
   "source": [
    "lstsq(mtx1, targets)"
   ]
  },
  {
   "cell_type": "code",
   "execution_count": 58,
   "metadata": {
    "collapsed": false
   },
   "outputs": [],
   "source": [
    "q, r = qr(mtx2)"
   ]
  },
  {
   "cell_type": "code",
   "execution_count": 59,
   "metadata": {
    "collapsed": false
   },
   "outputs": [
    {
     "data": {
      "text/plain": [
       "array([[-0.40394097, -0.6856158 ,  0.35708262,  0.37742974, -0.31112935],\n",
       "       [-0.10018357, -0.57340896, -0.70943255, -0.37880228,  0.11991543],\n",
       "       [-0.21367336,  0.12754852, -0.39973713,  0.75601086,  0.45467887],\n",
       "       [-0.47827166,  0.40095811, -0.37714491,  0.00927043, -0.68422554],\n",
       "       [-0.74323271,  0.15523246,  0.25917062, -0.37738212,  0.46251632]])"
      ]
     },
     "execution_count": 59,
     "metadata": {},
     "output_type": "execute_result"
    }
   ],
   "source": [
    "q"
   ]
  },
  {
   "cell_type": "code",
   "execution_count": 60,
   "metadata": {
    "collapsed": false
   },
   "outputs": [
    {
     "data": {
      "text/plain": [
       "array([[-616.23286187, -410.14642075, -628.90240551, -446.03291585,\n",
       "        -581.87434753],\n",
       "       [   0.        , -327.8292607 ,   15.68157184, -444.68934745,\n",
       "          43.84645263],\n",
       "       [   0.        ,    0.        , -333.36115904, -348.50926509,\n",
       "        -179.52476171],\n",
       "       [   0.        ,    0.        ,    0.        ,  365.34019606,\n",
       "         231.13873406],\n",
       "       [   0.        ,    0.        ,    0.        ,    0.        ,\n",
       "          35.63310246]])"
      ]
     },
     "execution_count": 60,
     "metadata": {},
     "output_type": "execute_result"
    }
   ],
   "source": [
    "r"
   ]
  },
  {
   "cell_type": "markdown",
   "metadata": {},
   "source": [
    "## Random numbers\n",
    "`NumPy` can create vectors and matrices of random numbers with specific parameters quite easily. There are examples in the Day 2, Hour 1 notebook that take advantage of these functions to create various datasets."
   ]
  },
  {
   "cell_type": "markdown",
   "metadata": {},
   "source": [
    "# Conclusion\n",
    "This is just a small subset of what `NumPy` can do. If you feel like experimenting, go through the documentation and help and use and combine functions to perform a variety of tasks. For example, logical indexing of values, replacing values, calculating different summaries on an array and implementing basic linear algebra (e.g., solving systems of equations, decomposing a matrix, calculating inner and outer products). This section will also help you to understand what is going on in the introduction to `pandas` and how the various regressions are being implemented. The [gallery of notebooks on the IPython wiki](https://github.com/ipython/ipython/wiki/A-gallery-of-interesting-IPython-Notebooks) also has resources if you want to explore further.  \n",
    "\n",
    "If you want to see absolute differences try the following: try solving a regression example by (1) using matrix inversion and (2) by solving systems of equations (if you can do so in different programs, even better). You should get the same values for the coefficients, but if you were to calculate the regression line, the errors between the two methods should be different, with the errors from matrix inversion larger (maybe even several orders of magnitude greater) than solving using systems of equatios. Why? Hint: think about how many operations are involved and how many times the error is propagated. Granted, they will be functionally close to zero, but precision and error can crop up in unexpected ways .  For more information, you can search for 'floating point accuracy in MATLAB' or 'floating point accuracy in NumPy'. MATLAB's floating point precision is contained in the variable `eps`."
   ]
  }
 ],
 "metadata": {
  "kernelspec": {
   "display_name": "Python 2",
   "language": "python",
   "name": "python2"
  },
  "language_info": {
   "codemirror_mode": {
    "name": "ipython",
    "version": 2
   },
   "file_extension": ".py",
   "mimetype": "text/x-python",
   "name": "python",
   "nbconvert_exporter": "python",
   "pygments_lexer": "ipython2",
   "version": "2.7.10"
  }
 },
 "nbformat": 4,
 "nbformat_minor": 0
}
