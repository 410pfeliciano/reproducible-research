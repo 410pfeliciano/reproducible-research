{
 "cells": [
  {
   "cell_type": "markdown",
   "metadata": {},
   "source": [
    "# Data import and visualization using Python\n",
    "The first part of this mini-course will focus on using the Python ecosystem to import and visualize data. We will focus on a few publically-available datasets (more are given in the syllabus) in various formats (CSV, DAT, XML, etc.) and with various data types (continuous, integer, datetime, character, etc.).\n",
    "\n",
    "Suggested datasets (some will be used as examples):\n",
    "- Princeton stats course by German Rodriguez *(small)*\n",
    "- Social Security Baby Names *(small)*\n",
    "- USDA food database *(medium)*\n",
    "- 2010 US Census *(small; the API can give much larger datasets)*\n",
    "- NY MTA *(small)*\n",
    "- 2012 Federal Election Commission *(large)*\n",
    "- MovieLens *(medium to large)*\n",
    "\n",
    "The goal is to get everyone familiar with the nuances and potential issues involved in importing, cleaning, shaping and analyzing data. These datasets are typically used in several data projects or as analytic examples for various statistical tests. We also encourage (implore really) you for the assignments/homeworks to expand what you have learned in order to maniuplate data in both Python and R.  \n",
    "\n",
    "Python modules for importing, visualizing and analyzing datasets:\n",
    "- `pandas`\n",
    "- `lxml`\n",
    "- `json`\n",
    "- `simplejson` (gives more informative error messages than json; good for troubleshooting)\n",
    "- `Matplotlib`\n",
    "- `Seaborn`\n",
    "- `NumPy`\n",
    "- `SciPy`\n",
    "- `Statsmodels`\n",
    "- `scikit-learn`"
   ]
  },
  {
   "cell_type": "markdown",
   "metadata": {},
   "source": [
    "## Importing data using pandas\n",
    "The majority of data you will be using will be in a tabular format, either from a deimited file, URL, database query, or some other method. Ideally, the file will have been formatted in a sensible manner (consistent delimiters and spacing) but that is not guaranteed. The `pandas` module will read in data in a tabular format and store it in a structure called a `DataFrame`; `DataFrame`s have several useful features that will be explored as we go through the data.  \n",
    "\n",
    "The main functions you will likely use:\n",
    "- `read_csv`: comma is the default delimiter\n",
    "- `read_table`: more general function; `\\t` is the default delimiter\n",
    "- `read_fwf`: read fixed-width files  \n",
    "\n",
    "See also the `pandas` IO Tools documentation: http://pandas.pydata.org/pandas-docs/stable/io.html"
   ]
  },
  {
   "cell_type": "markdown",
   "metadata": {},
   "source": [
    "## Example 1: 2010 US Census data (CSV)\n",
    "The first example we will look at is from the 2010 US Census, specifically the population density data. You can either download it to a local drive or access the URL directly."
   ]
  },
  {
   "cell_type": "code",
   "execution_count": 1,
   "metadata": {
    "collapsed": true
   },
   "outputs": [],
   "source": [
    "import pandas as pd"
   ]
  },
  {
   "cell_type": "code",
   "execution_count": 2,
   "metadata": {
    "collapsed": false
   },
   "outputs": [
    {
     "data": {
      "text/html": [
       "<div style=\"max-height:1000px;max-width:1500px;overflow:auto;\">\n",
       "<table border=\"1\" class=\"dataframe\">\n",
       "  <thead>\n",
       "    <tr style=\"text-align: right;\">\n",
       "      <th></th>\n",
       "      <th># POPULATION DENSITY DATA PROVIDED BY U.S. CENSUS.</th>\n",
       "      <th>Unnamed: 1</th>\n",
       "      <th>Unnamed: 2</th>\n",
       "      <th>Unnamed: 3</th>\n",
       "      <th>Unnamed: 4</th>\n",
       "      <th>Unnamed: 5</th>\n",
       "      <th>Unnamed: 6</th>\n",
       "      <th>Unnamed: 7</th>\n",
       "      <th>Unnamed: 8</th>\n",
       "      <th>Unnamed: 9</th>\n",
       "      <th>...</th>\n",
       "      <th>Unnamed: 24</th>\n",
       "      <th>Unnamed: 25</th>\n",
       "      <th>Unnamed: 26</th>\n",
       "      <th>Unnamed: 27</th>\n",
       "      <th>Unnamed: 28</th>\n",
       "      <th>Unnamed: 29</th>\n",
       "      <th>Unnamed: 30</th>\n",
       "      <th>Unnamed: 31</th>\n",
       "      <th>Unnamed: 32</th>\n",
       "      <th>Unnamed: 33</th>\n",
       "    </tr>\n",
       "  </thead>\n",
       "  <tbody>\n",
       "    <tr>\n",
       "      <th>0</th>\n",
       "      <td>    # DENSITY EXPRESSED AS PEOPLE PER SQUARE MILE.</td>\n",
       "      <td>             NaN</td>\n",
       "      <td>             NaN</td>\n",
       "      <td>             NaN</td>\n",
       "      <td>             NaN</td>\n",
       "      <td>             NaN</td>\n",
       "      <td>             NaN</td>\n",
       "      <td>             NaN</td>\n",
       "      <td>             NaN</td>\n",
       "      <td>             NaN</td>\n",
       "      <td>...</td>\n",
       "      <td>       NaN</td>\n",
       "      <td>       NaN</td>\n",
       "      <td>       NaN</td>\n",
       "      <td>       NaN</td>\n",
       "      <td>       NaN</td>\n",
       "      <td>       NaN</td>\n",
       "      <td>       NaN</td>\n",
       "      <td>       NaN</td>\n",
       "      <td>       NaN</td>\n",
       "      <td>       NaN</td>\n",
       "    </tr>\n",
       "    <tr>\n",
       "      <th>1</th>\n",
       "      <td> # DENSITY RANKING EXPRESSED IN ORDER OF MOST D...</td>\n",
       "      <td>             NaN</td>\n",
       "      <td>             NaN</td>\n",
       "      <td>             NaN</td>\n",
       "      <td>             NaN</td>\n",
       "      <td>             NaN</td>\n",
       "      <td>             NaN</td>\n",
       "      <td>             NaN</td>\n",
       "      <td>             NaN</td>\n",
       "      <td>             NaN</td>\n",
       "      <td>...</td>\n",
       "      <td>       NaN</td>\n",
       "      <td>       NaN</td>\n",
       "      <td>       NaN</td>\n",
       "      <td>       NaN</td>\n",
       "      <td>       NaN</td>\n",
       "      <td>       NaN</td>\n",
       "      <td>       NaN</td>\n",
       "      <td>       NaN</td>\n",
       "      <td>       NaN</td>\n",
       "      <td>       NaN</td>\n",
       "    </tr>\n",
       "    <tr>\n",
       "      <th>2</th>\n",
       "      <td>                                   STATE_OR_REGION</td>\n",
       "      <td> 1910_POPULATION</td>\n",
       "      <td> 1920_POPULATION</td>\n",
       "      <td> 1930_POPULATION</td>\n",
       "      <td> 1940_POPULATION</td>\n",
       "      <td> 1950_POPULATION</td>\n",
       "      <td> 1960_POPULATION</td>\n",
       "      <td> 1970_POPULATION</td>\n",
       "      <td> 1980_POPULATION</td>\n",
       "      <td> 1990_POPULATION</td>\n",
       "      <td>...</td>\n",
       "      <td> 1920_RANK</td>\n",
       "      <td> 1930_RANK</td>\n",
       "      <td> 1940_RANK</td>\n",
       "      <td> 1950_RANK</td>\n",
       "      <td> 1960_RANK</td>\n",
       "      <td> 1970_RANK</td>\n",
       "      <td> 1980_RANK</td>\n",
       "      <td> 1990_RANK</td>\n",
       "      <td> 2000_RANK</td>\n",
       "      <td> 2010_RANK</td>\n",
       "    </tr>\n",
       "    <tr>\n",
       "      <th>3</th>\n",
       "      <td>                                     United States</td>\n",
       "      <td>        92228531</td>\n",
       "      <td>       106021568</td>\n",
       "      <td>       123202660</td>\n",
       "      <td>       132165129</td>\n",
       "      <td>       151325798</td>\n",
       "      <td>       179323175</td>\n",
       "      <td>       203211926</td>\n",
       "      <td>       226545805</td>\n",
       "      <td>       248709873</td>\n",
       "      <td>...</td>\n",
       "      <td>       NaN</td>\n",
       "      <td>       NaN</td>\n",
       "      <td>       NaN</td>\n",
       "      <td>       NaN</td>\n",
       "      <td>       NaN</td>\n",
       "      <td>       NaN</td>\n",
       "      <td>       NaN</td>\n",
       "      <td>       NaN</td>\n",
       "      <td>       NaN</td>\n",
       "      <td>       NaN</td>\n",
       "    </tr>\n",
       "    <tr>\n",
       "      <th>4</th>\n",
       "      <td>                                           Alabama</td>\n",
       "      <td>         2138093</td>\n",
       "      <td>         2348174</td>\n",
       "      <td>         2646248</td>\n",
       "      <td>         2832961</td>\n",
       "      <td>         3061743</td>\n",
       "      <td>         3266740</td>\n",
       "      <td>         3444165</td>\n",
       "      <td>         3893888</td>\n",
       "      <td>         4040587</td>\n",
       "      <td>...</td>\n",
       "      <td>        25</td>\n",
       "      <td>        24</td>\n",
       "      <td>        23</td>\n",
       "      <td>        24</td>\n",
       "      <td>        28</td>\n",
       "      <td>        28</td>\n",
       "      <td>        28</td>\n",
       "      <td>        27</td>\n",
       "      <td>        28</td>\n",
       "      <td>        29</td>\n",
       "    </tr>\n",
       "  </tbody>\n",
       "</table>\n",
       "<p>5 rows × 34 columns</p>\n",
       "</div>"
      ],
      "text/plain": [
       "  # POPULATION DENSITY DATA PROVIDED BY U.S. CENSUS.       Unnamed: 1  \\\n",
       "0     # DENSITY EXPRESSED AS PEOPLE PER SQUARE MILE.              NaN   \n",
       "1  # DENSITY RANKING EXPRESSED IN ORDER OF MOST D...              NaN   \n",
       "2                                    STATE_OR_REGION  1910_POPULATION   \n",
       "3                                      United States         92228531   \n",
       "4                                            Alabama          2138093   \n",
       "\n",
       "        Unnamed: 2       Unnamed: 3       Unnamed: 4       Unnamed: 5  \\\n",
       "0              NaN              NaN              NaN              NaN   \n",
       "1              NaN              NaN              NaN              NaN   \n",
       "2  1920_POPULATION  1930_POPULATION  1940_POPULATION  1950_POPULATION   \n",
       "3        106021568        123202660        132165129        151325798   \n",
       "4          2348174          2646248          2832961          3061743   \n",
       "\n",
       "        Unnamed: 6       Unnamed: 7       Unnamed: 8       Unnamed: 9  \\\n",
       "0              NaN              NaN              NaN              NaN   \n",
       "1              NaN              NaN              NaN              NaN   \n",
       "2  1960_POPULATION  1970_POPULATION  1980_POPULATION  1990_POPULATION   \n",
       "3        179323175        203211926        226545805        248709873   \n",
       "4          3266740          3444165          3893888          4040587   \n",
       "\n",
       "      ...     Unnamed: 24 Unnamed: 25 Unnamed: 26 Unnamed: 27 Unnamed: 28  \\\n",
       "0     ...             NaN         NaN         NaN         NaN         NaN   \n",
       "1     ...             NaN         NaN         NaN         NaN         NaN   \n",
       "2     ...       1920_RANK   1930_RANK   1940_RANK   1950_RANK   1960_RANK   \n",
       "3     ...             NaN         NaN         NaN         NaN         NaN   \n",
       "4     ...              25          24          23          24          28   \n",
       "\n",
       "  Unnamed: 29 Unnamed: 30 Unnamed: 31 Unnamed: 32 Unnamed: 33  \n",
       "0         NaN         NaN         NaN         NaN         NaN  \n",
       "1         NaN         NaN         NaN         NaN         NaN  \n",
       "2   1970_RANK   1980_RANK   1990_RANK   2000_RANK   2010_RANK  \n",
       "3         NaN         NaN         NaN         NaN         NaN  \n",
       "4          28          28          27          28          29  \n",
       "\n",
       "[5 rows x 34 columns]"
      ]
     },
     "execution_count": 2,
     "metadata": {},
     "output_type": "execute_result"
    }
   ],
   "source": [
    "density_url = 'http://www.census.gov/2010census/csv/pop_density.csv'\n",
    "\n",
    "density_data_2010 = pd.read_csv(density_url)\n",
    "\n",
    "density_data_2010.head()"
   ]
  },
  {
   "cell_type": "markdown",
   "metadata": {},
   "source": [
    "So what happened here? We (1) specified the URL as a string; (2) called the `read_csv` function to download the data and assign it to the variable `density_data_2010`; (3) examined the first six rows using the `head` function.  \n",
    "\n",
    "Do we really want the data in this format? We likely want the row with the index of **`2`** to be the header of our `DataFrame`. Let's reimport the data, using some of `read_csv`'s additional arguments."
   ]
  },
  {
   "cell_type": "code",
   "execution_count": 3,
   "metadata": {
    "collapsed": false
   },
   "outputs": [
    {
     "data": {
      "text/html": [
       "<div style=\"max-height:1000px;max-width:1500px;overflow:auto;\">\n",
       "<table border=\"1\" class=\"dataframe\">\n",
       "  <thead>\n",
       "    <tr style=\"text-align: right;\">\n",
       "      <th></th>\n",
       "      <th>STATE_OR_REGION</th>\n",
       "      <th>1910_POPULATION</th>\n",
       "      <th>1920_POPULATION</th>\n",
       "      <th>1930_POPULATION</th>\n",
       "      <th>1940_POPULATION</th>\n",
       "      <th>1950_POPULATION</th>\n",
       "      <th>1960_POPULATION</th>\n",
       "      <th>1970_POPULATION</th>\n",
       "      <th>1980_POPULATION</th>\n",
       "      <th>1990_POPULATION</th>\n",
       "      <th>...</th>\n",
       "      <th>1920_RANK</th>\n",
       "      <th>1930_RANK</th>\n",
       "      <th>1940_RANK</th>\n",
       "      <th>1950_RANK</th>\n",
       "      <th>1960_RANK</th>\n",
       "      <th>1970_RANK</th>\n",
       "      <th>1980_RANK</th>\n",
       "      <th>1990_RANK</th>\n",
       "      <th>2000_RANK</th>\n",
       "      <th>2010_RANK</th>\n",
       "    </tr>\n",
       "  </thead>\n",
       "  <tbody>\n",
       "    <tr>\n",
       "      <th>0</th>\n",
       "      <td> United States</td>\n",
       "      <td> 92228531</td>\n",
       "      <td> 106021568</td>\n",
       "      <td> 123202660</td>\n",
       "      <td> 132165129</td>\n",
       "      <td> 151325798</td>\n",
       "      <td> 179323175</td>\n",
       "      <td> 203211926</td>\n",
       "      <td> 226545805</td>\n",
       "      <td> 248709873</td>\n",
       "      <td>...</td>\n",
       "      <td>NaN</td>\n",
       "      <td>NaN</td>\n",
       "      <td>NaN</td>\n",
       "      <td>NaN</td>\n",
       "      <td>NaN</td>\n",
       "      <td>NaN</td>\n",
       "      <td>NaN</td>\n",
       "      <td>NaN</td>\n",
       "      <td>NaN</td>\n",
       "      <td>NaN</td>\n",
       "    </tr>\n",
       "    <tr>\n",
       "      <th>1</th>\n",
       "      <td>       Alabama</td>\n",
       "      <td>  2138093</td>\n",
       "      <td>   2348174</td>\n",
       "      <td>   2646248</td>\n",
       "      <td>   2832961</td>\n",
       "      <td>   3061743</td>\n",
       "      <td>   3266740</td>\n",
       "      <td>   3444165</td>\n",
       "      <td>   3893888</td>\n",
       "      <td>   4040587</td>\n",
       "      <td>...</td>\n",
       "      <td> 25</td>\n",
       "      <td> 24</td>\n",
       "      <td> 23</td>\n",
       "      <td> 24</td>\n",
       "      <td> 28</td>\n",
       "      <td> 28</td>\n",
       "      <td> 28</td>\n",
       "      <td> 27</td>\n",
       "      <td> 28</td>\n",
       "      <td> 29</td>\n",
       "    </tr>\n",
       "    <tr>\n",
       "      <th>2</th>\n",
       "      <td>        Alaska</td>\n",
       "      <td>    64356</td>\n",
       "      <td>     55036</td>\n",
       "      <td>     59278</td>\n",
       "      <td>     72524</td>\n",
       "      <td>    128643</td>\n",
       "      <td>    226167</td>\n",
       "      <td>    300382</td>\n",
       "      <td>    401851</td>\n",
       "      <td>    550043</td>\n",
       "      <td>...</td>\n",
       "      <td> 52</td>\n",
       "      <td> 52</td>\n",
       "      <td> 52</td>\n",
       "      <td> 52</td>\n",
       "      <td> 52</td>\n",
       "      <td> 52</td>\n",
       "      <td> 52</td>\n",
       "      <td> 52</td>\n",
       "      <td> 52</td>\n",
       "      <td> 52</td>\n",
       "    </tr>\n",
       "    <tr>\n",
       "      <th>3</th>\n",
       "      <td>       Arizona</td>\n",
       "      <td>   204354</td>\n",
       "      <td>    334162</td>\n",
       "      <td>    435573</td>\n",
       "      <td>    499261</td>\n",
       "      <td>    749587</td>\n",
       "      <td>   1302161</td>\n",
       "      <td>   1770900</td>\n",
       "      <td>   2718215</td>\n",
       "      <td>   3665228</td>\n",
       "      <td>...</td>\n",
       "      <td> 49</td>\n",
       "      <td> 47</td>\n",
       "      <td> 47</td>\n",
       "      <td> 47</td>\n",
       "      <td> 43</td>\n",
       "      <td> 43</td>\n",
       "      <td> 42</td>\n",
       "      <td> 39</td>\n",
       "      <td> 38</td>\n",
       "      <td> 35</td>\n",
       "    </tr>\n",
       "    <tr>\n",
       "      <th>4</th>\n",
       "      <td>      Arkansas</td>\n",
       "      <td>  1574449</td>\n",
       "      <td>   1752204</td>\n",
       "      <td>   1854482</td>\n",
       "      <td>   1949387</td>\n",
       "      <td>   1909511</td>\n",
       "      <td>   1786272</td>\n",
       "      <td>   1923295</td>\n",
       "      <td>   2286435</td>\n",
       "      <td>   2350725</td>\n",
       "      <td>...</td>\n",
       "      <td> 31</td>\n",
       "      <td> 32</td>\n",
       "      <td> 32</td>\n",
       "      <td> 34</td>\n",
       "      <td> 36</td>\n",
       "      <td> 37</td>\n",
       "      <td> 37</td>\n",
       "      <td> 37</td>\n",
       "      <td> 36</td>\n",
       "      <td> 36</td>\n",
       "    </tr>\n",
       "  </tbody>\n",
       "</table>\n",
       "<p>5 rows × 34 columns</p>\n",
       "</div>"
      ],
      "text/plain": [
       "  STATE_OR_REGION  1910_POPULATION  1920_POPULATION  1930_POPULATION  \\\n",
       "0   United States         92228531        106021568        123202660   \n",
       "1         Alabama          2138093          2348174          2646248   \n",
       "2          Alaska            64356            55036            59278   \n",
       "3         Arizona           204354           334162           435573   \n",
       "4        Arkansas          1574449          1752204          1854482   \n",
       "\n",
       "   1940_POPULATION  1950_POPULATION  1960_POPULATION  1970_POPULATION  \\\n",
       "0        132165129        151325798        179323175        203211926   \n",
       "1          2832961          3061743          3266740          3444165   \n",
       "2            72524           128643           226167           300382   \n",
       "3           499261           749587          1302161          1770900   \n",
       "4          1949387          1909511          1786272          1923295   \n",
       "\n",
       "   1980_POPULATION  1990_POPULATION    ...     1920_RANK  1930_RANK 1940_RANK  \\\n",
       "0        226545805        248709873    ...           NaN        NaN       NaN   \n",
       "1          3893888          4040587    ...            25         24        23   \n",
       "2           401851           550043    ...            52         52        52   \n",
       "3          2718215          3665228    ...            49         47        47   \n",
       "4          2286435          2350725    ...            31         32        32   \n",
       "\n",
       "  1950_RANK 1960_RANK 1970_RANK 1980_RANK 1990_RANK 2000_RANK 2010_RANK  \n",
       "0       NaN       NaN       NaN       NaN       NaN       NaN       NaN  \n",
       "1        24        28        28        28        27        28        29  \n",
       "2        52        52        52        52        52        52        52  \n",
       "3        47        43        43        42        39        38        35  \n",
       "4        34        36        37        37        37        36        36  \n",
       "\n",
       "[5 rows x 34 columns]"
      ]
     },
     "execution_count": 3,
     "metadata": {},
     "output_type": "execute_result"
    }
   ],
   "source": [
    "density_url = 'http://www.census.gov/2010census/csv/pop_density.csv'\n",
    "\n",
    "density_data_2010 = pd.read_csv(density_url, skiprows = [0, 1, 2])\n",
    "\n",
    "density_data_2010.head()"
   ]
  },
  {
   "cell_type": "markdown",
   "metadata": {},
   "source": [
    "That is much better. Let's now explore some of the basic functionality of a `pandas` DataFrame that will aid productivity and inform about the structure of the data."
   ]
  },
  {
   "cell_type": "code",
   "execution_count": 4,
   "metadata": {
    "collapsed": false
   },
   "outputs": [
    {
     "name": "stdout",
     "output_type": "stream",
     "text": [
      "Data dimensions: 53 rows, 34 columns\n",
      "First 10 indices of population density DataFrame:  Int64Index([0, 1, 2, 3, 4, 5, 6, 7, 8, 9], dtype='int64')\n",
      "Names of DataFrame columns:\n",
      "Name: index\n",
      "STATE_OR_REGION : 0\n",
      "1910_POPULATION : 1\n",
      "1920_POPULATION : 2\n",
      "1930_POPULATION : 3\n",
      "1940_POPULATION : 4\n",
      "1950_POPULATION : 5\n",
      "1960_POPULATION : 6\n",
      "1970_POPULATION : 7\n",
      "1980_POPULATION : 8\n",
      "1990_POPULATION : 9\n",
      "2000_POPULATION : 10\n",
      "2010_POPULATION : 11\n",
      "1910_DENSITY : 12\n",
      "1920_DENSITY : 13\n",
      "1930_DENSITY : 14\n",
      "1940_DENSITY : 15\n",
      "1950_DENSITY : 16\n",
      "1960_DENSITY : 17\n",
      "1970_DENSITY : 18\n",
      "1980_DENSITY : 19\n",
      "1990_DENSITY : 20\n",
      "2000_DENSITY : 21\n",
      "2010_DENSITY : 22\n",
      "1910_RANK : 23\n",
      "1920_RANK : 24\n",
      "1930_RANK : 25\n",
      "1940_RANK : 26\n",
      "1950_RANK : 27\n",
      "1960_RANK : 28\n",
      "1970_RANK : 29\n",
      "1980_RANK : 30\n",
      "1990_RANK : 31\n",
      "2000_RANK : 32\n",
      "2010_RANK : 33\n"
     ]
    }
   ],
   "source": [
    "density_data_dimen = density_data_2010.shape\n",
    "density_data_cols = density_data_2010.columns.values.tolist()\n",
    "density_data_idx = density_data_2010.index\n",
    "pop_1910 = density_data_2010['1910_POPULATION'].values\n",
    "\n",
    "print 'Data dimensions: %d rows, %d columns' % (density_data_dimen[0], density_data_dimen[1])\n",
    "print 'First 10 indices of population density DataFrame: ', density_data_idx[:10]\n",
    "\n",
    "print 'Names of DataFrame columns:'\n",
    "print 'Name: index'\n",
    "for position, name in enumerate(density_data_cols):\n",
    "    print name, ':', position"
   ]
  },
  {
   "cell_type": "code",
   "execution_count": 5,
   "metadata": {
    "collapsed": false
   },
   "outputs": [
    {
     "name": "stdout",
     "output_type": "stream",
     "text": [
      "Population values in 1910 (first 10 entries):\n"
     ]
    },
    {
     "data": {
      "text/plain": [
       "array([92228531,  2138093,    64356,   204354,  1574449,  2377549,\n",
       "         799024,  1114756,   202322,   331069])"
      ]
     },
     "execution_count": 5,
     "metadata": {},
     "output_type": "execute_result"
    }
   ],
   "source": [
    "print 'Population values in 1910 (first 10 entries):'\n",
    "pop_1910[:10]"
   ]
  },
  {
   "cell_type": "markdown",
   "metadata": {},
   "source": [
    "So the output of the preceding cells was:\n",
    "- the shape of the data using the `shape` function\n",
    "- converting the names of the columns to a list and then printing the names and their positions\n",
    "- retrieving the values of the indices, in this case row numbers\n",
    "- retreiving the first 10 values of the population for the year 1910  \n",
    "\n",
    "We will come back to this dataset later in order to do more with indexing."
   ]
  },
  {
   "cell_type": "markdown",
   "metadata": {},
   "source": [
    "## Example 2: Program effort data (DAT)\n",
    "The next dataset we will look at is the program effort dataset by Mauldin and Berelson, which can be downloaded from German Rodriguez's site. We will specficially look at the `DAT` version of the data, since it presents several challenges: we do not want to automatically make an index column from the first column in the file and the delimiters are not consistent.  \n",
    "\n",
    "To import the data, we will dictate the column names (hence `header = 0`), set the source URL as a string, and state there is no index column in the dataset."
   ]
  },
  {
   "cell_type": "code",
   "execution_count": 6,
   "metadata": {
    "collapsed": false
   },
   "outputs": [
    {
     "ename": "CParserError",
     "evalue": "Too many columns specified: expected 4 and found 1",
     "output_type": "error",
     "traceback": [
      "\u001b[0;31m---------------------------------------------------------------------------\u001b[0m",
      "\u001b[0;31mCParserError\u001b[0m                              Traceback (most recent call last)",
      "\u001b[0;32m<ipython-input-6-bf55fc3630a3>\u001b[0m in \u001b[0;36m<module>\u001b[0;34m()\u001b[0m\n\u001b[1;32m      1\u001b[0m \u001b[0mcol_names\u001b[0m \u001b[0;34m=\u001b[0m \u001b[0;34m[\u001b[0m\u001b[0;34m'Country'\u001b[0m\u001b[0;34m,\u001b[0m \u001b[0;34m'Setting'\u001b[0m\u001b[0;34m,\u001b[0m \u001b[0;34m'Effort'\u001b[0m\u001b[0;34m,\u001b[0m \u001b[0;34m'Change'\u001b[0m\u001b[0;34m]\u001b[0m\u001b[0;34m\u001b[0m\u001b[0m\n\u001b[1;32m      2\u001b[0m \u001b[0meffort_url\u001b[0m \u001b[0;34m=\u001b[0m \u001b[0;34m'http://data.princeton.edu/wws509/datasets/effort.dat'\u001b[0m\u001b[0;34m\u001b[0m\u001b[0m\n\u001b[0;32m----> 3\u001b[0;31m \u001b[0meffort_data\u001b[0m \u001b[0;34m=\u001b[0m \u001b[0mpd\u001b[0m\u001b[0;34m.\u001b[0m\u001b[0mread_table\u001b[0m\u001b[0;34m(\u001b[0m\u001b[0meffort_url\u001b[0m\u001b[0;34m,\u001b[0m \u001b[0mindex_col\u001b[0m \u001b[0;34m=\u001b[0m \u001b[0mFalse\u001b[0m\u001b[0;34m,\u001b[0m \u001b[0mheader\u001b[0m \u001b[0;34m=\u001b[0m \u001b[0;36m0\u001b[0m\u001b[0;34m,\u001b[0m \u001b[0mnames\u001b[0m \u001b[0;34m=\u001b[0m \u001b[0mcol_names\u001b[0m\u001b[0;34m)\u001b[0m\u001b[0;34m\u001b[0m\u001b[0m\n\u001b[0m\u001b[1;32m      4\u001b[0m \u001b[0meffort_data\u001b[0m\u001b[0;34m.\u001b[0m\u001b[0mhead\u001b[0m\u001b[0;34m(\u001b[0m\u001b[0;34m)\u001b[0m\u001b[0;34m\u001b[0m\u001b[0m\n",
      "\u001b[0;32m//anaconda/lib/python2.7/site-packages/pandas/io/parsers.pyc\u001b[0m in \u001b[0;36mparser_f\u001b[0;34m(filepath_or_buffer, sep, dialect, compression, doublequote, escapechar, quotechar, quoting, skipinitialspace, lineterminator, header, index_col, names, prefix, skiprows, skipfooter, skip_footer, na_values, na_fvalues, true_values, false_values, delimiter, converters, dtype, usecols, engine, delim_whitespace, as_recarray, na_filter, compact_ints, use_unsigned, low_memory, buffer_lines, warn_bad_lines, error_bad_lines, keep_default_na, thousands, comment, decimal, parse_dates, keep_date_col, dayfirst, date_parser, memory_map, float_precision, nrows, iterator, chunksize, verbose, encoding, squeeze, mangle_dupe_cols, tupleize_cols, infer_datetime_format, skip_blank_lines)\u001b[0m\n\u001b[1;32m    463\u001b[0m                     skip_blank_lines=skip_blank_lines)\n\u001b[1;32m    464\u001b[0m \u001b[0;34m\u001b[0m\u001b[0m\n\u001b[0;32m--> 465\u001b[0;31m         \u001b[0;32mreturn\u001b[0m \u001b[0m_read\u001b[0m\u001b[0;34m(\u001b[0m\u001b[0mfilepath_or_buffer\u001b[0m\u001b[0;34m,\u001b[0m \u001b[0mkwds\u001b[0m\u001b[0;34m)\u001b[0m\u001b[0;34m\u001b[0m\u001b[0m\n\u001b[0m\u001b[1;32m    466\u001b[0m \u001b[0;34m\u001b[0m\u001b[0m\n\u001b[1;32m    467\u001b[0m     \u001b[0mparser_f\u001b[0m\u001b[0;34m.\u001b[0m\u001b[0m__name__\u001b[0m \u001b[0;34m=\u001b[0m \u001b[0mname\u001b[0m\u001b[0;34m\u001b[0m\u001b[0m\n",
      "\u001b[0;32m//anaconda/lib/python2.7/site-packages/pandas/io/parsers.pyc\u001b[0m in \u001b[0;36m_read\u001b[0;34m(filepath_or_buffer, kwds)\u001b[0m\n\u001b[1;32m    249\u001b[0m         \u001b[0;32mreturn\u001b[0m \u001b[0mparser\u001b[0m\u001b[0;34m\u001b[0m\u001b[0m\n\u001b[1;32m    250\u001b[0m \u001b[0;34m\u001b[0m\u001b[0m\n\u001b[0;32m--> 251\u001b[0;31m     \u001b[0;32mreturn\u001b[0m \u001b[0mparser\u001b[0m\u001b[0;34m.\u001b[0m\u001b[0mread\u001b[0m\u001b[0;34m(\u001b[0m\u001b[0;34m)\u001b[0m\u001b[0;34m\u001b[0m\u001b[0m\n\u001b[0m\u001b[1;32m    252\u001b[0m \u001b[0;34m\u001b[0m\u001b[0m\n\u001b[1;32m    253\u001b[0m _parser_defaults = {\n",
      "\u001b[0;32m//anaconda/lib/python2.7/site-packages/pandas/io/parsers.pyc\u001b[0m in \u001b[0;36mread\u001b[0;34m(self, nrows)\u001b[0m\n\u001b[1;32m    708\u001b[0m                 \u001b[0;32mraise\u001b[0m \u001b[0mValueError\u001b[0m\u001b[0;34m(\u001b[0m\u001b[0;34m'skip_footer not supported for iteration'\u001b[0m\u001b[0;34m)\u001b[0m\u001b[0;34m\u001b[0m\u001b[0m\n\u001b[1;32m    709\u001b[0m \u001b[0;34m\u001b[0m\u001b[0m\n\u001b[0;32m--> 710\u001b[0;31m         \u001b[0mret\u001b[0m \u001b[0;34m=\u001b[0m \u001b[0mself\u001b[0m\u001b[0;34m.\u001b[0m\u001b[0m_engine\u001b[0m\u001b[0;34m.\u001b[0m\u001b[0mread\u001b[0m\u001b[0;34m(\u001b[0m\u001b[0mnrows\u001b[0m\u001b[0;34m)\u001b[0m\u001b[0;34m\u001b[0m\u001b[0m\n\u001b[0m\u001b[1;32m    711\u001b[0m \u001b[0;34m\u001b[0m\u001b[0m\n\u001b[1;32m    712\u001b[0m         \u001b[0;32mif\u001b[0m \u001b[0mself\u001b[0m\u001b[0;34m.\u001b[0m\u001b[0moptions\u001b[0m\u001b[0;34m.\u001b[0m\u001b[0mget\u001b[0m\u001b[0;34m(\u001b[0m\u001b[0;34m'as_recarray'\u001b[0m\u001b[0;34m)\u001b[0m\u001b[0;34m:\u001b[0m\u001b[0;34m\u001b[0m\u001b[0m\n",
      "\u001b[0;32m//anaconda/lib/python2.7/site-packages/pandas/io/parsers.pyc\u001b[0m in \u001b[0;36mread\u001b[0;34m(self, nrows)\u001b[0m\n\u001b[1;32m   1157\u001b[0m \u001b[0;34m\u001b[0m\u001b[0m\n\u001b[1;32m   1158\u001b[0m         \u001b[0;32mtry\u001b[0m\u001b[0;34m:\u001b[0m\u001b[0;34m\u001b[0m\u001b[0m\n\u001b[0;32m-> 1159\u001b[0;31m             \u001b[0mdata\u001b[0m \u001b[0;34m=\u001b[0m \u001b[0mself\u001b[0m\u001b[0;34m.\u001b[0m\u001b[0m_reader\u001b[0m\u001b[0;34m.\u001b[0m\u001b[0mread\u001b[0m\u001b[0;34m(\u001b[0m\u001b[0mnrows\u001b[0m\u001b[0;34m)\u001b[0m\u001b[0;34m\u001b[0m\u001b[0m\n\u001b[0m\u001b[1;32m   1160\u001b[0m         \u001b[0;32mexcept\u001b[0m \u001b[0mStopIteration\u001b[0m\u001b[0;34m:\u001b[0m\u001b[0;34m\u001b[0m\u001b[0m\n\u001b[1;32m   1161\u001b[0m             \u001b[0;32mif\u001b[0m \u001b[0mnrows\u001b[0m \u001b[0;32mis\u001b[0m \u001b[0mNone\u001b[0m\u001b[0;34m:\u001b[0m\u001b[0;34m\u001b[0m\u001b[0m\n",
      "\u001b[0;32mpandas/parser.pyx\u001b[0m in \u001b[0;36mpandas.parser.TextReader.read (pandas/parser.c:7403)\u001b[0;34m()\u001b[0m\n",
      "\u001b[0;32mpandas/parser.pyx\u001b[0m in \u001b[0;36mpandas.parser.TextReader._read_low_memory (pandas/parser.c:7643)\u001b[0;34m()\u001b[0m\n",
      "\u001b[0;32mpandas/parser.pyx\u001b[0m in \u001b[0;36mpandas.parser.TextReader._read_rows (pandas/parser.c:8476)\u001b[0;34m()\u001b[0m\n",
      "\u001b[0;32mpandas/parser.pyx\u001b[0m in \u001b[0;36mpandas.parser.TextReader._convert_column_data (pandas/parser.c:9379)\u001b[0;34m()\u001b[0m\n",
      "\u001b[0;31mCParserError\u001b[0m: Too many columns specified: expected 4 and found 1"
     ]
    }
   ],
   "source": [
    "col_names = ['Country', 'Setting', 'Effort', 'Change']\n",
    "effort_url = 'http://data.princeton.edu/wws509/datasets/effort.dat'\n",
    "effort_data = pd.read_table(effort_url, index_col = False, header = 0, names = col_names)\n",
    "effort_data.head()"
   ]
  },
  {
   "cell_type": "markdown",
   "metadata": {},
   "source": [
    "Well, that was interesting. Seems we cannot read in the data with the tab delimiter. We have multiple spaces present in the file (`CParserError: Too many columns specified: expected 4 and found 1`), so let's use Python syntax for multiple/variable whitespace and see what happens."
   ]
  },
  {
   "cell_type": "code",
   "execution_count": 7,
   "metadata": {
    "collapsed": false
   },
   "outputs": [
    {
     "data": {
      "text/html": [
       "<div style=\"max-height:1000px;max-width:1500px;overflow:auto;\">\n",
       "<table border=\"1\" class=\"dataframe\">\n",
       "  <thead>\n",
       "    <tr style=\"text-align: right;\">\n",
       "      <th></th>\n",
       "      <th>Country</th>\n",
       "      <th>Setting</th>\n",
       "      <th>Effort</th>\n",
       "      <th>Change</th>\n",
       "    </tr>\n",
       "  </thead>\n",
       "  <tbody>\n",
       "    <tr>\n",
       "      <th>0</th>\n",
       "      <td>   Bolivia</td>\n",
       "      <td> 46</td>\n",
       "      <td>  0</td>\n",
       "      <td>  1</td>\n",
       "    </tr>\n",
       "    <tr>\n",
       "      <th>1</th>\n",
       "      <td>    Brazil</td>\n",
       "      <td> 74</td>\n",
       "      <td>  0</td>\n",
       "      <td> 10</td>\n",
       "    </tr>\n",
       "    <tr>\n",
       "      <th>2</th>\n",
       "      <td>     Chile</td>\n",
       "      <td> 89</td>\n",
       "      <td> 16</td>\n",
       "      <td> 29</td>\n",
       "    </tr>\n",
       "    <tr>\n",
       "      <th>3</th>\n",
       "      <td>  Colombia</td>\n",
       "      <td> 77</td>\n",
       "      <td> 16</td>\n",
       "      <td> 25</td>\n",
       "    </tr>\n",
       "    <tr>\n",
       "      <th>4</th>\n",
       "      <td> CostaRica</td>\n",
       "      <td> 84</td>\n",
       "      <td> 21</td>\n",
       "      <td> 29</td>\n",
       "    </tr>\n",
       "  </tbody>\n",
       "</table>\n",
       "</div>"
      ],
      "text/plain": [
       "     Country  Setting  Effort  Change\n",
       "0    Bolivia       46       0       1\n",
       "1     Brazil       74       0      10\n",
       "2      Chile       89      16      29\n",
       "3   Colombia       77      16      25\n",
       "4  CostaRica       84      21      29"
      ]
     },
     "execution_count": 7,
     "metadata": {},
     "output_type": "execute_result"
    }
   ],
   "source": [
    "effort_data = pd.read_table(effort_url, index_col = False, header = 0, names = col_names, sep = '\\s+')\n",
    "effort_data.head()"
   ]
  },
  {
   "cell_type": "markdown",
   "metadata": {},
   "source": [
    "##Excel\n",
    "A lot of data will be in Excel format...please do not do this. While convenient and many programs can read it, Excel does a lot of weird things under the hood you may not be familiar with. Not to mention formatting issues and how certain values may have been calculated - formula references may not necessarily propagate. And there is the issue of dates - the origin of the calendar differs between platforms and this must be accounted for. If you have data originally in Excel format, I suggest (implore) you to just have the raw data and if you have any calculated columns, try doing those in another program (it will probably be more readily reporducible anyway). In other words take your raw data, export to a different file format (CSV, TSV, TXT) and then perform any data manipulations.  \n",
    "\n",
    "As an example, let's parse a file Hadley Wickham uses as a part of the `readxl` R package (foreshadowing!)."
   ]
  },
  {
   "cell_type": "code",
   "execution_count": 8,
   "metadata": {
    "collapsed": true
   },
   "outputs": [],
   "source": [
    "example_xlsx = '/Users/julian/GitHub/reproducible-research/Day-2/datasets/datasets.xlsx'\n",
    "iris_data = pd.read_excel(example_xlsx, 'iris', index_col = None)\n",
    "mtcars_data = pd.read_excel(example_xlsx, 'mtcars', index_col = None)\n",
    "chick_weight_data = pd.read_excel(example_xlsx, 'chickwts', index_col = None)\n",
    "quake_data = pd.read_excel(example_xlsx, 'quakes', index_col = None)"
   ]
  },
  {
   "cell_type": "code",
   "execution_count": 9,
   "metadata": {
    "collapsed": false
   },
   "outputs": [
    {
     "data": {
      "text/html": [
       "<div style=\"max-height:1000px;max-width:1500px;overflow:auto;\">\n",
       "<table border=\"1\" class=\"dataframe\">\n",
       "  <thead>\n",
       "    <tr style=\"text-align: right;\">\n",
       "      <th></th>\n",
       "      <th>Sepal.Length</th>\n",
       "      <th>Sepal.Width</th>\n",
       "      <th>Petal.Length</th>\n",
       "      <th>Petal.Width</th>\n",
       "      <th>Species</th>\n",
       "    </tr>\n",
       "  </thead>\n",
       "  <tbody>\n",
       "    <tr>\n",
       "      <th>0</th>\n",
       "      <td> 5.1</td>\n",
       "      <td> 3.5</td>\n",
       "      <td> 1.4</td>\n",
       "      <td> 0.2</td>\n",
       "      <td> setosa</td>\n",
       "    </tr>\n",
       "    <tr>\n",
       "      <th>1</th>\n",
       "      <td> 4.9</td>\n",
       "      <td> 3.0</td>\n",
       "      <td> 1.4</td>\n",
       "      <td> 0.2</td>\n",
       "      <td> setosa</td>\n",
       "    </tr>\n",
       "    <tr>\n",
       "      <th>2</th>\n",
       "      <td> 4.7</td>\n",
       "      <td> 3.2</td>\n",
       "      <td> 1.3</td>\n",
       "      <td> 0.2</td>\n",
       "      <td> setosa</td>\n",
       "    </tr>\n",
       "    <tr>\n",
       "      <th>3</th>\n",
       "      <td> 4.6</td>\n",
       "      <td> 3.1</td>\n",
       "      <td> 1.5</td>\n",
       "      <td> 0.2</td>\n",
       "      <td> setosa</td>\n",
       "    </tr>\n",
       "    <tr>\n",
       "      <th>4</th>\n",
       "      <td> 5.0</td>\n",
       "      <td> 3.6</td>\n",
       "      <td> 1.4</td>\n",
       "      <td> 0.2</td>\n",
       "      <td> setosa</td>\n",
       "    </tr>\n",
       "  </tbody>\n",
       "</table>\n",
       "</div>"
      ],
      "text/plain": [
       "   Sepal.Length  Sepal.Width  Petal.Length  Petal.Width Species\n",
       "0           5.1          3.5           1.4          0.2  setosa\n",
       "1           4.9          3.0           1.4          0.2  setosa\n",
       "2           4.7          3.2           1.3          0.2  setosa\n",
       "3           4.6          3.1           1.5          0.2  setosa\n",
       "4           5.0          3.6           1.4          0.2  setosa"
      ]
     },
     "execution_count": 9,
     "metadata": {},
     "output_type": "execute_result"
    }
   ],
   "source": [
    "iris_data.head()"
   ]
  },
  {
   "cell_type": "code",
   "execution_count": 10,
   "metadata": {
    "collapsed": false
   },
   "outputs": [
    {
     "data": {
      "text/html": [
       "<div style=\"max-height:1000px;max-width:1500px;overflow:auto;\">\n",
       "<table border=\"1\" class=\"dataframe\">\n",
       "  <thead>\n",
       "    <tr style=\"text-align: right;\">\n",
       "      <th></th>\n",
       "      <th>mpg</th>\n",
       "      <th>cyl</th>\n",
       "      <th>disp</th>\n",
       "      <th>hp</th>\n",
       "      <th>drat</th>\n",
       "      <th>wt</th>\n",
       "      <th>qsec</th>\n",
       "      <th>vs</th>\n",
       "      <th>am</th>\n",
       "      <th>gear</th>\n",
       "      <th>carb</th>\n",
       "    </tr>\n",
       "  </thead>\n",
       "  <tbody>\n",
       "    <tr>\n",
       "      <th>0</th>\n",
       "      <td> 21.0</td>\n",
       "      <td> 6</td>\n",
       "      <td> 160</td>\n",
       "      <td> 110</td>\n",
       "      <td> 3.90</td>\n",
       "      <td> 2.620</td>\n",
       "      <td> 16.46</td>\n",
       "      <td> 0</td>\n",
       "      <td> 1</td>\n",
       "      <td> 4</td>\n",
       "      <td> 4</td>\n",
       "    </tr>\n",
       "    <tr>\n",
       "      <th>1</th>\n",
       "      <td> 21.0</td>\n",
       "      <td> 6</td>\n",
       "      <td> 160</td>\n",
       "      <td> 110</td>\n",
       "      <td> 3.90</td>\n",
       "      <td> 2.875</td>\n",
       "      <td> 17.02</td>\n",
       "      <td> 0</td>\n",
       "      <td> 1</td>\n",
       "      <td> 4</td>\n",
       "      <td> 4</td>\n",
       "    </tr>\n",
       "    <tr>\n",
       "      <th>2</th>\n",
       "      <td> 22.8</td>\n",
       "      <td> 4</td>\n",
       "      <td> 108</td>\n",
       "      <td>  93</td>\n",
       "      <td> 3.85</td>\n",
       "      <td> 2.320</td>\n",
       "      <td> 18.61</td>\n",
       "      <td> 1</td>\n",
       "      <td> 1</td>\n",
       "      <td> 4</td>\n",
       "      <td> 1</td>\n",
       "    </tr>\n",
       "    <tr>\n",
       "      <th>3</th>\n",
       "      <td> 21.4</td>\n",
       "      <td> 6</td>\n",
       "      <td> 258</td>\n",
       "      <td> 110</td>\n",
       "      <td> 3.08</td>\n",
       "      <td> 3.215</td>\n",
       "      <td> 19.44</td>\n",
       "      <td> 1</td>\n",
       "      <td> 0</td>\n",
       "      <td> 3</td>\n",
       "      <td> 1</td>\n",
       "    </tr>\n",
       "    <tr>\n",
       "      <th>4</th>\n",
       "      <td> 18.7</td>\n",
       "      <td> 8</td>\n",
       "      <td> 360</td>\n",
       "      <td> 175</td>\n",
       "      <td> 3.15</td>\n",
       "      <td> 3.440</td>\n",
       "      <td> 17.02</td>\n",
       "      <td> 0</td>\n",
       "      <td> 0</td>\n",
       "      <td> 3</td>\n",
       "      <td> 2</td>\n",
       "    </tr>\n",
       "  </tbody>\n",
       "</table>\n",
       "</div>"
      ],
      "text/plain": [
       "    mpg  cyl  disp   hp  drat     wt   qsec  vs  am  gear  carb\n",
       "0  21.0    6   160  110  3.90  2.620  16.46   0   1     4     4\n",
       "1  21.0    6   160  110  3.90  2.875  17.02   0   1     4     4\n",
       "2  22.8    4   108   93  3.85  2.320  18.61   1   1     4     1\n",
       "3  21.4    6   258  110  3.08  3.215  19.44   1   0     3     1\n",
       "4  18.7    8   360  175  3.15  3.440  17.02   0   0     3     2"
      ]
     },
     "execution_count": 10,
     "metadata": {},
     "output_type": "execute_result"
    }
   ],
   "source": [
    "mtcars_data.head()"
   ]
  },
  {
   "cell_type": "code",
   "execution_count": 11,
   "metadata": {
    "collapsed": false
   },
   "outputs": [
    {
     "data": {
      "text/html": [
       "<div style=\"max-height:1000px;max-width:1500px;overflow:auto;\">\n",
       "<table border=\"1\" class=\"dataframe\">\n",
       "  <thead>\n",
       "    <tr style=\"text-align: right;\">\n",
       "      <th></th>\n",
       "      <th>weight</th>\n",
       "      <th>feed</th>\n",
       "    </tr>\n",
       "  </thead>\n",
       "  <tbody>\n",
       "    <tr>\n",
       "      <th>0</th>\n",
       "      <td> 179</td>\n",
       "      <td> horsebean</td>\n",
       "    </tr>\n",
       "    <tr>\n",
       "      <th>1</th>\n",
       "      <td> 160</td>\n",
       "      <td> horsebean</td>\n",
       "    </tr>\n",
       "    <tr>\n",
       "      <th>2</th>\n",
       "      <td> 136</td>\n",
       "      <td> horsebean</td>\n",
       "    </tr>\n",
       "    <tr>\n",
       "      <th>3</th>\n",
       "      <td> 227</td>\n",
       "      <td> horsebean</td>\n",
       "    </tr>\n",
       "    <tr>\n",
       "      <th>4</th>\n",
       "      <td> 217</td>\n",
       "      <td> horsebean</td>\n",
       "    </tr>\n",
       "  </tbody>\n",
       "</table>\n",
       "</div>"
      ],
      "text/plain": [
       "   weight       feed\n",
       "0     179  horsebean\n",
       "1     160  horsebean\n",
       "2     136  horsebean\n",
       "3     227  horsebean\n",
       "4     217  horsebean"
      ]
     },
     "execution_count": 11,
     "metadata": {},
     "output_type": "execute_result"
    }
   ],
   "source": [
    "chick_weight_data.head()"
   ]
  },
  {
   "cell_type": "code",
   "execution_count": 12,
   "metadata": {
    "collapsed": false
   },
   "outputs": [
    {
     "data": {
      "text/html": [
       "<div style=\"max-height:1000px;max-width:1500px;overflow:auto;\">\n",
       "<table border=\"1\" class=\"dataframe\">\n",
       "  <thead>\n",
       "    <tr style=\"text-align: right;\">\n",
       "      <th></th>\n",
       "      <th>lat</th>\n",
       "      <th>long</th>\n",
       "      <th>depth</th>\n",
       "      <th>mag</th>\n",
       "      <th>stations</th>\n",
       "    </tr>\n",
       "  </thead>\n",
       "  <tbody>\n",
       "    <tr>\n",
       "      <th>0</th>\n",
       "      <td>-20.42</td>\n",
       "      <td> 181.62</td>\n",
       "      <td> 562</td>\n",
       "      <td> 4.8</td>\n",
       "      <td> 41</td>\n",
       "    </tr>\n",
       "    <tr>\n",
       "      <th>1</th>\n",
       "      <td>-20.62</td>\n",
       "      <td> 181.03</td>\n",
       "      <td> 650</td>\n",
       "      <td> 4.2</td>\n",
       "      <td> 15</td>\n",
       "    </tr>\n",
       "    <tr>\n",
       "      <th>2</th>\n",
       "      <td>-26.00</td>\n",
       "      <td> 184.10</td>\n",
       "      <td>  42</td>\n",
       "      <td> 5.4</td>\n",
       "      <td> 43</td>\n",
       "    </tr>\n",
       "    <tr>\n",
       "      <th>3</th>\n",
       "      <td>-17.97</td>\n",
       "      <td> 181.66</td>\n",
       "      <td> 626</td>\n",
       "      <td> 4.1</td>\n",
       "      <td> 19</td>\n",
       "    </tr>\n",
       "    <tr>\n",
       "      <th>4</th>\n",
       "      <td>-20.42</td>\n",
       "      <td> 181.96</td>\n",
       "      <td> 649</td>\n",
       "      <td> 4.0</td>\n",
       "      <td> 11</td>\n",
       "    </tr>\n",
       "  </tbody>\n",
       "</table>\n",
       "</div>"
      ],
      "text/plain": [
       "     lat    long  depth  mag  stations\n",
       "0 -20.42  181.62    562  4.8        41\n",
       "1 -20.62  181.03    650  4.2        15\n",
       "2 -26.00  184.10     42  5.4        43\n",
       "3 -17.97  181.66    626  4.1        19\n",
       "4 -20.42  181.96    649  4.0        11"
      ]
     },
     "execution_count": 12,
     "metadata": {},
     "output_type": "execute_result"
    }
   ],
   "source": [
    "quake_data.head()"
   ]
  },
  {
   "cell_type": "markdown",
   "metadata": {},
   "source": [
    "## XML and JSON\n",
    "XML and JSON files can be tricky to work with, as you will need to know their structure. The NY MTA makes data avaialable in both XML and CSV format; the CSV file is (obviously) easier to work with. If you are working with data from the web, it may be in XML format, where the hierarchical structure makes it ideal for representing nested relationships. Web data may also be in JSON format and may require you to (1) know the structure or (2) have it be arranged in a sensible manner for `pandas` or some other module to read (e.g., the USDA dataset). In any event, reading in data contained in XML or JSON format will be highly context-dependent.  \n",
    "\n",
    "If you really need an example of one of these, we can work through it."
   ]
  },
  {
   "cell_type": "markdown",
   "metadata": {},
   "source": [
    "##DataFrame methods\n",
    "There are several methods to access and summarize data for a `DataFrame`. We will cover the basics; if you are interested in more advanced features, such as hierarchical indexing, either check the documentation or ask. Also, Wes McKinney's book goes into much more detail about the features.  \n",
    "\n",
    "Topics covered:\n",
    "- creating a `DataFrame`\n",
    "- indexing\n",
    "- selecting and filtering data\n",
    "- mapping values and functions\n",
    "- missing data\n",
    "- summaries and basic statistical descriptions\n",
    "- plotting\n",
    "- grouping data\n",
    "\n",
    "These topics, some of which have been touched on indirectly in the previous examples, will all be tied together and be used for the today's ultimate assignment, analyzing data from the Federal Election Commission."
   ]
  },
  {
   "cell_type": "markdown",
   "metadata": {},
   "source": [
    "### Creating a `DataFrame` and indexing\n",
    "There are several ways to create a `DataFrame`: \n",
    "1. 2-D data matrix  \n",
    "2. Dict of array, list, or tuple  \n",
    "3. Dict of  pandas Series  \n",
    "4. Dict of dicts  \n",
    "5. List of a dict or Series  \n",
    "6. List of lists or tuples  \n",
    "7. `DataFrame` itself\n",
    "8. NumPy structured or record array\n",
    "9. NumPy MaskedArray  \n",
    "\n",
    "Let's go through some of these (since time is limited - you can try buildng the others on your own) and see what the resulting `DataFrame` for each example looks like."
   ]
  },
  {
   "cell_type": "code",
   "execution_count": 13,
   "metadata": {
    "collapsed": false
   },
   "outputs": [
    {
     "data": {
      "text/html": [
       "<div style=\"max-height:1000px;max-width:1500px;overflow:auto;\">\n",
       "<table border=\"1\" class=\"dataframe\">\n",
       "  <thead>\n",
       "    <tr style=\"text-align: right;\">\n",
       "      <th></th>\n",
       "      <th>first</th>\n",
       "      <th>second</th>\n",
       "      <th>third</th>\n",
       "    </tr>\n",
       "  </thead>\n",
       "  <tbody>\n",
       "    <tr>\n",
       "      <th>0</th>\n",
       "      <td> 1.506345</td>\n",
       "      <td>-1.258868</td>\n",
       "      <td> 1.351401</td>\n",
       "    </tr>\n",
       "    <tr>\n",
       "      <th>1</th>\n",
       "      <td>-0.525163</td>\n",
       "      <td>-0.059811</td>\n",
       "      <td>-1.417249</td>\n",
       "    </tr>\n",
       "    <tr>\n",
       "      <th>2</th>\n",
       "      <td> 1.017855</td>\n",
       "      <td>-1.414488</td>\n",
       "      <td> 1.904819</td>\n",
       "    </tr>\n",
       "    <tr>\n",
       "      <th>3</th>\n",
       "      <td>-0.850640</td>\n",
       "      <td> 0.585136</td>\n",
       "      <td> 0.815462</td>\n",
       "    </tr>\n",
       "    <tr>\n",
       "      <th>4</th>\n",
       "      <td>-0.039259</td>\n",
       "      <td>-2.069984</td>\n",
       "      <td>-0.338659</td>\n",
       "    </tr>\n",
       "    <tr>\n",
       "      <th>5</th>\n",
       "      <td>-0.812900</td>\n",
       "      <td>-0.426300</td>\n",
       "      <td> 0.116699</td>\n",
       "    </tr>\n",
       "    <tr>\n",
       "      <th>6</th>\n",
       "      <td> 0.742014</td>\n",
       "      <td>-0.213540</td>\n",
       "      <td>-0.230428</td>\n",
       "    </tr>\n",
       "    <tr>\n",
       "      <th>7</th>\n",
       "      <td>-0.188394</td>\n",
       "      <td> 0.572692</td>\n",
       "      <td>-0.223483</td>\n",
       "    </tr>\n",
       "    <tr>\n",
       "      <th>8</th>\n",
       "      <td> 1.892520</td>\n",
       "      <td> 1.381912</td>\n",
       "      <td> 0.155761</td>\n",
       "    </tr>\n",
       "    <tr>\n",
       "      <th>9</th>\n",
       "      <td>-2.679491</td>\n",
       "      <td> 0.396956</td>\n",
       "      <td>-0.544338</td>\n",
       "    </tr>\n",
       "  </tbody>\n",
       "</table>\n",
       "</div>"
      ],
      "text/plain": [
       "      first    second     third\n",
       "0  1.506345 -1.258868  1.351401\n",
       "1 -0.525163 -0.059811 -1.417249\n",
       "2  1.017855 -1.414488  1.904819\n",
       "3 -0.850640  0.585136  0.815462\n",
       "4 -0.039259 -2.069984 -0.338659\n",
       "5 -0.812900 -0.426300  0.116699\n",
       "6  0.742014 -0.213540 -0.230428\n",
       "7 -0.188394  0.572692 -0.223483\n",
       "8  1.892520  1.381912  0.155761\n",
       "9 -2.679491  0.396956 -0.544338"
      ]
     },
     "execution_count": 13,
     "metadata": {},
     "output_type": "execute_result"
    }
   ],
   "source": [
    "import numpy as np\n",
    "np.random.seed(86519883)\n",
    "test_array = np.random.normal(size = (10, 3))\n",
    "test_cols = ['first', 'second', 'third']\n",
    "test_df1 = pd.DataFrame(test_array, columns = test_cols)\n",
    "test_df1"
   ]
  },
  {
   "cell_type": "markdown",
   "metadata": {},
   "source": [
    "The above cell does the following: takes a 2-D array (using `NumPy`), a list containing the column names and then uses them as arguments to create a new `DataFrame` with the desired data and headings."
   ]
  },
  {
   "cell_type": "code",
   "execution_count": 14,
   "metadata": {
    "collapsed": false
   },
   "outputs": [
    {
     "data": {
      "text/html": [
       "<div style=\"max-height:1000px;max-width:1500px;overflow:auto;\">\n",
       "<table border=\"1\" class=\"dataframe\">\n",
       "  <thead>\n",
       "    <tr style=\"text-align: right;\">\n",
       "      <th></th>\n",
       "      <th>binom_column</th>\n",
       "      <th>char_col</th>\n",
       "      <th>int_column</th>\n",
       "    </tr>\n",
       "  </thead>\n",
       "  <tbody>\n",
       "    <tr>\n",
       "      <th>0</th>\n",
       "      <td> 0</td>\n",
       "      <td> sample1</td>\n",
       "      <td>   1</td>\n",
       "    </tr>\n",
       "    <tr>\n",
       "      <th>1</th>\n",
       "      <td> 1</td>\n",
       "      <td> sample2</td>\n",
       "      <td>  13</td>\n",
       "    </tr>\n",
       "    <tr>\n",
       "      <th>2</th>\n",
       "      <td> 1</td>\n",
       "      <td> sample3</td>\n",
       "      <td> 218</td>\n",
       "    </tr>\n",
       "    <tr>\n",
       "      <th>3</th>\n",
       "      <td> 1</td>\n",
       "      <td> sample4</td>\n",
       "      <td> 120</td>\n",
       "    </tr>\n",
       "    <tr>\n",
       "      <th>4</th>\n",
       "      <td> 0</td>\n",
       "      <td> sample5</td>\n",
       "      <td>  97</td>\n",
       "    </tr>\n",
       "  </tbody>\n",
       "</table>\n",
       "</div>"
      ],
      "text/plain": [
       "   binom_column char_col  int_column\n",
       "0             0  sample1           1\n",
       "1             1  sample2          13\n",
       "2             1  sample3         218\n",
       "3             1  sample4         120\n",
       "4             0  sample5          97"
      ]
     },
     "execution_count": 14,
     "metadata": {},
     "output_type": "execute_result"
    }
   ],
   "source": [
    "test_dict = {'int_column': np.random.random_integers(low = 0, high = 255, size = (5)),\n",
    "            'binom_column': np.random.binomial(n = 1, p = 0.56, size = (5)),\n",
    "            'char_col': ['sample1', 'sample2', 'sample3', 'sample4', 'sample5']}\n",
    "test_df2 = pd.DataFrame(test_dict)\n",
    "test_df2"
   ]
  },
  {
   "cell_type": "markdown",
   "metadata": {},
   "source": [
    "The previous cell used a `dict` to create the `DataFrame`. The keys became the column headings, and the rows are the values. Notice that the columns are sorted in order when the `DataFrame` was created."
   ]
  },
  {
   "cell_type": "code",
   "execution_count": 15,
   "metadata": {
    "collapsed": false
   },
   "outputs": [
    {
     "data": {
      "text/html": [
       "<div style=\"max-height:1000px;max-width:1500px;overflow:auto;\">\n",
       "<table border=\"1\" class=\"dataframe\">\n",
       "  <thead>\n",
       "    <tr style=\"text-align: right;\">\n",
       "      <th></th>\n",
       "      <th>one</th>\n",
       "      <th>2</th>\n",
       "      <th>third</th>\n",
       "    </tr>\n",
       "  </thead>\n",
       "  <tbody>\n",
       "    <tr>\n",
       "      <th>0</th>\n",
       "      <td> 21.360431</td>\n",
       "      <td> 2.797549</td>\n",
       "      <td> 1238.321714</td>\n",
       "    </tr>\n",
       "    <tr>\n",
       "      <th>1</th>\n",
       "      <td> 12.885247</td>\n",
       "      <td>-1.191469</td>\n",
       "      <td>  838.198814</td>\n",
       "    </tr>\n",
       "    <tr>\n",
       "      <th>2</th>\n",
       "      <td> 13.010238</td>\n",
       "      <td>-0.757442</td>\n",
       "      <td>  378.645223</td>\n",
       "    </tr>\n",
       "    <tr>\n",
       "      <th>3</th>\n",
       "      <td> 11.763051</td>\n",
       "      <td>-3.579088</td>\n",
       "      <td> 1447.523136</td>\n",
       "    </tr>\n",
       "    <tr>\n",
       "      <th>4</th>\n",
       "      <td> 19.436387</td>\n",
       "      <td> 1.562681</td>\n",
       "      <td>  828.194497</td>\n",
       "    </tr>\n",
       "  </tbody>\n",
       "</table>\n",
       "</div>"
      ],
      "text/plain": [
       "         one         2        third\n",
       "0  21.360431  2.797549  1238.321714\n",
       "1  12.885247 -1.191469   838.198814\n",
       "2  13.010238 -0.757442   378.645223\n",
       "3  11.763051 -3.579088  1447.523136\n",
       "4  19.436387  1.562681   828.194497"
      ]
     },
     "execution_count": 15,
     "metadata": {},
     "output_type": "execute_result"
    }
   ],
   "source": [
    "test_col1 = np.random.lognormal(mean = 2.7, sigma = 0.2, size = (30))\n",
    "test_col2 = np.random.normal(loc = -1.6, scale = 2.8, size = (30))\n",
    "test_col3 = np.random.uniform(low = 55, high = 2000, size = (30))\n",
    "test_df3 = pd.DataFrame()\n",
    "\n",
    "test_df3['one'] = test_col1\n",
    "test_df3['2'] = test_col2\n",
    "test_df3['third'] = test_col3\n",
    "test_df3.head()"
   ]
  },
  {
   "cell_type": "markdown",
   "metadata": {},
   "source": [
    "And you can create a new `DataFrame` (or append to an existing one) from arrays and append new ones as well."
   ]
  },
  {
   "cell_type": "markdown",
   "metadata": {},
   "source": [
    "How do we access the data? We use the indices of the `DataFrame` (the leftmost column). The `Index` can either be numeric or text. Indexes are immutable, but they can be set or reset. We can also access the columns in the same way we would access the elements of a `list` or `dict` or via attribute.\n"
   ]
  },
  {
   "cell_type": "code",
   "execution_count": 16,
   "metadata": {
    "collapsed": false
   },
   "outputs": [
    {
     "data": {
      "text/plain": [
       "0    1.506345\n",
       "1   -0.525163\n",
       "2    1.017855\n",
       "3   -0.850640\n",
       "4   -0.039259\n",
       "5   -0.812900\n",
       "6    0.742014\n",
       "7   -0.188394\n",
       "8    1.892520\n",
       "9   -2.679491\n",
       "Name: first, dtype: float64"
      ]
     },
     "execution_count": 16,
     "metadata": {},
     "output_type": "execute_result"
    }
   ],
   "source": [
    "test_df1['first']"
   ]
  },
  {
   "cell_type": "code",
   "execution_count": 17,
   "metadata": {
    "collapsed": false
   },
   "outputs": [
    {
     "data": {
      "text/plain": [
       "0    sample1\n",
       "1    sample2\n",
       "2    sample3\n",
       "3    sample4\n",
       "4    sample5\n",
       "Name: char_col, dtype: object"
      ]
     },
     "execution_count": 17,
     "metadata": {},
     "output_type": "execute_result"
    }
   ],
   "source": [
    "test_df2.char_col"
   ]
  },
  {
   "cell_type": "code",
   "execution_count": 18,
   "metadata": {
    "collapsed": false
   },
   "outputs": [
    {
     "data": {
      "text/html": [
       "<div style=\"max-height:1000px;max-width:1500px;overflow:auto;\">\n",
       "<table border=\"1\" class=\"dataframe\">\n",
       "  <thead>\n",
       "    <tr style=\"text-align: right;\">\n",
       "      <th></th>\n",
       "      <th>one</th>\n",
       "      <th>2</th>\n",
       "      <th>third</th>\n",
       "    </tr>\n",
       "  </thead>\n",
       "  <tbody>\n",
       "    <tr>\n",
       "      <th>0 </th>\n",
       "      <td> 21.360431</td>\n",
       "      <td> 2.797549</td>\n",
       "      <td> 1238.321714</td>\n",
       "    </tr>\n",
       "    <tr>\n",
       "      <th>1 </th>\n",
       "      <td> 12.885247</td>\n",
       "      <td>-1.191469</td>\n",
       "      <td>  838.198814</td>\n",
       "    </tr>\n",
       "    <tr>\n",
       "      <th>2 </th>\n",
       "      <td> 13.010238</td>\n",
       "      <td>-0.757442</td>\n",
       "      <td>  378.645223</td>\n",
       "    </tr>\n",
       "    <tr>\n",
       "      <th>3 </th>\n",
       "      <td> 11.763051</td>\n",
       "      <td>-3.579088</td>\n",
       "      <td> 1447.523136</td>\n",
       "    </tr>\n",
       "    <tr>\n",
       "      <th>4 </th>\n",
       "      <td> 19.436387</td>\n",
       "      <td> 1.562681</td>\n",
       "      <td>  828.194497</td>\n",
       "    </tr>\n",
       "    <tr>\n",
       "      <th>5 </th>\n",
       "      <td> 17.368588</td>\n",
       "      <td> 1.112077</td>\n",
       "      <td> 1524.428166</td>\n",
       "    </tr>\n",
       "    <tr>\n",
       "      <th>6 </th>\n",
       "      <td> 13.969669</td>\n",
       "      <td>-0.147352</td>\n",
       "      <td> 1456.760166</td>\n",
       "    </tr>\n",
       "    <tr>\n",
       "      <th>7 </th>\n",
       "      <td> 16.614492</td>\n",
       "      <td>-1.820801</td>\n",
       "      <td> 1641.645769</td>\n",
       "    </tr>\n",
       "    <tr>\n",
       "      <th>8 </th>\n",
       "      <td> 10.633133</td>\n",
       "      <td> 2.721424</td>\n",
       "      <td> 1013.522202</td>\n",
       "    </tr>\n",
       "    <tr>\n",
       "      <th>9 </th>\n",
       "      <td> 17.134575</td>\n",
       "      <td>-0.693699</td>\n",
       "      <td> 1485.303040</td>\n",
       "    </tr>\n",
       "    <tr>\n",
       "      <th>10</th>\n",
       "      <td> 16.416371</td>\n",
       "      <td>-2.704789</td>\n",
       "      <td>  224.762379</td>\n",
       "    </tr>\n",
       "    <tr>\n",
       "      <th>11</th>\n",
       "      <td> 19.946381</td>\n",
       "      <td>-5.676580</td>\n",
       "      <td> 1751.362506</td>\n",
       "    </tr>\n",
       "    <tr>\n",
       "      <th>12</th>\n",
       "      <td>  9.995176</td>\n",
       "      <td> 1.531419</td>\n",
       "      <td>  881.258177</td>\n",
       "    </tr>\n",
       "    <tr>\n",
       "      <th>13</th>\n",
       "      <td> 15.325705</td>\n",
       "      <td>-2.700070</td>\n",
       "      <td> 1491.150314</td>\n",
       "    </tr>\n",
       "    <tr>\n",
       "      <th>14</th>\n",
       "      <td> 14.254070</td>\n",
       "      <td>-3.964872</td>\n",
       "      <td>  701.879217</td>\n",
       "    </tr>\n",
       "    <tr>\n",
       "      <th>15</th>\n",
       "      <td> 14.800424</td>\n",
       "      <td>-4.062608</td>\n",
       "      <td> 1357.643574</td>\n",
       "    </tr>\n",
       "  </tbody>\n",
       "</table>\n",
       "</div>"
      ],
      "text/plain": [
       "          one         2        third\n",
       "0   21.360431  2.797549  1238.321714\n",
       "1   12.885247 -1.191469   838.198814\n",
       "2   13.010238 -0.757442   378.645223\n",
       "3   11.763051 -3.579088  1447.523136\n",
       "4   19.436387  1.562681   828.194497\n",
       "5   17.368588  1.112077  1524.428166\n",
       "6   13.969669 -0.147352  1456.760166\n",
       "7   16.614492 -1.820801  1641.645769\n",
       "8   10.633133  2.721424  1013.522202\n",
       "9   17.134575 -0.693699  1485.303040\n",
       "10  16.416371 -2.704789   224.762379\n",
       "11  19.946381 -5.676580  1751.362506\n",
       "12   9.995176  1.531419   881.258177\n",
       "13  15.325705 -2.700070  1491.150314\n",
       "14  14.254070 -3.964872   701.879217\n",
       "15  14.800424 -4.062608  1357.643574"
      ]
     },
     "execution_count": 18,
     "metadata": {},
     "output_type": "execute_result"
    }
   ],
   "source": [
    "test_df3.ix[:15, :]"
   ]
  },
  {
   "cell_type": "code",
   "execution_count": 19,
   "metadata": {
    "collapsed": false
   },
   "outputs": [
    {
     "data": {
      "text/plain": [
       "one    19.946381\n",
       "2      -5.676580\n",
       "Name: 11, dtype: float64"
      ]
     },
     "execution_count": 19,
     "metadata": {},
     "output_type": "execute_result"
    }
   ],
   "source": [
    "test_df3.ix[11, ['one', '2']]"
   ]
  },
  {
   "cell_type": "markdown",
   "metadata": {},
   "source": [
    "Let's say we do not want integers as our indices, but instead characters. Using the Census data, let's make the state or region the index values."
   ]
  },
  {
   "cell_type": "code",
   "execution_count": 20,
   "metadata": {
    "collapsed": false
   },
   "outputs": [
    {
     "data": {
      "text/html": [
       "<div style=\"max-height:1000px;max-width:1500px;overflow:auto;\">\n",
       "<table border=\"1\" class=\"dataframe\">\n",
       "  <thead>\n",
       "    <tr style=\"text-align: right;\">\n",
       "      <th></th>\n",
       "      <th>STATE_OR_REGION</th>\n",
       "      <th>1910_POPULATION</th>\n",
       "      <th>1920_POPULATION</th>\n",
       "      <th>1930_POPULATION</th>\n",
       "      <th>1940_POPULATION</th>\n",
       "      <th>1950_POPULATION</th>\n",
       "      <th>1960_POPULATION</th>\n",
       "      <th>1970_POPULATION</th>\n",
       "      <th>1980_POPULATION</th>\n",
       "      <th>1990_POPULATION</th>\n",
       "      <th>...</th>\n",
       "      <th>1920_RANK</th>\n",
       "      <th>1930_RANK</th>\n",
       "      <th>1940_RANK</th>\n",
       "      <th>1950_RANK</th>\n",
       "      <th>1960_RANK</th>\n",
       "      <th>1970_RANK</th>\n",
       "      <th>1980_RANK</th>\n",
       "      <th>1990_RANK</th>\n",
       "      <th>2000_RANK</th>\n",
       "      <th>2010_RANK</th>\n",
       "    </tr>\n",
       "    <tr>\n",
       "      <th>STATE_OR_REGION</th>\n",
       "      <th></th>\n",
       "      <th></th>\n",
       "      <th></th>\n",
       "      <th></th>\n",
       "      <th></th>\n",
       "      <th></th>\n",
       "      <th></th>\n",
       "      <th></th>\n",
       "      <th></th>\n",
       "      <th></th>\n",
       "      <th></th>\n",
       "      <th></th>\n",
       "      <th></th>\n",
       "      <th></th>\n",
       "      <th></th>\n",
       "      <th></th>\n",
       "      <th></th>\n",
       "      <th></th>\n",
       "      <th></th>\n",
       "      <th></th>\n",
       "      <th></th>\n",
       "    </tr>\n",
       "  </thead>\n",
       "  <tbody>\n",
       "    <tr>\n",
       "      <th>United States</th>\n",
       "      <td> United States</td>\n",
       "      <td> 92228531</td>\n",
       "      <td> 106021568</td>\n",
       "      <td> 123202660</td>\n",
       "      <td> 132165129</td>\n",
       "      <td> 151325798</td>\n",
       "      <td> 179323175</td>\n",
       "      <td> 203211926</td>\n",
       "      <td> 226545805</td>\n",
       "      <td> 248709873</td>\n",
       "      <td>...</td>\n",
       "      <td>NaN</td>\n",
       "      <td>NaN</td>\n",
       "      <td>NaN</td>\n",
       "      <td>NaN</td>\n",
       "      <td>NaN</td>\n",
       "      <td>NaN</td>\n",
       "      <td>NaN</td>\n",
       "      <td>NaN</td>\n",
       "      <td>NaN</td>\n",
       "      <td>NaN</td>\n",
       "    </tr>\n",
       "    <tr>\n",
       "      <th>Alabama</th>\n",
       "      <td>       Alabama</td>\n",
       "      <td>  2138093</td>\n",
       "      <td>   2348174</td>\n",
       "      <td>   2646248</td>\n",
       "      <td>   2832961</td>\n",
       "      <td>   3061743</td>\n",
       "      <td>   3266740</td>\n",
       "      <td>   3444165</td>\n",
       "      <td>   3893888</td>\n",
       "      <td>   4040587</td>\n",
       "      <td>...</td>\n",
       "      <td> 25</td>\n",
       "      <td> 24</td>\n",
       "      <td> 23</td>\n",
       "      <td> 24</td>\n",
       "      <td> 28</td>\n",
       "      <td> 28</td>\n",
       "      <td> 28</td>\n",
       "      <td> 27</td>\n",
       "      <td> 28</td>\n",
       "      <td> 29</td>\n",
       "    </tr>\n",
       "    <tr>\n",
       "      <th>Alaska</th>\n",
       "      <td>        Alaska</td>\n",
       "      <td>    64356</td>\n",
       "      <td>     55036</td>\n",
       "      <td>     59278</td>\n",
       "      <td>     72524</td>\n",
       "      <td>    128643</td>\n",
       "      <td>    226167</td>\n",
       "      <td>    300382</td>\n",
       "      <td>    401851</td>\n",
       "      <td>    550043</td>\n",
       "      <td>...</td>\n",
       "      <td> 52</td>\n",
       "      <td> 52</td>\n",
       "      <td> 52</td>\n",
       "      <td> 52</td>\n",
       "      <td> 52</td>\n",
       "      <td> 52</td>\n",
       "      <td> 52</td>\n",
       "      <td> 52</td>\n",
       "      <td> 52</td>\n",
       "      <td> 52</td>\n",
       "    </tr>\n",
       "    <tr>\n",
       "      <th>Arizona</th>\n",
       "      <td>       Arizona</td>\n",
       "      <td>   204354</td>\n",
       "      <td>    334162</td>\n",
       "      <td>    435573</td>\n",
       "      <td>    499261</td>\n",
       "      <td>    749587</td>\n",
       "      <td>   1302161</td>\n",
       "      <td>   1770900</td>\n",
       "      <td>   2718215</td>\n",
       "      <td>   3665228</td>\n",
       "      <td>...</td>\n",
       "      <td> 49</td>\n",
       "      <td> 47</td>\n",
       "      <td> 47</td>\n",
       "      <td> 47</td>\n",
       "      <td> 43</td>\n",
       "      <td> 43</td>\n",
       "      <td> 42</td>\n",
       "      <td> 39</td>\n",
       "      <td> 38</td>\n",
       "      <td> 35</td>\n",
       "    </tr>\n",
       "    <tr>\n",
       "      <th>Arkansas</th>\n",
       "      <td>      Arkansas</td>\n",
       "      <td>  1574449</td>\n",
       "      <td>   1752204</td>\n",
       "      <td>   1854482</td>\n",
       "      <td>   1949387</td>\n",
       "      <td>   1909511</td>\n",
       "      <td>   1786272</td>\n",
       "      <td>   1923295</td>\n",
       "      <td>   2286435</td>\n",
       "      <td>   2350725</td>\n",
       "      <td>...</td>\n",
       "      <td> 31</td>\n",
       "      <td> 32</td>\n",
       "      <td> 32</td>\n",
       "      <td> 34</td>\n",
       "      <td> 36</td>\n",
       "      <td> 37</td>\n",
       "      <td> 37</td>\n",
       "      <td> 37</td>\n",
       "      <td> 36</td>\n",
       "      <td> 36</td>\n",
       "    </tr>\n",
       "  </tbody>\n",
       "</table>\n",
       "<p>5 rows × 34 columns</p>\n",
       "</div>"
      ],
      "text/plain": [
       "                STATE_OR_REGION  1910_POPULATION  1920_POPULATION  \\\n",
       "STATE_OR_REGION                                                     \n",
       "United States     United States         92228531        106021568   \n",
       "Alabama                 Alabama          2138093          2348174   \n",
       "Alaska                   Alaska            64356            55036   \n",
       "Arizona                 Arizona           204354           334162   \n",
       "Arkansas               Arkansas          1574449          1752204   \n",
       "\n",
       "                 1930_POPULATION  1940_POPULATION  1950_POPULATION  \\\n",
       "STATE_OR_REGION                                                      \n",
       "United States          123202660        132165129        151325798   \n",
       "Alabama                  2646248          2832961          3061743   \n",
       "Alaska                     59278            72524           128643   \n",
       "Arizona                   435573           499261           749587   \n",
       "Arkansas                 1854482          1949387          1909511   \n",
       "\n",
       "                 1960_POPULATION  1970_POPULATION  1980_POPULATION  \\\n",
       "STATE_OR_REGION                                                      \n",
       "United States          179323175        203211926        226545805   \n",
       "Alabama                  3266740          3444165          3893888   \n",
       "Alaska                    226167           300382           401851   \n",
       "Arizona                  1302161          1770900          2718215   \n",
       "Arkansas                 1786272          1923295          2286435   \n",
       "\n",
       "                 1990_POPULATION    ...     1920_RANK  1930_RANK 1940_RANK  \\\n",
       "STATE_OR_REGION                     ...                                      \n",
       "United States          248709873    ...           NaN        NaN       NaN   \n",
       "Alabama                  4040587    ...            25         24        23   \n",
       "Alaska                    550043    ...            52         52        52   \n",
       "Arizona                  3665228    ...            49         47        47   \n",
       "Arkansas                 2350725    ...            31         32        32   \n",
       "\n",
       "                1950_RANK 1960_RANK 1970_RANK 1980_RANK 1990_RANK 2000_RANK  \\\n",
       "STATE_OR_REGION                                                               \n",
       "United States         NaN       NaN       NaN       NaN       NaN       NaN   \n",
       "Alabama                24        28        28        28        27        28   \n",
       "Alaska                 52        52        52        52        52        52   \n",
       "Arizona                47        43        43        42        39        38   \n",
       "Arkansas               34        36        37        37        37        36   \n",
       "\n",
       "                2010_RANK  \n",
       "STATE_OR_REGION            \n",
       "United States         NaN  \n",
       "Alabama                29  \n",
       "Alaska                 52  \n",
       "Arizona                35  \n",
       "Arkansas               36  \n",
       "\n",
       "[5 rows x 34 columns]"
      ]
     },
     "execution_count": 20,
     "metadata": {},
     "output_type": "execute_result"
    }
   ],
   "source": [
    "density_data_2010.set_index(density_data_2010.STATE_OR_REGION, inplace = True, drop = True)\n",
    "density_data_2010.head()"
   ]
  },
  {
   "cell_type": "markdown",
   "metadata": {},
   "source": [
    "Now instead of iterating over integers, we can iterate over the characters."
   ]
  },
  {
   "cell_type": "code",
   "execution_count": 21,
   "metadata": {
    "collapsed": false
   },
   "outputs": [
    {
     "name": "stdout",
     "output_type": "stream",
     "text": [
      "Mississippi 2967297\n",
      "Oklahoma 3751351\n",
      "Delaware 897934\n",
      "Minnesota 5303925\n",
      "Illinois 12830632\n",
      "Arkansas 2915918\n",
      "New Mexico 2059179\n",
      "Indiana 6483802\n",
      "Maryland 5773552\n",
      "Louisiana 4533372\n",
      "Idaho 1567582\n",
      "Wyoming 563626\n",
      "Tennessee 6346105\n",
      "Arizona 6392017\n",
      "Iowa 3046355\n",
      "Michigan 9883640\n",
      "Kansas 2853118\n",
      "Utah 2763885\n",
      "Virginia 8001024\n",
      "Oregon 3831074\n",
      "Connecticut 3574097\n",
      "Montana 989415\n",
      "California 37253956\n",
      "Massachusetts 6547629\n",
      "West Virginia 1852994\n",
      "South Carolina 4625364\n",
      "New Hampshire 1316470\n",
      "Wisconsin 5686986\n",
      "Vermont 625741\n",
      "Georgia 9687653\n",
      "North Dakota 672591\n",
      "Pennsylvania 12702379\n",
      "Puerto Rico 3725789\n",
      "Florida 18801310\n",
      "Alaska 710231\n",
      "Kentucky 4339367\n",
      "Hawaii 1360301\n",
      "United States 308745538\n",
      "Nebraska 1826341\n",
      "Missouri 5988927\n",
      "Ohio 11536504\n",
      "Alabama 4779736\n",
      "New York 19378102\n",
      "South Dakota 814180\n",
      "Colorado 5029196\n",
      "New Jersey 8791894\n",
      "Washington 6724540\n",
      "North Carolina 9535483\n",
      "District of Columbia 601723\n",
      "Texas 25145561\n",
      "Nevada 2700551\n",
      "Maine 1328361\n",
      "Rhode Island 1052567\n"
     ]
    }
   ],
   "source": [
    "pop_dict = {}\n",
    "for state in density_data_2010.STATE_OR_REGION:\n",
    "    pop_dict[state] = density_data_2010.loc[state, '2010_POPULATION']\n",
    "\n",
    "for k in pop_dict:\n",
    "    print k, pop_dict[k]"
   ]
  },
  {
   "cell_type": "code",
   "execution_count": 22,
   "metadata": {
    "collapsed": false
   },
   "outputs": [
    {
     "name": "stdout",
     "output_type": "stream",
     "text": [
      "United States 123202660\n",
      "Alabama 2646248\n",
      "Alaska 59278\n",
      "Arizona 435573\n",
      "Arkansas 1854482\n",
      "California 5677251\n",
      "Colorado 1035791\n",
      "Connecticut 1606903\n",
      "Delaware 238380\n",
      "District of Columbia 486869\n",
      "Florida 1468211\n",
      "Georgia 2908506\n",
      "Hawaii 368336\n",
      "Idaho 445032\n",
      "Illinois 7630654\n",
      "Indiana 3238503\n",
      "Iowa 2470939\n",
      "Kansas 1880999\n",
      "Kentucky 2614589\n",
      "Louisiana 2101593\n",
      "Maine 797423\n",
      "Maryland 1631526\n",
      "Massachusetts 4249614\n",
      "Michigan 4842325\n",
      "Minnesota 2563953\n",
      "Mississippi 2009821\n",
      "Missouri 3629367\n",
      "Montana 537606\n",
      "Nebraska 1377963\n",
      "Nevada 91058\n",
      "New Hampshire 465293\n",
      "New Jersey 4041334\n",
      "New Mexico 423317\n",
      "New York 12588066\n",
      "North Carolina 3170276\n",
      "North Dakota 680845\n",
      "Ohio 6646697\n",
      "Oklahoma 2396040\n",
      "Oregon 953786\n",
      "Pennsylvania 9631350\n",
      "Rhode Island 687497\n",
      "South Carolina 1738765\n",
      "South Dakota 692849\n",
      "Tennessee 2616556\n",
      "Texas 5824715\n",
      "Utah 507847\n",
      "Vermont 359611\n",
      "Virginia 2421851\n",
      "Washington 1563396\n",
      "West Virginia 1729205\n",
      "Wisconsin 2939006\n",
      "Wyoming 225565\n",
      "Puerto Rico 1543913\n"
     ]
    }
   ],
   "source": [
    "for state in density_data_2010.STATE_OR_REGION:\n",
    "    print state, density_data_2010.loc[state, '1930_POPULATION']"
   ]
  },
  {
   "cell_type": "markdown",
   "metadata": {},
   "source": [
    "We can also drop data easily:"
   ]
  },
  {
   "cell_type": "code",
   "execution_count": 23,
   "metadata": {
    "collapsed": false
   },
   "outputs": [],
   "source": [
    "density_data_2010 = density_data_2010.drop('United States', axis = 0)"
   ]
  },
  {
   "cell_type": "code",
   "execution_count": 24,
   "metadata": {
    "collapsed": false
   },
   "outputs": [
    {
     "data": {
      "text/html": [
       "<div style=\"max-height:1000px;max-width:1500px;overflow:auto;\">\n",
       "<table border=\"1\" class=\"dataframe\">\n",
       "  <thead>\n",
       "    <tr style=\"text-align: right;\">\n",
       "      <th></th>\n",
       "      <th>STATE_OR_REGION</th>\n",
       "      <th>1910_POPULATION</th>\n",
       "      <th>1920_POPULATION</th>\n",
       "      <th>1930_POPULATION</th>\n",
       "      <th>1940_POPULATION</th>\n",
       "      <th>1950_POPULATION</th>\n",
       "      <th>1960_POPULATION</th>\n",
       "      <th>1970_POPULATION</th>\n",
       "      <th>1980_POPULATION</th>\n",
       "      <th>1990_POPULATION</th>\n",
       "      <th>...</th>\n",
       "      <th>1920_RANK</th>\n",
       "      <th>1930_RANK</th>\n",
       "      <th>1940_RANK</th>\n",
       "      <th>1950_RANK</th>\n",
       "      <th>1960_RANK</th>\n",
       "      <th>1970_RANK</th>\n",
       "      <th>1980_RANK</th>\n",
       "      <th>1990_RANK</th>\n",
       "      <th>2000_RANK</th>\n",
       "      <th>2010_RANK</th>\n",
       "    </tr>\n",
       "    <tr>\n",
       "      <th>STATE_OR_REGION</th>\n",
       "      <th></th>\n",
       "      <th></th>\n",
       "      <th></th>\n",
       "      <th></th>\n",
       "      <th></th>\n",
       "      <th></th>\n",
       "      <th></th>\n",
       "      <th></th>\n",
       "      <th></th>\n",
       "      <th></th>\n",
       "      <th></th>\n",
       "      <th></th>\n",
       "      <th></th>\n",
       "      <th></th>\n",
       "      <th></th>\n",
       "      <th></th>\n",
       "      <th></th>\n",
       "      <th></th>\n",
       "      <th></th>\n",
       "      <th></th>\n",
       "      <th></th>\n",
       "    </tr>\n",
       "  </thead>\n",
       "  <tbody>\n",
       "    <tr>\n",
       "      <th>Alabama</th>\n",
       "      <td>    Alabama</td>\n",
       "      <td> 2138093</td>\n",
       "      <td> 2348174</td>\n",
       "      <td> 2646248</td>\n",
       "      <td> 2832961</td>\n",
       "      <td>  3061743</td>\n",
       "      <td>  3266740</td>\n",
       "      <td>  3444165</td>\n",
       "      <td>  3893888</td>\n",
       "      <td>  4040587</td>\n",
       "      <td>...</td>\n",
       "      <td> 25</td>\n",
       "      <td> 24</td>\n",
       "      <td> 23</td>\n",
       "      <td> 24</td>\n",
       "      <td> 28</td>\n",
       "      <td> 28</td>\n",
       "      <td> 28</td>\n",
       "      <td> 27</td>\n",
       "      <td> 28</td>\n",
       "      <td> 29</td>\n",
       "    </tr>\n",
       "    <tr>\n",
       "      <th>Alaska</th>\n",
       "      <td>     Alaska</td>\n",
       "      <td>   64356</td>\n",
       "      <td>   55036</td>\n",
       "      <td>   59278</td>\n",
       "      <td>   72524</td>\n",
       "      <td>   128643</td>\n",
       "      <td>   226167</td>\n",
       "      <td>   300382</td>\n",
       "      <td>   401851</td>\n",
       "      <td>   550043</td>\n",
       "      <td>...</td>\n",
       "      <td> 52</td>\n",
       "      <td> 52</td>\n",
       "      <td> 52</td>\n",
       "      <td> 52</td>\n",
       "      <td> 52</td>\n",
       "      <td> 52</td>\n",
       "      <td> 52</td>\n",
       "      <td> 52</td>\n",
       "      <td> 52</td>\n",
       "      <td> 52</td>\n",
       "    </tr>\n",
       "    <tr>\n",
       "      <th>Arizona</th>\n",
       "      <td>    Arizona</td>\n",
       "      <td>  204354</td>\n",
       "      <td>  334162</td>\n",
       "      <td>  435573</td>\n",
       "      <td>  499261</td>\n",
       "      <td>   749587</td>\n",
       "      <td>  1302161</td>\n",
       "      <td>  1770900</td>\n",
       "      <td>  2718215</td>\n",
       "      <td>  3665228</td>\n",
       "      <td>...</td>\n",
       "      <td> 49</td>\n",
       "      <td> 47</td>\n",
       "      <td> 47</td>\n",
       "      <td> 47</td>\n",
       "      <td> 43</td>\n",
       "      <td> 43</td>\n",
       "      <td> 42</td>\n",
       "      <td> 39</td>\n",
       "      <td> 38</td>\n",
       "      <td> 35</td>\n",
       "    </tr>\n",
       "    <tr>\n",
       "      <th>Arkansas</th>\n",
       "      <td>   Arkansas</td>\n",
       "      <td> 1574449</td>\n",
       "      <td> 1752204</td>\n",
       "      <td> 1854482</td>\n",
       "      <td> 1949387</td>\n",
       "      <td>  1909511</td>\n",
       "      <td>  1786272</td>\n",
       "      <td>  1923295</td>\n",
       "      <td>  2286435</td>\n",
       "      <td>  2350725</td>\n",
       "      <td>...</td>\n",
       "      <td> 31</td>\n",
       "      <td> 32</td>\n",
       "      <td> 32</td>\n",
       "      <td> 34</td>\n",
       "      <td> 36</td>\n",
       "      <td> 37</td>\n",
       "      <td> 37</td>\n",
       "      <td> 37</td>\n",
       "      <td> 36</td>\n",
       "      <td> 36</td>\n",
       "    </tr>\n",
       "    <tr>\n",
       "      <th>California</th>\n",
       "      <td> California</td>\n",
       "      <td> 2377549</td>\n",
       "      <td> 3426861</td>\n",
       "      <td> 5677251</td>\n",
       "      <td> 6907387</td>\n",
       "      <td> 10586223</td>\n",
       "      <td> 15717204</td>\n",
       "      <td> 19953134</td>\n",
       "      <td> 23667902</td>\n",
       "      <td> 29760021</td>\n",
       "      <td>...</td>\n",
       "      <td> 35</td>\n",
       "      <td> 31</td>\n",
       "      <td> 30</td>\n",
       "      <td> 22</td>\n",
       "      <td> 15</td>\n",
       "      <td> 15</td>\n",
       "      <td> 16</td>\n",
       "      <td> 14</td>\n",
       "      <td> 14</td>\n",
       "      <td> 13</td>\n",
       "    </tr>\n",
       "  </tbody>\n",
       "</table>\n",
       "<p>5 rows × 34 columns</p>\n",
       "</div>"
      ],
      "text/plain": [
       "                STATE_OR_REGION  1910_POPULATION  1920_POPULATION  \\\n",
       "STATE_OR_REGION                                                     \n",
       "Alabama                 Alabama          2138093          2348174   \n",
       "Alaska                   Alaska            64356            55036   \n",
       "Arizona                 Arizona           204354           334162   \n",
       "Arkansas               Arkansas          1574449          1752204   \n",
       "California           California          2377549          3426861   \n",
       "\n",
       "                 1930_POPULATION  1940_POPULATION  1950_POPULATION  \\\n",
       "STATE_OR_REGION                                                      \n",
       "Alabama                  2646248          2832961          3061743   \n",
       "Alaska                     59278            72524           128643   \n",
       "Arizona                   435573           499261           749587   \n",
       "Arkansas                 1854482          1949387          1909511   \n",
       "California               5677251          6907387         10586223   \n",
       "\n",
       "                 1960_POPULATION  1970_POPULATION  1980_POPULATION  \\\n",
       "STATE_OR_REGION                                                      \n",
       "Alabama                  3266740          3444165          3893888   \n",
       "Alaska                    226167           300382           401851   \n",
       "Arizona                  1302161          1770900          2718215   \n",
       "Arkansas                 1786272          1923295          2286435   \n",
       "California              15717204         19953134         23667902   \n",
       "\n",
       "                 1990_POPULATION    ...     1920_RANK  1930_RANK 1940_RANK  \\\n",
       "STATE_OR_REGION                     ...                                      \n",
       "Alabama                  4040587    ...            25         24        23   \n",
       "Alaska                    550043    ...            52         52        52   \n",
       "Arizona                  3665228    ...            49         47        47   \n",
       "Arkansas                 2350725    ...            31         32        32   \n",
       "California              29760021    ...            35         31        30   \n",
       "\n",
       "                1950_RANK 1960_RANK 1970_RANK 1980_RANK 1990_RANK 2000_RANK  \\\n",
       "STATE_OR_REGION                                                               \n",
       "Alabama                24        28        28        28        27        28   \n",
       "Alaska                 52        52        52        52        52        52   \n",
       "Arizona                47        43        43        42        39        38   \n",
       "Arkansas               34        36        37        37        37        36   \n",
       "California             22        15        15        16        14        14   \n",
       "\n",
       "                2010_RANK  \n",
       "STATE_OR_REGION            \n",
       "Alabama                29  \n",
       "Alaska                 52  \n",
       "Arizona                35  \n",
       "Arkansas               36  \n",
       "California             13  \n",
       "\n",
       "[5 rows x 34 columns]"
      ]
     },
     "execution_count": 24,
     "metadata": {},
     "output_type": "execute_result"
    }
   ],
   "source": [
    "density_data_2010.head()"
   ]
  },
  {
   "cell_type": "code",
   "execution_count": 25,
   "metadata": {
    "collapsed": true
   },
   "outputs": [],
   "source": [
    "test_df3 = test_df3.drop('one', axis = 1)"
   ]
  },
  {
   "cell_type": "code",
   "execution_count": 26,
   "metadata": {
    "collapsed": false
   },
   "outputs": [
    {
     "data": {
      "text/html": [
       "<div style=\"max-height:1000px;max-width:1500px;overflow:auto;\">\n",
       "<table border=\"1\" class=\"dataframe\">\n",
       "  <thead>\n",
       "    <tr style=\"text-align: right;\">\n",
       "      <th></th>\n",
       "      <th>2</th>\n",
       "      <th>third</th>\n",
       "    </tr>\n",
       "  </thead>\n",
       "  <tbody>\n",
       "    <tr>\n",
       "      <th>0</th>\n",
       "      <td> 2.797549</td>\n",
       "      <td> 1238.321714</td>\n",
       "    </tr>\n",
       "    <tr>\n",
       "      <th>1</th>\n",
       "      <td>-1.191469</td>\n",
       "      <td>  838.198814</td>\n",
       "    </tr>\n",
       "    <tr>\n",
       "      <th>2</th>\n",
       "      <td>-0.757442</td>\n",
       "      <td>  378.645223</td>\n",
       "    </tr>\n",
       "    <tr>\n",
       "      <th>3</th>\n",
       "      <td>-3.579088</td>\n",
       "      <td> 1447.523136</td>\n",
       "    </tr>\n",
       "    <tr>\n",
       "      <th>4</th>\n",
       "      <td> 1.562681</td>\n",
       "      <td>  828.194497</td>\n",
       "    </tr>\n",
       "  </tbody>\n",
       "</table>\n",
       "</div>"
      ],
      "text/plain": [
       "          2        third\n",
       "0  2.797549  1238.321714\n",
       "1 -1.191469   838.198814\n",
       "2 -0.757442   378.645223\n",
       "3 -3.579088  1447.523136\n",
       "4  1.562681   828.194497"
      ]
     },
     "execution_count": 26,
     "metadata": {},
     "output_type": "execute_result"
    }
   ],
   "source": [
    "test_df3.head()"
   ]
  },
  {
   "cell_type": "code",
   "execution_count": 27,
   "metadata": {
    "collapsed": true
   },
   "outputs": [],
   "source": [
    "test_df2 = test_df2.drop([2, 4])"
   ]
  },
  {
   "cell_type": "code",
   "execution_count": 28,
   "metadata": {
    "collapsed": false
   },
   "outputs": [
    {
     "data": {
      "text/html": [
       "<div style=\"max-height:1000px;max-width:1500px;overflow:auto;\">\n",
       "<table border=\"1\" class=\"dataframe\">\n",
       "  <thead>\n",
       "    <tr style=\"text-align: right;\">\n",
       "      <th></th>\n",
       "      <th>binom_column</th>\n",
       "      <th>char_col</th>\n",
       "      <th>int_column</th>\n",
       "    </tr>\n",
       "  </thead>\n",
       "  <tbody>\n",
       "    <tr>\n",
       "      <th>0</th>\n",
       "      <td> 0</td>\n",
       "      <td> sample1</td>\n",
       "      <td>   1</td>\n",
       "    </tr>\n",
       "    <tr>\n",
       "      <th>1</th>\n",
       "      <td> 1</td>\n",
       "      <td> sample2</td>\n",
       "      <td>  13</td>\n",
       "    </tr>\n",
       "    <tr>\n",
       "      <th>3</th>\n",
       "      <td> 1</td>\n",
       "      <td> sample4</td>\n",
       "      <td> 120</td>\n",
       "    </tr>\n",
       "  </tbody>\n",
       "</table>\n",
       "</div>"
      ],
      "text/plain": [
       "   binom_column char_col  int_column\n",
       "0             0  sample1           1\n",
       "1             1  sample2          13\n",
       "3             1  sample4         120"
      ]
     },
     "execution_count": 28,
     "metadata": {},
     "output_type": "execute_result"
    }
   ],
   "source": [
    "test_df2.head()"
   ]
  },
  {
   "cell_type": "markdown",
   "metadata": {},
   "source": [
    "### Mapping values and functions\n",
    "You will likely have to create numeric, character, or composite labels for your data at some point. Mapping values is easy using the `map` function. Going back to the Census data, we will map the state or region name to its two-letter abbreviation and its geographic region. We will use several `dicts` to accomplish this."
   ]
  },
  {
   "cell_type": "code",
   "execution_count": 29,
   "metadata": {
    "collapsed": false
   },
   "outputs": [],
   "source": [
    "state_abbrevs = {'Connecticut':'CT' , 'Maine':'ME', 'Massachusetts':'MA',\n",
    "                   'New Hampshire':'NH', 'Rhode Island':'RI' , 'Vermont':'VT',\n",
    "                  'New Jersey':'NJ' , 'New York':'NY' , 'Pennsylvania':'PA',\n",
    "                  'Illinois':'IL', 'Indiana':'IN', 'Michigan':'MI', 'Ohio':'OH',\n",
    "                  'Wisconsin':'WI', 'Iowa':'IA', 'Kansas':'KS', 'Minnesota':'MN',\n",
    "                  'Nebraska':'NE', 'North Dakota':'ND', 'South Dakota':'SD', 'Missouri':'MO',\n",
    "                  'Delaware':'DE', 'Florida':'FL', 'Georgia':'GA', 'Maryland':'MD', \n",
    "                  'North Carolina':'NC', 'South Carolina':'SC','Virginia':'VA',\n",
    "                  'West Virginia':'WV', 'Alabama':'AL','Kentucky':'KY', 'Mississippi':'MS', \n",
    "                  'Tennessee':'TN', 'Arkansas':'AR', 'Louisiana':'LA', 'Oklahoma':'OK', \n",
    "                  'Texas':'TX', 'Arizona':'AZ', 'Colorado':'CO', 'Idaho':'ID', 'Montana':'MT', \n",
    "                  'Nevada':'NV','New Mexico':'NM', 'Utah':'UT', 'Wyoming':'WY', 'Alaska':'AK',\n",
    "                  'California':'CA', 'Hawaii':'HI', 'Oregon':'OR', 'Washington':'WA'}\n",
    "                  \n",
    "\n",
    "census_regions = {'CT': 'Northeast', 'ME': 'Northeast', 'MA': 'Northeast',\n",
    "                  'NH': 'Northeast', 'RI': 'Northeast', 'VT': 'Northeast',\n",
    "                  'NJ': 'Northeast', 'NY': 'Northeast', 'PA': 'Northeast',\n",
    "                  'IL':'Midwest', 'IN':'Midwest', 'MI':'Midwest', 'OH':'Midwest',\n",
    "                  'WI':'Midwest', 'IA':'Midwest', 'KS':'Midwest', 'MN':'Midwest',\n",
    "                  'NE':'Midwest', 'ND':'Midwest', 'SD':'Midwest', 'MO':'Midwest',\n",
    "                  'DE':'South', 'FL':'South', 'GA':'South', 'MD':'South', \n",
    "                  'NC':'South', 'SC':'South', 'VA':'South', 'DC':'South',\n",
    "                  'WV':'South', 'AL':'South', 'KY':'South', 'MS':'South', \n",
    "                  'TN':'South', 'AR':'South', 'LA':'South', 'OK':'South', \n",
    "                  'TX':'South','AZ':'West', 'CO':'West', 'ID':'West', 'MT':'West',\n",
    "                  'NV':'West', 'NM':'West', 'UT':'West', 'WY':'West', 'AK':'West',\n",
    "                  'CA':'West','HI':'West', 'OR':'West', 'WA':'West'}"
   ]
  },
  {
   "cell_type": "code",
   "execution_count": 30,
   "metadata": {
    "collapsed": false
   },
   "outputs": [
    {
     "data": {
      "text/html": [
       "<div style=\"max-height:1000px;max-width:1500px;overflow:auto;\">\n",
       "<table border=\"1\" class=\"dataframe\">\n",
       "  <thead>\n",
       "    <tr style=\"text-align: right;\">\n",
       "      <th></th>\n",
       "      <th>STATE_OR_REGION</th>\n",
       "      <th>1910_POPULATION</th>\n",
       "      <th>1920_POPULATION</th>\n",
       "      <th>1930_POPULATION</th>\n",
       "      <th>1940_POPULATION</th>\n",
       "      <th>1950_POPULATION</th>\n",
       "      <th>1960_POPULATION</th>\n",
       "      <th>1970_POPULATION</th>\n",
       "      <th>1980_POPULATION</th>\n",
       "      <th>1990_POPULATION</th>\n",
       "      <th>...</th>\n",
       "      <th>1940_RANK</th>\n",
       "      <th>1950_RANK</th>\n",
       "      <th>1960_RANK</th>\n",
       "      <th>1970_RANK</th>\n",
       "      <th>1980_RANK</th>\n",
       "      <th>1990_RANK</th>\n",
       "      <th>2000_RANK</th>\n",
       "      <th>2010_RANK</th>\n",
       "      <th>Abbrev</th>\n",
       "      <th>Region</th>\n",
       "    </tr>\n",
       "    <tr>\n",
       "      <th>STATE_OR_REGION</th>\n",
       "      <th></th>\n",
       "      <th></th>\n",
       "      <th></th>\n",
       "      <th></th>\n",
       "      <th></th>\n",
       "      <th></th>\n",
       "      <th></th>\n",
       "      <th></th>\n",
       "      <th></th>\n",
       "      <th></th>\n",
       "      <th></th>\n",
       "      <th></th>\n",
       "      <th></th>\n",
       "      <th></th>\n",
       "      <th></th>\n",
       "      <th></th>\n",
       "      <th></th>\n",
       "      <th></th>\n",
       "      <th></th>\n",
       "      <th></th>\n",
       "      <th></th>\n",
       "    </tr>\n",
       "  </thead>\n",
       "  <tbody>\n",
       "    <tr>\n",
       "      <th>Alabama</th>\n",
       "      <td>    Alabama</td>\n",
       "      <td> 2138093</td>\n",
       "      <td> 2348174</td>\n",
       "      <td> 2646248</td>\n",
       "      <td> 2832961</td>\n",
       "      <td>  3061743</td>\n",
       "      <td>  3266740</td>\n",
       "      <td>  3444165</td>\n",
       "      <td>  3893888</td>\n",
       "      <td>  4040587</td>\n",
       "      <td>...</td>\n",
       "      <td> 23</td>\n",
       "      <td> 24</td>\n",
       "      <td> 28</td>\n",
       "      <td> 28</td>\n",
       "      <td> 28</td>\n",
       "      <td> 27</td>\n",
       "      <td> 28</td>\n",
       "      <td> 29</td>\n",
       "      <td> AL</td>\n",
       "      <td> South</td>\n",
       "    </tr>\n",
       "    <tr>\n",
       "      <th>Alaska</th>\n",
       "      <td>     Alaska</td>\n",
       "      <td>   64356</td>\n",
       "      <td>   55036</td>\n",
       "      <td>   59278</td>\n",
       "      <td>   72524</td>\n",
       "      <td>   128643</td>\n",
       "      <td>   226167</td>\n",
       "      <td>   300382</td>\n",
       "      <td>   401851</td>\n",
       "      <td>   550043</td>\n",
       "      <td>...</td>\n",
       "      <td> 52</td>\n",
       "      <td> 52</td>\n",
       "      <td> 52</td>\n",
       "      <td> 52</td>\n",
       "      <td> 52</td>\n",
       "      <td> 52</td>\n",
       "      <td> 52</td>\n",
       "      <td> 52</td>\n",
       "      <td> AK</td>\n",
       "      <td>  West</td>\n",
       "    </tr>\n",
       "    <tr>\n",
       "      <th>Arizona</th>\n",
       "      <td>    Arizona</td>\n",
       "      <td>  204354</td>\n",
       "      <td>  334162</td>\n",
       "      <td>  435573</td>\n",
       "      <td>  499261</td>\n",
       "      <td>   749587</td>\n",
       "      <td>  1302161</td>\n",
       "      <td>  1770900</td>\n",
       "      <td>  2718215</td>\n",
       "      <td>  3665228</td>\n",
       "      <td>...</td>\n",
       "      <td> 47</td>\n",
       "      <td> 47</td>\n",
       "      <td> 43</td>\n",
       "      <td> 43</td>\n",
       "      <td> 42</td>\n",
       "      <td> 39</td>\n",
       "      <td> 38</td>\n",
       "      <td> 35</td>\n",
       "      <td> AZ</td>\n",
       "      <td>  West</td>\n",
       "    </tr>\n",
       "    <tr>\n",
       "      <th>Arkansas</th>\n",
       "      <td>   Arkansas</td>\n",
       "      <td> 1574449</td>\n",
       "      <td> 1752204</td>\n",
       "      <td> 1854482</td>\n",
       "      <td> 1949387</td>\n",
       "      <td>  1909511</td>\n",
       "      <td>  1786272</td>\n",
       "      <td>  1923295</td>\n",
       "      <td>  2286435</td>\n",
       "      <td>  2350725</td>\n",
       "      <td>...</td>\n",
       "      <td> 32</td>\n",
       "      <td> 34</td>\n",
       "      <td> 36</td>\n",
       "      <td> 37</td>\n",
       "      <td> 37</td>\n",
       "      <td> 37</td>\n",
       "      <td> 36</td>\n",
       "      <td> 36</td>\n",
       "      <td> AR</td>\n",
       "      <td> South</td>\n",
       "    </tr>\n",
       "    <tr>\n",
       "      <th>California</th>\n",
       "      <td> California</td>\n",
       "      <td> 2377549</td>\n",
       "      <td> 3426861</td>\n",
       "      <td> 5677251</td>\n",
       "      <td> 6907387</td>\n",
       "      <td> 10586223</td>\n",
       "      <td> 15717204</td>\n",
       "      <td> 19953134</td>\n",
       "      <td> 23667902</td>\n",
       "      <td> 29760021</td>\n",
       "      <td>...</td>\n",
       "      <td> 30</td>\n",
       "      <td> 22</td>\n",
       "      <td> 15</td>\n",
       "      <td> 15</td>\n",
       "      <td> 16</td>\n",
       "      <td> 14</td>\n",
       "      <td> 14</td>\n",
       "      <td> 13</td>\n",
       "      <td> CA</td>\n",
       "      <td>  West</td>\n",
       "    </tr>\n",
       "  </tbody>\n",
       "</table>\n",
       "<p>5 rows × 36 columns</p>\n",
       "</div>"
      ],
      "text/plain": [
       "                STATE_OR_REGION  1910_POPULATION  1920_POPULATION  \\\n",
       "STATE_OR_REGION                                                     \n",
       "Alabama                 Alabama          2138093          2348174   \n",
       "Alaska                   Alaska            64356            55036   \n",
       "Arizona                 Arizona           204354           334162   \n",
       "Arkansas               Arkansas          1574449          1752204   \n",
       "California           California          2377549          3426861   \n",
       "\n",
       "                 1930_POPULATION  1940_POPULATION  1950_POPULATION  \\\n",
       "STATE_OR_REGION                                                      \n",
       "Alabama                  2646248          2832961          3061743   \n",
       "Alaska                     59278            72524           128643   \n",
       "Arizona                   435573           499261           749587   \n",
       "Arkansas                 1854482          1949387          1909511   \n",
       "California               5677251          6907387         10586223   \n",
       "\n",
       "                 1960_POPULATION  1970_POPULATION  1980_POPULATION  \\\n",
       "STATE_OR_REGION                                                      \n",
       "Alabama                  3266740          3444165          3893888   \n",
       "Alaska                    226167           300382           401851   \n",
       "Arizona                  1302161          1770900          2718215   \n",
       "Arkansas                 1786272          1923295          2286435   \n",
       "California              15717204         19953134         23667902   \n",
       "\n",
       "                 1990_POPULATION  ...    1940_RANK  1950_RANK 1960_RANK  \\\n",
       "STATE_OR_REGION                   ...                                     \n",
       "Alabama                  4040587  ...           23         24        28   \n",
       "Alaska                    550043  ...           52         52        52   \n",
       "Arizona                  3665228  ...           47         47        43   \n",
       "Arkansas                 2350725  ...           32         34        36   \n",
       "California              29760021  ...           30         22        15   \n",
       "\n",
       "                1970_RANK 1980_RANK 1990_RANK 2000_RANK 2010_RANK Abbrev  \\\n",
       "STATE_OR_REGION                                                            \n",
       "Alabama                28        28        27        28        29     AL   \n",
       "Alaska                 52        52        52        52        52     AK   \n",
       "Arizona                43        42        39        38        35     AZ   \n",
       "Arkansas               37        37        37        36        36     AR   \n",
       "California             15        16        14        14        13     CA   \n",
       "\n",
       "                Region  \n",
       "STATE_OR_REGION         \n",
       "Alabama          South  \n",
       "Alaska            West  \n",
       "Arizona           West  \n",
       "Arkansas         South  \n",
       "California        West  \n",
       "\n",
       "[5 rows x 36 columns]"
      ]
     },
     "execution_count": 30,
     "metadata": {},
     "output_type": "execute_result"
    }
   ],
   "source": [
    "density_data_2010['Abbrev'] = density_data_2010.STATE_OR_REGION.map(state_abbrevs)\n",
    "density_data_2010['Region'] = density_data_2010.Abbrev.map(census_regions)\n",
    "density_data_2010.head()"
   ]
  },
  {
   "cell_type": "markdown",
   "metadata": {},
   "source": [
    "The next thing we want to do is collect summaries, such as the total population in each year (which we deleted earlier), the mean and median state population in each year, and the mean and median population for each state across each census. Fortunately for us, we can apply functions directly to our `DataFrame` to get the desired values."
   ]
  },
  {
   "cell_type": "code",
   "execution_count": 31,
   "metadata": {
    "collapsed": false
   },
   "outputs": [
    {
     "data": {
      "text/html": [
       "<div style=\"max-height:1000px;max-width:1500px;overflow:auto;\">\n",
       "<table border=\"1\" class=\"dataframe\">\n",
       "  <thead>\n",
       "    <tr style=\"text-align: right;\">\n",
       "      <th></th>\n",
       "      <th>STATE_OR_REGION</th>\n",
       "      <th>1910_POPULATION</th>\n",
       "      <th>1920_POPULATION</th>\n",
       "      <th>1930_POPULATION</th>\n",
       "      <th>1940_POPULATION</th>\n",
       "      <th>1950_POPULATION</th>\n",
       "      <th>1960_POPULATION</th>\n",
       "      <th>1970_POPULATION</th>\n",
       "      <th>1980_POPULATION</th>\n",
       "      <th>1990_POPULATION</th>\n",
       "      <th>...</th>\n",
       "      <th>1960_RANK</th>\n",
       "      <th>1970_RANK</th>\n",
       "      <th>1980_RANK</th>\n",
       "      <th>1990_RANK</th>\n",
       "      <th>2000_RANK</th>\n",
       "      <th>2010_RANK</th>\n",
       "      <th>Abbrev</th>\n",
       "      <th>Region</th>\n",
       "      <th>MeanPop</th>\n",
       "      <th>MedianPop</th>\n",
       "    </tr>\n",
       "    <tr>\n",
       "      <th>STATE_OR_REGION</th>\n",
       "      <th></th>\n",
       "      <th></th>\n",
       "      <th></th>\n",
       "      <th></th>\n",
       "      <th></th>\n",
       "      <th></th>\n",
       "      <th></th>\n",
       "      <th></th>\n",
       "      <th></th>\n",
       "      <th></th>\n",
       "      <th></th>\n",
       "      <th></th>\n",
       "      <th></th>\n",
       "      <th></th>\n",
       "      <th></th>\n",
       "      <th></th>\n",
       "      <th></th>\n",
       "      <th></th>\n",
       "      <th></th>\n",
       "      <th></th>\n",
       "      <th></th>\n",
       "    </tr>\n",
       "  </thead>\n",
       "  <tbody>\n",
       "    <tr>\n",
       "      <th>Alabama</th>\n",
       "      <td>    Alabama</td>\n",
       "      <td> 2138093</td>\n",
       "      <td> 2348174</td>\n",
       "      <td> 2646248</td>\n",
       "      <td> 2832961</td>\n",
       "      <td>  3061743</td>\n",
       "      <td>  3266740</td>\n",
       "      <td>  3444165</td>\n",
       "      <td>  3893888</td>\n",
       "      <td>  4040587</td>\n",
       "      <td>...</td>\n",
       "      <td> 28</td>\n",
       "      <td> 28</td>\n",
       "      <td> 28</td>\n",
       "      <td> 27</td>\n",
       "      <td> 28</td>\n",
       "      <td> 29</td>\n",
       "      <td> AL</td>\n",
       "      <td> South</td>\n",
       "      <td>  3354494.090909</td>\n",
       "      <td>  3266740</td>\n",
       "    </tr>\n",
       "    <tr>\n",
       "      <th>Alaska</th>\n",
       "      <td>     Alaska</td>\n",
       "      <td>   64356</td>\n",
       "      <td>   55036</td>\n",
       "      <td>   59278</td>\n",
       "      <td>   72524</td>\n",
       "      <td>   128643</td>\n",
       "      <td>   226167</td>\n",
       "      <td>   300382</td>\n",
       "      <td>   401851</td>\n",
       "      <td>   550043</td>\n",
       "      <td>...</td>\n",
       "      <td> 52</td>\n",
       "      <td> 52</td>\n",
       "      <td> 52</td>\n",
       "      <td> 52</td>\n",
       "      <td> 52</td>\n",
       "      <td> 52</td>\n",
       "      <td> AK</td>\n",
       "      <td>  West</td>\n",
       "      <td>   290494.818182</td>\n",
       "      <td>   226167</td>\n",
       "    </tr>\n",
       "    <tr>\n",
       "      <th>Arizona</th>\n",
       "      <td>    Arizona</td>\n",
       "      <td>  204354</td>\n",
       "      <td>  334162</td>\n",
       "      <td>  435573</td>\n",
       "      <td>  499261</td>\n",
       "      <td>   749587</td>\n",
       "      <td>  1302161</td>\n",
       "      <td>  1770900</td>\n",
       "      <td>  2718215</td>\n",
       "      <td>  3665228</td>\n",
       "      <td>...</td>\n",
       "      <td> 43</td>\n",
       "      <td> 43</td>\n",
       "      <td> 42</td>\n",
       "      <td> 39</td>\n",
       "      <td> 38</td>\n",
       "      <td> 35</td>\n",
       "      <td> AZ</td>\n",
       "      <td>  West</td>\n",
       "      <td>  2109280.909091</td>\n",
       "      <td>  1302161</td>\n",
       "    </tr>\n",
       "    <tr>\n",
       "      <th>Arkansas</th>\n",
       "      <td>   Arkansas</td>\n",
       "      <td> 1574449</td>\n",
       "      <td> 1752204</td>\n",
       "      <td> 1854482</td>\n",
       "      <td> 1949387</td>\n",
       "      <td>  1909511</td>\n",
       "      <td>  1786272</td>\n",
       "      <td>  1923295</td>\n",
       "      <td>  2286435</td>\n",
       "      <td>  2350725</td>\n",
       "      <td>...</td>\n",
       "      <td> 36</td>\n",
       "      <td> 37</td>\n",
       "      <td> 37</td>\n",
       "      <td> 37</td>\n",
       "      <td> 36</td>\n",
       "      <td> 36</td>\n",
       "      <td> AR</td>\n",
       "      <td> South</td>\n",
       "      <td>  2088734.363636</td>\n",
       "      <td>  1923295</td>\n",
       "    </tr>\n",
       "    <tr>\n",
       "      <th>California</th>\n",
       "      <td> California</td>\n",
       "      <td> 2377549</td>\n",
       "      <td> 3426861</td>\n",
       "      <td> 5677251</td>\n",
       "      <td> 6907387</td>\n",
       "      <td> 10586223</td>\n",
       "      <td> 15717204</td>\n",
       "      <td> 19953134</td>\n",
       "      <td> 23667902</td>\n",
       "      <td> 29760021</td>\n",
       "      <td>...</td>\n",
       "      <td> 15</td>\n",
       "      <td> 15</td>\n",
       "      <td> 16</td>\n",
       "      <td> 14</td>\n",
       "      <td> 14</td>\n",
       "      <td> 13</td>\n",
       "      <td> CA</td>\n",
       "      <td>  West</td>\n",
       "      <td> 17199921.454545</td>\n",
       "      <td> 15717204</td>\n",
       "    </tr>\n",
       "  </tbody>\n",
       "</table>\n",
       "<p>5 rows × 38 columns</p>\n",
       "</div>"
      ],
      "text/plain": [
       "                STATE_OR_REGION  1910_POPULATION  1920_POPULATION  \\\n",
       "STATE_OR_REGION                                                     \n",
       "Alabama                 Alabama          2138093          2348174   \n",
       "Alaska                   Alaska            64356            55036   \n",
       "Arizona                 Arizona           204354           334162   \n",
       "Arkansas               Arkansas          1574449          1752204   \n",
       "California           California          2377549          3426861   \n",
       "\n",
       "                 1930_POPULATION  1940_POPULATION  1950_POPULATION  \\\n",
       "STATE_OR_REGION                                                      \n",
       "Alabama                  2646248          2832961          3061743   \n",
       "Alaska                     59278            72524           128643   \n",
       "Arizona                   435573           499261           749587   \n",
       "Arkansas                 1854482          1949387          1909511   \n",
       "California               5677251          6907387         10586223   \n",
       "\n",
       "                 1960_POPULATION  1970_POPULATION  1980_POPULATION  \\\n",
       "STATE_OR_REGION                                                      \n",
       "Alabama                  3266740          3444165          3893888   \n",
       "Alaska                    226167           300382           401851   \n",
       "Arizona                  1302161          1770900          2718215   \n",
       "Arkansas                 1786272          1923295          2286435   \n",
       "California              15717204         19953134         23667902   \n",
       "\n",
       "                 1990_POPULATION    ...     1960_RANK  1970_RANK 1980_RANK  \\\n",
       "STATE_OR_REGION                     ...                                      \n",
       "Alabama                  4040587    ...            28         28        28   \n",
       "Alaska                    550043    ...            52         52        52   \n",
       "Arizona                  3665228    ...            43         43        42   \n",
       "Arkansas                 2350725    ...            36         37        37   \n",
       "California              29760021    ...            15         15        16   \n",
       "\n",
       "                1990_RANK 2000_RANK 2010_RANK Abbrev Region          MeanPop  \\\n",
       "STATE_OR_REGION                                                                \n",
       "Alabama                27        28        29     AL  South   3354494.090909   \n",
       "Alaska                 52        52        52     AK   West    290494.818182   \n",
       "Arizona                39        38        35     AZ   West   2109280.909091   \n",
       "Arkansas               37        36        36     AR  South   2088734.363636   \n",
       "California             14        14        13     CA   West  17199921.454545   \n",
       "\n",
       "                MedianPop  \n",
       "STATE_OR_REGION            \n",
       "Alabama           3266740  \n",
       "Alaska             226167  \n",
       "Arizona           1302161  \n",
       "Arkansas          1923295  \n",
       "California       15717204  \n",
       "\n",
       "[5 rows x 38 columns]"
      ]
     },
     "execution_count": 31,
     "metadata": {},
     "output_type": "execute_result"
    }
   ],
   "source": [
    "pop_cols = ['1910_POPULATION', '1920_POPULATION', '1930_POPULATION', '1940_POPULATION', '1950_POPULATION',\n",
    "           '1960_POPULATION', '1970_POPULATION', '1980_POPULATION', '1990_POPULATION', '2000_POPULATION',\n",
    "           '2010_POPULATION']\n",
    "\n",
    "density_data_2010['MeanPop'] = density_data_2010[pop_cols].mean(axis = 1)\n",
    "density_data_2010['MedianPop'] = density_data_2010[pop_cols].median(axis = 1)\n",
    "density_data_2010.head()"
   ]
  },
  {
   "cell_type": "code",
   "execution_count": 32,
   "metadata": {
    "collapsed": false
   },
   "outputs": [
    {
     "data": {
      "text/plain": [
       "1910_POPULATION     93346543\n",
       "1920_POPULATION    107321377\n",
       "1930_POPULATION    124746573\n",
       "1940_POPULATION    134034384\n",
       "1950_POPULATION    153536501\n",
       "1960_POPULATION    181672719\n",
       "1970_POPULATION    205923959\n",
       "1980_POPULATION    229742325\n",
       "1990_POPULATION    252231910\n",
       "2000_POPULATION    285230516\n",
       "2010_POPULATION    312471327\n",
       "dtype: int64"
      ]
     },
     "execution_count": 32,
     "metadata": {},
     "output_type": "execute_result"
    }
   ],
   "source": [
    "year_totals = density_data_2010[pop_cols].sum(axis = 0)\n",
    "year_totals"
   ]
  },
  {
   "cell_type": "markdown",
   "metadata": {},
   "source": [
    "Notice something interesting here: the columns become the indices for another `pandas` data type, a `Series`."
   ]
  },
  {
   "cell_type": "code",
   "execution_count": 33,
   "metadata": {
    "collapsed": false
   },
   "outputs": [
    {
     "data": {
      "text/plain": [
       "pandas.core.series.Series"
      ]
     },
     "execution_count": 33,
     "metadata": {},
     "output_type": "execute_result"
    }
   ],
   "source": [
    "type(year_totals)"
   ]
  },
  {
   "cell_type": "code",
   "execution_count": 34,
   "metadata": {
    "collapsed": false
   },
   "outputs": [
    {
     "data": {
      "text/plain": [
       "['1910_POPULATION',\n",
       " '1920_POPULATION',\n",
       " '1930_POPULATION',\n",
       " '1940_POPULATION',\n",
       " '1950_POPULATION',\n",
       " '1960_POPULATION',\n",
       " '1970_POPULATION',\n",
       " '1980_POPULATION',\n",
       " '1990_POPULATION',\n",
       " '2000_POPULATION',\n",
       " '2010_POPULATION']"
      ]
     },
     "execution_count": 34,
     "metadata": {},
     "output_type": "execute_result"
    }
   ],
   "source": [
    "year_totals.index.values.tolist()"
   ]
  },
  {
   "cell_type": "markdown",
   "metadata": {},
   "source": [
    "We can convert this to something perhaps more useful, such as a `NumPy` array:"
   ]
  },
  {
   "cell_type": "code",
   "execution_count": 35,
   "metadata": {
    "collapsed": false
   },
   "outputs": [
    {
     "data": {
      "text/plain": [
       "numpy.ndarray"
      ]
     },
     "execution_count": 35,
     "metadata": {},
     "output_type": "execute_result"
    }
   ],
   "source": [
    "year_totals_np = np.array(year_totals)\n",
    "type(year_totals_np)"
   ]
  },
  {
   "cell_type": "code",
   "execution_count": 36,
   "metadata": {
    "collapsed": false
   },
   "outputs": [
    {
     "data": {
      "text/plain": [
       "array([ 93346543, 107321377, 124746573, 134034384, 153536501, 181672719,\n",
       "       205923959, 229742325, 252231910, 285230516, 312471327])"
      ]
     },
     "execution_count": 36,
     "metadata": {},
     "output_type": "execute_result"
    }
   ],
   "source": [
    "year_totals_np"
   ]
  },
  {
   "cell_type": "markdown",
   "metadata": {},
   "source": [
    "###Missing data\n",
    "Astute observers will notice that I kind of misled you on the mapping of regions and mean and median populations: Puerto Rico and the District of Columbia were not included for the mapping of regions, but were for the population stats. How do we know which entries are missing? `pandas` has methods to do that.  \n",
    "\n",
    "- `dropna`: drop missing data for a given axis label; can adjust how many entries are null are tolerated  \n",
    "- `fillna`: fill in missing values with a given value  \n",
    "- `isnull`: return Boolean (`True` or `False`) indicating which values are missing  \n",
    "- `notnull`: negates `isnull`  \n",
    "\n",
    "Since real data will likely contain missing values, these methods are very useful. You may desire to fill in missing values with the series mean or median, but for statistical analysis, this is generally frowned upon. And by frowned upon, I mean you will be told to re-analyze your data by a reviewer."
   ]
  },
  {
   "cell_type": "code",
   "execution_count": 37,
   "metadata": {
    "collapsed": false
   },
   "outputs": [
    {
     "data": {
      "text/plain": [
       "STATE_OR_REGION\n",
       "Alabama                 False\n",
       "Alaska                  False\n",
       "Arizona                 False\n",
       "Arkansas                False\n",
       "California              False\n",
       "Colorado                False\n",
       "Connecticut             False\n",
       "Delaware                False\n",
       "District of Columbia    False\n",
       "Florida                 False\n",
       "Georgia                 False\n",
       "Hawaii                  False\n",
       "Idaho                   False\n",
       "Illinois                False\n",
       "Indiana                 False\n",
       "Iowa                    False\n",
       "Kansas                  False\n",
       "Kentucky                False\n",
       "Louisiana               False\n",
       "Maine                   False\n",
       "Maryland                False\n",
       "Massachusetts           False\n",
       "Michigan                False\n",
       "Minnesota               False\n",
       "Mississippi             False\n",
       "Missouri                False\n",
       "Montana                 False\n",
       "Nebraska                False\n",
       "Nevada                  False\n",
       "New Hampshire           False\n",
       "New Jersey              False\n",
       "New Mexico              False\n",
       "New York                False\n",
       "North Carolina          False\n",
       "North Dakota            False\n",
       "Ohio                    False\n",
       "Oklahoma                False\n",
       "Oregon                  False\n",
       "Pennsylvania            False\n",
       "Rhode Island            False\n",
       "South Carolina          False\n",
       "South Dakota            False\n",
       "Tennessee               False\n",
       "Texas                   False\n",
       "Utah                    False\n",
       "Vermont                 False\n",
       "Virginia                False\n",
       "Washington              False\n",
       "West Virginia           False\n",
       "Wisconsin               False\n",
       "Wyoming                 False\n",
       "Puerto Rico             False\n",
       "Name: MeanPop, Length: 52, dtype: bool"
      ]
     },
     "execution_count": 37,
     "metadata": {},
     "output_type": "execute_result"
    }
   ],
   "source": [
    "density_data_2010.MeanPop.isnull()"
   ]
  },
  {
   "cell_type": "code",
   "execution_count": 38,
   "metadata": {
    "collapsed": false
   },
   "outputs": [
    {
     "data": {
      "text/plain": [
       "STATE_OR_REGION\n",
       "Alabama                  True\n",
       "Alaska                   True\n",
       "Arizona                  True\n",
       "Arkansas                 True\n",
       "California               True\n",
       "Colorado                 True\n",
       "Connecticut              True\n",
       "Delaware                 True\n",
       "District of Columbia    False\n",
       "Florida                  True\n",
       "Georgia                  True\n",
       "Hawaii                   True\n",
       "Idaho                    True\n",
       "Illinois                 True\n",
       "Indiana                  True\n",
       "Iowa                     True\n",
       "Kansas                   True\n",
       "Kentucky                 True\n",
       "Louisiana                True\n",
       "Maine                    True\n",
       "Maryland                 True\n",
       "Massachusetts            True\n",
       "Michigan                 True\n",
       "Minnesota                True\n",
       "Mississippi              True\n",
       "Missouri                 True\n",
       "Montana                  True\n",
       "Nebraska                 True\n",
       "Nevada                   True\n",
       "New Hampshire            True\n",
       "New Jersey               True\n",
       "New Mexico               True\n",
       "New York                 True\n",
       "North Carolina           True\n",
       "North Dakota             True\n",
       "Ohio                     True\n",
       "Oklahoma                 True\n",
       "Oregon                   True\n",
       "Pennsylvania             True\n",
       "Rhode Island             True\n",
       "South Carolina           True\n",
       "South Dakota             True\n",
       "Tennessee                True\n",
       "Texas                    True\n",
       "Utah                     True\n",
       "Vermont                  True\n",
       "Virginia                 True\n",
       "Washington               True\n",
       "West Virginia            True\n",
       "Wisconsin                True\n",
       "Wyoming                  True\n",
       "Puerto Rico             False\n",
       "Name: Abbrev, Length: 52, dtype: bool"
      ]
     },
     "execution_count": 38,
     "metadata": {},
     "output_type": "execute_result"
    }
   ],
   "source": [
    "density_data_2010.Abbrev.notnull()"
   ]
  },
  {
   "cell_type": "code",
   "execution_count": 39,
   "metadata": {
    "collapsed": false
   },
   "outputs": [
    {
     "data": {
      "text/plain": [
       "STATE_OR_REGION\n",
       "Alabama                 False\n",
       "Alaska                  False\n",
       "Arizona                 False\n",
       "Arkansas                False\n",
       "California              False\n",
       "Colorado                False\n",
       "Connecticut             False\n",
       "Delaware                False\n",
       "District of Columbia     True\n",
       "Florida                 False\n",
       "Georgia                 False\n",
       "Hawaii                  False\n",
       "Idaho                   False\n",
       "Illinois                False\n",
       "Indiana                 False\n",
       "Iowa                    False\n",
       "Kansas                  False\n",
       "Kentucky                False\n",
       "Louisiana               False\n",
       "Maine                   False\n",
       "Maryland                False\n",
       "Massachusetts           False\n",
       "Michigan                False\n",
       "Minnesota               False\n",
       "Mississippi             False\n",
       "Missouri                False\n",
       "Montana                 False\n",
       "Nebraska                False\n",
       "Nevada                  False\n",
       "New Hampshire           False\n",
       "New Jersey              False\n",
       "New Mexico              False\n",
       "New York                False\n",
       "North Carolina          False\n",
       "North Dakota            False\n",
       "Ohio                    False\n",
       "Oklahoma                False\n",
       "Oregon                  False\n",
       "Pennsylvania            False\n",
       "Rhode Island            False\n",
       "South Carolina          False\n",
       "South Dakota            False\n",
       "Tennessee               False\n",
       "Texas                   False\n",
       "Utah                    False\n",
       "Vermont                 False\n",
       "Virginia                False\n",
       "Washington              False\n",
       "West Virginia           False\n",
       "Wisconsin               False\n",
       "Wyoming                 False\n",
       "Puerto Rico              True\n",
       "Name: Region, Length: 52, dtype: bool"
      ]
     },
     "execution_count": 39,
     "metadata": {},
     "output_type": "execute_result"
    }
   ],
   "source": [
    "density_data_2010.Region.isnull()"
   ]
  },
  {
   "cell_type": "markdown",
   "metadata": {},
   "source": [
    "Let's say we want to drop all rows with missing values:"
   ]
  },
  {
   "cell_type": "code",
   "execution_count": 40,
   "metadata": {
    "collapsed": false
   },
   "outputs": [
    {
     "name": "stdout",
     "output_type": "stream",
     "text": [
      "Dimensions of population DataFrame: 52 rows, 38 columns\n"
     ]
    }
   ],
   "source": [
    "print 'Dimensions of population DataFrame: %d rows, %d columns' % \\\n",
    "  (density_data_2010.shape[0], density_data_2010.shape[1])"
   ]
  },
  {
   "cell_type": "code",
   "execution_count": 41,
   "metadata": {
    "collapsed": false
   },
   "outputs": [
    {
     "name": "stdout",
     "output_type": "stream",
     "text": [
      "Dimensions of population DataFrame with NA removed: 50 rows, 38 columns\n"
     ]
    }
   ],
   "source": [
    "density_data_2010_na_removed = density_data_2010.dropna()\n",
    "print 'Dimensions of population DataFrame with NA removed: %d rows, %d columns' % \\\n",
    "(density_data_2010_na_removed.shape[0], density_data_2010_na_removed.shape[1])"
   ]
  },
  {
   "cell_type": "markdown",
   "metadata": {},
   "source": [
    "###Describing and summarizing data\n",
    "So now we are familiar with some common operations of `DataFrame`s we will likely encounter. However, we want a general overview of the data itself, in addition to getting basic statistics (first four moments, quantiles, etc.). To get an overview of the `DataFrame` itself, let's first use the `describe` function."
   ]
  },
  {
   "cell_type": "code",
   "execution_count": 42,
   "metadata": {
    "collapsed": false
   },
   "outputs": [
    {
     "data": {
      "text/html": [
       "<div style=\"max-height:1000px;max-width:1500px;overflow:auto;\">\n",
       "<table border=\"1\" class=\"dataframe\">\n",
       "  <thead>\n",
       "    <tr style=\"text-align: right;\">\n",
       "      <th></th>\n",
       "      <th>1910_POPULATION</th>\n",
       "      <th>1920_POPULATION</th>\n",
       "      <th>1930_POPULATION</th>\n",
       "      <th>1940_POPULATION</th>\n",
       "      <th>1950_POPULATION</th>\n",
       "      <th>1960_POPULATION</th>\n",
       "      <th>1970_POPULATION</th>\n",
       "      <th>1980_POPULATION</th>\n",
       "      <th>1990_POPULATION</th>\n",
       "      <th>2000_POPULATION</th>\n",
       "      <th>...</th>\n",
       "      <th>1940_RANK</th>\n",
       "      <th>1950_RANK</th>\n",
       "      <th>1960_RANK</th>\n",
       "      <th>1970_RANK</th>\n",
       "      <th>1980_RANK</th>\n",
       "      <th>1990_RANK</th>\n",
       "      <th>2000_RANK</th>\n",
       "      <th>2010_RANK</th>\n",
       "      <th>MeanPop</th>\n",
       "      <th>MedianPop</th>\n",
       "    </tr>\n",
       "  </thead>\n",
       "  <tbody>\n",
       "    <tr>\n",
       "      <th>count</th>\n",
       "      <td>      52.000000</td>\n",
       "      <td>       52.000000</td>\n",
       "      <td>       52.000000</td>\n",
       "      <td>       52.000000</td>\n",
       "      <td>       52.000000</td>\n",
       "      <td>       52.000000</td>\n",
       "      <td>       52.000000</td>\n",
       "      <td>       52.000000</td>\n",
       "      <td>       52.000000</td>\n",
       "      <td>       52.000000</td>\n",
       "      <td>...</td>\n",
       "      <td> 52.000000</td>\n",
       "      <td> 52.000000</td>\n",
       "      <td> 52.000000</td>\n",
       "      <td> 52.000000</td>\n",
       "      <td> 52.000000</td>\n",
       "      <td> 52.000000</td>\n",
       "      <td> 52.000000</td>\n",
       "      <td> 52.000000</td>\n",
       "      <td>       52.000000</td>\n",
       "      <td>       52.000000</td>\n",
       "    </tr>\n",
       "    <tr>\n",
       "      <th>mean</th>\n",
       "      <td> 1795125.826923</td>\n",
       "      <td>  2063872.634615</td>\n",
       "      <td>  2398972.557692</td>\n",
       "      <td>  2577584.307692</td>\n",
       "      <td>  2952625.019231</td>\n",
       "      <td>  3493706.134615</td>\n",
       "      <td>  3960076.134615</td>\n",
       "      <td>  4418121.634615</td>\n",
       "      <td>  4850613.653846</td>\n",
       "      <td>  5485202.230769</td>\n",
       "      <td>...</td>\n",
       "      <td> 26.480769</td>\n",
       "      <td> 26.500000</td>\n",
       "      <td> 26.461538</td>\n",
       "      <td> 26.480769</td>\n",
       "      <td> 26.500000</td>\n",
       "      <td> 26.500000</td>\n",
       "      <td> 26.500000</td>\n",
       "      <td> 26.500000</td>\n",
       "      <td>  3636814.919580</td>\n",
       "      <td>  3493913.634615</td>\n",
       "    </tr>\n",
       "    <tr>\n",
       "      <th>std</th>\n",
       "      <td> 1812864.195613</td>\n",
       "      <td>  2085462.625487</td>\n",
       "      <td>  2488014.230212</td>\n",
       "      <td>  2643620.717531</td>\n",
       "      <td>  3044166.662290</td>\n",
       "      <td>  3713286.399987</td>\n",
       "      <td>  4275071.337146</td>\n",
       "      <td>  4656066.801007</td>\n",
       "      <td>  5388880.815353</td>\n",
       "      <td>  6107897.124254</td>\n",
       "      <td>...</td>\n",
       "      <td> 15.127550</td>\n",
       "      <td> 15.154757</td>\n",
       "      <td> 15.128808</td>\n",
       "      <td> 15.152157</td>\n",
       "      <td> 15.154757</td>\n",
       "      <td> 15.154757</td>\n",
       "      <td> 15.154757</td>\n",
       "      <td> 15.154757</td>\n",
       "      <td>  3705466.577450</td>\n",
       "      <td>  3714298.527455</td>\n",
       "    </tr>\n",
       "    <tr>\n",
       "      <th>min</th>\n",
       "      <td>   64356.000000</td>\n",
       "      <td>    55036.000000</td>\n",
       "      <td>    59278.000000</td>\n",
       "      <td>    72524.000000</td>\n",
       "      <td>   128643.000000</td>\n",
       "      <td>   226167.000000</td>\n",
       "      <td>   300382.000000</td>\n",
       "      <td>   401851.000000</td>\n",
       "      <td>   453588.000000</td>\n",
       "      <td>   493782.000000</td>\n",
       "      <td>...</td>\n",
       "      <td>  1.000000</td>\n",
       "      <td>  1.000000</td>\n",
       "      <td>  1.000000</td>\n",
       "      <td>  1.000000</td>\n",
       "      <td>  1.000000</td>\n",
       "      <td>  1.000000</td>\n",
       "      <td>  1.000000</td>\n",
       "      <td>  1.000000</td>\n",
       "      <td>   290494.818182</td>\n",
       "      <td>   226167.000000</td>\n",
       "    </tr>\n",
       "    <tr>\n",
       "      <th>25%</th>\n",
       "      <td>  514600.500000</td>\n",
       "      <td>   590520.000000</td>\n",
       "      <td>   645035.250000</td>\n",
       "      <td>   642704.500000</td>\n",
       "      <td>   734405.750000</td>\n",
       "      <td>   882842.250000</td>\n",
       "      <td>   980717.250000</td>\n",
       "      <td>  1084667.750000</td>\n",
       "      <td>  1221404.250000</td>\n",
       "      <td>  1606935.500000</td>\n",
       "      <td>...</td>\n",
       "      <td> 13.750000</td>\n",
       "      <td> 13.750000</td>\n",
       "      <td> 13.750000</td>\n",
       "      <td> 13.750000</td>\n",
       "      <td> 13.750000</td>\n",
       "      <td> 13.750000</td>\n",
       "      <td> 13.750000</td>\n",
       "      <td> 13.750000</td>\n",
       "      <td>   958078.227273</td>\n",
       "      <td>   882842.250000</td>\n",
       "    </tr>\n",
       "    <tr>\n",
       "      <th>50%</th>\n",
       "      <td> 1405373.000000</td>\n",
       "      <td>  1573712.500000</td>\n",
       "      <td>  1733985.000000</td>\n",
       "      <td>  1898609.000000</td>\n",
       "      <td>  2194808.500000</td>\n",
       "      <td>  2366069.000000</td>\n",
       "      <td>  2651274.500000</td>\n",
       "      <td>  3066433.000000</td>\n",
       "      <td>  3390548.500000</td>\n",
       "      <td>  3910311.000000</td>\n",
       "      <td>...</td>\n",
       "      <td> 26.500000</td>\n",
       "      <td> 26.500000</td>\n",
       "      <td> 26.500000</td>\n",
       "      <td> 26.500000</td>\n",
       "      <td> 26.500000</td>\n",
       "      <td> 26.500000</td>\n",
       "      <td> 26.500000</td>\n",
       "      <td> 26.500000</td>\n",
       "      <td>  2557630.954545</td>\n",
       "      <td>  2389317.000000</td>\n",
       "    </tr>\n",
       "    <tr>\n",
       "      <th>75%</th>\n",
       "      <td> 2300893.750000</td>\n",
       "      <td>  2577359.000000</td>\n",
       "      <td>  2916131.000000</td>\n",
       "      <td>  3127189.000000</td>\n",
       "      <td>  3437075.750000</td>\n",
       "      <td>  4055165.000000</td>\n",
       "      <td>  4655495.750000</td>\n",
       "      <td>  5375889.750000</td>\n",
       "      <td>  5662225.500000</td>\n",
       "      <td>  6147638.000000</td>\n",
       "      <td>...</td>\n",
       "      <td> 39.250000</td>\n",
       "      <td> 39.250000</td>\n",
       "      <td> 39.250000</td>\n",
       "      <td> 39.250000</td>\n",
       "      <td> 39.250000</td>\n",
       "      <td> 39.250000</td>\n",
       "      <td> 39.250000</td>\n",
       "      <td> 39.250000</td>\n",
       "      <td>  4448351.840909</td>\n",
       "      <td>  4055165.000000</td>\n",
       "    </tr>\n",
       "    <tr>\n",
       "      <th>max</th>\n",
       "      <td> 9113614.000000</td>\n",
       "      <td> 10385227.000000</td>\n",
       "      <td> 12588066.000000</td>\n",
       "      <td> 13479142.000000</td>\n",
       "      <td> 14830192.000000</td>\n",
       "      <td> 16782304.000000</td>\n",
       "      <td> 19953134.000000</td>\n",
       "      <td> 23667902.000000</td>\n",
       "      <td> 29760021.000000</td>\n",
       "      <td> 33871648.000000</td>\n",
       "      <td>...</td>\n",
       "      <td> 52.000000</td>\n",
       "      <td> 52.000000</td>\n",
       "      <td> 52.000000</td>\n",
       "      <td> 52.000000</td>\n",
       "      <td> 52.000000</td>\n",
       "      <td> 52.000000</td>\n",
       "      <td> 52.000000</td>\n",
       "      <td> 52.000000</td>\n",
       "      <td> 17199921.454545</td>\n",
       "      <td> 16782304.000000</td>\n",
       "    </tr>\n",
       "  </tbody>\n",
       "</table>\n",
       "<p>8 rows × 24 columns</p>\n",
       "</div>"
      ],
      "text/plain": [
       "       1910_POPULATION  1920_POPULATION  1930_POPULATION  1940_POPULATION  \\\n",
       "count        52.000000        52.000000        52.000000        52.000000   \n",
       "mean    1795125.826923   2063872.634615   2398972.557692   2577584.307692   \n",
       "std     1812864.195613   2085462.625487   2488014.230212   2643620.717531   \n",
       "min       64356.000000     55036.000000     59278.000000     72524.000000   \n",
       "25%      514600.500000    590520.000000    645035.250000    642704.500000   \n",
       "50%     1405373.000000   1573712.500000   1733985.000000   1898609.000000   \n",
       "75%     2300893.750000   2577359.000000   2916131.000000   3127189.000000   \n",
       "max     9113614.000000  10385227.000000  12588066.000000  13479142.000000   \n",
       "\n",
       "       1950_POPULATION  1960_POPULATION  1970_POPULATION  1980_POPULATION  \\\n",
       "count        52.000000        52.000000        52.000000        52.000000   \n",
       "mean    2952625.019231   3493706.134615   3960076.134615   4418121.634615   \n",
       "std     3044166.662290   3713286.399987   4275071.337146   4656066.801007   \n",
       "min      128643.000000    226167.000000    300382.000000    401851.000000   \n",
       "25%      734405.750000    882842.250000    980717.250000   1084667.750000   \n",
       "50%     2194808.500000   2366069.000000   2651274.500000   3066433.000000   \n",
       "75%     3437075.750000   4055165.000000   4655495.750000   5375889.750000   \n",
       "max    14830192.000000  16782304.000000  19953134.000000  23667902.000000   \n",
       "\n",
       "       1990_POPULATION  2000_POPULATION       ...         1940_RANK  \\\n",
       "count        52.000000        52.000000       ...         52.000000   \n",
       "mean    4850613.653846   5485202.230769       ...         26.480769   \n",
       "std     5388880.815353   6107897.124254       ...         15.127550   \n",
       "min      453588.000000    493782.000000       ...          1.000000   \n",
       "25%     1221404.250000   1606935.500000       ...         13.750000   \n",
       "50%     3390548.500000   3910311.000000       ...         26.500000   \n",
       "75%     5662225.500000   6147638.000000       ...         39.250000   \n",
       "max    29760021.000000  33871648.000000       ...         52.000000   \n",
       "\n",
       "       1950_RANK  1960_RANK  1970_RANK  1980_RANK  1990_RANK  2000_RANK  \\\n",
       "count  52.000000  52.000000  52.000000  52.000000  52.000000  52.000000   \n",
       "mean   26.500000  26.461538  26.480769  26.500000  26.500000  26.500000   \n",
       "std    15.154757  15.128808  15.152157  15.154757  15.154757  15.154757   \n",
       "min     1.000000   1.000000   1.000000   1.000000   1.000000   1.000000   \n",
       "25%    13.750000  13.750000  13.750000  13.750000  13.750000  13.750000   \n",
       "50%    26.500000  26.500000  26.500000  26.500000  26.500000  26.500000   \n",
       "75%    39.250000  39.250000  39.250000  39.250000  39.250000  39.250000   \n",
       "max    52.000000  52.000000  52.000000  52.000000  52.000000  52.000000   \n",
       "\n",
       "       2010_RANK          MeanPop        MedianPop  \n",
       "count  52.000000        52.000000        52.000000  \n",
       "mean   26.500000   3636814.919580   3493913.634615  \n",
       "std    15.154757   3705466.577450   3714298.527455  \n",
       "min     1.000000    290494.818182    226167.000000  \n",
       "25%    13.750000    958078.227273    882842.250000  \n",
       "50%    26.500000   2557630.954545   2389317.000000  \n",
       "75%    39.250000   4448351.840909   4055165.000000  \n",
       "max    52.000000  17199921.454545  16782304.000000  \n",
       "\n",
       "[8 rows x 24 columns]"
      ]
     },
     "execution_count": 42,
     "metadata": {},
     "output_type": "execute_result"
    }
   ],
   "source": [
    "density_data_2010.describe()"
   ]
  },
  {
   "cell_type": "markdown",
   "metadata": {},
   "source": [
    "You will notice that for the columns with numeric data, it gives basic summary satistics: number of entries, mean, standard deviation, and the Tukey five-number summary (min, 1Q, median, 3Q, max; NOTE: this may be computed differently depending on the program). What about for non-numeric data?"
   ]
  },
  {
   "cell_type": "code",
   "execution_count": 43,
   "metadata": {
    "collapsed": false
   },
   "outputs": [
    {
     "data": {
      "text/html": [
       "<div style=\"max-height:1000px;max-width:1500px;overflow:auto;\">\n",
       "<table border=\"1\" class=\"dataframe\">\n",
       "  <thead>\n",
       "    <tr style=\"text-align: right;\">\n",
       "      <th></th>\n",
       "      <th>Abbrev</th>\n",
       "      <th>Region</th>\n",
       "    </tr>\n",
       "  </thead>\n",
       "  <tbody>\n",
       "    <tr>\n",
       "      <th>count</th>\n",
       "      <td> 50</td>\n",
       "      <td>    50</td>\n",
       "    </tr>\n",
       "    <tr>\n",
       "      <th>unique</th>\n",
       "      <td> 50</td>\n",
       "      <td>     4</td>\n",
       "    </tr>\n",
       "    <tr>\n",
       "      <th>top</th>\n",
       "      <td> SD</td>\n",
       "      <td> South</td>\n",
       "    </tr>\n",
       "    <tr>\n",
       "      <th>freq</th>\n",
       "      <td>  1</td>\n",
       "      <td>    16</td>\n",
       "    </tr>\n",
       "  </tbody>\n",
       "</table>\n",
       "</div>"
      ],
      "text/plain": [
       "       Abbrev Region\n",
       "count      50     50\n",
       "unique     50      4\n",
       "top        SD  South\n",
       "freq        1     16"
      ]
     },
     "execution_count": 43,
     "metadata": {},
     "output_type": "execute_result"
    }
   ],
   "source": [
    "density_data_2010[['Abbrev', 'Region']].describe()"
   ]
  },
  {
   "cell_type": "markdown",
   "metadata": {},
   "source": [
    "And other methods can be called:"
   ]
  },
  {
   "cell_type": "code",
   "execution_count": 44,
   "metadata": {
    "collapsed": false
   },
   "outputs": [
    {
     "name": "stdout",
     "output_type": "stream",
     "text": [
      "State with greatest population in 1980:  California\n",
      "State with smallest population in 1940:  Alaska\n"
     ]
    }
   ],
   "source": [
    "print 'State with greatest population in 1980: ', density_data_2010['1980_POPULATION'].idxmax()\n",
    "print 'State with smallest population in 1940: ', density_data_2010['1940_POPULATION'].idxmin()"
   ]
  },
  {
   "cell_type": "code",
   "execution_count": 45,
   "metadata": {
    "collapsed": false
   },
   "outputs": [
    {
     "name": "stdout",
     "output_type": "stream",
     "text": [
      "Variance of the 1980 population:  2.16789580554e+13\n"
     ]
    }
   ],
   "source": [
    "print 'Variance of the 1980 population: ', density_data_2010['1980_POPULATION'].var()"
   ]
  },
  {
   "cell_type": "code",
   "execution_count": 46,
   "metadata": {
    "collapsed": false
   },
   "outputs": [
    {
     "name": "stdout",
     "output_type": "stream",
     "text": [
      "Skew of the 1980 population:  2.1850588832\n"
     ]
    }
   ],
   "source": [
    "print 'Skew of the 1980 population: ', density_data_2010['1980_POPULATION'].skew()"
   ]
  },
  {
   "cell_type": "markdown",
   "metadata": {},
   "source": [
    "## Grouping and plotting data\n",
    "Tables are all well and good, but insight and finding patterns really only becomes useful with visualization. We will cover the following types of plots:\n",
    "- scatter plots  \n",
    "- line plots  \n",
    "- bar plots  \n",
    "- histograms/density estimates  \n",
    "  \n",
    "In addition, you will likely have to group your data by some variable. We accomplish this using the `groupby` function/method."
   ]
  },
  {
   "cell_type": "markdown",
   "metadata": {},
   "source": [
    "### Basic scatter and line plots\n",
    "For our first example, we will create a dataset, then plot the various relationships."
   ]
  },
  {
   "cell_type": "code",
   "execution_count": 47,
   "metadata": {
    "collapsed": false
   },
   "outputs": [
    {
     "data": {
      "text/html": [
       "<div style=\"max-height:1000px;max-width:1500px;overflow:auto;\">\n",
       "<table border=\"1\" class=\"dataframe\">\n",
       "  <thead>\n",
       "    <tr style=\"text-align: right;\">\n",
       "      <th></th>\n",
       "      <th>col1</th>\n",
       "      <th>col2</th>\n",
       "      <th>col3</th>\n",
       "      <th>col4</th>\n",
       "      <th>col5</th>\n",
       "    </tr>\n",
       "  </thead>\n",
       "  <tbody>\n",
       "    <tr>\n",
       "      <th>0</th>\n",
       "      <td> 81.961986</td>\n",
       "      <td> 2.601655</td>\n",
       "      <td> 1516.396194</td>\n",
       "      <td>  2</td>\n",
       "      <td> 1</td>\n",
       "    </tr>\n",
       "    <tr>\n",
       "      <th>1</th>\n",
       "      <td> 84.773654</td>\n",
       "      <td> 2.257777</td>\n",
       "      <td> 1000.824544</td>\n",
       "      <td>  1</td>\n",
       "      <td> 2</td>\n",
       "    </tr>\n",
       "    <tr>\n",
       "      <th>2</th>\n",
       "      <td> 90.159253</td>\n",
       "      <td> 3.020090</td>\n",
       "      <td>  911.320312</td>\n",
       "      <td> 10</td>\n",
       "      <td> 3</td>\n",
       "    </tr>\n",
       "    <tr>\n",
       "      <th>3</th>\n",
       "      <td> 87.472742</td>\n",
       "      <td> 2.659358</td>\n",
       "      <td> 1798.527503</td>\n",
       "      <td>  1</td>\n",
       "      <td> 4</td>\n",
       "    </tr>\n",
       "    <tr>\n",
       "      <th>4</th>\n",
       "      <td> 87.851031</td>\n",
       "      <td> 2.358712</td>\n",
       "      <td> 1971.625414</td>\n",
       "      <td>  1</td>\n",
       "      <td> 5</td>\n",
       "    </tr>\n",
       "  </tbody>\n",
       "</table>\n",
       "</div>"
      ],
      "text/plain": [
       "        col1      col2         col3  col4  col5\n",
       "0  81.961986  2.601655  1516.396194     2     1\n",
       "1  84.773654  2.257777  1000.824544     1     2\n",
       "2  90.159253  3.020090   911.320312    10     3\n",
       "3  87.472742  2.659358  1798.527503     1     4\n",
       "4  87.851031  2.358712  1971.625414     1     5"
      ]
     },
     "execution_count": 47,
     "metadata": {},
     "output_type": "execute_result"
    }
   ],
   "source": [
    "col1 = np.random.lognormal(mean = 4.5, sigma = 0.08, size = (200))\n",
    "col2 = np.random.normal(loc = 2.3, scale = 0.57, size = (200))\n",
    "col3 = np.random.uniform(low = 0, high = 2000, size = (200))\n",
    "col4 = np.random.geometric(p = 0.34, size = (200))\n",
    "col5 = np.linspace(1, 200, 200)\n",
    "plot_df = pd.DataFrame()\n",
    "\n",
    "plot_df['col1'] = col1\n",
    "plot_df['col2'] = col2\n",
    "plot_df['col3'] = col3\n",
    "plot_df['col4'] = col4\n",
    "plot_df['col5'] = col5\n",
    "plot_df.head()"
   ]
  },
  {
   "cell_type": "code",
   "execution_count": 48,
   "metadata": {
    "collapsed": false
   },
   "outputs": [],
   "source": [
    "%matplotlib inline #allows for the plots to displayed right in the notebook\n",
    "import matplotlib.pyplot as plt"
   ]
  },
  {
   "cell_type": "code",
   "execution_count": 49,
   "metadata": {
    "collapsed": false
   },
   "outputs": [
    {
     "data": {
      "text/plain": [
       "<matplotlib.text.Text at 0x10852ec10>"
      ]
     },
     "execution_count": 49,
     "metadata": {},
     "output_type": "execute_result"
    },
    {
     "data": {
      "image/png": "[encoded data removed]",
      "text/plain": [
       "<matplotlib.figure.Figure at 0x108506f10>"
      ]
     },
     "metadata": {},
     "output_type": "display_data"
    }
   ],
   "source": [
    "fig = plt.figure()\n",
    "\n",
    "plt.plot(plot_df.col5, plot_df.col1, 'k-', linewidth = 1.5)\n",
    "plt.title('Column 1 vs. Column5')\n",
    "plt.xlabel('Column 5')\n",
    "plt.ylabel('Column 1')"
   ]
  },
  {
   "cell_type": "code",
   "execution_count": 50,
   "metadata": {
    "collapsed": false
   },
   "outputs": [
    {
     "data": {
      "text/plain": [
       "<matplotlib.text.Text at 0x1075a6150>"
      ]
     },
     "execution_count": 50,
     "metadata": {},
     "output_type": "execute_result"
    },
    {
     "data": {
      "image/png": "[encoded data removed]",
      "text/plain": [
       "<matplotlib.figure.Figure at 0x1085d1310>"
      ]
     },
     "metadata": {},
     "output_type": "display_data"
    }
   ],
   "source": [
    "fig = plt.figure()\n",
    "\n",
    "plt.scatter(plot_df.col2, plot_df.col3, color = '#af8dc3', alpha = 0.8, s = 60)\n",
    "plt.title('Column 2 vs. Column 3')\n",
    "plt.xlabel('Column 3')\n",
    "plt.ylabel('Column 2')"
   ]
  },
  {
   "cell_type": "markdown",
   "metadata": {},
   "source": [
    "So what did we do? We specified the x and y values we wanted plotted, specified colors and line styles, and some additional things, such as transparencies and labels. Let's take it a step further and specify things like legends on a plot with multiple traces."
   ]
  },
  {
   "cell_type": "code",
   "execution_count": 51,
   "metadata": {
    "collapsed": false
   },
   "outputs": [
    {
     "data": {
      "text/plain": [
       "<matplotlib.legend.Legend at 0x1089c6450>"
      ]
     },
     "execution_count": 51,
     "metadata": {},
     "output_type": "execute_result"
    },
    {
     "data": {
      "image/png": "[encoded data removed]",
      "text/plain": [
       "<matplotlib.figure.Figure at 0x1085f48d0>"
      ]
     },
     "metadata": {},
     "output_type": "display_data"
    }
   ],
   "source": [
    "fig = plt.figure(figsize = (11, 8))\n",
    "ax1 = fig.add_subplot(2, 2, 1)\n",
    "ax2 = fig.add_subplot(2, 2, 2)\n",
    "ax3 = fig.add_subplot(2, 2, 3)\n",
    "ax4 = fig.add_subplot(2, 2, 4)\n",
    "\n",
    "ax1.plot(plot_df.col5, plot_df.col1, color = '#000000', linestyle = '-', label = '1 vs. 5', linewidth = 1.3)\n",
    "ax1.legend(loc = 'best')\n",
    "\n",
    "ax2.scatter(plot_df.col5, plot_df.col2, color = '#999999', label = '2 vs. 5', s = 60)\n",
    "ax2.legend(loc = 'best')\n",
    "\n",
    "ax3.plot(plot_df.col5, plot_df.col3, color = '#56B4E9', linestyle = '--', label = '3 vs. 5', linewidth = 1.3)\n",
    "ax3.legend(loc = 'best')\n",
    "\n",
    "ax4.plot(plot_df.col5, plot_df.col4, color = '#009E73', linestyle = '-.', label = '4 vs. 5', linewidth = 1.3)\n",
    "ax4.legend(loc = 'best')\n"
   ]
  },
  {
   "cell_type": "markdown",
   "metadata": {},
   "source": [
    "So in the above, we plotted columns against one another, specified color as a hex string, ad created labels and legends. For multivariate data such as this, you can also make a pairs plot (see the `Seaborn` documentation); due to time this will not be covered but examine the documentation or ask."
   ]
  },
  {
   "cell_type": "markdown",
   "metadata": {},
   "source": [
    "We call also call the `DataFrame` directly:"
   ]
  },
  {
   "cell_type": "code",
   "execution_count": 52,
   "metadata": {
    "collapsed": false
   },
   "outputs": [
    {
     "data": {
      "text/plain": [
       "<matplotlib.axes._subplots.AxesSubplot at 0x1086f9750>"
      ]
     },
     "execution_count": 52,
     "metadata": {},
     "output_type": "execute_result"
    },
    {
     "data": {
      "image/png": "[encoded data removed]",
      "text/plain": [
       "<matplotlib.figure.Figure at 0x108702310>"
      ]
     },
     "metadata": {},
     "output_type": "display_data"
    }
   ],
   "source": [
    "plot_df.plot(kind = 'scatter', x = 'col5', y = 'col2', color = '#999999', label = '2 vs. 5', s = 60)"
   ]
  },
  {
   "cell_type": "markdown",
   "metadata": {},
   "source": [
    "Next, let's look at various counts and distributions. We will randomly assign labels in a new column; this will also be a good introduction to discretization and grouping."
   ]
  },
  {
   "cell_type": "code",
   "execution_count": 53,
   "metadata": {
    "collapsed": false
   },
   "outputs": [
    {
     "data": {
      "text/html": [
       "<div style=\"max-height:1000px;max-width:1500px;overflow:auto;\">\n",
       "<table border=\"1\" class=\"dataframe\">\n",
       "  <thead>\n",
       "    <tr style=\"text-align: right;\">\n",
       "      <th></th>\n",
       "      <th>col1</th>\n",
       "      <th>col2</th>\n",
       "      <th>col3</th>\n",
       "      <th>col4</th>\n",
       "      <th>col5</th>\n",
       "      <th>Category</th>\n",
       "    </tr>\n",
       "    <tr>\n",
       "      <th>Category</th>\n",
       "      <th></th>\n",
       "      <th></th>\n",
       "      <th></th>\n",
       "      <th></th>\n",
       "      <th></th>\n",
       "      <th></th>\n",
       "    </tr>\n",
       "  </thead>\n",
       "  <tbody>\n",
       "    <tr>\n",
       "      <th>middling</th>\n",
       "      <td> 81.961986</td>\n",
       "      <td> 2.601655</td>\n",
       "      <td> 1516.396194</td>\n",
       "      <td>  2</td>\n",
       "      <td> 1</td>\n",
       "      <td> middling</td>\n",
       "    </tr>\n",
       "    <tr>\n",
       "      <th>terrible</th>\n",
       "      <td> 84.773654</td>\n",
       "      <td> 2.257777</td>\n",
       "      <td> 1000.824544</td>\n",
       "      <td>  1</td>\n",
       "      <td> 2</td>\n",
       "      <td> terrible</td>\n",
       "    </tr>\n",
       "    <tr>\n",
       "      <th>terrible</th>\n",
       "      <td> 90.159253</td>\n",
       "      <td> 3.020090</td>\n",
       "      <td>  911.320312</td>\n",
       "      <td> 10</td>\n",
       "      <td> 3</td>\n",
       "      <td> terrible</td>\n",
       "    </tr>\n",
       "    <tr>\n",
       "      <th>middling</th>\n",
       "      <td> 87.472742</td>\n",
       "      <td> 2.659358</td>\n",
       "      <td> 1798.527503</td>\n",
       "      <td>  1</td>\n",
       "      <td> 4</td>\n",
       "      <td> middling</td>\n",
       "    </tr>\n",
       "    <tr>\n",
       "      <th>middling</th>\n",
       "      <td> 87.851031</td>\n",
       "      <td> 2.358712</td>\n",
       "      <td> 1971.625414</td>\n",
       "      <td>  1</td>\n",
       "      <td> 5</td>\n",
       "      <td> middling</td>\n",
       "    </tr>\n",
       "  </tbody>\n",
       "</table>\n",
       "</div>"
      ],
      "text/plain": [
       "               col1      col2         col3  col4  col5  Category\n",
       "Category                                                        \n",
       "middling  81.961986  2.601655  1516.396194     2     1  middling\n",
       "terrible  84.773654  2.257777  1000.824544     1     2  terrible\n",
       "terrible  90.159253  3.020090   911.320312    10     3  terrible\n",
       "middling  87.472742  2.659358  1798.527503     1     4  middling\n",
       "middling  87.851031  2.358712  1971.625414     1     5  middling"
      ]
     },
     "execution_count": 53,
     "metadata": {},
     "output_type": "execute_result"
    }
   ],
   "source": [
    "np.random.seed(484390)\n",
    "\n",
    "random_nums = np.random.rand(plot_df.shape[0])\n",
    "\n",
    "#create categorical variables\n",
    "high = random_nums > 0.85\n",
    "middling = (random_nums <= 0.85) & (random_nums > 0.5)\n",
    "just_ugh = random_nums <= 0.5\n",
    "\n",
    "# assign values to rows and columns\n",
    "plot_df['Category'] = pd.Series()\n",
    "plot_df.loc[high, 'Category'] = 'high'\n",
    "plot_df.loc[middling, 'Category'] = 'middling'\n",
    "plot_df.loc[just_ugh, 'Category'] = 'terrible'\n",
    "plot_df.set_index(plot_df.Category, inplace = True, drop = False)\n",
    "plot_df.head()"
   ]
  },
  {
   "cell_type": "code",
   "execution_count": 54,
   "metadata": {
    "collapsed": false
   },
   "outputs": [
    {
     "data": {
      "text/plain": [
       "count          200\n",
       "unique           3\n",
       "top       terrible\n",
       "freq            97\n",
       "Name: Category, dtype: object"
      ]
     },
     "execution_count": 54,
     "metadata": {},
     "output_type": "execute_result"
    }
   ],
   "source": [
    "plot_df.Category.describe()"
   ]
  },
  {
   "cell_type": "markdown",
   "metadata": {},
   "source": [
    "Let's first look at how our data are distributed:"
   ]
  },
  {
   "cell_type": "code",
   "execution_count": 61,
   "metadata": {
    "collapsed": false
   },
   "outputs": [
    {
     "data": {
      "text/plain": [
       "<matplotlib.legend.Legend at 0x10c653590>"
      ]
     },
     "execution_count": 61,
     "metadata": {},
     "output_type": "execute_result"
    },
    {
     "data": {
      "image/png": "[encoded data removed]",
      "text/plain": [
       "<matplotlib.figure.Figure at 0x10c07df90>"
      ]
     },
     "metadata": {},
     "output_type": "display_data"
    }
   ],
   "source": [
    "fig = plt.figure(figsize = (16, 8))\n",
    "ax1 = fig.add_subplot(2, 2, 1)\n",
    "ax2 = fig.add_subplot(2, 2, 2)\n",
    "ax3 = fig.add_subplot(2, 2, 3)\n",
    "ax4 = fig.add_subplot(2, 2, 4)\n",
    "\n",
    "ax1.hist(plot_df.col1, color = '#000000', label = 'Column 1, 30 bins', bins = 30)\n",
    "ax1.legend(loc = 'best')\n",
    "\n",
    "ax2.hist(plot_df.col2, color = '#999999', label = 'Column 2, default bin selection')\n",
    "ax2.legend(loc = 'best')\n",
    "\n",
    "ax3.hist(plot_df.col3, color = '#56B4E9', label = 'Column 3, 15 bins', bins = 15, alpha = 0.8)\n",
    "ax3.legend(loc = 'best')\n",
    "\n",
    "ax4.hist(plot_df.col4, color = '#009E73', label = 'Column 4, 10 bins', bins = 10, alpha = 0.3)\n",
    "ax4.legend(loc = 'best')"
   ]
  },
  {
   "cell_type": "markdown",
   "metadata": {},
   "source": [
    "Yours truly does not like using histograms since bin selection can give the wrong impression (there are rules of thumb, however). Let's try kernel density estimates instead."
   ]
  },
  {
   "cell_type": "code",
   "execution_count": 62,
   "metadata": {
    "collapsed": false
   },
   "outputs": [
    {
     "data": {
      "text/plain": [
       "<matplotlib.text.Text at 0x10cd0b350>"
      ]
     },
     "execution_count": 62,
     "metadata": {},
     "output_type": "execute_result"
    },
    {
     "data": {
      "image/png": "[encoded data removed]",
      "text/plain": [
       "<matplotlib.figure.Figure at 0x10c6efad0>"
      ]
     },
     "metadata": {},
     "output_type": "display_data"
    }
   ],
   "source": [
    "fig = plt.figure(figsize = (16, 8))\n",
    "\n",
    "plt.subplot2grid((2, 2), (0, 0))\n",
    "plot_df.col1.plot(kind = 'kde', color = '#000000')\n",
    "plt.title('Column 1')\n",
    "\n",
    "plt.subplot2grid((2, 2), (0, 1))\n",
    "plot_df.col2.plot(kind = 'kde', color = '#999999')\n",
    "plt.title('Column 2')\n",
    "\n",
    "plt.subplot2grid((2, 2), (1, 0))\n",
    "plot_df.col3.plot(kind = 'kde', color = '#56B4E9')\n",
    "plt.title('Column 3')\n",
    "\n",
    "plt.subplot2grid((2, 2), (1, 1))\n",
    "plot_df.col4.plot(kind = 'kde', color = '#009E73')\n",
    "plt.title('Column 4')"
   ]
  },
  {
   "cell_type": "markdown",
   "metadata": {},
   "source": [
    "Let's now look at binning the columns:"
   ]
  },
  {
   "cell_type": "code",
   "execution_count": 58,
   "metadata": {
    "collapsed": false
   },
   "outputs": [
    {
     "data": {
      "text/html": [
       "<div style=\"max-height:1000px;max-width:1500px;overflow:auto;\">\n",
       "<table border=\"1\" class=\"dataframe\">\n",
       "  <thead>\n",
       "    <tr style=\"text-align: right;\">\n",
       "      <th></th>\n",
       "      <th>col1</th>\n",
       "      <th>col2</th>\n",
       "      <th>col3</th>\n",
       "      <th>col4</th>\n",
       "      <th>col5</th>\n",
       "      <th>Category</th>\n",
       "      <th>col3_cut</th>\n",
       "    </tr>\n",
       "    <tr>\n",
       "      <th>Category</th>\n",
       "      <th></th>\n",
       "      <th></th>\n",
       "      <th></th>\n",
       "      <th></th>\n",
       "      <th></th>\n",
       "      <th></th>\n",
       "      <th></th>\n",
       "    </tr>\n",
       "  </thead>\n",
       "  <tbody>\n",
       "    <tr>\n",
       "      <th>middling</th>\n",
       "      <td> 81.961986</td>\n",
       "      <td> 2.601655</td>\n",
       "      <td> 1516.396194</td>\n",
       "      <td>  2</td>\n",
       "      <td> 1</td>\n",
       "      <td> middling</td>\n",
       "      <td>  four</td>\n",
       "    </tr>\n",
       "    <tr>\n",
       "      <th>terrible</th>\n",
       "      <td> 84.773654</td>\n",
       "      <td> 2.257777</td>\n",
       "      <td> 1000.824544</td>\n",
       "      <td>  1</td>\n",
       "      <td> 2</td>\n",
       "      <td> terrible</td>\n",
       "      <td> three</td>\n",
       "    </tr>\n",
       "    <tr>\n",
       "      <th>terrible</th>\n",
       "      <td> 90.159253</td>\n",
       "      <td> 3.020090</td>\n",
       "      <td>  911.320312</td>\n",
       "      <td> 10</td>\n",
       "      <td> 3</td>\n",
       "      <td> terrible</td>\n",
       "      <td> three</td>\n",
       "    </tr>\n",
       "    <tr>\n",
       "      <th>middling</th>\n",
       "      <td> 87.472742</td>\n",
       "      <td> 2.659358</td>\n",
       "      <td> 1798.527503</td>\n",
       "      <td>  1</td>\n",
       "      <td> 4</td>\n",
       "      <td> middling</td>\n",
       "      <td>  five</td>\n",
       "    </tr>\n",
       "    <tr>\n",
       "      <th>middling</th>\n",
       "      <td> 87.851031</td>\n",
       "      <td> 2.358712</td>\n",
       "      <td> 1971.625414</td>\n",
       "      <td>  1</td>\n",
       "      <td> 5</td>\n",
       "      <td> middling</td>\n",
       "      <td>  five</td>\n",
       "    </tr>\n",
       "  </tbody>\n",
       "</table>\n",
       "</div>"
      ],
      "text/plain": [
       "               col1      col2         col3  col4  col5  Category col3_cut\n",
       "Category                                                                 \n",
       "middling  81.961986  2.601655  1516.396194     2     1  middling     four\n",
       "terrible  84.773654  2.257777  1000.824544     1     2  terrible    three\n",
       "terrible  90.159253  3.020090   911.320312    10     3  terrible    three\n",
       "middling  87.472742  2.659358  1798.527503     1     4  middling     five\n",
       "middling  87.851031  2.358712  1971.625414     1     5  middling     five"
      ]
     },
     "execution_count": 58,
     "metadata": {},
     "output_type": "execute_result"
    }
   ],
   "source": [
    "col3_bins = np.arange(start = 0, stop = 2220, step = 440)\n",
    "col3_labels = ['one', 'two', 'three', 'four', 'five']\n",
    "plot_df['col3_cut'] = \\\n",
    "  pd.cut(plot_df.loc[:, 'col3'], right = True, include_lowest = True, \\\n",
    "         bins = col3_bins, labels = np.array(col3_labels))\n",
    "\n",
    "plot_df.head()"
   ]
  },
  {
   "cell_type": "markdown",
   "metadata": {},
   "source": [
    "Now let's group by our new binned column and `Category`; we want to see size in each bucket."
   ]
  },
  {
   "cell_type": "code",
   "execution_count": 59,
   "metadata": {
    "collapsed": false
   },
   "outputs": [
    {
     "data": {
      "text/html": [
       "<div style=\"max-height:1000px;max-width:1500px;overflow:auto;\">\n",
       "<table border=\"1\" class=\"dataframe\">\n",
       "  <thead>\n",
       "    <tr style=\"text-align: right;\">\n",
       "      <th>col3_cut</th>\n",
       "      <th>five</th>\n",
       "      <th>four</th>\n",
       "      <th>one</th>\n",
       "      <th>three</th>\n",
       "      <th>two</th>\n",
       "    </tr>\n",
       "    <tr>\n",
       "      <th>Category</th>\n",
       "      <th></th>\n",
       "      <th></th>\n",
       "      <th></th>\n",
       "      <th></th>\n",
       "      <th></th>\n",
       "    </tr>\n",
       "  </thead>\n",
       "  <tbody>\n",
       "    <tr>\n",
       "      <th>high</th>\n",
       "      <td> 9</td>\n",
       "      <td>  7</td>\n",
       "      <td>  9</td>\n",
       "      <td>  7</td>\n",
       "      <td>  8</td>\n",
       "    </tr>\n",
       "    <tr>\n",
       "      <th>middling</th>\n",
       "      <td> 9</td>\n",
       "      <td> 14</td>\n",
       "      <td> 10</td>\n",
       "      <td> 16</td>\n",
       "      <td> 14</td>\n",
       "    </tr>\n",
       "    <tr>\n",
       "      <th>terrible</th>\n",
       "      <td> 8</td>\n",
       "      <td> 23</td>\n",
       "      <td> 19</td>\n",
       "      <td> 26</td>\n",
       "      <td> 21</td>\n",
       "    </tr>\n",
       "  </tbody>\n",
       "</table>\n",
       "</div>"
      ],
      "text/plain": [
       "col3_cut  five  four  one  three  two\n",
       "Category                             \n",
       "high         9     7    9      7    8\n",
       "middling     9    14   10     16   14\n",
       "terrible     8    23   19     26   21"
      ]
     },
     "execution_count": 59,
     "metadata": {},
     "output_type": "execute_result"
    }
   ],
   "source": [
    "plot_df_grouping = plot_df.groupby(['col3_cut', 'Category']).size().unstack(0)\n",
    "plot_df_grouping"
   ]
  },
  {
   "cell_type": "markdown",
   "metadata": {},
   "source": [
    "And now, let's plot this:"
   ]
  },
  {
   "cell_type": "code",
   "execution_count": 63,
   "metadata": {
    "collapsed": false
   },
   "outputs": [
    {
     "data": {
      "text/plain": [
       "<matplotlib.axes._subplots.AxesSubplot at 0x10c842ad0>"
      ]
     },
     "execution_count": 63,
     "metadata": {},
     "output_type": "execute_result"
    },
    {
     "data": {
      "text/plain": [
       "<matplotlib.figure.Figure at 0x10c064e10>"
      ]
     },
     "metadata": {},
     "output_type": "display_data"
    },
    {
     "data": {
      "image/png": "[encoded data removed]",
      "text/plain": [
       "<matplotlib.figure.Figure at 0x10bde7450>"
      ]
     },
     "metadata": {},
     "output_type": "display_data"
    }
   ],
   "source": [
    "from matplotlib import rcParams\n",
    "rcParams['figure.figsize'] = (16, 8)\n",
    "fig = plt.figure()\n",
    "plot_df_grouping.plot(kind = 'bar', stacked = False, title = 'Discretization bar plot')"
   ]
  },
  {
   "cell_type": "markdown",
   "metadata": {},
   "source": [
    "## Meta-example: 2012 FEC Presidential Election donation data\n",
    "The last example will tie in together the concepts just learned, in addition to introducing new ones. This will also be the basis of the first exercise to work on. Some of this cannot be completed until after your look at some of the Hour 2 info, but what has been covered so should get you started.  \n",
    "\n",
    "The FEC dataset is very large: 5,349,937 rows and 18 columns. Thus, it may tax your system reading it into memory. To lessen the memory load, `pandas` has a method to read in chunks that results in a `DataFrame`. Also, you may want to combine datasets, such as population information from the 2010 US Census (there are several files). For that, we will introduce merge operations. Lastly, you will have to deal with dates and times.  \n",
    "\n",
    "The ultimate goal of this exercise is to get you to produce figures and analyses similar to those in the assignments. You should also play around with 'prettifying' the figures, something will be covered more in Hour 2 and on Day 3. If you do not want to work on the FEC dataset, please try one of the others and see what analyses and visualizations you can come up with. Basically, we will follow the examples in Wes McKinney's book and expand on it; I found this was really useful in learning `pandas`. We will also revisit this dataset along with the Census data on Day 3.  \n",
    "\n",
    "Suggested steps towards maximizing information (some will be redundant):\n",
    "- import FEC data  \n",
    "- import 2010 US Census data  \n",
    "- map values such as candidate parties, geographic regions, state names, electoral college votes  \n",
    "- index data by state  \n",
    "- create `dict`s to map demographic information  \n",
    "- convert dates  \n",
    "- reduce to final two candidates  \n",
    "- separate donations and expenditures\n",
    "- summarize amounts  \n",
    "- write to a delimited file of your choice"
   ]
  },
  {
   "cell_type": "markdown",
   "metadata": {},
   "source": [
    "###Reading in chunks\n",
    "In order to import in chunks, you must do the following:\n",
    "- create an iterator when opening file  \n",
    "- create an empty `DataFrame`  \n",
    "- iterate over the chunks"
   ]
  },
  {
   "cell_type": "code",
   "execution_count": 64,
   "metadata": {
    "collapsed": false
   },
   "outputs": [
    {
     "data": {
      "text/html": [
       "<div style=\"max-height:1000px;max-width:1500px;overflow:auto;\">\n",
       "<table border=\"1\" class=\"dataframe\">\n",
       "  <thead>\n",
       "    <tr style=\"text-align: right;\">\n",
       "      <th></th>\n",
       "      <th>cmte_id</th>\n",
       "      <th>cand_id</th>\n",
       "      <th>cand_nm</th>\n",
       "      <th>contbr_nm</th>\n",
       "      <th>contbr_city</th>\n",
       "      <th>contbr_st</th>\n",
       "      <th>contbr_zip</th>\n",
       "      <th>contbr_employer</th>\n",
       "      <th>contbr_occupation</th>\n",
       "      <th>contb_receipt_amt</th>\n",
       "      <th>contb_receipt_dt</th>\n",
       "      <th>receipt_desc</th>\n",
       "      <th>memo_cd</th>\n",
       "      <th>memo_text</th>\n",
       "      <th>form_tp</th>\n",
       "      <th>file_num</th>\n",
       "      <th>tran_id</th>\n",
       "      <th>election_tp</th>\n",
       "    </tr>\n",
       "  </thead>\n",
       "  <tbody>\n",
       "    <tr>\n",
       "      <th>0</th>\n",
       "      <td> C00410118</td>\n",
       "      <td> P20002978</td>\n",
       "      <td> Bachmann, Michele</td>\n",
       "      <td>    HARVEY, WILLIAM</td>\n",
       "      <td>             MOBILE</td>\n",
       "      <td> AL</td>\n",
       "      <td> 3.660103e+08</td>\n",
       "      <td>               RETIRED</td>\n",
       "      <td>               RETIRED</td>\n",
       "      <td> 250</td>\n",
       "      <td> 20-JUN-11</td>\n",
       "      <td> NaN</td>\n",
       "      <td> NaN</td>\n",
       "      <td> NaN</td>\n",
       "      <td> SA17A</td>\n",
       "      <td> 736166</td>\n",
       "      <td> A1FDABC23D2D545A1B83</td>\n",
       "      <td> P2012</td>\n",
       "    </tr>\n",
       "    <tr>\n",
       "      <th>1</th>\n",
       "      <td> C00410118</td>\n",
       "      <td> P20002978</td>\n",
       "      <td> Bachmann, Michele</td>\n",
       "      <td>    HARVEY, WILLIAM</td>\n",
       "      <td>             MOBILE</td>\n",
       "      <td> AL</td>\n",
       "      <td> 3.660103e+08</td>\n",
       "      <td>               RETIRED</td>\n",
       "      <td>               RETIRED</td>\n",
       "      <td>  50</td>\n",
       "      <td> 23-JUN-11</td>\n",
       "      <td> NaN</td>\n",
       "      <td> NaN</td>\n",
       "      <td> NaN</td>\n",
       "      <td> SA17A</td>\n",
       "      <td> 736166</td>\n",
       "      <td> A899B9B0E223743EFA63</td>\n",
       "      <td> P2012</td>\n",
       "    </tr>\n",
       "    <tr>\n",
       "      <th>2</th>\n",
       "      <td> C00410118</td>\n",
       "      <td> P20002978</td>\n",
       "      <td> Bachmann, Michele</td>\n",
       "      <td>      SMITH, LANIER</td>\n",
       "      <td>             LANETT</td>\n",
       "      <td> AL</td>\n",
       "      <td> 3.686334e+08</td>\n",
       "      <td> INFORMATION REQUESTED</td>\n",
       "      <td> INFORMATION REQUESTED</td>\n",
       "      <td> 250</td>\n",
       "      <td> 05-JUL-11</td>\n",
       "      <td> NaN</td>\n",
       "      <td> NaN</td>\n",
       "      <td> NaN</td>\n",
       "      <td> SA17A</td>\n",
       "      <td> 749073</td>\n",
       "      <td> A4B144E3CB3294ABC9D6</td>\n",
       "      <td> P2012</td>\n",
       "    </tr>\n",
       "    <tr>\n",
       "      <th>3</th>\n",
       "      <td> C00410118</td>\n",
       "      <td> P20002978</td>\n",
       "      <td> Bachmann, Michele</td>\n",
       "      <td>   BLEVINS, DARONDA</td>\n",
       "      <td>            PIGGOTT</td>\n",
       "      <td> AR</td>\n",
       "      <td> 7.245483e+08</td>\n",
       "      <td>                  NONE</td>\n",
       "      <td>               RETIRED</td>\n",
       "      <td> 250</td>\n",
       "      <td> 01-AUG-11</td>\n",
       "      <td> NaN</td>\n",
       "      <td> NaN</td>\n",
       "      <td> NaN</td>\n",
       "      <td> SA17A</td>\n",
       "      <td> 749073</td>\n",
       "      <td> A8C7C6F55B0914C5A880</td>\n",
       "      <td> P2012</td>\n",
       "    </tr>\n",
       "    <tr>\n",
       "      <th>4</th>\n",
       "      <td> C00410118</td>\n",
       "      <td> P20002978</td>\n",
       "      <td> Bachmann, Michele</td>\n",
       "      <td> WARDENBURG, HAROLD</td>\n",
       "      <td> HOT SPRINGS NATION</td>\n",
       "      <td> AR</td>\n",
       "      <td> 7.190165e+08</td>\n",
       "      <td>                  NONE</td>\n",
       "      <td>               RETIRED</td>\n",
       "      <td> 300</td>\n",
       "      <td> 20-JUN-11</td>\n",
       "      <td> NaN</td>\n",
       "      <td> NaN</td>\n",
       "      <td> NaN</td>\n",
       "      <td> SA17A</td>\n",
       "      <td> 736166</td>\n",
       "      <td> A070D6D560BD84AA98AC</td>\n",
       "      <td> P2012</td>\n",
       "    </tr>\n",
       "  </tbody>\n",
       "</table>\n",
       "</div>"
      ],
      "text/plain": [
       "     cmte_id    cand_id            cand_nm           contbr_nm  \\\n",
       "0  C00410118  P20002978  Bachmann, Michele     HARVEY, WILLIAM   \n",
       "1  C00410118  P20002978  Bachmann, Michele     HARVEY, WILLIAM   \n",
       "2  C00410118  P20002978  Bachmann, Michele       SMITH, LANIER   \n",
       "3  C00410118  P20002978  Bachmann, Michele    BLEVINS, DARONDA   \n",
       "4  C00410118  P20002978  Bachmann, Michele  WARDENBURG, HAROLD   \n",
       "\n",
       "          contbr_city contbr_st    contbr_zip        contbr_employer  \\\n",
       "0              MOBILE        AL  3.660103e+08                RETIRED   \n",
       "1              MOBILE        AL  3.660103e+08                RETIRED   \n",
       "2              LANETT        AL  3.686334e+08  INFORMATION REQUESTED   \n",
       "3             PIGGOTT        AR  7.245483e+08                   NONE   \n",
       "4  HOT SPRINGS NATION        AR  7.190165e+08                   NONE   \n",
       "\n",
       "       contbr_occupation  contb_receipt_amt contb_receipt_dt receipt_desc  \\\n",
       "0                RETIRED                250        20-JUN-11          NaN   \n",
       "1                RETIRED                 50        23-JUN-11          NaN   \n",
       "2  INFORMATION REQUESTED                250        05-JUL-11          NaN   \n",
       "3                RETIRED                250        01-AUG-11          NaN   \n",
       "4                RETIRED                300        20-JUN-11          NaN   \n",
       "\n",
       "  memo_cd memo_text form_tp  file_num               tran_id election_tp  \n",
       "0     NaN       NaN   SA17A    736166  A1FDABC23D2D545A1B83       P2012  \n",
       "1     NaN       NaN   SA17A    736166  A899B9B0E223743EFA63       P2012  \n",
       "2     NaN       NaN   SA17A    749073  A4B144E3CB3294ABC9D6       P2012  \n",
       "3     NaN       NaN   SA17A    749073  A8C7C6F55B0914C5A880       P2012  \n",
       "4     NaN       NaN   SA17A    736166  A070D6D560BD84AA98AC       P2012  "
      ]
     },
     "execution_count": 64,
     "metadata": {},
     "output_type": "execute_result"
    }
   ],
   "source": [
    "# doing this locally since I already have the dataset\n",
    "# pandas can also take a zip file and unip it to read it in;\n",
    "# I have not tried this with chunking or extremely large files\n",
    "\n",
    "fec_data_head = pd.read_csv('/Users/julian/Documents/R_info/P00000001-ALL.csv', index_col = False, nrows = 10)\n",
    "fec_data_cols = fec_data_head.columns.values.tolist()\n",
    "\n",
    "# selected a chunk size of 100000; you can make bigger or smaller depending on amount of free memory\n",
    "# smaller chunks may take longer, but will also not cause any errors/crashes/melt everything inside\n",
    "fec_chunker = pd.read_csv('/Users/julian/Documents/R_info/P00000001-ALL.csv', index_col = False, \n",
    "                          low_memory = False, chunksize = 100000)\n",
    "\n",
    "fec_data = pd.DataFrame()\n",
    "\n",
    "for piece in fec_chunker:\n",
    "    fec_data = fec_data.append(piece)\n",
    "fec_data.head()"
   ]
  },
  {
   "cell_type": "markdown",
   "metadata": {},
   "source": [
    "###Merging with other datasets\n",
    "Use the `pd.merge` function to merge on indices or columns. Database style merges are very useful and these are the types you will encounter (`pd.merge(left, right, how)`):  \n",
    "left: match rows from right to left (i.e., keys in left)  \n",
    "right: match rows from left to right (i.e., keys in right)  \n",
    "inner: keep rows in both  \n",
    "outer: keep all values for all rows, i.e., intersection of keys"
   ]
  },
  {
   "cell_type": "code",
   "execution_count": 65,
   "metadata": {
    "collapsed": false
   },
   "outputs": [],
   "source": [
    "df1 = pd.DataFrame({'x1': ['alpha', 'beta', 'gamma', 'delta'], 'x2': [1, 2, 3, 4]})\n",
    "df2 = pd.DataFrame({'x3': [False, False, True, False], 'x1': ['alpha', 'beta', 'omicron', 'gamma']})"
   ]
  },
  {
   "cell_type": "code",
   "execution_count": 66,
   "metadata": {
    "collapsed": false
   },
   "outputs": [
    {
     "data": {
      "text/html": [
       "<div style=\"max-height:1000px;max-width:1500px;overflow:auto;\">\n",
       "<table border=\"1\" class=\"dataframe\">\n",
       "  <thead>\n",
       "    <tr style=\"text-align: right;\">\n",
       "      <th></th>\n",
       "      <th>x1</th>\n",
       "      <th>x2</th>\n",
       "    </tr>\n",
       "  </thead>\n",
       "  <tbody>\n",
       "    <tr>\n",
       "      <th>0</th>\n",
       "      <td> alpha</td>\n",
       "      <td> 1</td>\n",
       "    </tr>\n",
       "    <tr>\n",
       "      <th>1</th>\n",
       "      <td>  beta</td>\n",
       "      <td> 2</td>\n",
       "    </tr>\n",
       "    <tr>\n",
       "      <th>2</th>\n",
       "      <td> gamma</td>\n",
       "      <td> 3</td>\n",
       "    </tr>\n",
       "    <tr>\n",
       "      <th>3</th>\n",
       "      <td> delta</td>\n",
       "      <td> 4</td>\n",
       "    </tr>\n",
       "  </tbody>\n",
       "</table>\n",
       "</div>"
      ],
      "text/plain": [
       "      x1  x2\n",
       "0  alpha   1\n",
       "1   beta   2\n",
       "2  gamma   3\n",
       "3  delta   4"
      ]
     },
     "execution_count": 66,
     "metadata": {},
     "output_type": "execute_result"
    }
   ],
   "source": [
    "df1"
   ]
  },
  {
   "cell_type": "code",
   "execution_count": 67,
   "metadata": {
    "collapsed": false
   },
   "outputs": [
    {
     "data": {
      "text/html": [
       "<div style=\"max-height:1000px;max-width:1500px;overflow:auto;\">\n",
       "<table border=\"1\" class=\"dataframe\">\n",
       "  <thead>\n",
       "    <tr style=\"text-align: right;\">\n",
       "      <th></th>\n",
       "      <th>x1</th>\n",
       "      <th>x3</th>\n",
       "    </tr>\n",
       "  </thead>\n",
       "  <tbody>\n",
       "    <tr>\n",
       "      <th>0</th>\n",
       "      <td>   alpha</td>\n",
       "      <td> False</td>\n",
       "    </tr>\n",
       "    <tr>\n",
       "      <th>1</th>\n",
       "      <td>    beta</td>\n",
       "      <td> False</td>\n",
       "    </tr>\n",
       "    <tr>\n",
       "      <th>2</th>\n",
       "      <td> omicron</td>\n",
       "      <td>  True</td>\n",
       "    </tr>\n",
       "    <tr>\n",
       "      <th>3</th>\n",
       "      <td>   gamma</td>\n",
       "      <td> False</td>\n",
       "    </tr>\n",
       "  </tbody>\n",
       "</table>\n",
       "</div>"
      ],
      "text/plain": [
       "        x1     x3\n",
       "0    alpha  False\n",
       "1     beta  False\n",
       "2  omicron   True\n",
       "3    gamma  False"
      ]
     },
     "execution_count": 67,
     "metadata": {},
     "output_type": "execute_result"
    }
   ],
   "source": [
    "df2"
   ]
  },
  {
   "cell_type": "code",
   "execution_count": 68,
   "metadata": {
    "collapsed": false
   },
   "outputs": [
    {
     "data": {
      "text/html": [
       "<div style=\"max-height:1000px;max-width:1500px;overflow:auto;\">\n",
       "<table border=\"1\" class=\"dataframe\">\n",
       "  <thead>\n",
       "    <tr style=\"text-align: right;\">\n",
       "      <th></th>\n",
       "      <th>x1</th>\n",
       "      <th>x2</th>\n",
       "      <th>x3</th>\n",
       "    </tr>\n",
       "  </thead>\n",
       "  <tbody>\n",
       "    <tr>\n",
       "      <th>0</th>\n",
       "      <td> alpha</td>\n",
       "      <td> 1</td>\n",
       "      <td> False</td>\n",
       "    </tr>\n",
       "    <tr>\n",
       "      <th>1</th>\n",
       "      <td>  beta</td>\n",
       "      <td> 2</td>\n",
       "      <td> False</td>\n",
       "    </tr>\n",
       "    <tr>\n",
       "      <th>2</th>\n",
       "      <td> gamma</td>\n",
       "      <td> 3</td>\n",
       "      <td> False</td>\n",
       "    </tr>\n",
       "    <tr>\n",
       "      <th>3</th>\n",
       "      <td> delta</td>\n",
       "      <td> 4</td>\n",
       "      <td>   NaN</td>\n",
       "    </tr>\n",
       "  </tbody>\n",
       "</table>\n",
       "</div>"
      ],
      "text/plain": [
       "      x1  x2     x3\n",
       "0  alpha   1  False\n",
       "1   beta   2  False\n",
       "2  gamma   3  False\n",
       "3  delta   4    NaN"
      ]
     },
     "execution_count": 68,
     "metadata": {},
     "output_type": "execute_result"
    }
   ],
   "source": [
    "pd.merge(df1, df2, how = 'left')"
   ]
  },
  {
   "cell_type": "code",
   "execution_count": 69,
   "metadata": {
    "collapsed": false
   },
   "outputs": [
    {
     "data": {
      "text/html": [
       "<div style=\"max-height:1000px;max-width:1500px;overflow:auto;\">\n",
       "<table border=\"1\" class=\"dataframe\">\n",
       "  <thead>\n",
       "    <tr style=\"text-align: right;\">\n",
       "      <th></th>\n",
       "      <th>x1</th>\n",
       "      <th>x2</th>\n",
       "      <th>x3</th>\n",
       "    </tr>\n",
       "  </thead>\n",
       "  <tbody>\n",
       "    <tr>\n",
       "      <th>0</th>\n",
       "      <td>   alpha</td>\n",
       "      <td>  1</td>\n",
       "      <td> False</td>\n",
       "    </tr>\n",
       "    <tr>\n",
       "      <th>1</th>\n",
       "      <td>    beta</td>\n",
       "      <td>  2</td>\n",
       "      <td> False</td>\n",
       "    </tr>\n",
       "    <tr>\n",
       "      <th>2</th>\n",
       "      <td>   gamma</td>\n",
       "      <td>  3</td>\n",
       "      <td> False</td>\n",
       "    </tr>\n",
       "    <tr>\n",
       "      <th>3</th>\n",
       "      <td> omicron</td>\n",
       "      <td>NaN</td>\n",
       "      <td>  True</td>\n",
       "    </tr>\n",
       "  </tbody>\n",
       "</table>\n",
       "</div>"
      ],
      "text/plain": [
       "        x1  x2     x3\n",
       "0    alpha   1  False\n",
       "1     beta   2  False\n",
       "2    gamma   3  False\n",
       "3  omicron NaN   True"
      ]
     },
     "execution_count": 69,
     "metadata": {},
     "output_type": "execute_result"
    }
   ],
   "source": [
    "pd.merge(df1, df2, how = 'right')"
   ]
  },
  {
   "cell_type": "code",
   "execution_count": 70,
   "metadata": {
    "collapsed": false
   },
   "outputs": [
    {
     "data": {
      "text/html": [
       "<div style=\"max-height:1000px;max-width:1500px;overflow:auto;\">\n",
       "<table border=\"1\" class=\"dataframe\">\n",
       "  <thead>\n",
       "    <tr style=\"text-align: right;\">\n",
       "      <th></th>\n",
       "      <th>x1</th>\n",
       "      <th>x2</th>\n",
       "      <th>x3</th>\n",
       "    </tr>\n",
       "  </thead>\n",
       "  <tbody>\n",
       "    <tr>\n",
       "      <th>0</th>\n",
       "      <td> alpha</td>\n",
       "      <td> 1</td>\n",
       "      <td> False</td>\n",
       "    </tr>\n",
       "    <tr>\n",
       "      <th>1</th>\n",
       "      <td>  beta</td>\n",
       "      <td> 2</td>\n",
       "      <td> False</td>\n",
       "    </tr>\n",
       "    <tr>\n",
       "      <th>2</th>\n",
       "      <td> gamma</td>\n",
       "      <td> 3</td>\n",
       "      <td> False</td>\n",
       "    </tr>\n",
       "  </tbody>\n",
       "</table>\n",
       "</div>"
      ],
      "text/plain": [
       "      x1  x2     x3\n",
       "0  alpha   1  False\n",
       "1   beta   2  False\n",
       "2  gamma   3  False"
      ]
     },
     "execution_count": 70,
     "metadata": {},
     "output_type": "execute_result"
    }
   ],
   "source": [
    "pd.merge(df1, df2, how = 'inner')"
   ]
  },
  {
   "cell_type": "code",
   "execution_count": 71,
   "metadata": {
    "collapsed": false
   },
   "outputs": [
    {
     "data": {
      "text/html": [
       "<div style=\"max-height:1000px;max-width:1500px;overflow:auto;\">\n",
       "<table border=\"1\" class=\"dataframe\">\n",
       "  <thead>\n",
       "    <tr style=\"text-align: right;\">\n",
       "      <th></th>\n",
       "      <th>x1</th>\n",
       "      <th>x2</th>\n",
       "      <th>x3</th>\n",
       "    </tr>\n",
       "  </thead>\n",
       "  <tbody>\n",
       "    <tr>\n",
       "      <th>0</th>\n",
       "      <td>   alpha</td>\n",
       "      <td>  1</td>\n",
       "      <td> False</td>\n",
       "    </tr>\n",
       "    <tr>\n",
       "      <th>1</th>\n",
       "      <td>    beta</td>\n",
       "      <td>  2</td>\n",
       "      <td> False</td>\n",
       "    </tr>\n",
       "    <tr>\n",
       "      <th>2</th>\n",
       "      <td>   gamma</td>\n",
       "      <td>  3</td>\n",
       "      <td> False</td>\n",
       "    </tr>\n",
       "    <tr>\n",
       "      <th>3</th>\n",
       "      <td>   delta</td>\n",
       "      <td>  4</td>\n",
       "      <td>   NaN</td>\n",
       "    </tr>\n",
       "    <tr>\n",
       "      <th>4</th>\n",
       "      <td> omicron</td>\n",
       "      <td>NaN</td>\n",
       "      <td>  True</td>\n",
       "    </tr>\n",
       "  </tbody>\n",
       "</table>\n",
       "</div>"
      ],
      "text/plain": [
       "        x1  x2     x3\n",
       "0    alpha   1  False\n",
       "1     beta   2  False\n",
       "2    gamma   3  False\n",
       "3    delta   4    NaN\n",
       "4  omicron NaN   True"
      ]
     },
     "execution_count": 71,
     "metadata": {},
     "output_type": "execute_result"
    }
   ],
   "source": [
    "pd.merge(df1, df2, how = 'outer')"
   ]
  },
  {
   "cell_type": "code",
   "execution_count": 72,
   "metadata": {
    "collapsed": false
   },
   "outputs": [
    {
     "data": {
      "text/html": [
       "<div style=\"max-height:1000px;max-width:1500px;overflow:auto;\">\n",
       "<table border=\"1\" class=\"dataframe\">\n",
       "  <thead>\n",
       "    <tr style=\"text-align: right;\">\n",
       "      <th></th>\n",
       "      <th>x1</th>\n",
       "      <th>x2</th>\n",
       "      <th>x3</th>\n",
       "    </tr>\n",
       "  </thead>\n",
       "  <tbody>\n",
       "    <tr>\n",
       "      <th>0</th>\n",
       "      <td> alpha</td>\n",
       "      <td> 1</td>\n",
       "      <td> False</td>\n",
       "    </tr>\n",
       "    <tr>\n",
       "      <th>1</th>\n",
       "      <td>  beta</td>\n",
       "      <td> 2</td>\n",
       "      <td> False</td>\n",
       "    </tr>\n",
       "    <tr>\n",
       "      <th>2</th>\n",
       "      <td> gamma</td>\n",
       "      <td> 3</td>\n",
       "      <td> False</td>\n",
       "    </tr>\n",
       "  </tbody>\n",
       "</table>\n",
       "</div>"
      ],
      "text/plain": [
       "      x1  x2     x3\n",
       "0  alpha   1  False\n",
       "1   beta   2  False\n",
       "2  gamma   3  False"
      ]
     },
     "execution_count": 72,
     "metadata": {},
     "output_type": "execute_result"
    }
   ],
   "source": [
    "pd.merge(df1, df2, on = 'x1')"
   ]
  },
  {
   "cell_type": "markdown",
   "metadata": {},
   "source": [
    "### Converting dates and times\n",
    "Use the `pd.datetime` method on the desired column; remember to specify the data format. You may also want to cut off the hours, minutes and seconds from the time; this may be an issue depending on what function(s) you use to import the data into another program."
   ]
  },
  {
   "cell_type": "code",
   "execution_count": 73,
   "metadata": {
    "collapsed": false
   },
   "outputs": [
    {
     "name": "stdout",
     "output_type": "stream",
     "text": [
      "01-Jun-11\n",
      "Time converted to ISO format:  2011-06-01 00:00:00\n"
     ]
    }
   ],
   "source": [
    "date1 = '01-Jun-11'\n",
    "print(date1)\n",
    "print 'Time converted to ISO format: ', pd.to_datetime(date1, format = '%d-%b-%y')"
   ]
  },
  {
   "cell_type": "markdown",
   "metadata": {},
   "source": [
    "###Exporting to text\n",
    "Use the `DataFrame.to_format` method to output a file:, e.g.,  \n",
    "`fec_data_summarized.to_csv(path/to/file/destination.csv)`  where `path/to/file/destination.csv` is a string.\n",
    "\n",
    "You will also likely want to make an R-style `data.frame` if you want to do something like time series analysis. To that, use a command such as:  \n",
    "\n",
    "`fec_net_money_state = fec_final.groupby(state_data_columns, as_index = False)[['contb_receipt_amt']].sum()`  \n",
    "and then export as normal."
   ]
  },
  {
   "cell_type": "markdown",
   "metadata": {},
   "source": [
    "#Assignment\n",
    "\n",
    "For practice, try to import the FEC dataset, and map values for each state from different data sources. There are plots in the datasets folder than give an idea of some things that you can do.  \n",
    "\n",
    "Possible pipeline:  \n",
    "- import 2012 FEC Presidential data  \n",
    "- append/map the popular vote totals  \n",
    "- append/map the following census data:  \n",
    "    - state population data  \n",
    "    - elderly population data  \n",
    "    - family/househould structure data  \n",
    "- append/map parties of the major two candidates  \n",
    "- append/map geographic regions (as seen above)  \n",
    "- append/map full state names  \n",
    "- append/map Electoral College votes for each state  \n",
    "\n",
    "For a final summary, try the following:  \n",
    "- restrict to 50 state + DC (hint: create a `dict` where the state abbreviations are the keys and use the `isin` function to restrict the data)  \n",
    "- restrict the data to the final two candidates  \n",
    "- have three separate datasets: all data, donations, expenditures  \n",
    "\n",
    "\n",
    "If you do the above, the data restricted to just the 50 states + DC for the Romney and Obama campaigns when written to a CSV file should be about **2 GB**."
   ]
  },
  {
   "cell_type": "markdown",
   "metadata": {
    "collapsed": true
   },
   "source": [
    "##References"
   ]
  },
  {
   "cell_type": "markdown",
   "metadata": {
    "collapsed": true
   },
   "source": [
    "McKinney, Wes. *Python for Data Analysis*. Should be able to access through Penn Libraries.  \n",
    "Markham, Justin. [Introduction to Linear Regression](http://nbviewer.ipython.org/github/justmarkham/DAT4/blob/master/notebooks/08_linear_regression.ipynb). Used as an aexample to create categorical values for a variable."
   ]
  },
  {
   "cell_type": "code",
   "execution_count": 74,
   "metadata": {
    "collapsed": false
   },
   "outputs": [],
   "source": [
    "import IPython\n",
    "import sys"
   ]
  },
  {
   "cell_type": "code",
   "execution_count": 75,
   "metadata": {
    "collapsed": false
   },
   "outputs": [
    {
     "name": "stdout",
     "output_type": "stream",
     "text": [
      "Python version:  2.7.9 |Anaconda 2.2.0 (x86_64)| (default, Dec 15 2014, 10:37:34) \n",
      "[GCC 4.2.1 (Apple Inc. build 5577)]\n",
      "Platform:  darwin\n",
      "IPython version:  3.1.0\n",
      "NumPy version:  1.9.2\n",
      "Pandas version:  0.15.2\n"
     ]
    }
   ],
   "source": [
    "print 'Python version: ', sys.version\n",
    "print 'Platform: ', sys.platform\n",
    "print 'IPython version: ', IPython.__version__\n",
    "print 'NumPy version: ', np.__version__\n",
    "print 'Pandas version: ', pd.__version__"
   ]
  }
 ],
 "metadata": {
  "kernelspec": {
   "display_name": "Python 2",
   "language": "python",
   "name": "python2"
  },
  "language_info": {
   "codemirror_mode": {
    "name": "ipython",
    "version": 2
   },
   "file_extension": ".py",
   "mimetype": "text/x-python",
   "name": "python",
   "nbconvert_exporter": "python",
   "pygments_lexer": "ipython2",
   "version": "2.7.9"
  }
 },
 "nbformat": 4,
 "nbformat_minor": 0
}
