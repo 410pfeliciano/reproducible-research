{
 "cells": [
  {
   "cell_type": "raw",
   "metadata": {
    "slideshow": {
     "slide_type": "skip"
    }
   },
   "source": [
    "<style type=\"text/css\">\n",
    ".input_prompt, .input_area, .output_prompt {\n",
    "    display:none !important;\n",
    "}\n",
    "\n",
    "</style>"
   ]
  },
  {
   "cell_type": "markdown",
   "metadata": {
    "slideshow": {
     "slide_type": "slide"
    }
   },
   "source": [
    "# Programming and data analysis"
   ]
  },
  {
   "cell_type": "markdown",
   "metadata": {
    "slideshow": {
     "slide_type": "slide"
    }
   },
   "source": [
    "# Good programming practices: readability and tracking\n",
    "- helps others understand what you did  \n",
    "- **help YOU understand what you did**  \n",
    "- makes troubleshooting/debugging much easier"
   ]
  },
  {
   "cell_type": "markdown",
   "metadata": {
    "slideshow": {
     "slide_type": "subslide"
    }
   },
   "source": [
    "# Helpful tips\n",
    "- comment your code: **(explicit >>>>>> implicit)**  \n",
    "- create code sections (Jupyter/IPython: Markdown; IDEs in general: special characters)  \n",
    "- use whitespace (easier reading)  \n",
    "    + `x=foo**bar[25]` vs. `x = foo ** bar[25]`\n",
    "- objects and functions  \n",
    "    + make sense (i.e., obvious)  \n",
    "    + relevant to task/output/process\n",
    "- README files:  \n",
    "    + file and directory structure  \n",
    "    + explain code sections  \n",
    "- style guides  \n",
    "    + [Google Python style guide](https://google-styleguide.googlecode.com/svn/trunk/pyguide.html)  \n",
    "    + [Google R style guide](https://google-styleguide.googlecode.com/svn/trunk/Rguide.xml)  "
   ]
  },
  {
   "cell_type": "markdown",
   "metadata": {
    "slideshow": {
     "slide_type": "subslide"
    }
   },
   "source": [
    "# The Zen of Python\n",
    "- Python easter egg  \n",
    "- good guide for programming in general (specifics may depend on language)"
   ]
  },
  {
   "cell_type": "code",
   "execution_count": 1,
   "metadata": {
    "collapsed": false,
    "slideshow": {
     "slide_type": "subslide"
    }
   },
   "outputs": [
    {
     "name": "stdout",
     "output_type": "stream",
     "text": [
      "The Zen of Python, by Tim Peters\n",
      "\n",
      "Beautiful is better than ugly.\n",
      "Explicit is better than implicit.\n",
      "Simple is better than complex.\n",
      "Complex is better than complicated.\n",
      "Flat is better than nested.\n",
      "Sparse is better than dense.\n",
      "Readability counts.\n",
      "Special cases aren't special enough to break the rules.\n",
      "Although practicality beats purity.\n",
      "Errors should never pass silently.\n",
      "Unless explicitly silenced.\n",
      "In the face of ambiguity, refuse the temptation to guess.\n",
      "There should be one-- and preferably only one --obvious way to do it.\n",
      "Although that way may not be obvious at first unless you're Dutch.\n",
      "Now is better than never.\n",
      "Although never is often better than *right* now.\n",
      "If the implementation is hard to explain, it's a bad idea.\n",
      "If the implementation is easy to explain, it may be a good idea.\n",
      "Namespaces are one honking great idea -- let's do more of those!\n"
     ]
    }
   ],
   "source": [
    "import this"
   ]
  },
  {
   "cell_type": "markdown",
   "metadata": {
    "slideshow": {
     "slide_type": "subslide"
    }
   },
   "source": [
    "# Peter Norvig's spell checker\n",
    "- encapsulates Zen of Python  \n",
    "- hard to parse if new to language"
   ]
  },
  {
   "cell_type": "markdown",
   "metadata": {
    "slideshow": {
     "slide_type": "slide"
    }
   },
   "source": [
    "# Structuring code\n",
    "Know what you want beforehand -- feature creep is real and somewhat unavoidable."
   ]
  },
  {
   "cell_type": "markdown",
   "metadata": {
    "collapsed": false,
    "slideshow": {
     "slide_type": "subslide"
    }
   },
   "source": [
    "# Designing code\n",
    "- write out structure beforehand    \n",
    "- write out code by hand  \n",
    "- type of script/program for the task  \n",
    "- develop code/tasks modularly and incrementally  \n",
    "- recycling code  \n",
    "- version control  \n",
    "    + makes sharing easier  \n",
    "    + tracks changes systematically\n",
    "- use a consistent, sensible format  \n",
    "    + headings: CamelCase  \n",
    "    + levels/labels: lowercase  \n",
    "    + combinations: hyphenated-from-columns"
   ]
  },
  {
   "cell_type": "markdown",
   "metadata": {
    "slideshow": {
     "slide_type": "slide"
    }
   },
   "source": [
    "# Getting help\n",
    "- will run into problems  \n",
    "- somebody else will likely have had same issue"
   ]
  },
  {
   "cell_type": "markdown",
   "metadata": {
    "slideshow": {
     "slide_type": "subslide"
    }
   },
   "source": [
    "# Google **IS** your friend"
   ]
  },
  {
   "cell_type": "markdown",
   "metadata": {
    "collapsed": false,
    "slideshow": {
     "slide_type": "subslide"
    }
   },
   "source": [
    "# StackOverflow **CAN BE** your friend"
   ]
  },
  {
   "cell_type": "markdown",
   "metadata": {
    "slideshow": {
     "slide_type": "subslide"
    }
   },
   "source": [
    "# GitHub + Gists: share code snippets"
   ]
  },
  {
   "cell_type": "markdown",
   "metadata": {
    "collapsed": false,
    "slideshow": {
     "slide_type": "subslide"
    }
   },
   "source": [
    "# Python help\n",
    "- `help(function)`  \n",
    "- `help(module.function)`  \n",
    "- `help(method.function)`  \n",
    "\n",
    "e.g., `help(dict)`  \n",
    "e.g., `help(pd.DataFrame)`  \n",
    "e.g., `help(list.append)`"
   ]
  },
  {
   "cell_type": "markdown",
   "metadata": {
    "collapsed": false,
    "slideshow": {
     "slide_type": "subslide"
    }
   },
   "source": [
    "# R help\n",
    "- `help(\"function\")`  \n",
    "- quotation marks: actual function being used  \n",
    "    + compare `help(for)` vs. `help(\"for\")`"
   ]
  },
  {
   "cell_type": "markdown",
   "metadata": {
    "slideshow": {
     "slide_type": "slide"
    }
   },
   "source": [
    "# Structuring a project\n",
    "- languages being used  \n",
    "- map out directory structure  \n",
    "- file names: what the file is/does  \n",
    "- fighting entropy/rot  \n",
    "- use Git/GitHub"
   ]
  },
  {
   "cell_type": "markdown",
   "metadata": {
    "slideshow": {
     "slide_type": "slide"
    }
   },
   "source": [
    "# Integrated Development Environments (IDEs)\n",
    "- assist in structuring a project  \n",
    "- write, build, evaluate, view output code conveniently  \n",
    "- often assist with version control"
   ]
  },
  {
   "cell_type": "markdown",
   "metadata": {
    "slideshow": {
     "slide_type": "subslide"
    }
   },
   "source": [
    "# IDE: Jupyter/IPython notebook\n",
    "- combine Markdown and code easily  \n",
    "- export in variety of formats and styles  \n",
    "- easily shareable (executed and displayed on GitHub by default)  \n",
    "- project expanding to other languages"
   ]
  },
  {
   "cell_type": "markdown",
   "metadata": {
    "slideshow": {
     "slide_type": "subslide"
    }
   },
   "source": [
    "# IDE: Spyder\n",
    "- like RStudio for Python  \n",
    "- view data structures easily  \n",
    "- limited integration with Git/GitHub  "
   ]
  },
  {
   "cell_type": "markdown",
   "metadata": {
    "slideshow": {
     "slide_type": "subslide"
    }
   },
   "source": [
    "# IDE: Eclipse + PyDev\n",
    "- wonderful IDE\n",
    "- likely use as you advance  \n",
    "- integrates with IPython"
   ]
  },
  {
   "cell_type": "markdown",
   "metadata": {
    "slideshow": {
     "slide_type": "subslide"
    }
   },
   "source": [
    "# IDE: RStudio\n",
    "- great for R developmment  \n",
    "- R Markdown, Sweave knitr: generate reports, HTML, presentations  \n",
    "- good text editor  \n",
    "- excellent version control (Git or SVN)"
   ]
  },
  {
   "cell_type": "markdown",
   "metadata": {
    "slideshow": {
     "slide_type": "slide"
    }
   },
   "source": [
    "# Python: general purpose programming\n",
    "- string manipulation  \n",
    "- numeric analysis libraries  \n",
    "- fast  \n",
    "- universal  "
   ]
  },
  {
   "cell_type": "markdown",
   "metadata": {
    "collapsed": true,
    "slideshow": {
     "slide_type": "subslide"
    }
   },
   "source": [
    "# `NumPy`, `SciPy`, `pandas`\n",
    "- fast  \n",
    "- vectorized functions  \n",
    "- memory-friendly (broadcasting/shallow copies)"
   ]
  },
  {
   "cell_type": "markdown",
   "metadata": {
    "slideshow": {
     "slide_type": "subslide"
    }
   },
   "source": [
    "# `pandas`\n",
    "- built on `NumPy`  \n",
    "- deal with tabular data  \n",
    "- format variety (flat file, ZIP, SQL)  \n",
    "- variety of options for import  \n",
    "- use 'base' Python functions  \n",
    "- call directly on object  \n",
    "- excellent for formatting data"
   ]
  },
  {
   "cell_type": "markdown",
   "metadata": {
    "collapsed": false,
    "slideshow": {
     "slide_type": "slide"
    }
   },
   "source": [
    "# Jupyter/IPython notebook\n",
    "- description: [Markdown](http://daringfireball.net/projects/markdown/syntax)  \n",
    "- execution: code cells  \n",
    "- output:  \n",
    "    + IPython notebook  \n",
    "    + Python source/script  \n",
    "    + HTML (file or slides)  \n",
    "    + Markdown  \n",
    "    + PDF  \n",
    "    + reST\n",
    "- combine description and output to reproduce data and analyses \n",
    "- sharing with wider audience in easily readable format: [nbviewer](http://nbviewer.ipython.org/)"
   ]
  },
  {
   "cell_type": "markdown",
   "metadata": {
    "slideshow": {
     "slide_type": "slide"
    }
   },
   "source": [
    "# Accessing data\n",
    "- Python object methods: see [Python cheatsheet](http://www.cheatography.com/davechild/cheat-sheets/python/)  \n",
    "- `pandas`: `DataFrame` and `Series` objects have special methods to call, manipulate, summarize  \n",
    "- `NumPy`: arrays have specia methods  \n",
    "- several examples in the notebook"
   ]
  },
  {
   "cell_type": "markdown",
   "metadata": {
    "slideshow": {
     "slide_type": "slide"
    }
   },
   "source": [
    "# Notebook overview \n",
    "1. importing data  \n",
    "2. file formats  \n",
    "3. `DataFrame` methods  \n",
    "4. Mapping values  \n",
    "5. Handling missing data  \n",
    "6. Describing and summarizing data  \n",
    "7. Grouping and plotting data  \n",
    "8. Working with large files"
   ]
  },
  {
   "cell_type": "markdown",
   "metadata": {
    "slideshow": {
     "slide_type": "slide"
    }
   },
   "source": [
    "# Next steps\n",
    "\n",
    "Notebooks, code and files on GitHub repo for the course are intended as tutorials and guides. Read and look over them to learn what to do and when a problem arises, you may always ask. The goal is to apply the methods outlined to your own data (and if you do not have any, to the contributed data). If something comes up that was not covered, we will address it, see if anyone else is having the same issues and a fix will be applied and listed [in the `extras` directory](https://github.com/IRCS-analysis-mini-courses/reproducible-research/tree/master/extras).\n",
    "\n",
    "1. Look over notebook  \n",
    "2. Import and summarize data (own or contributed)\n",
    "3. Use IPython notebook as IDE to track changes and explain  \n",
    "4. Use help functions to figure out what is going on  \n",
    "5. Upload and track on PERSONAL GitHub repository  \n",
    "\n",
    "Also use the lunch and breaks in between sessions to read ahead, look up various issues and play with some data."
   ]
  }
 ],
 "metadata": {
  "celltoolbar": "Slideshow",
  "kernelspec": {
   "display_name": "Python 2",
   "language": "python",
   "name": "python2"
  },
  "language_info": {
   "codemirror_mode": {
    "name": "ipython",
    "version": 2
   },
   "file_extension": ".py",
   "mimetype": "text/x-python",
   "name": "python",
   "nbconvert_exporter": "python",
   "pygments_lexer": "ipython2",
   "version": "2.7.9"
  }
 },
 "nbformat": 4,
 "nbformat_minor": 0
}
